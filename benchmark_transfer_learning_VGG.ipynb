{
  "cells": [
    {
      "cell_type": "markdown",
      "source": [
        "# Implementing transfer learning on Vgg16 using pyTorch"
      ],
      "metadata": {}
    },
    {
      "cell_type": "markdown",
      "source": [
        "Hi! I am  [Jean-Nicolas Jérémie](https://laurentperrinet.github.io/author/jean-nicolas-jeremie/) and the goal of this notebook is to provide a framework to implement (and experiment with) [transfer learning](https://en.wikipedia.org/wiki/Transfer_learning) on deep convolutional neuronal network (DCNN). In a nutshell, [transfer learning](https://www.analyticsvidhya.com/blog/2021/06/transfer-learning-using-vgg16-in-pytorch/) allows to re-use the knowlegde learned on a problem, such as categorizing images from  a large dataset, and apply it to a different (yet related) problem, performing the categorization on a smaller dataset. It is a powerful method as it allows to implement complex task *de novo* quite rapidly (in a few hours) without having to retrain the millions of parameters of a DCNN (which takes days of computations). The basic hypothesis is that it suffices to [re-train the last classification layers](https://www.kaggle.com/carloalbertobarbano/vgg16-transfer-learning-pytorch) (the head) while keeping the first layers fixed. Here, these networks teach us also some interesting insights into how living systems may perform such categorization tasks.\n",
        "\n",
        "Based on our [previous work]( https://laurentperrinet.github.io/sciblog/posts/2020-09-28-benchmarking-cnns.html), we will start from a [VGG16 network](https://pytorch.org/hub/pytorch_vision_vgg/) loaded from the [`torchvision.models` library](https://github.com/pytorch/vision/blob/main/torchvision/models/vgg.py) and pre-trained on the [Imagenet](http://image-net.org/) dataset wich allows to perform label detection on naturals images for $K = 1000$ labels. Our goal here will be to re-train the last fully-Connected layer of the network to perfom the same task but in a sub-set of $K = 10$ labels from the Imagenet dataset. \n",
        "\n",
        "Moreover, we are going to evaluate different strategies of transfer learning:\n",
        "\n",
        "* VGG General : Substitute the last layer of the pyTorch VGG16 network ($K = 1000$ labels) with a new layer build from a specific subset ($K = 10$ labels).\n",
        "* VGG Linear : Add a new layer build from a specific subset ($K = 10$ labels) after the last Fully-Connected layer of the the pyTorch VGG16 network.\n",
        "* VGG Gray : Same architecture as the VGG General network but trained with grayscale images.\n",
        "* VGG Scale : Same architecture as the VGG General network but trained with images of different size.\n",
        "\n",
        "In this notebook, I will use the [pyTorch](https://pytorch.org/) library for running the networks and the [pandas](https://pandas.pydata.org/docs/getting_started/index.html) library to collect and display the results. This notebook was done during a master 2 internship at the Neurosciences Institute of Timone (INT) under the supervision of [Laurent PERRINET](https://laurentperrinet.github.io/). It is curated in the following [github repo](https://github.com/JNJER/2020-06-26_fast_and_curious.git).\n",
        "\n",
        "<!-- TEASER_END -->\n",
        "\n",
        "In our [previous work]( https://laurentperrinet.github.io/sciblog/posts/2020-09-28-benchmarking-cnns.html), as the VGG16 network was first trained on the entire dataset of $K=1000$ labels, and in order to recover the classification confidence predicted by the model according to the specific subset of classes ($K = 10$ labels) on which it is tested, the output `softmax` mathematical function of the last layer of the network was slightly changed. By assuming that we know *a priori* that the image belongs to one (and only one) category from the sub-set the probabilities obtained would correspond to a confidence of classification discriminating only the classes of interest and can be compared to a chance level of $1 /K$. This creates another network (which is not retrained) directly based on VGG:\n",
        "\n",
        "* VGG Subset : Just consider the specific subset ($K = 10$ labels) from the last layer of the pyTorch VGG16 network ($K = 1000$ labels).\n",
        "\n",
        "This notebook aims in addition to test this hypothesis. Our use case consists of measuring whether there are differences in the likelihood of these networks during an image recognition task on a sub-set of $1000$ classes of the `ImageNet` library, with $K = 10$ (experiment 1). Additionally, we will implement some image transformations as up/down-sampling (experiment 2) or transforming to grayscale (experiment 3) to quantify their influence on the accuracy and computation time of each network.\n"
      ],
      "metadata": {}
    },
    {
      "cell_type": "markdown",
      "source": [
        "*Some useful links :*\n",
        "\n",
        "* https://jaketae.github.io/study/pytorch-vgg/\n",
        "* https://www.kaggle.com/carloalbertobarbano/vgg16-transfer-learning-pytorch\n",
        "* https://www.kaggle.com/paultimothymooney/detect-retina-damage-from-oct-images/notebook\n",
        "\n",
        "* https://en.wikipedia.org/wiki/Transfer_learning\n",
        "* https://github.com/laurentperrinet/ImageNet-Datasets-Downloader/tree/8d1c0925b5512f48978177a76e7b851ff40acb7b"
      ],
      "metadata": {}
    },
    {
      "cell_type": "markdown",
      "source": [
        "Let's first install requirements"
      ],
      "metadata": {}
    },
    {
      "cell_type": "code",
      "source": [
        "%pip install --upgrade -r requirements.txt"
      ],
      "outputs": [],
      "execution_count": null,
      "metadata": {
        "execution": {
          "iopub.execute_input": "2021-10-23T21:30:08.794Z",
          "iopub.status.busy": "2021-10-23T21:30:08.763Z",
          "iopub.status.idle": "2021-10-22T21:19:55.252110Z",
          "shell.execute_reply": "2021-10-22T21:19:55.252686Z"
        }
      }
    },
    {
      "cell_type": "raw",
      "source": [
        "!make clean"
      ],
      "metadata": {}
    },
    {
      "cell_type": "code",
      "source": [
        "%matplotlib inline\n",
        "# uncommment to re-run training\n",
        "#%rm -fr models\n",
        "%mkdir -p DCNN_transfer_learning\n",
        "%mkdir -p results\n",
        "%mkdir -p models"
      ],
      "outputs": [],
      "execution_count": null,
      "metadata": {
        "execution": {
          "iopub.execute_input": "2021-10-22T21:19:55.264270Z",
          "iopub.status.busy": "2021-10-22T21:19:55.263262Z",
          "iopub.status.idle": "2021-10-22T21:19:55.996522Z",
          "shell.execute_reply": "2021-10-22T21:19:55.997403Z"
        }
      }
    },
    {
      "cell_type": "markdown",
      "source": [
        "## Initialization of the libraries/variables\n",
        "\n",
        "Our coding strategy is to build up a small library as a package of scripts in the `DCNN_benchmark` folder and to run all calls to that library from this notebook. This follows our [previous work]( https://laurentperrinet.github.io/sciblog/posts/2020-09-28-benchmarking-cnns.html) in which we benchmarked various DCNNs and which allowed us to select VGG16 as a good compromise between performance and complexity.\n",
        "\n",
        "First of all, a `init.py` script defines all our usefull variables like the new labels to learn, the number of training images or the root folder to use. Also, we import libraries to train the different networks and display the results."
      ],
      "metadata": {}
    },
    {
      "cell_type": "code",
      "source": [
        "scriptname = 'DCNN_transfer_learning/init.py'"
      ],
      "outputs": [],
      "execution_count": null,
      "metadata": {
        "execution": {
          "iopub.execute_input": "2021-10-23T21:29:50.856Z",
          "iopub.status.busy": "2021-10-23T21:29:50.822Z",
          "iopub.status.idle": "2021-10-23T21:29:50.889Z",
          "shell.execute_reply": "2021-10-23T21:29:50.708Z"
        }
      }
    },
    {
      "cell_type": "code",
      "source": [
        "%%writefile {scriptname}\n",
        "\n",
        "# Importing libraries\n",
        "import torch\n",
        "import argparse\n",
        "import imageio\n",
        "import json\n",
        "import matplotlib.pyplot as plt\n",
        "plt.rc('xtick', labelsize=18)    # fontsize of the tick labels\n",
        "plt.rc('ytick', labelsize=18)    # fontsize of the tick labels\n",
        "import numpy as np\n",
        "#from numpy import random\n",
        "import os\n",
        "import requests\n",
        "import time\n",
        "\n",
        "from time import strftime, gmtime\n",
        "datetag = strftime(\"%Y-%m-%d\", gmtime())\n",
        "datetag = '2021-10-21'\n",
        "\n",
        "HOST, device = os.uname()[1], torch.device(\"cuda\" if torch.cuda.is_available() else \"cpu\")\n",
        "HOST, device = 'inv-ope-de06', torch.device(\"cuda\")\n",
        "\n",
        "    \n",
        "# to store results\n",
        "import pandas as pd\n",
        "\n",
        "def arg_parse():\n",
        "    DEBUG = 25\n",
        "    DEBUG = 1\n",
        "    parser = argparse.ArgumentParser(description='DCNN_transfer_learning/init.py set root')\n",
        "    parser.add_argument(\"--root\", dest = 'root', help = \"Directory containing images to perform the training\",\n",
        "                        default = 'data', type = str)\n",
        "    parser.add_argument(\"--folders\", dest = 'folders', help =  \"Set the training, validation and testing folders relative to the root\",\n",
        "                        default = ['test', 'val', 'train'], type = list)\n",
        "    parser.add_argument(\"--N_images\", dest = 'N_images', help =\"Set the number of images per classe in the train folder\",\n",
        "                        default = [400//DEBUG, 200//DEBUG, 1000//DEBUG], type = list)\n",
        "    parser.add_argument(\"--HOST\", dest = 'HOST', help = \"Set the name of your machine\",\n",
        "                    default=HOST, type = str)\n",
        "    parser.add_argument(\"--datetag\", dest = 'datetag', help = \"Set the datetag of the result's file\",\n",
        "                    default = datetag, type = str)\n",
        "    parser.add_argument(\"--image_size\", dest = 'image_size', help = \"Set the default image_size of the input\",\n",
        "                    default = 256)\n",
        "    parser.add_argument(\"--image_sizes\", dest = 'image_sizes', help = \"Set the image_sizes of the input for experiment 2 (downscaling)\",\n",
        "                    default = [64, 128, 256, 512], type = list)\n",
        "    parser.add_argument(\"--num_epochs\", dest = 'num_epochs', help = \"Set the number of epoch to perform during the traitransportationning phase\",\n",
        "                    default = 200//DEBUG)\n",
        "    parser.add_argument(\"--batch_size\", dest = 'batch_size', help=\"Set the batch size\", default = 16)\n",
        "    parser.add_argument(\"--lr\", dest = 'lr', help=\"Set the learning rate\", default = 0.001)\n",
        "    parser.add_argument(\"--momentum\", dest = 'momentum', help=\"Set the momentum\", default = 0.9)\n",
        "    parser.add_argument(\"--subset_i_labels\", dest = 'subset_i_labels', help=\"Set the labels of the classes (list of int)\",\n",
        "                    default = [945, 513, 886, 508, 786, 310, 373, 145, 146, 396], type = list)\n",
        "    parser.add_argument(\"--class_loader\", dest = 'class_loader', help = \"Set the Directory containing imagenet downloaders class\",\n",
        "                        default = 'imagenet_label_to_wordnet_synset.json', type = str)\n",
        "    parser.add_argument(\"--url_loader\", dest = 'url_loader', help = \"Set the file containing imagenet urls\",\n",
        "                        default = 'Imagenet_urls_ILSVRC_2016.json', type = str)\n",
        "    parser.add_argument(\"--model_path\", dest = 'model_path', help = \"Set the path to the pre-trained model\",\n",
        "                        default = 'models/re-trained_', type = str)\n",
        "    parser.add_argument(\"--model_names\", dest = 'model_names', help = \"Modes for the new trained networks\",\n",
        "                        default = ['vgg16_lin', 'vgg16_gen', 'vgg16_scale', 'vgg16_gray', ], type = list)\n",
        "    return parser.parse_args()\n",
        "\n",
        "args = arg_parse()\n",
        "datetag = args.datetag\n",
        "json_fname = os.path.join('results', datetag + '_config_args.json')\n",
        "load_parse = False # False to custom the config\n",
        "\n",
        "if load_parse:\n",
        "    with open(json_fname, 'rt') as f:\n",
        "        print(f'file {json_fname} exists: LOADING')\n",
        "        override = json.load(f)\n",
        "        args.__dict__.update(override)\n",
        "else:\n",
        "    print(f'Creating file {json_fname}')\n",
        "    with open(json_fname, 'wt') as f:\n",
        "        json.dump(vars(args), f, indent=4)\n",
        "    \n",
        "# matplotlib parameters\n",
        "colors = ['b', 'r', 'k', 'g', 'm']\n",
        "fig_width = 20\n",
        "phi = (np.sqrt(5)+1)/2 # golden ratio for the figures :-)\n",
        "\n",
        "#to plot & display \n",
        "def pprint(message): #display function\n",
        "    print('-'*len(message))\n",
        "    print(message)\n",
        "    print('-'*len(message))\n",
        "    \n",
        "#DCCN training\n",
        "print('On date', args.datetag, ', Running benchmark on host', args.HOST, ' with device', device.type)\n",
        "\n",
        "# Labels Configuration\n",
        "N_labels = len(args.subset_i_labels)\n",
        "id_dl = []\n",
        "\n",
        "paths = {}\n",
        "N_images_per_class = {}\n",
        "for folder, N_image in zip(args.folders, args.N_images):\n",
        "    paths[folder] = os.path.join(args.root, folder) # data path\n",
        "    N_images_per_class[folder] = N_image\n",
        "    os.makedirs(paths[folder], exist_ok=True)\n",
        "    \n",
        "with open(args.class_loader, 'r') as fp: # get all the classes on the data_downloader\n",
        "    imagenet = json.load(fp)\n",
        "\n",
        "# gathering labels\n",
        "labels = []\n",
        "reverse_id_labels = {}\n",
        "for a, img_id in enumerate(imagenet):\n",
        "    reverse_id_labels[str('n' + (imagenet[img_id]['id'].replace('-n','')))] = imagenet[img_id]['label'].split(',')[0]\n",
        "    labels.append(imagenet[img_id]['label'].split(',')[0])\n",
        "    if int(img_id) in args.subset_i_labels:\n",
        "        id_dl.append('n' + (imagenet[img_id]['id'].replace('-n','')))    \n",
        "        \n",
        "# a reverse look-up-table giving the index of a given label (within the whole set of imagenet labels)\n",
        "reverse_labels = {}\n",
        "for i_label, label in enumerate(labels):\n",
        "    reverse_labels[label] = i_label\n",
        "# a reverse look-up-table giving the index of a given i_label (within the sub-set of classes)\n",
        "reverse_subset_i_labels = {}\n",
        "for i_label, label in enumerate(args.subset_i_labels):\n",
        "    reverse_subset_i_labels[label] = i_label\n",
        "    \n",
        "# a reverse look-up-table giving the label of a given index in the last layer of the new model (within the sub-set of classes)\n",
        "subset_labels = []\n",
        "pprint('List of Pre-selected classes : ')\n",
        "# choosing the selected classes for recognition\n",
        "for i_label, id_ in zip(args.subset_i_labels, id_dl) : \n",
        "    subset_labels.append(labels[i_label])\n",
        "    print('-> label', i_label, '=', labels[i_label], '\\nid wordnet : ', id_)\n",
        "subset_labels.sort()"
      ],
      "outputs": [],
      "execution_count": null,
      "metadata": {
        "execution": {
          "iopub.execute_input": "2021-10-23T21:09:11.328Z",
          "iopub.status.busy": "2021-10-23T21:09:11.301Z",
          "iopub.status.idle": "2021-10-23T21:09:11.387Z",
          "shell.execute_reply": "2021-10-23T21:09:11.413Z"
        }
      }
    },
    {
      "cell_type": "code",
      "source": [
        "%run -int {scriptname} "
      ],
      "outputs": [],
      "execution_count": null,
      "metadata": {
        "execution": {
          "iopub.execute_input": "2021-10-23T21:09:14.142Z",
          "iopub.status.busy": "2021-10-23T21:09:14.103Z",
          "iopub.status.idle": "2021-10-23T21:09:14.210Z",
          "shell.execute_reply": "2021-10-23T21:09:14.240Z"
        }
      }
    },
    {
      "cell_type": "markdown",
      "source": [
        "## Download the `train` & `val` dataset\n",
        "\n",
        "In the `dataset.py`, we use an archive of the Imagenet fall 2011 urls to populate datasets based on the pre-selected classes listed in the `DCNN_benchmark/init.py` file. The following script is inspired by [previous work](https://github.com/laurentperrinet/ImageNet-Datasets-Downloader/) in our group."
      ],
      "metadata": {}
    },
    {
      "cell_type": "code",
      "source": [
        "scriptname = 'DCNN_transfer_learning/dataset.py'"
      ],
      "outputs": [],
      "execution_count": null,
      "metadata": {
        "execution": {
          "iopub.execute_input": "2021-10-22T21:19:56.949564Z",
          "iopub.status.busy": "2021-10-22T21:19:56.948576Z",
          "iopub.status.idle": "2021-10-22T21:19:56.952306Z",
          "shell.execute_reply": "2021-10-22T21:19:56.951444Z"
        }
      }
    },
    {
      "cell_type": "code",
      "source": [
        "%%writefile {scriptname}\n",
        "\n",
        "from DCNN_transfer_learning.init import *  \n",
        "\n",
        "from requests.exceptions import ConnectionError, ReadTimeout, TooManyRedirects, MissingSchema, InvalidURL\n",
        "\n",
        "verbose = False \n",
        "\n",
        "with open(args.url_loader) as json_file:\n",
        "    Imagenet_urls_ILSVRC_2016 = json.load(json_file)\n",
        "\n",
        "def clean_list(list_dir, patterns=['.DS_Store']):\n",
        "    for pattern in patterns:\n",
        "        if pattern in list_dir: list_dir.remove('.DS_Store')\n",
        "    return list_dir\n",
        "    \n",
        "def get_image(img_url, class_folder, timeout=3.):\n",
        "    if verbose:\n",
        "        print(f'Processing {img_url}')\n",
        "\n",
        "    img_name = img_url.split('/')[-1]\n",
        "    # handle strange file names\n",
        "    img_name = img_name.split(\"?\")[0]\n",
        "    if ('jpe' in img_name) or ('gif' in img_name)  or (len(img_name) <= 1):\n",
        "        if verbose :\n",
        "            print('Bad format for the image')\n",
        "    else:\n",
        "        try:\n",
        "            img_resp = requests.get(img_url, timeout=timeout)\n",
        "            if not 'content-type' in img_resp.headers :\n",
        "                if verbose : print('No content-type')\n",
        "            elif not 'image' in img_resp.headers['content-type'] :\n",
        "                        if verbose : print('Not an image')\n",
        "            elif (len(img_resp.content) < 5000) :\n",
        "                if verbose : print('Content to short')\n",
        "            else:\n",
        "                # LuP some files miss the extension?\n",
        "                if not 'jpg' in img_name : img_name += 'jpg'\n",
        "\n",
        "                img_file_path = os.path.join(class_folder, img_name)\n",
        "                if verbose : print('Good URl, now saving...')\n",
        "                with open(img_file_path, 'wb') as img_f:\n",
        "                    img_f.write(img_resp.content)\n",
        "                    list_dir = os.listdir(class_folder)\n",
        "                return True\n",
        "\n",
        "        except Exception as e:\n",
        "            if verbose : print(f\"Failed with {e} for url {img_url}\")\n",
        "    return False\n",
        "\n",
        "if not os.path.isdir(args.root):\n",
        "    print(f'folder {args.root} did not exist! creating folder..')\n",
        "    os.makedirs(args.root, exist_ok=True)\n",
        "\n",
        "iter_ = 0    \n",
        "for folder in args.folders :\n",
        "    filename = f'results/{datetag}_dataset_{folder}_{args.HOST}.json'\n",
        "    os.makedirs(paths[folder], exist_ok=True)\n",
        "    list_dir = clean_list(os.listdir(paths[folder]))\n",
        "        \n",
        "    # if the folder is empty, download the images using the ImageNet-Datasets-Downloader\n",
        "    if len(list_dir) < N_labels: \n",
        "        df_dataset = pd.DataFrame([], columns=['is_flickr', 'dt', 'lab_work', 'class_wnid', 'class_name'])\n",
        "        tentativ_ = 0\n",
        "        print(f'The {folder} folder does not have anough classes, downloading some more \\n') \n",
        "        for class_wnid in id_dl:\n",
        "            class_name = reverse_id_labels[class_wnid]\n",
        "            print(f'Scraping images for class \\\"{class_name}\\\"')\n",
        "            class_folder = os.path.join(paths[folder], class_name)\n",
        "            os.makedirs(class_folder, exist_ok=True)                      \n",
        "            list_dir = os.listdir(class_folder)\n",
        "            #for i, j in enumerate(Imagenet_urls_ILSVRC_2016[str(class_wnid)]):\n",
        "            for i in range(iter_, len(Imagenet_urls_ILSVRC_2016[str(class_wnid)]), 1):\n",
        "                if len(list_dir) < N_images_per_class[folder] :\n",
        "                    tentativ_ +=1\n",
        "                    try :\n",
        "                        resp = Imagenet_urls_ILSVRC_2016[str(class_wnid)][i]\n",
        "                    except : \n",
        "                        break\n",
        "                    tic = time.time()\n",
        "                    worked = get_image(resp, class_folder)\n",
        "                    if not worked:\n",
        "                        if verbose :\n",
        "                            print(Imagenet_urls_ILSVRC_2016[str(class_wnid)].pop(i), ' does not work, deleting the url of the database')\n",
        "                        else :\n",
        "                            del(Imagenet_urls_ILSVRC_2016[str(class_wnid)][i])\n",
        "\n",
        "                    dt = time.time() - tic\n",
        "                    if verbose: \n",
        "                        print('is_flickr :', is_flickr,'dt :', dt,'worked :', worked, 'class_wnid : ', class_wnid, 'class_name :', class_name)\n",
        "                    df_dataset.loc[tentativ_] = {'is_flickr':1 if 'flickr' in resp else 0,'dt':dt,'lab_work':worked, 'class_wnid':class_wnid, 'class_name':class_name}\n",
        "                    list_dir = os.listdir(class_folder)\n",
        "                    print(f'\\r{len(list_dir)} / {N_images_per_class[folder]}', end='', flush=True)\n",
        "                else:\n",
        "                    print(f'\\r{len(list_dir)} / {N_images_per_class[folder]}', end='', flush=True)\n",
        "                    break\n",
        "            print('\\n')\n",
        "            if len(list_dir) < N_images_per_class[folder] :\n",
        "                print('Not anough working url to complete the dataset') \n",
        "        list_dir = os.listdir(paths[folder])\n",
        "        if True :\n",
        "            df_dataset.to_json(filename)\n",
        "\n",
        "\n",
        "    elif len(os.listdir(paths[folder])) == N_labels :\n",
        "        pprint(f'The folder already contains : {len(list_dir)} classes')\n",
        "        \n",
        "    iter_ += N_images_per_class[folder]\n",
        "    \n",
        "if False: \n",
        "    # replace the file with that URLs that worked - removes the ones that failed\n",
        "    print(f'Replacing file {args.url_loader}')\n",
        "    with open(args.url_loader, 'wt') as f:\n",
        "        json.dump(Imagenet_urls_ILSVRC_2016, f, indent=4)\n"
      ],
      "outputs": [],
      "execution_count": null,
      "metadata": {
        "execution": {
          "iopub.execute_input": "2021-10-22T21:19:56.960826Z",
          "iopub.status.busy": "2021-10-22T21:19:56.959757Z",
          "iopub.status.idle": "2021-10-22T21:19:56.965917Z",
          "shell.execute_reply": "2021-10-22T21:19:56.966753Z"
        }
      }
    },
    {
      "cell_type": "code",
      "source": [
        "%run -int {scriptname}"
      ],
      "outputs": [],
      "execution_count": null,
      "metadata": {
        "execution": {
          "iopub.execute_input": "2021-10-22T21:19:56.973494Z",
          "iopub.status.busy": "2021-10-22T21:19:56.972512Z",
          "iopub.status.idle": "2021-10-22T21:19:57.387712Z",
          "shell.execute_reply": "2021-10-22T21:19:57.388524Z"
        }
      }
    },
    {
      "cell_type": "markdown",
      "source": [
        "Let's plot some statistics for the scrapped images:"
      ],
      "metadata": {}
    },
    {
      "cell_type": "code",
      "source": [
        "for folder in args.folders : \n",
        "    filename = f'results/{datetag}_dataset_{folder}_{args.HOST}.json'\n",
        "    if os.path.isfile(filename):\n",
        "        df_dataset = pd.read_json(filename)\n",
        "\n",
        "        df_type = pd.DataFrame({'urls_type': [len(df_dataset[df_dataset['is_flickr']==1]), \n",
        "                                              len(df_dataset[df_dataset['is_flickr']==0])]},\n",
        "                          index=['is_flickr', 'not_flikr'])\n",
        "        df_flikr = pd.DataFrame({'not_flikr': [df_dataset[df_dataset['is_flickr']==0]['lab_work'].sum(), \n",
        "                                               (len(df_dataset[df_dataset['is_flickr']==0]) - df_dataset[df_dataset['is_flickr']==0]['lab_work'].sum())],\n",
        "                                 'is_flickr': [df_dataset[df_dataset['is_flickr']==1]['lab_work'].sum(), \n",
        "                                               (len(df_dataset[df_dataset['is_flickr']==1]) - df_dataset[df_dataset['is_flickr']==1]['lab_work'].sum())]},\n",
        "                                  index=['worked', 'not_working'])\n",
        "        df_all = pd.DataFrame({'url': [len(df_dataset[df_dataset['lab_work']==1]), len(df_dataset[df_dataset['lab_work']==0])]},\n",
        "                          index=['worked', 'not_working'])\n",
        "\n",
        "        plot_type = df_type.plot.pie(y='urls_type', figsize=(5, 5), labeldistance=None)\n",
        "        plot_type.set_title('Stats for the folder '+ folder + ' (' + str(len(df_dataset)) + ' attempts) :', size = 18)\n",
        "        if not len(df_dataset[df_dataset['is_flickr']==0]) == 0 or len(df_dataset[df_dataset['is_flickr']==1]) == 0: \n",
        "            plot_flickr = df_flikr.plot.pie(subplots=True, figsize=(11, 6), labeldistance=None)\n",
        "        plot_all = df_all.plot.pie(y='url', figsize=(5, 5), labeldistance=None)\n",
        "    else:\n",
        "        print(f'The file {filename} is not available...')"
      ],
      "outputs": [],
      "execution_count": null,
      "metadata": {
        "execution": {
          "iopub.execute_input": "2021-10-22T21:19:57.411115Z",
          "iopub.status.busy": "2021-10-22T21:19:57.410073Z",
          "iopub.status.idle": "2021-10-22T21:19:57.415975Z",
          "shell.execute_reply": "2021-10-22T21:19:57.415065Z"
        }
      }
    },
    {
      "cell_type": "markdown",
      "source": [
        "TODO : show one representative image from each class"
      ],
      "metadata": {}
    },
    {
      "cell_type": "markdown",
      "source": [
        "## Transfer learning and dataset config\n",
        "\n",
        "In the `model.py` scrip,t we first define the `transform` functions for the datasets. To perform image augmentation, we apply the pyTorch `AutoAugment` function to the `train` and `val` dataset. Then, we load the pretrained models and store them in memory."
      ],
      "metadata": {}
    },
    {
      "cell_type": "code",
      "source": [
        "scriptname = 'DCNN_transfer_learning/model.py'"
      ],
      "outputs": [],
      "execution_count": 14,
      "metadata": {
        "execution": {
          "iopub.execute_input": "2021-10-23T22:10:07.173Z",
          "iopub.status.busy": "2021-10-23T22:10:07.141Z",
          "iopub.status.idle": "2021-10-23T22:10:07.231Z",
          "shell.execute_reply": "2021-10-23T22:10:07.259Z"
        }
      }
    },
    {
      "cell_type": "code",
      "source": [
        "%%writefile {scriptname}\n",
        "\n",
        "from DCNN_transfer_learning.init import *\n",
        "\n",
        "import torchvision\n",
        "from torchvision import datasets, models, transforms\n",
        "from torchvision.datasets import ImageFolder\n",
        "import torch.nn as nn\n",
        "\n",
        "# normalization used to train VGG\n",
        "# see https://pytorch.org/hub/pytorch_vision_vgg/\n",
        "mean = np.array([0.485, 0.456, 0.406])\n",
        "std = np.array([0.229, 0.224, 0.225])\n",
        "transforms_norm = transforms.Normalize(mean=mean, std=std) # to normalize colors on the imagenet dataset\n",
        "\n",
        "import seaborn as sns\n",
        "import sklearn.metrics\n",
        "from scipy import stats\n",
        "from scipy.special import logit, expit\n",
        "\n",
        "# VGG-16 datasets initialisation\n",
        "def datasets_transforms(image_size=args.image_size, p=0, num_workers=1, batch_size=args.batch_size):\n",
        "    data_transforms = {\n",
        "        'train': transforms.Compose([\n",
        "            transforms.Resize((int(image_size), int(image_size))),\n",
        "            transforms.AutoAugment(), # https://pytorch.org/vision/master/transforms.html#torchvision.transforms.AutoAugment\n",
        "            transforms.RandomGrayscale(p=p),\n",
        "            transforms.ToTensor(),      # Convert the image to pyTorch Tensor data type.\n",
        "            transforms_norm ]),\n",
        "\n",
        "        'val': transforms.Compose([\n",
        "            transforms.Resize((int(image_size), int(image_size))),\n",
        "            transforms.AutoAugment(), # https://pytorch.org/vision/master/transforms.html#torchvision.transforms.AutoAugment\n",
        "            transforms.RandomGrayscale(p=p),\n",
        "            transforms.ToTensor(),      # Convert the image to pyTorch Tensor data type.\n",
        "            transforms_norm ]),\n",
        "\n",
        "        'test': transforms.Compose([\n",
        "            transforms.Resize((int(image_size), int(image_size))),\n",
        "            transforms.RandomGrayscale(p=p),\n",
        "            transforms.ToTensor(),      # Convert the image to pyTorch Tensor data type.\n",
        "            transforms_norm ]),\n",
        "    }\n",
        "    #print(paths)\n",
        "    \n",
        "\n",
        "    image_datasets = {\n",
        "        folder: datasets.ImageFolder(\n",
        "            paths[folder], \n",
        "            transform=data_transforms[folder]\n",
        "        )\n",
        "        for folder in args.folders\n",
        "    }\n",
        "\n",
        "    dataloaders = {\n",
        "        folder: torch.utils.data.DataLoader(\n",
        "            image_datasets[folder], batch_size=batch_size,\n",
        "            shuffle=True, num_workers=num_workers\n",
        "        )\n",
        "        for folder in args.folders\n",
        "    }\n",
        "\n",
        "    dataset_sizes = {folder: len(image_datasets[folder]) for folder in args.folders}\n",
        "\n",
        "    return dataset_sizes, dataloaders, image_datasets, data_transforms\n",
        "\n",
        "(dataset_sizes, dataloaders, image_datasets, data_transforms) = datasets_transforms(image_size=args.image_size)\n",
        "\n",
        "for folder in args.folders : print(f\"Loaded {dataset_sizes[folder]} images under {folder}\")\n",
        "class_names = image_datasets['train'].classes\n",
        "print(\"Classes: \", image_datasets['train'].classes)\n",
        "n_output = len(os.listdir(paths['train']))"
      ],
      "outputs": [
        {
          "output_type": "stream",
          "name": "stdout",
          "text": [
            "Overwriting DCNN_transfer_learning/model.py\n"
          ]
        }
      ],
      "execution_count": 15,
      "metadata": {
        "execution": {
          "iopub.execute_input": "2021-10-23T22:10:08.303Z",
          "iopub.status.busy": "2021-10-23T22:10:08.269Z",
          "iopub.status.idle": "2021-10-23T22:10:08.361Z",
          "shell.execute_reply": "2021-10-23T22:10:08.393Z"
        }
      }
    },
    {
      "cell_type": "code",
      "source": [
        "%run -int {scriptname}"
      ],
      "outputs": [
        {
          "output_type": "stream",
          "name": "stdout",
          "text": [
            "Loaded 3921 images under test\n",
            "Loaded 1981 images under val\n",
            "Loaded 5228 images under train\n",
            "Classes:  ['albatross', 'ant', 'bell pepper', 'computer keyboard', 'cornet', 'king penguin', 'lionfish', 'macaque', 'sewing machine', 'vending machine']\n",
            "\n",
            "IPython CPU timings (estimated):\n",
            "  User   :       0.07 s.\n",
            "  System :       0.04 s.\n",
            "Wall time:       0.17 s.\n"
          ]
        }
      ],
      "execution_count": 16,
      "metadata": {
        "execution": {
          "iopub.execute_input": "2021-10-23T22:10:10.106Z",
          "iopub.status.busy": "2021-10-23T22:10:10.052Z",
          "iopub.status.idle": "2021-10-23T22:10:10.171Z",
          "shell.execute_reply": "2021-10-23T22:10:10.271Z"
        }
      }
    },
    {
      "cell_type": "markdown",
      "source": [
        "## Training process\n",
        "\n",
        "Finaly, we implement the training process in `experiment_train.py`, using a classic training script with pyTorch. For further statistical analyses, we extract factors (like the accuracy and loss) within a `pandas` object (a `DataFrame`). "
      ],
      "metadata": {}
    },
    {
      "cell_type": "code",
      "source": [
        "scriptname = 'experiment_train.py'"
      ],
      "outputs": [],
      "execution_count": 17,
      "metadata": {
        "execution": {
          "iopub.execute_input": "2021-10-23T22:10:18.807Z",
          "iopub.status.busy": "2021-10-23T22:10:18.780Z",
          "iopub.status.idle": "2021-10-23T22:10:18.897Z",
          "shell.execute_reply": "2021-10-23T22:10:18.932Z"
        }
      }
    },
    {
      "cell_type": "code",
      "source": [
        "# TODO : compare with full learning"
      ],
      "outputs": [],
      "execution_count": 18,
      "metadata": {
        "execution": {
          "iopub.execute_input": "2021-10-23T22:10:19.691Z",
          "iopub.status.busy": "2021-10-23T22:10:19.666Z",
          "iopub.status.idle": "2021-10-23T22:10:19.734Z",
          "shell.execute_reply": "2021-10-23T22:10:19.763Z"
        }
      }
    },
    {
      "cell_type": "code",
      "source": [
        "%%writefile {scriptname}\n",
        "from DCNN_transfer_learning.model import *\n",
        "\n",
        "def train_model(model, num_epochs, dataloaders, lr=args.lr, momentum=args.momentum, log_interval=100):\n",
        "    \n",
        "    model.to(device)\n",
        "    if momentum == 0.: # TODO : try Adam?\n",
        "        optimizer = torch.optim.Adam(model.parameters(), lr=lr)#, betas=(beta1, beta2), amsgrad=amsgrad)\n",
        "    else:\n",
        "        optimizer = torch.optim.SGD(model.parameters(), lr=lr, momentum=momentum) # to set training variables\n",
        "\n",
        "    df_train = pd.DataFrame([], columns=['epoch', 'avg_loss', 'avg_acc', 'avg_loss_val', 'avg_acc_val', 'device_type']) \n",
        "\n",
        "    for epoch in range(num_epochs):\n",
        "        loss_train = 0\n",
        "        acc_train = 0\n",
        "        for i, (images, labels) in enumerate(dataloaders['train']):\n",
        "            images, labels = images.to(device), labels.to(device)\n",
        "            \n",
        "            optimizer.zero_grad()\n",
        "            outputs = model(images)\n",
        "            loss = criterion(outputs, labels)\n",
        "\n",
        "            loss.backward()\n",
        "            optimizer.step()\n",
        "\n",
        "            loss_train += loss.item() * images.size(0)\n",
        "            _, preds = torch.max(outputs.data, 1)\n",
        "            acc_train += torch.sum(preds == labels.data)\n",
        "            \n",
        "        avg_loss = loss_train / dataset_sizes['train']\n",
        "        avg_acc = acc_train / dataset_sizes['train']\n",
        "           \n",
        "        with torch.no_grad():\n",
        "            loss_val = 0\n",
        "            acc_val = 0\n",
        "            for i, (images, labels) in enumerate(dataloaders['val']):\n",
        "                images, labels = images.to(device), labels.to(device)\n",
        "\n",
        "                outputs = model(images)\n",
        "                loss = criterion(outputs, labels)\n",
        "\n",
        "                loss_val += loss.item() * images.size(0)\n",
        "                _, preds = torch.max(outputs.data, 1)\n",
        "                acc_val += torch.sum(preds == labels.data)\n",
        "        \n",
        "            avg_loss_val = loss_val / dataset_sizes['val']\n",
        "            avg_acc_val = acc_val / dataset_sizes['val']\n",
        "        \n",
        "        df_train.loc[epoch] = {'epoch':epoch, 'avg_loss':avg_loss, 'avg_acc':float(avg_acc),\n",
        "                               'avg_loss_val':avg_loss_val, 'avg_acc_val':float(avg_acc_val), 'device_type':device.type}\n",
        "        print(f\"Epoch {epoch+1}/{num_epochs} : train= loss: {avg_loss:.4f} / acc : {avg_acc:.4f} - val= loss : {avg_loss_val:.4f} / acc : {avg_acc_val:.4f}\")\n",
        "\n",
        "    model.cpu()\n",
        "    torch.cuda.empty_cache()\n",
        "    return model, df_train\n",
        "\n",
        " \n",
        "criterion = nn.CrossEntropyLoss()\n",
        "\n",
        "def main():\n",
        "\n",
        "  # Training and saving the network\n",
        "\n",
        "  models_vgg = {}\n",
        "  opt = {}\n",
        "  #df_train = {}\n",
        "\n",
        "  models_vgg['vgg'] = torchvision.models.vgg16(pretrained=True)\n",
        "\n",
        "  # Downloading the model\n",
        "  model_filenames = {}\n",
        "  for model_name in args.model_names:\n",
        "      model_filenames[model_name] = args.model_path + model_name + '.pt'\n",
        "      filename = f'results/{datetag}_{args.HOST}_train_{model_name}.json'\n",
        "\n",
        "      models_vgg[model_name] = torchvision.models.vgg16(pretrained=True)\n",
        "      # Freeze training for all layers\n",
        "      # Newly created modules have require_grad=True by default\n",
        "      for param in models_vgg[model_name].features.parameters():\n",
        "          param.require_grad = False \n",
        "\n",
        "      if model_name == 'vgg16_lin':\n",
        "          num_features = models_vgg[model_name].classifier[-1].out_features\n",
        "          features = list(models_vgg[model_name].classifier.children())\n",
        "          features.extend([nn.Linear(num_features, n_output)]) # Adding one layer on top of last layer\n",
        "          models_vgg[model_name].classifier = nn.Sequential(*features)\n",
        "\n",
        "      else : \n",
        "          num_features = models_vgg[model_name].classifier[-1].in_features\n",
        "          features = list(models_vgg[model_name].classifier.children())[:-1] # Remove last layer\n",
        "          features.extend([nn.Linear(num_features, n_output)]) # Add our layer with 10 outputs\n",
        "          models_vgg[model_name].classifier = nn.Sequential(*features) # Replace the model classifier\n",
        "\n",
        "      if os.path.isfile(model_filenames[model_name]):\n",
        "          print(\"Loading pretrained model for..\", model_name, ' from', model_filenames[model_name])\n",
        "          #print(\"Resume_training : \", resume_training)\n",
        "\n",
        "          if device.type == 'cuda':\n",
        "              models_vgg[model_name].load_state_dict(torch.load(model_filenames[model_name])) #on GPU\n",
        "          else:\n",
        "              models_vgg[model_name].load_state_dict(torch.load(model_filenames[model_name], map_location=torch.device('cpu'))) #on CPU\n",
        "\n",
        "      else:\n",
        "          print(\"Re-training pretrained model...\", model_filenames[model_name])\n",
        "          since = time.time()\n",
        "\n",
        "          p = 1 if model_name == 'vgg16_gray' else 0\n",
        "          if model_name =='vgg16_scale':\n",
        "              df_train = None\n",
        "              for image_size_ in args.image_sizes: # starting with low resolution images \n",
        "                  print(f\"Traning {model_name}, image_size = {image_size_}, p (Grayscale) = {p}\")\n",
        "                  (dataset_sizes, dataloaders, image_datasets, data_transforms) = datasets_transforms(image_size=image_size_, p=p)\n",
        "                  models_vgg[model_name], df_train_ = train_model(models_vgg[model_name], num_epochs=args.num_epochs//len(args.image_sizes),\n",
        "                                                                 dataloaders=dataloaders)\n",
        "                  df_train = df_train_ if df_train is None else df_train.append(df_train_, ignore_index=True)\n",
        "          else :\n",
        "              print(f\"Traning {model_name}, image_size = {args.image_size}, p (Grayscale) = {p}\")\n",
        "              (dataset_sizes, dataloaders, image_datasets, data_transforms) = datasets_transforms(image_size=args.image_size, p=p)\n",
        "              models_vgg[model_name], df_train = train_model(models_vgg[model_name], num_epochs=args.num_epochs,\n",
        "                                                            dataloaders=dataloaders)\n",
        "          torch.save(models_vgg[model_name].state_dict(), model_filenames[model_name])\n",
        "          df_train.to_json(filename)\n",
        "          elapsed_time = time.time() - since\n",
        "          print(f\"Training completed in {elapsed_time // 60:.0f}m {elapsed_time % 60:.0f}s\")\n",
        "          print()\n",
        "\n",
        "main()"
      ],
      "outputs": [
        {
          "output_type": "stream",
          "name": "stdout",
          "text": [
            "Overwriting experiment_train.py\n"
          ]
        }
      ],
      "execution_count": 19,
      "metadata": {
        "execution": {
          "iopub.execute_input": "2021-10-23T22:10:20.656Z",
          "iopub.status.busy": "2021-10-23T22:10:20.616Z",
          "iopub.status.idle": "2021-10-23T22:10:20.723Z",
          "shell.execute_reply": "2021-10-23T22:10:20.751Z"
        }
      }
    },
    {
      "cell_type": "code",
      "source": [
        "%run -int {scriptname}"
      ],
      "outputs": [
        {
          "output_type": "stream",
          "name": "stdout",
          "text": [
            "Creating file results/2021-10-21_config_args.json\n",
            "On date 2021-10-21 , Running benchmark on host ekla  with device cpu\n",
            "-------------------------------\n",
            "List of Pre-selected classes : \n",
            "-------------------------------\n",
            "-> label 945 = bell pepper \n",
            "id wordnet :  n02056570\n",
            "-> label 513 = cornet \n",
            "id wordnet :  n02058221\n",
            "-> label 886 = vending machine \n",
            "id wordnet :  n02219486\n",
            "-> label 508 = computer keyboard \n",
            "id wordnet :  n02487347\n",
            "-> label 786 = sewing machine \n",
            "id wordnet :  n02643566\n",
            "-> label 310 = ant \n",
            "id wordnet :  n03085013\n",
            "-> label 373 = macaque \n",
            "id wordnet :  n03110669\n",
            "-> label 145 = king penguin \n",
            "id wordnet :  n04179913\n",
            "-> label 146 = albatross \n",
            "id wordnet :  n04525305\n",
            "-> label 396 = lionfish \n",
            "id wordnet :  n07720875\n",
            "Loaded 3921 images under test\n",
            "Loaded 1981 images under val\n",
            "Loaded 5228 images under train\n",
            "Classes:  ['albatross', 'ant', 'bell pepper', 'computer keyboard', 'cornet', 'king penguin', 'lionfish', 'macaque', 'sewing machine', 'vending machine']\n",
            "Loading pretrained model for.. vgg16_lin  from models/re-trained_vgg16_lin.pt\n",
            "Loading pretrained model for.. vgg16_gen  from models/re-trained_vgg16_gen.pt\n",
            "Loading pretrained model for.. vgg16_scale  from models/re-trained_vgg16_scale.pt\n",
            "Loading pretrained model for.. vgg16_gray  from models/re-trained_vgg16_gray.pt\n",
            "\n",
            "IPython CPU timings (estimated):\n",
            "  User   :       7.62 s.\n",
            "  System :       6.49 s.\n",
            "Wall time:      17.24 s.\n"
          ]
        }
      ],
      "execution_count": 4,
      "metadata": {
        "execution": {
          "iopub.execute_input": "2021-10-23T21:31:15.641Z",
          "iopub.status.busy": "2021-10-23T21:31:15.615Z",
          "iopub.status.idle": "2021-10-23T21:31:32.845Z",
          "shell.execute_reply": "2021-10-23T21:31:33.372Z"
        },
        "tags": []
      }
    },
    {
      "cell_type": "markdown",
      "source": [
        "Here we display both average accuracy and loss during the training phase and during the validation one : "
      ],
      "metadata": {}
    },
    {
      "cell_type": "code",
      "source": [
        "model_name = 'vgg16_lin'\n",
        "filename = f'results/{datetag}_{args.HOST}_train_{model_name}.json'\n",
        "%ls {filename}"
      ],
      "outputs": [
        {
          "output_type": "stream",
          "name": "stdout",
          "text": [
            "ls: results/2021-10-21_ekla_train_vgg16_lin.json: No such file or directory\r\n"
          ]
        }
      ],
      "execution_count": 5,
      "metadata": {
        "execution": {
          "iopub.execute_input": "2021-10-23T21:31:32.927Z",
          "iopub.status.busy": "2021-10-23T21:31:32.893Z",
          "iopub.status.idle": "2021-10-23T21:31:32.998Z",
          "shell.execute_reply": "2021-10-23T21:31:33.403Z"
        }
      }
    },
    {
      "cell_type": "code",
      "source": [
        "for model_name in args.model_names:\n",
        "    filename = f'results/{datetag}_{args.HOST}_train_{model_name}.json'\n",
        "    df_train = pd.read_json(filename)\n",
        "    fig, axs = plt.subplots(figsize=(fig_width, fig_width/phi//2))\n",
        "    # plt.xticks(fontsize=18)\n",
        "    # plt.yticks(fontsize=18)\n",
        "    ax = df_train['avg_loss'].plot(lw=2, marker='.', markersize=10)\n",
        "    ax = df_train['avg_loss_val'].plot(lw=2, marker='.', markersize=10)\n",
        "    ax.legend([\"avg_loss\", \"avg_loss_val\"], fontsize=18);\n",
        "    ax.set_xlabel(\"Epoch\", size=18)\n",
        "    ax.set_ylabel(\"Loss value\", size=18)\n",
        "    ax.set_ylim(0, 1.2)\n",
        "    axs.set_title(f'Average values of the loss by epoch : {filename}' , size = 20)"
      ],
      "outputs": [
        {
          "output_type": "error",
          "ename": "ValueError",
          "evalue": "Expected object or value",
          "traceback": [
            "\u001b[0;31m---------------------------------------------------------------------------\u001b[0m",
            "\u001b[0;31mValueError\u001b[0m                                Traceback (most recent call last)",
            "\u001b[0;32m~/quantic/science/FastAndCurious/2021-04-28_transfer_learning/experiment_train.py\u001b[0m in \u001b[0;36m<module>\u001b[0;34m\u001b[0m\n\u001b[1;32m      1\u001b[0m \u001b[0;32mfor\u001b[0m \u001b[0mmodel_name\u001b[0m \u001b[0;32min\u001b[0m \u001b[0margs\u001b[0m\u001b[0;34m.\u001b[0m\u001b[0mmodel_names\u001b[0m\u001b[0;34m:\u001b[0m\u001b[0;34m\u001b[0m\u001b[0;34m\u001b[0m\u001b[0m\n\u001b[1;32m      2\u001b[0m     \u001b[0mfilename\u001b[0m \u001b[0;34m=\u001b[0m \u001b[0;34mf'results/{datetag}_{args.HOST}_train_{model_name}.json'\u001b[0m\u001b[0;34m\u001b[0m\u001b[0;34m\u001b[0m\u001b[0m\n\u001b[0;32m----> 3\u001b[0;31m     \u001b[0mdf_train\u001b[0m \u001b[0;34m=\u001b[0m \u001b[0mpd\u001b[0m\u001b[0;34m.\u001b[0m\u001b[0mread_json\u001b[0m\u001b[0;34m(\u001b[0m\u001b[0mfilename\u001b[0m\u001b[0;34m)\u001b[0m\u001b[0;34m\u001b[0m\u001b[0;34m\u001b[0m\u001b[0m\n\u001b[0m\u001b[1;32m      4\u001b[0m     \u001b[0mfig\u001b[0m\u001b[0;34m,\u001b[0m \u001b[0maxs\u001b[0m \u001b[0;34m=\u001b[0m \u001b[0mplt\u001b[0m\u001b[0;34m.\u001b[0m\u001b[0msubplots\u001b[0m\u001b[0;34m(\u001b[0m\u001b[0mfigsize\u001b[0m\u001b[0;34m=\u001b[0m\u001b[0;34m(\u001b[0m\u001b[0mfig_width\u001b[0m\u001b[0;34m,\u001b[0m \u001b[0mfig_width\u001b[0m\u001b[0;34m/\u001b[0m\u001b[0mphi\u001b[0m\u001b[0;34m//\u001b[0m\u001b[0;36m2\u001b[0m\u001b[0;34m)\u001b[0m\u001b[0;34m)\u001b[0m\u001b[0;34m\u001b[0m\u001b[0;34m\u001b[0m\u001b[0m\n\u001b[1;32m      5\u001b[0m     \u001b[0;31m# plt.xticks(fontsize=18)\u001b[0m\u001b[0;34m\u001b[0m\u001b[0;34m\u001b[0m\u001b[0m\n",
            "\u001b[0;32m/usr/local/lib/python3.9/site-packages/pandas/util/_decorators.py\u001b[0m in \u001b[0;36mwrapper\u001b[0;34m(*args, **kwargs)\u001b[0m\n\u001b[1;32m    205\u001b[0m                 \u001b[0;32melse\u001b[0m\u001b[0;34m:\u001b[0m\u001b[0;34m\u001b[0m\u001b[0;34m\u001b[0m\u001b[0m\n\u001b[1;32m    206\u001b[0m                     \u001b[0mkwargs\u001b[0m\u001b[0;34m[\u001b[0m\u001b[0mnew_arg_name\u001b[0m\u001b[0;34m]\u001b[0m \u001b[0;34m=\u001b[0m \u001b[0mnew_arg_value\u001b[0m\u001b[0;34m\u001b[0m\u001b[0;34m\u001b[0m\u001b[0m\n\u001b[0;32m--> 207\u001b[0;31m             \u001b[0;32mreturn\u001b[0m \u001b[0mfunc\u001b[0m\u001b[0;34m(\u001b[0m\u001b[0;34m*\u001b[0m\u001b[0margs\u001b[0m\u001b[0;34m,\u001b[0m \u001b[0;34m**\u001b[0m\u001b[0mkwargs\u001b[0m\u001b[0;34m)\u001b[0m\u001b[0;34m\u001b[0m\u001b[0;34m\u001b[0m\u001b[0m\n\u001b[0m\u001b[1;32m    208\u001b[0m \u001b[0;34m\u001b[0m\u001b[0m\n\u001b[1;32m    209\u001b[0m         \u001b[0;32mreturn\u001b[0m \u001b[0mcast\u001b[0m\u001b[0;34m(\u001b[0m\u001b[0mF\u001b[0m\u001b[0;34m,\u001b[0m \u001b[0mwrapper\u001b[0m\u001b[0;34m)\u001b[0m\u001b[0;34m\u001b[0m\u001b[0;34m\u001b[0m\u001b[0m\n",
            "\u001b[0;32m/usr/local/lib/python3.9/site-packages/pandas/util/_decorators.py\u001b[0m in \u001b[0;36mwrapper\u001b[0;34m(*args, **kwargs)\u001b[0m\n\u001b[1;32m    309\u001b[0m                     \u001b[0mstacklevel\u001b[0m\u001b[0;34m=\u001b[0m\u001b[0mstacklevel\u001b[0m\u001b[0;34m,\u001b[0m\u001b[0;34m\u001b[0m\u001b[0;34m\u001b[0m\u001b[0m\n\u001b[1;32m    310\u001b[0m                 )\n\u001b[0;32m--> 311\u001b[0;31m             \u001b[0;32mreturn\u001b[0m \u001b[0mfunc\u001b[0m\u001b[0;34m(\u001b[0m\u001b[0;34m*\u001b[0m\u001b[0margs\u001b[0m\u001b[0;34m,\u001b[0m \u001b[0;34m**\u001b[0m\u001b[0mkwargs\u001b[0m\u001b[0;34m)\u001b[0m\u001b[0;34m\u001b[0m\u001b[0;34m\u001b[0m\u001b[0m\n\u001b[0m\u001b[1;32m    312\u001b[0m \u001b[0;34m\u001b[0m\u001b[0m\n\u001b[1;32m    313\u001b[0m         \u001b[0;32mreturn\u001b[0m \u001b[0mwrapper\u001b[0m\u001b[0;34m\u001b[0m\u001b[0;34m\u001b[0m\u001b[0m\n",
            "\u001b[0;32m/usr/local/lib/python3.9/site-packages/pandas/io/json/_json.py\u001b[0m in \u001b[0;36mread_json\u001b[0;34m(path_or_buf, orient, typ, dtype, convert_axes, convert_dates, keep_default_dates, numpy, precise_float, date_unit, encoding, encoding_errors, lines, chunksize, compression, nrows, storage_options)\u001b[0m\n\u001b[1;32m    612\u001b[0m \u001b[0;34m\u001b[0m\u001b[0m\n\u001b[1;32m    613\u001b[0m     \u001b[0;32mwith\u001b[0m \u001b[0mjson_reader\u001b[0m\u001b[0;34m:\u001b[0m\u001b[0;34m\u001b[0m\u001b[0;34m\u001b[0m\u001b[0m\n\u001b[0;32m--> 614\u001b[0;31m         \u001b[0;32mreturn\u001b[0m \u001b[0mjson_reader\u001b[0m\u001b[0;34m.\u001b[0m\u001b[0mread\u001b[0m\u001b[0;34m(\u001b[0m\u001b[0;34m)\u001b[0m\u001b[0;34m\u001b[0m\u001b[0;34m\u001b[0m\u001b[0m\n\u001b[0m\u001b[1;32m    615\u001b[0m \u001b[0;34m\u001b[0m\u001b[0m\n\u001b[1;32m    616\u001b[0m \u001b[0;34m\u001b[0m\u001b[0m\n",
            "\u001b[0;32m/usr/local/lib/python3.9/site-packages/pandas/io/json/_json.py\u001b[0m in \u001b[0;36mread\u001b[0;34m(self)\u001b[0m\n\u001b[1;32m    746\u001b[0m                 \u001b[0mobj\u001b[0m \u001b[0;34m=\u001b[0m \u001b[0mself\u001b[0m\u001b[0;34m.\u001b[0m\u001b[0m_get_object_parser\u001b[0m\u001b[0;34m(\u001b[0m\u001b[0mself\u001b[0m\u001b[0;34m.\u001b[0m\u001b[0m_combine_lines\u001b[0m\u001b[0;34m(\u001b[0m\u001b[0mdata_lines\u001b[0m\u001b[0;34m)\u001b[0m\u001b[0;34m)\u001b[0m\u001b[0;34m\u001b[0m\u001b[0;34m\u001b[0m\u001b[0m\n\u001b[1;32m    747\u001b[0m         \u001b[0;32melse\u001b[0m\u001b[0;34m:\u001b[0m\u001b[0;34m\u001b[0m\u001b[0;34m\u001b[0m\u001b[0m\n\u001b[0;32m--> 748\u001b[0;31m             \u001b[0mobj\u001b[0m \u001b[0;34m=\u001b[0m \u001b[0mself\u001b[0m\u001b[0;34m.\u001b[0m\u001b[0m_get_object_parser\u001b[0m\u001b[0;34m(\u001b[0m\u001b[0mself\u001b[0m\u001b[0;34m.\u001b[0m\u001b[0mdata\u001b[0m\u001b[0;34m)\u001b[0m\u001b[0;34m\u001b[0m\u001b[0;34m\u001b[0m\u001b[0m\n\u001b[0m\u001b[1;32m    749\u001b[0m         \u001b[0mself\u001b[0m\u001b[0;34m.\u001b[0m\u001b[0mclose\u001b[0m\u001b[0;34m(\u001b[0m\u001b[0;34m)\u001b[0m\u001b[0;34m\u001b[0m\u001b[0;34m\u001b[0m\u001b[0m\n\u001b[1;32m    750\u001b[0m         \u001b[0;32mreturn\u001b[0m \u001b[0mobj\u001b[0m\u001b[0;34m\u001b[0m\u001b[0;34m\u001b[0m\u001b[0m\n",
            "\u001b[0;32m/usr/local/lib/python3.9/site-packages/pandas/io/json/_json.py\u001b[0m in \u001b[0;36m_get_object_parser\u001b[0;34m(self, json)\u001b[0m\n\u001b[1;32m    768\u001b[0m         \u001b[0mobj\u001b[0m \u001b[0;34m=\u001b[0m \u001b[0;32mNone\u001b[0m\u001b[0;34m\u001b[0m\u001b[0;34m\u001b[0m\u001b[0m\n\u001b[1;32m    769\u001b[0m         \u001b[0;32mif\u001b[0m \u001b[0mtyp\u001b[0m \u001b[0;34m==\u001b[0m \u001b[0;34m\"frame\"\u001b[0m\u001b[0;34m:\u001b[0m\u001b[0;34m\u001b[0m\u001b[0;34m\u001b[0m\u001b[0m\n\u001b[0;32m--> 770\u001b[0;31m             \u001b[0mobj\u001b[0m \u001b[0;34m=\u001b[0m \u001b[0mFrameParser\u001b[0m\u001b[0;34m(\u001b[0m\u001b[0mjson\u001b[0m\u001b[0;34m,\u001b[0m \u001b[0;34m**\u001b[0m\u001b[0mkwargs\u001b[0m\u001b[0;34m)\u001b[0m\u001b[0;34m.\u001b[0m\u001b[0mparse\u001b[0m\u001b[0;34m(\u001b[0m\u001b[0;34m)\u001b[0m\u001b[0;34m\u001b[0m\u001b[0;34m\u001b[0m\u001b[0m\n\u001b[0m\u001b[1;32m    771\u001b[0m \u001b[0;34m\u001b[0m\u001b[0m\n\u001b[1;32m    772\u001b[0m         \u001b[0;32mif\u001b[0m \u001b[0mtyp\u001b[0m \u001b[0;34m==\u001b[0m \u001b[0;34m\"series\"\u001b[0m \u001b[0;32mor\u001b[0m \u001b[0mobj\u001b[0m \u001b[0;32mis\u001b[0m \u001b[0;32mNone\u001b[0m\u001b[0;34m:\u001b[0m\u001b[0;34m\u001b[0m\u001b[0;34m\u001b[0m\u001b[0m\n",
            "\u001b[0;32m/usr/local/lib/python3.9/site-packages/pandas/io/json/_json.py\u001b[0m in \u001b[0;36mparse\u001b[0;34m(self)\u001b[0m\n\u001b[1;32m    883\u001b[0m \u001b[0;34m\u001b[0m\u001b[0m\n\u001b[1;32m    884\u001b[0m         \u001b[0;32melse\u001b[0m\u001b[0;34m:\u001b[0m\u001b[0;34m\u001b[0m\u001b[0;34m\u001b[0m\u001b[0m\n\u001b[0;32m--> 885\u001b[0;31m             \u001b[0mself\u001b[0m\u001b[0;34m.\u001b[0m\u001b[0m_parse_no_numpy\u001b[0m\u001b[0;34m(\u001b[0m\u001b[0;34m)\u001b[0m\u001b[0;34m\u001b[0m\u001b[0;34m\u001b[0m\u001b[0m\n\u001b[0m\u001b[1;32m    886\u001b[0m \u001b[0;34m\u001b[0m\u001b[0m\n\u001b[1;32m    887\u001b[0m         \u001b[0;32mif\u001b[0m \u001b[0mself\u001b[0m\u001b[0;34m.\u001b[0m\u001b[0mobj\u001b[0m \u001b[0;32mis\u001b[0m \u001b[0;32mNone\u001b[0m\u001b[0;34m:\u001b[0m\u001b[0;34m\u001b[0m\u001b[0;34m\u001b[0m\u001b[0m\n",
            "\u001b[0;32m/usr/local/lib/python3.9/site-packages/pandas/io/json/_json.py\u001b[0m in \u001b[0;36m_parse_no_numpy\u001b[0;34m(self)\u001b[0m\n\u001b[1;32m   1138\u001b[0m         \u001b[0;32mif\u001b[0m \u001b[0morient\u001b[0m \u001b[0;34m==\u001b[0m \u001b[0;34m\"columns\"\u001b[0m\u001b[0;34m:\u001b[0m\u001b[0;34m\u001b[0m\u001b[0;34m\u001b[0m\u001b[0m\n\u001b[1;32m   1139\u001b[0m             self.obj = DataFrame(\n\u001b[0;32m-> 1140\u001b[0;31m                 \u001b[0mloads\u001b[0m\u001b[0;34m(\u001b[0m\u001b[0mjson\u001b[0m\u001b[0;34m,\u001b[0m \u001b[0mprecise_float\u001b[0m\u001b[0;34m=\u001b[0m\u001b[0mself\u001b[0m\u001b[0;34m.\u001b[0m\u001b[0mprecise_float\u001b[0m\u001b[0;34m)\u001b[0m\u001b[0;34m,\u001b[0m \u001b[0mdtype\u001b[0m\u001b[0;34m=\u001b[0m\u001b[0;32mNone\u001b[0m\u001b[0;34m\u001b[0m\u001b[0;34m\u001b[0m\u001b[0m\n\u001b[0m\u001b[1;32m   1141\u001b[0m             )\n\u001b[1;32m   1142\u001b[0m         \u001b[0;32melif\u001b[0m \u001b[0morient\u001b[0m \u001b[0;34m==\u001b[0m \u001b[0;34m\"split\"\u001b[0m\u001b[0;34m:\u001b[0m\u001b[0;34m\u001b[0m\u001b[0;34m\u001b[0m\u001b[0m\n",
            "\u001b[0;31mValueError\u001b[0m: Expected object or value"
          ]
        }
      ],
      "execution_count": 6,
      "metadata": {
        "execution": {
          "iopub.execute_input": "2021-10-23T21:31:33.107Z",
          "iopub.status.busy": "2021-10-23T21:31:33.071Z",
          "iopub.status.idle": "2021-10-23T21:09:37.625Z",
          "shell.execute_reply": "2021-10-23T21:09:37.773Z"
        }
      }
    },
    {
      "cell_type": "code",
      "source": [
        "for model_name in args.model_names:\n",
        "    filename = f'results/{datetag}_{args.HOST}_train_{model_name}.json'\n",
        "    df_train = pd.read_json(filename)\n",
        "    fig, axs = plt.subplots(figsize=(fig_width, fig_width/phi//2))\n",
        "    # plt.xticks(fontsize=18)\n",
        "    # plt.yticks(fontsize=18)\n",
        "    ax = df_train['avg_acc'].plot(lw=2, marker='.', markersize=10)\n",
        "    ax = df_train['avg_acc_val'].plot(lw=2, marker='.', markersize=10)\n",
        "    ax.legend([\"avg_acc\", \"avg_acc_val\"], fontsize=18);\n",
        "    ax.set_xlabel(\"Epoch\", size=18)\n",
        "    ax.set_ylabel(\"Accuracy value\", size=18)\n",
        "    ax.set_ylim(0.60, 1)\n",
        "    axs.set_title(f'Average values of the accuracy by epoch : {filename}' , size = 20)"
      ],
      "outputs": [],
      "execution_count": null,
      "metadata": {
        "execution": {
          "iopub.execute_input": "2021-10-23T21:09:37.705Z",
          "iopub.status.busy": "2021-10-23T21:09:37.675Z",
          "iopub.status.idle": "2021-10-23T21:09:38.992Z",
          "shell.execute_reply": "2021-10-23T21:09:39.051Z"
        }
      }
    },
    {
      "cell_type": "code",
      "source": [
        "scriptname = 'experiment_scan.py'"
      ],
      "outputs": [],
      "execution_count": 20,
      "metadata": {
        "execution": {
          "iopub.execute_input": "2021-10-23T22:10:33.861Z",
          "iopub.status.busy": "2021-10-23T22:10:33.831Z",
          "iopub.status.idle": "2021-10-23T22:10:33.906Z",
          "shell.execute_reply": "2021-10-23T22:10:33.935Z"
        }
      }
    },
    {
      "cell_type": "code",
      "source": [
        "%%writefile {scriptname}\n",
        "\n",
        "#import model's script and set the output file\n",
        "from DCNN_transfer_learning.model import *\n",
        "from experiment_train import train_model\n",
        "filename = f'results/{datetag}_train_scan_{args.HOST}.json'\n",
        "print(f'{filename=}')\n",
        "\n",
        "measure_columns = ['lr', 'avg_loss_val', 'avg_acc_val', 'time']\n",
        "\n",
        "def main(N_scan=7, base=10, N_avg=10):\n",
        "    if os.path.isfile(filename):\n",
        "        df_scan = pd.read_json(filename)\n",
        "    else:\n",
        "        i_trial = 0\n",
        "        df = pd.DataFrame([], columns=measure_columns) \n",
        "        for i_trial, lr  in enumerate(args.lr * np.logspace(-1, 1, N_scan, base=base)):\n",
        "\n",
        "            # Training and saving the network\n",
        "            models_vgg_ = torchvision.models.vgg16(pretrained=True)\n",
        "            # Freeze training for all layers\n",
        "            # Newly created modules have require_grad=True by default\n",
        "            for param in models_vgg_.features.parameters():\n",
        "                param.require_grad = False \n",
        "\n",
        "            num_features = models_vgg_.classifier[-1].in_features\n",
        "            features = list(models_vgg_.classifier.children())[:-1] # Remove last layer\n",
        "            features.extend([nn.Linear(num_features, n_output)]) # Add our layer with `n_output` outputs\n",
        "            models_vgg_.classifier = nn.Sequential(*features) # Replace the model classifier\n",
        "\n",
        "            since = time.time()\n",
        "\n",
        "            (dataset_sizes, dataloaders, image_datasets, data_transforms) = datasets_transforms(image_size=args.image_size, p=0)\n",
        "            models_vgg_, df_train = train_model(models_vgg_, num_epochs=args.num_epochs//4, dataloaders=dataloaders)\n",
        "\n",
        "            df_train.to_json(filename)\n",
        "            elapsed_time = time.time() - since\n",
        "            print(f\"Training completed in {elapsed_time // 60:.0f}m {elapsed_time % 60:.0f}s\")\n",
        "\n",
        "            df_scan.loc[i_trial] = {'lr':lr, 'avg_loss_val':df_train.iloc[-N_avg:-1]['avg_loss_val'].mean(), \n",
        "                               'avg_acc_val':df_train.iloc[-N_avg:-1]['avg_acc_val'].mean(), 'time':elapsed_time}\n",
        "            print(df_scan.loc[i_trial])\n",
        "            i_trial += 1\n",
        "        df_scan.to_json(filename)\n",
        "\n",
        "main()    "
      ],
      "outputs": [
        {
          "output_type": "stream",
          "name": "stdout",
          "text": [
            "Overwriting experiment_scan.py\n"
          ]
        }
      ],
      "execution_count": 21,
      "metadata": {
        "execution": {
          "iopub.execute_input": "2021-10-23T22:10:34.770Z",
          "iopub.status.busy": "2021-10-23T22:10:34.737Z",
          "iopub.status.idle": "2021-10-23T22:10:34.839Z",
          "shell.execute_reply": "2021-10-23T22:10:34.872Z"
        }
      }
    },
    {
      "cell_type": "code",
      "source": [
        "%run -int {scriptname}"
      ],
      "outputs": [
        {
          "output_type": "error",
          "ename": "NameError",
          "evalue": "name 'nn' is not defined",
          "traceback": [
            "\u001b[0;31m---------------------------------------------------------------------------\u001b[0m",
            "\u001b[0;31mNameError\u001b[0m                                 Traceback (most recent call last)",
            "\u001b[0;32m~/quantic/science/FastAndCurious/2021-04-28_transfer_learning/experiment_scan.py\u001b[0m in \u001b[0;36m<module>\u001b[0;34m\u001b[0m\n\u001b[1;32m      2\u001b[0m \u001b[0;31m#import model's script and set the output file\u001b[0m\u001b[0;34m\u001b[0m\u001b[0;34m\u001b[0m\u001b[0m\n\u001b[1;32m      3\u001b[0m \u001b[0;32mfrom\u001b[0m \u001b[0mDCNN_transfer_learning\u001b[0m\u001b[0;34m.\u001b[0m\u001b[0mmodel\u001b[0m \u001b[0;32mimport\u001b[0m \u001b[0;34m*\u001b[0m\u001b[0;34m\u001b[0m\u001b[0;34m\u001b[0m\u001b[0m\n\u001b[0;32m----> 4\u001b[0;31m \u001b[0;32mfrom\u001b[0m \u001b[0mexperiment_train\u001b[0m \u001b[0;32mimport\u001b[0m \u001b[0mtrain_model\u001b[0m\u001b[0;34m\u001b[0m\u001b[0;34m\u001b[0m\u001b[0m\n\u001b[0m\u001b[1;32m      5\u001b[0m \u001b[0mfilename\u001b[0m \u001b[0;34m=\u001b[0m \u001b[0;34mf'results/{datetag}_train_scan_{args.HOST}.json'\u001b[0m\u001b[0;34m\u001b[0m\u001b[0;34m\u001b[0m\u001b[0m\n\u001b[1;32m      6\u001b[0m \u001b[0mprint\u001b[0m\u001b[0;34m(\u001b[0m\u001b[0;34mf'{filename=}'\u001b[0m\u001b[0;34m)\u001b[0m\u001b[0;34m\u001b[0m\u001b[0;34m\u001b[0m\u001b[0m\n",
            "\u001b[0;32m~/quantic/science/FastAndCurious/2021-04-28_transfer_learning/experiment_train.py\u001b[0m in \u001b[0;36m<module>\u001b[0;34m\u001b[0m\n\u001b[1;32m     56\u001b[0m \u001b[0;34m\u001b[0m\u001b[0m\n\u001b[1;32m     57\u001b[0m \u001b[0;34m\u001b[0m\u001b[0m\n\u001b[0;32m---> 58\u001b[0;31m \u001b[0mcriterion\u001b[0m \u001b[0;34m=\u001b[0m \u001b[0mnn\u001b[0m\u001b[0;34m.\u001b[0m\u001b[0mCrossEntropyLoss\u001b[0m\u001b[0;34m(\u001b[0m\u001b[0;34m)\u001b[0m\u001b[0;34m\u001b[0m\u001b[0;34m\u001b[0m\u001b[0m\n\u001b[0m\u001b[1;32m     59\u001b[0m \u001b[0;34m\u001b[0m\u001b[0m\n\u001b[1;32m     60\u001b[0m \u001b[0;32mdef\u001b[0m \u001b[0mmain\u001b[0m\u001b[0;34m(\u001b[0m\u001b[0;34m)\u001b[0m\u001b[0;34m:\u001b[0m\u001b[0;34m\u001b[0m\u001b[0;34m\u001b[0m\u001b[0m\n",
            "\u001b[0;31mNameError\u001b[0m: name 'nn' is not defined"
          ]
        }
      ],
      "execution_count": 22,
      "metadata": {
        "execution": {
          "iopub.execute_input": "2021-10-23T22:10:36.386Z",
          "iopub.status.busy": "2021-10-23T22:10:36.350Z",
          "iopub.status.idle": "2021-10-22T21:20:26.234271Z",
          "shell.execute_reply": "2021-10-22T21:20:26.235092Z"
        }
      }
    },
    {
      "cell_type": "code",
      "source": [
        "df_scan"
      ],
      "outputs": [],
      "execution_count": null,
      "metadata": {
        "collapsed": true,
        "jupyter": {
          "source_hidden": false,
          "outputs_hidden": false
        },
        "nteract": {
          "transient": {
            "deleting": false
          }
        },
        "execution": {
          "iopub.status.busy": "2021-10-23T21:15:41.237Z",
          "iopub.execute_input": "2021-10-23T21:15:41.267Z",
          "iopub.status.idle": "2021-10-23T21:15:41.332Z",
          "shell.execute_reply": "2021-10-23T21:15:41.365Z"
        }
      }
    },
    {
      "cell_type": "markdown",
      "source": [
        "# Experiment 1: Image processing and recognition for differents labels \n"
      ],
      "metadata": {}
    },
    {
      "cell_type": "markdown",
      "source": [
        "The networks are now ready for a quantitative evaluation. The second part of this notebook offers a comparison between : \n",
        "\n",
        "- A pre-trained image recognition's networks, here VGG, trained on the [Imagenet](http://image-net.org/) dataset wich allows to work on naturals images for $1000$ labels, taken from the `torchvision.models` library\n",
        "\n",
        "- And four re-trained version of the same network VGG16 based on a reduced Imagenet dataset wich allows to focus on naturals images from $10$ labels.\n",
        "\n",
        "For further statistical analyses, we extract these differents factors (like the accuracy and the processing time for differents datasets at differents resolution) in a `pandas` object. "
      ],
      "metadata": {}
    },
    {
      "cell_type": "code",
      "source": [
        "scriptname = 'experiment_basic.py'"
      ],
      "outputs": [],
      "execution_count": null,
      "metadata": {
        "execution": {
          "iopub.execute_input": "2021-10-22T21:20:26.077726Z",
          "iopub.status.busy": "2021-10-22T21:20:26.077243Z",
          "iopub.status.idle": "2021-10-22T21:20:26.080684Z",
          "shell.execute_reply": "2021-10-22T21:20:26.081497Z"
        }
      }
    },
    {
      "cell_type": "code",
      "source": [
        "%%writefile {scriptname}\n",
        "\n",
        "#import model's script and set the output file\n",
        "from DCNN_transfer_learning.model import *\n",
        "#from experiment_train import *\n",
        "filename = f'results/{datetag}_results_1_{args.HOST}.json'\n",
        "print(f'{filename=}')\n",
        "def main():\n",
        "    if os.path.isfile(filename):\n",
        "        df = pd.read_json(filename)\n",
        "    else:\n",
        "        i_trial = 0\n",
        "        df = pd.DataFrame([], columns=['model', 'perf', 'fps', 'time', 'label', 'i_label', 'i_image', 'filename', 'device_type', 'top_1']) \n",
        "        (dataset_sizes, dataloaders, image_datasets, data_transforms) = datasets_transforms(image_size=args.image_size, batch_size=1)\n",
        "        \n",
        "        for i_image, (data, label) in enumerate(dataloaders['test']):            \n",
        "            data, label = data.to(device), label.to(device)\n",
        "            \n",
        "            for model_name in models_vgg.keys():\n",
        "                model = models_vgg[model_name]\n",
        "                model = model.to(device)\n",
        "\n",
        "                with torch.no_grad():\n",
        "                    i_label_top = reverse_labels[image_datasets['test'].classes[label]]\n",
        "                    tic = time.time()\n",
        "                    out = model(data).squeeze(0)\n",
        "                    _, indices = torch.sort(out, descending=True)\n",
        "                    if model_name == 'vgg' : # our previous work\n",
        "                        top_1 = labels[indices[0]]\n",
        "                        percentage = torch.nn.functional.softmax(out[args.subset_i_labels], dim=0) * 100\n",
        "                        perf_ = percentage[reverse_subset_i_labels[i_label_top]].item()\n",
        "                    else :\n",
        "                        top_1 = subset_labels[indices[0]] \n",
        "                        percentage = torch.nn.functional.softmax(out, dim=0) * 100\n",
        "                        perf_ = percentage[label].item()\n",
        "                    elapsed_time = time.time() - tic\n",
        "                    \n",
        "                print(f'The {model_name} model get {labels[i_label_top]} at {perf_:.2f} % confidence in {elapsed_time:.3f} seconds, best confidence for : {top_1}')\n",
        "                df.loc[i_trial] = {'model':model_name, 'perf':perf_, 'time':elapsed_time, 'fps': 1/elapsed_time,\n",
        "                                   'label':labels[i_label_top], 'i_label':i_label_top, \n",
        "                                   'i_image':i_image, 'filename':image_datasets['test'].imgs[i_image][0], 'device_type':device.type, 'top_1':top_1}\n",
        "                i_trial += 1\n",
        "        df.to_json(filename)\n",
        "\n",
        "main()    "
      ],
      "outputs": [],
      "execution_count": null,
      "metadata": {
        "execution": {
          "iopub.execute_input": "2021-10-22T21:20:26.089000Z",
          "iopub.status.busy": "2021-10-22T21:20:26.087993Z",
          "iopub.status.idle": "2021-10-22T21:20:26.094250Z",
          "shell.execute_reply": "2021-10-22T21:20:26.095069Z"
        }
      }
    },
    {
      "cell_type": "code",
      "source": [
        "%run -int {scriptname}"
      ],
      "outputs": [],
      "execution_count": null,
      "metadata": {
        "execution": {
          "iopub.execute_input": "2021-10-22T21:20:26.101444Z",
          "iopub.status.busy": "2021-10-22T21:20:26.100552Z",
          "iopub.status.idle": "2021-10-22T21:20:26.234271Z",
          "shell.execute_reply": "2021-10-22T21:20:26.235092Z"
        }
      }
    },
    {
      "cell_type": "markdown",
      "source": [
        "Here we collect our results, we can already display all the data in a table "
      ],
      "metadata": {}
    },
    {
      "cell_type": "code",
      "source": [
        "filename = f'results/{datetag}_results_1_{args.HOST}.json'\n",
        "filename"
      ],
      "outputs": [],
      "execution_count": null,
      "metadata": {
        "execution": {
          "iopub.execute_input": "2021-10-22T21:20:26.240393Z",
          "iopub.status.busy": "2021-10-22T21:20:26.239431Z",
          "iopub.status.idle": "2021-10-22T21:20:26.242903Z",
          "shell.execute_reply": "2021-10-22T21:20:26.243691Z"
        }
      }
    },
    {
      "cell_type": "code",
      "source": [
        "df = pd.read_json(filename)\n",
        "df"
      ],
      "outputs": [],
      "execution_count": null,
      "metadata": {
        "execution": {
          "iopub.execute_input": "2021-10-22T21:20:26.248470Z",
          "iopub.status.busy": "2021-10-22T21:20:26.247478Z",
          "iopub.status.idle": "2021-10-22T21:20:26.381852Z",
          "shell.execute_reply": "2021-10-22T21:20:26.382674Z"
        }
      }
    },
    {
      "cell_type": "markdown",
      "source": [
        "## Accuracy, Precision, Recall\n",
        "\n",
        "We now compute the top-1 accuracy (which is a metric that describes how the model performs across all classes, here top 1 because we only take the best likelihood at the outputof the networks), the precision (which reflects how reliable the model is in classifying samples as Positive) and the recall (which measures the model's ability to detect Positive samples) of each networks. We use the [sklearn librairy](https://sklearn.org/index.html) to perform this [analysis](https://blog.paperspace.com/deep-learning-metrics-precision-recall-accuracy/)."
      ],
      "metadata": {}
    },
    {
      "cell_type": "code",
      "source": [
        "from sklearn.metrics import accuracy_score, precision_score, f1_score"
      ],
      "outputs": [],
      "execution_count": null,
      "metadata": {
        "execution": {
          "iopub.execute_input": "2021-10-22T21:20:26.387415Z",
          "iopub.status.busy": "2021-10-22T21:20:26.386456Z",
          "iopub.status.idle": "2021-10-22T21:20:26.390111Z",
          "shell.execute_reply": "2021-10-22T21:20:26.389276Z"
        }
      }
    },
    {
      "cell_type": "markdown",
      "source": [
        "https://scikit-learn.org/stable/modules/generated/sklearn.metrics.precision_score.html"
      ],
      "metadata": {}
    },
    {
      "cell_type": "code",
      "source": [
        "df_precision = pd.DataFrame({model_name: {subset_label: precision_score(df[(df['model']==model_name) & (df['label']==subset_label)][\"top_1\"], \n",
        "                                                                  df[(df['model']==model_name) & (df['label']==subset_label)][\"label\"],\n",
        "                                                                 average='micro')\n",
        "                                    for subset_label in subset_labels} \n",
        "                       for model_name in models_vgg.keys()})"
      ],
      "outputs": [],
      "execution_count": null,
      "metadata": {
        "execution": {
          "iopub.execute_input": "2021-10-22T21:20:26.410045Z",
          "iopub.status.busy": "2021-10-22T21:20:26.403570Z",
          "iopub.status.idle": "2021-10-22T21:20:26.816296Z",
          "shell.execute_reply": "2021-10-22T21:20:26.817114Z"
        }
      }
    },
    {
      "cell_type": "code",
      "source": [
        "ax = df_precision.plot.bar(rot=60, figsize=(fig_width, fig_width//4), fontsize=18)\n",
        "ax.set_ylim(0, 1)\n",
        "ax.hlines(xmin=-.5, xmax=len(subset_labels)-.5, y=1/n_output, ls='--', ec='k', label='chance level')\n",
        "plt.legend(bbox_to_anchor=(1.1, .5), loc='lower right')\n",
        "ax.set_title('Precision for each models - experiment 1', size=20)\n",
        "ax.set_ylabel('Accuracy', size=14)\n",
        "ax.set_xlabel('Models', size=14);"
      ],
      "outputs": [],
      "execution_count": null,
      "metadata": {
        "execution": {
          "iopub.execute_input": "2021-10-22T21:20:26.861734Z",
          "iopub.status.busy": "2021-10-22T21:20:26.843799Z",
          "iopub.status.idle": "2021-10-22T21:20:27.081846Z",
          "shell.execute_reply": "2021-10-22T21:20:27.082170Z"
        }
      }
    },
    {
      "cell_type": "markdown",
      "source": [
        "TODO : use the f1-score everywhere\n",
        "https://scikit-learn.org/stable/modules/generated/sklearn.metrics.f1_score.html"
      ],
      "metadata": {}
    },
    {
      "cell_type": "code",
      "source": [
        "df_f1_score = pd.DataFrame({model_name: {subset_label: f1_score(df[(df['model']==model_name) & (df['label']==subset_label)][\"top_1\"], \n",
        "                                                                df[(df['model']==model_name) & (df['label']==subset_label)][\"label\"],\n",
        "                                                                average='micro')\n",
        "                                    for subset_label in subset_labels} \n",
        "                       for model_name in models_vgg.keys()})\n",
        "\n",
        "ax = df_f1_score.plot.bar(rot=60, figsize=(fig_width, fig_width//4), fontsize=18)\n",
        "ax.set_ylim(0, 1)\n",
        "ax.hlines(xmin=-.5, xmax=len(subset_labels)-.5, y=1/n_output, ls='--', ec='k', label='chance level')\n",
        "plt.legend(bbox_to_anchor=(1.1, .5), loc='lower right')\n",
        "ax.set_title('F1-score for each models - experiment 1', size=20)\n",
        "ax.set_ylabel('Accuracy', size=14);"
      ],
      "outputs": [],
      "execution_count": null,
      "metadata": {
        "execution": {
          "iopub.execute_input": "2021-10-22T21:20:27.104727Z",
          "iopub.status.busy": "2021-10-22T21:20:27.098861Z",
          "iopub.status.idle": "2021-10-22T21:20:27.745668Z",
          "shell.execute_reply": "2021-10-22T21:20:27.746485Z"
        }
      }
    },
    {
      "cell_type": "code",
      "source": [
        "df_acc = pd.DataFrame({model_name: {subset_label: accuracy_score(df[(df['model']==model_name) & (df['label']==subset_label)][\"top_1\"], \n",
        "                                                                 df[(df['model']==model_name) & (df['label']==subset_label)][\"label\"])\n",
        "                                    for subset_label in subset_labels} \n",
        "                       for model_name in models_vgg.keys()})\n",
        "\n",
        "ax = df_acc.plot.bar(rot=60, figsize=(fig_width, fig_width//4), fontsize=18)\n",
        "ax.set_ylim(0, 1)\n",
        "ax.hlines(xmin=-.5, xmax=len(subset_labels)-.5, y=1/n_output, ls='--', ec='k', label='chance level')\n",
        "plt.legend(bbox_to_anchor=(1.1, .5), loc='lower right')\n",
        "ax.set_title('Accuracy top_1 : for each models - experiment 1', size=20)\n",
        "ax.set_ylabel('Accuracy', size=14)\n",
        "ax.set_xlabel('Models', size=14);"
      ],
      "outputs": [],
      "execution_count": null,
      "metadata": {
        "execution": {
          "iopub.execute_input": "2021-10-22T21:20:27.759089Z",
          "iopub.status.busy": "2021-10-22T21:20:27.755314Z",
          "iopub.status.idle": "2021-10-22T21:20:28.311856Z",
          "shell.execute_reply": "2021-10-22T21:20:28.310970Z"
        }
      }
    },
    {
      "cell_type": "code",
      "source": [
        "df_acc = pd.DataFrame({'accuracy': [accuracy_score(df[df['model']==model_name][\"top_1\"], df[df['model']==model_name][\"label\"]) for model_name in models_vgg.keys()]}, index=models_vgg.keys())\n",
        "ax = df_acc.plot.bar(rot=0, figsize=(fig_width, fig_width//4), fontsize=18)\n",
        "ax.set_ylim(0, 1)\n",
        "ax.hlines(xmin=-.5, xmax=len(models_vgg.keys())-.5, y=1/n_output, ls='--', ec='k', label='chance level')\n",
        "# https://matplotlib.org/stable/gallery/lines_bars_and_markers/bar_label_demo.html\n",
        "ax.bar_label(ax.containers[0], padding=-24, color='black', fontsize=14, fmt='%.3f')\n",
        "plt.legend(bbox_to_anchor=(1.1, .5), loc='lower right')\n",
        "ax.set_title('Average accuracy top_1 : for each models - experiment 1', size=20)\n",
        "ax.set_ylabel('Accuracy', size=14)\n",
        "ax.set_xlabel('Models', size=14);"
      ],
      "outputs": [],
      "execution_count": null,
      "metadata": {
        "execution": {
          "iopub.execute_input": "2021-10-22T21:20:28.322267Z",
          "iopub.status.busy": "2021-10-22T21:20:28.319855Z",
          "iopub.status.idle": "2021-10-22T21:20:28.512867Z",
          "shell.execute_reply": "2021-10-22T21:20:28.513655Z"
        }
      }
    },
    {
      "cell_type": "markdown",
      "source": [
        "## Computation time\n",
        "\n",
        "A display of the differents computation time of each models on the same dataset for the sequence of trials :"
      ],
      "metadata": {}
    },
    {
      "cell_type": "code",
      "source": [
        "fig, axs = plt.subplots(len(models_vgg.keys()), 1, figsize=(fig_width, fig_width*phi//2), sharex=True, sharey=True)\n",
        "# plt.xticks(fontsize=18)\n",
        "# plt.yticks(fontsize=18)\n",
        "for ax, color, model_name in zip(axs, colors, models_vgg.keys()):\n",
        "    ax.set_ylabel('Frequency', fontsize=14)\n",
        "    df[df['model']==model_name]['time'].plot.hist(bins=150, lw=1, label=model_name,ax=ax, color=color, density=True)\n",
        "    ax.legend(loc='upper left', fontsize=20)\n",
        "    ax.set_xlim(df['time'].quantile(.01), df['time'].quantile(.99))\n",
        "axs[-1].set_xlabel('Processing time (s)', size=18)\n",
        "axs[0].set_title('Processed on : ' + args.HOST + '_' + str(df['device_type'][0]), size = 20);"
      ],
      "outputs": [],
      "execution_count": null,
      "metadata": {
        "execution": {
          "iopub.execute_input": "2021-10-22T21:20:28.582724Z",
          "iopub.status.busy": "2021-10-22T21:20:28.530214Z",
          "iopub.status.idle": "2021-10-22T21:20:30.078297Z",
          "shell.execute_reply": "2021-10-22T21:20:30.079115Z"
        }
      }
    },
    {
      "cell_type": "markdown",
      "source": [
        "## Classification likelihood\n",
        "\n",
        "This graph shows the frequency of the logit of the classification likelihood for our four models and the pyTorch VGG16 model. The classification likelihood represent a predicted likelihood probability of detection for a given label at the output of the network. As most of them are close either to 100 as to 0, we applied a logit function to make the difference between these networks more obvious."
      ],
      "metadata": {}
    },
    {
      "cell_type": "markdown",
      "source": [
        "TODO voir si on peut donner la valeur du logit en hartley base 10 https://en.wikipedia.org/wiki/Hartley_(unit) tracer le chance level"
      ],
      "metadata": {}
    },
    {
      "cell_type": "code",
      "source": [
        "fig, axs = plt.subplots(len(models_vgg.keys()), 1, figsize=(fig_width, fig_width*phi//2), sharex=True, sharey=True)\n",
        "# plt.xticks(fontsize=18)\n",
        "# plt.yticks(fontsize=18)\n",
        "for ax, color, model_name in zip(axs, colors, models_vgg.keys()):\n",
        "    ax.set_ylabel('Frequency', fontsize=14)\n",
        "    (logit(df[df['model']==model_name]['perf']/100)/np.log2(10)).plot.hist(bins=np.linspace(0, 5, 150), lw=1, label=model_name, ax=ax, color=color, density=True)\n",
        "    #df[df['model']==model_name]['perf'].plot.hist(bins=np.linspace(99.95, 100, 150), lw=1, label=model_name, ax=ax, color=color, density=True)\n",
        "    ax.legend(loc='upper left', fontsize=20)\n",
        "    ax.set_ylim(0, 5)\n",
        "    # ax.tick_params(axis='x', labelsize=14)\n",
        "    # ax.tick_params(axis='y', labelsize=14)\n",
        "axs[-1].set_xlabel('Classification likelihood (ban)', size=18)\n",
        "axs[0].set_title('Processed on : ' + args.HOST + '_' + str(df['device_type'][0]), size = 20);"
      ],
      "outputs": [],
      "execution_count": null,
      "metadata": {
        "execution": {
          "iopub.execute_input": "2021-10-22T21:20:30.168888Z",
          "iopub.status.busy": "2021-10-22T21:20:30.121128Z",
          "iopub.status.idle": "2021-10-22T21:20:31.647687Z",
          "shell.execute_reply": "2021-10-22T21:20:31.648490Z"
        }
      }
    },
    {
      "cell_type": "markdown",
      "source": [
        "## Image display\n",
        "\n",
        "Here we display the 64 *worsts* Classification likelihood's, all model combined : "
      ],
      "metadata": {}
    },
    {
      "cell_type": "code",
      "source": [
        "N_image_i = 8\n",
        "N_image_j = 8\n",
        "fig, axs = plt.subplots(N_image_i, N_image_j, figsize=(fig_width, fig_width))\n",
        "for i, idx in enumerate(df[\"perf\"].argsort()[:(N_image_i*N_image_j)]):\n",
        "    ax = axs[i%N_image_i][i//N_image_i]\n",
        "    ax.imshow(imageio.imread(image_datasets['test'].imgs[df.loc[idx]['i_image']][0]))\n",
        "    ax.set_xticks([])\n",
        "    ax.set_yticks([])\n",
        "    ax.set_xlabel(df.loc[idx]['label'] + ' | ' + df.loc[idx]['model'], color='g')\n",
        "    perf_ = df.loc[idx]['perf']\n",
        "    ax.set_ylabel(f'P={perf_:2.3f}%', color='g')"
      ],
      "outputs": [],
      "execution_count": null,
      "metadata": {
        "execution": {
          "iopub.execute_input": "2021-10-22T21:20:31.691652Z",
          "iopub.status.busy": "2021-10-22T21:20:31.677967Z",
          "iopub.status.idle": "2021-10-22T21:20:35.652628Z",
          "shell.execute_reply": "2021-10-22T21:20:35.653100Z"
        }
      }
    },
    {
      "cell_type": "markdown",
      "source": [
        "## summary\n",
        "\n",
        "To make it even clearer we extracted a specific mean for each models : "
      ],
      "metadata": {}
    },
    {
      "cell_type": "markdown",
      "source": [
        "Mean accuracy"
      ],
      "metadata": {}
    },
    {
      "cell_type": "code",
      "source": [
        "for model_name in models_vgg.keys():\n",
        "    mean_acc = (df[df['model']==model_name][\"top_1\"] == df[df['model']==model_name][\"label\"]).mean()\n",
        "    print(f'For the {model_name} model, the mean accuracy = {mean_acc*100:.4f} %' )"
      ],
      "outputs": [],
      "execution_count": null,
      "metadata": {
        "execution": {
          "iopub.execute_input": "2021-10-22T21:20:35.660525Z",
          "iopub.status.busy": "2021-10-22T21:20:35.660054Z",
          "iopub.status.idle": "2021-10-22T21:20:35.694466Z",
          "shell.execute_reply": "2021-10-22T21:20:35.695205Z"
        }
      }
    },
    {
      "cell_type": "markdown",
      "source": [
        "Classification likelihood's mean"
      ],
      "metadata": {}
    },
    {
      "cell_type": "code",
      "source": [
        "for model_name in models_vgg.keys():\n",
        "    med_perf = np.mean(df[df['model']==model_name][\"perf\"])\n",
        "    print(f'For the {model_name} model, the mean clasification likelihood = {med_perf:.4f} %' )"
      ],
      "outputs": [],
      "execution_count": null,
      "metadata": {
        "execution": {
          "iopub.execute_input": "2021-10-22T21:20:35.702244Z",
          "iopub.status.busy": "2021-10-22T21:20:35.701242Z",
          "iopub.status.idle": "2021-10-22T21:20:35.717079Z",
          "shell.execute_reply": "2021-10-22T21:20:35.717880Z"
        }
      }
    },
    {
      "cell_type": "markdown",
      "source": [
        "Computation time 's mean"
      ],
      "metadata": {}
    },
    {
      "cell_type": "code",
      "source": [
        "for model_name in models_vgg.keys():\n",
        "    med_perf = np.mean(df[df['model']==model_name][\"time\"])\n",
        "    print(f'For the {model_name} model, the mean computation time = {med_perf:.5f} s')"
      ],
      "outputs": [],
      "execution_count": null,
      "metadata": {
        "execution": {
          "iopub.execute_input": "2021-10-22T21:20:35.724347Z",
          "iopub.status.busy": "2021-10-22T21:20:35.723361Z",
          "iopub.status.idle": "2021-10-22T21:20:35.739129Z",
          "shell.execute_reply": "2021-10-22T21:20:35.739930Z"
        }
      }
    },
    {
      "cell_type": "markdown",
      "source": [
        "Frame per second's mean"
      ],
      "metadata": {}
    },
    {
      "cell_type": "code",
      "source": [
        "for model_name in models_vgg.keys():\n",
        "    med_perf = np.mean(df[df['model']==model_name][\"fps\"])\n",
        "    print(f'For the {model_name} model, the mean fps = {med_perf:.3f} Hz' )"
      ],
      "outputs": [],
      "execution_count": null,
      "metadata": {
        "execution": {
          "iopub.execute_input": "2021-10-22T21:20:35.746534Z",
          "iopub.status.busy": "2021-10-22T21:20:35.745519Z",
          "iopub.status.idle": "2021-10-22T21:20:35.761475Z",
          "shell.execute_reply": "2021-10-22T21:20:35.762265Z"
        }
      }
    },
    {
      "cell_type": "markdown",
      "source": [
        "# Experiment 2: Image processing and recognition for differents resolutions :\n",
        "\n",
        "Let's now study that same likelihood indicators at different image resolutions."
      ],
      "metadata": {}
    },
    {
      "cell_type": "code",
      "source": [
        "scriptname = 'experiment_downsample.py'"
      ],
      "outputs": [],
      "execution_count": null,
      "metadata": {
        "execution": {
          "iopub.execute_input": "2021-10-22T21:20:35.766944Z",
          "iopub.status.busy": "2021-10-22T21:20:35.765948Z",
          "iopub.status.idle": "2021-10-22T21:20:35.769910Z",
          "shell.execute_reply": "2021-10-22T21:20:35.769058Z"
        }
      }
    },
    {
      "cell_type": "code",
      "source": [
        "%%writefile {scriptname}\n",
        "#import model's script and set the output file\n",
        "from DCNN_transfer_learning.model import *\n",
        "filename = f'results/{datetag}_results_2_{args.HOST}.json'\n",
        "\n",
        "def main():\n",
        "    if os.path.isfile(filename):\n",
        "        df_downsample = pd.read_json(filename)\n",
        "    else:\n",
        "        i_trial = 0\n",
        "        df_downsample = pd.DataFrame([], columns=['model', 'perf', 'fps', 'time', 'label', 'i_label', 'i_image', 'image_size', 'filename', 'device_type', 'top_1']) \n",
        "        # image preprocessing\n",
        "        for image_size_ in args.image_sizes:\n",
        "            (dataset_sizes, dataloaders, image_datasets, data_transforms) = datasets_transforms(image_size=image_size_, batch_size=1)\n",
        "            print(f'Résolution de {image_size_=}')\n",
        "            # Displays the input image of the model \n",
        "            for i_image, (data, label) in enumerate(dataloaders['test']):                \n",
        "                data, label = data.to(device), label.to(device)\n",
        "\n",
        "                for model_name in models_vgg.keys():\n",
        "                    model = models_vgg[model_name]\n",
        "                    model = model.to(device)\n",
        "\n",
        "                    with torch.no_grad():\n",
        "                        i_label_top = reverse_labels[image_datasets['test'].classes[label]]\n",
        "                        tic = time.time()\n",
        "                        out = model(data).squeeze(0)\n",
        "                        _, indices = torch.sort(out, descending=True)\n",
        "                        if model_name == 'vgg' : # our previous work\n",
        "                            top_1 = labels[indices[0]]\n",
        "                            percentage = torch.nn.functional.softmax(out[args.subset_i_labels], dim=0) * 100\n",
        "                            perf_ = percentage[reverse_subset_i_labels[i_label_top]].item()\n",
        "                        else :\n",
        "                            top_1 = subset_labels[indices[0]] \n",
        "                            percentage = torch.nn.functional.softmax(out, dim=0) * 100\n",
        "                            perf_ = percentage[label].item()\n",
        "                        dt = time.time() - tic\n",
        "                    print(f'The {model_name} model get {labels[i_label_top]} at {perf_:.2f} % confidence in {dt:.3f} seconds, best confidence for : {top_1}')\n",
        "                    df_downsample.loc[i_trial] = {'model':model_name, 'perf':perf_, 'time':dt, 'fps': 1/dt,\n",
        "                                       'label':labels[i_label_top], 'i_label':i_label_top, \n",
        "                                       'i_image':i_image, 'filename':image_datasets['test'].imgs[i_image][0], 'image_size': image_size_, 'device_type':device.type, 'top_1':str(top_1)}\n",
        "                    i_trial += 1\n",
        "\n",
        "            df_downsample.to_json(filename)\n",
        "\n",
        "main()            "
      ],
      "outputs": [],
      "execution_count": null,
      "metadata": {
        "execution": {
          "iopub.execute_input": "2021-10-22T21:20:35.777333Z",
          "iopub.status.busy": "2021-10-22T21:20:35.776300Z",
          "iopub.status.idle": "2021-10-22T21:20:35.782693Z",
          "shell.execute_reply": "2021-10-22T21:20:35.783505Z"
        }
      }
    },
    {
      "cell_type": "code",
      "source": [
        "%run -int {scriptname}"
      ],
      "outputs": [],
      "execution_count": null,
      "metadata": {
        "execution": {
          "iopub.execute_input": "2021-10-22T21:20:35.788517Z",
          "iopub.status.busy": "2021-10-22T21:20:35.787634Z",
          "iopub.status.idle": "2021-10-22T21:20:36.356909Z",
          "shell.execute_reply": "2021-10-22T21:20:36.357233Z"
        },
        "tags": []
      }
    },
    {
      "cell_type": "markdown",
      "source": [
        "Here, again, we collect our results, and display all the data in a table "
      ],
      "metadata": {}
    },
    {
      "cell_type": "code",
      "source": [
        "filename = f'results/{datetag}_results_2_{args.HOST}.json'\n",
        "#filename = 'results/2021-04-20_results_2_INV-133-DE01.json'\n",
        "df_downsample = pd.read_json(filename)\n",
        "df_downsample"
      ],
      "outputs": [],
      "execution_count": null,
      "metadata": {
        "execution": {
          "iopub.execute_input": "2021-10-22T21:20:36.363069Z",
          "iopub.status.busy": "2021-10-22T21:20:36.361813Z",
          "iopub.status.idle": "2021-10-22T21:20:36.932897Z",
          "shell.execute_reply": "2021-10-22T21:20:36.933714Z"
        }
      }
    },
    {
      "cell_type": "markdown",
      "source": [
        "## Accuracy\n",
        "\n",
        "And extract the accuracy, the precision ans the recall for each networks :"
      ],
      "metadata": {}
    },
    {
      "cell_type": "code",
      "source": [
        "for image_size in args.image_sizes:\n",
        "    pprint(f'Benchmarking image size = {image_size}')\n",
        "    df_acc = pd.DataFrame({model_name: {subset_label: accuracy_score(df_downsample[(df_downsample['model']==model_name) & (df_downsample['image_size']==image_size)][\"top_1\"], \n",
        "                                                                     df_downsample[(df_downsample['model']==model_name) & (df_downsample['image_size']==image_size)][\"label\"])\n",
        "                                        for subset_label in subset_labels} \n",
        "                           for model_name in models_vgg.keys()})\n",
        "\n",
        "    ax = df_acc.plot.bar(rot=60, figsize=(fig_width, fig_width//4), fontsize=18)\n",
        "    ax.set_ylim(0, 1)\n",
        "    ax.hlines(xmin=-.5, xmax=len(subset_labels)-.5, y=1/n_output, ls='--', ec='k', label='chance level')\n",
        "    plt.legend(bbox_to_anchor=(1.1, .5), loc='lower right')\n",
        "    ax.set_title(f'Experiment 2 - image size = {image_size}', size=20)\n",
        "    ax.set_ylabel('Accuracy top_1', size=14)\n",
        "    plt.show();\n"
      ],
      "outputs": [],
      "execution_count": null,
      "metadata": {
        "execution": {
          "iopub.execute_input": "2021-10-22T21:20:36.956311Z",
          "iopub.status.busy": "2021-10-22T21:20:36.955311Z",
          "iopub.status.idle": "2021-10-22T21:20:41.011591Z",
          "shell.execute_reply": "2021-10-22T21:20:41.012150Z"
        }
      }
    },
    {
      "cell_type": "code",
      "source": [
        "df_acc = pd.DataFrame({model_name: {image_size: accuracy_score(df_downsample[(df_downsample['model']==model_name) & (df_downsample['image_size']==image_size)][\"top_1\"], \n",
        "                                                               df_downsample[(df_downsample['model']==model_name) & (df_downsample['image_size']==image_size)][\"label\"])\n",
        "                                    for image_size in args.image_sizes} \n",
        "                       for model_name in models_vgg.keys()})\n",
        "\n",
        "ax = df_acc.plot.bar(rot=0, figsize=(fig_width, fig_width//4), fontsize=18)\n",
        "ax.set_ylim(0, 1)\n",
        "ax.hlines(xmin=-.5, xmax=len(models_vgg.keys())-.5, y=1/n_output, ls='--', ec='k', label='chance level')\n",
        "# https://matplotlib.org/stable/gallery/lines_bars_and_markers/bar_label_demo.html\n",
        "for container in ax.containers: ax.bar_label(container, padding=-50, color='black', fontsize=14, fmt='%.3f', rotation=90)\n",
        "plt.legend(bbox_to_anchor=(1.1, .5), loc='lower right')\n",
        "ax.set_title(f'Experiment 2 - image sizes = {args.image_sizes}', size=20)\n",
        "ax.set_ylabel('Accuracy', size=14)\n",
        "plt.show();"
      ],
      "outputs": [],
      "execution_count": null,
      "metadata": {
        "execution": {
          "iopub.execute_input": "2021-10-22T21:20:41.023588Z",
          "iopub.status.busy": "2021-10-22T21:20:41.022657Z",
          "iopub.status.idle": "2021-10-22T21:20:41.567818Z",
          "shell.execute_reply": "2021-10-22T21:20:41.568617Z"
        }
      }
    },
    {
      "cell_type": "code",
      "source": [
        "ax = df_acc.T.plot.bar(rot=0, figsize=(fig_width, fig_width//4), fontsize=18)\n",
        "ax.set_ylim(0, 1)\n",
        "ax.hlines(xmin=-.5, xmax=len(models_vgg.keys())-.5, y=1/n_output, ls='--', ec='k', label='chance level')\n",
        "# https://matplotlib.org/stable/gallery/lines_bars_and_markers/bar_label_demo.html\n",
        "for container in ax.containers: ax.bar_label(container, padding=-50, color='black', fontsize=14, fmt='%.3f', rotation=90)\n",
        "plt.legend(bbox_to_anchor=(1.1, .5), loc='lower right')\n",
        "ax.set_title(f'Experiment 2 - image sizes = {args.image_sizes}', size=20)\n",
        "ax.set_ylabel('Accuracy', size=14)\n",
        "plt.show();"
      ],
      "outputs": [],
      "execution_count": null,
      "metadata": {
        "execution": {
          "iopub.execute_input": "2021-10-22T21:20:41.616872Z",
          "iopub.status.busy": "2021-10-22T21:20:41.583637Z",
          "iopub.status.idle": "2021-10-22T21:20:41.810059Z",
          "shell.execute_reply": "2021-10-22T21:20:41.810886Z"
        }
      }
    },
    {
      "cell_type": "markdown",
      "source": [
        "## Computation time\n",
        "\n",
        "A display of the differents computation time of each models on the same dataset for differents resolutions :"
      ],
      "metadata": {}
    },
    {
      "cell_type": "code",
      "source": [
        "fig, axs = plt.subplots(figsize=(fig_width, fig_width/phi))\n",
        "# plt.xticks(fontsize=18)\n",
        "# plt.yticks(fontsize=18)\n",
        "for color, model_name in zip(colors, models_vgg.keys()):\n",
        "    axs = sns.violinplot(x=\"image_size\", y=\"time\", data=df_downsample, inner=\"quartile\", hue='model')\n",
        "    axs.set_title('Processed on : ' + args.HOST + '_' + str(df_downsample['device_type'][0]), size = 20)\n",
        "    axs.set_ylabel('Computation time (s)', size=18)\n",
        "    axs.set_xlabel('Trial', size=18)\n",
        "    axs.set_yscale('log')\n",
        "h, l = axs.get_legend_handles_labels()\n",
        "axs.legend(h[:5], l[:5], loc='upper center', fontsize=16);"
      ],
      "outputs": [],
      "execution_count": null,
      "metadata": {
        "execution": {
          "iopub.execute_input": "2021-10-22T21:20:41.831240Z",
          "iopub.status.busy": "2021-10-22T21:20:41.829460Z",
          "iopub.status.idle": "2021-10-22T21:20:44.186011Z",
          "shell.execute_reply": "2021-10-22T21:20:44.186847Z"
        }
      }
    },
    {
      "cell_type": "markdown",
      "source": [
        "## Classification likelihood\n",
        "\n",
        "Let's display the likelihood of each models on the same dataset for differents resolutions. Here accuracies are displayed as a violin plot to allow a better representation of the models."
      ],
      "metadata": {}
    },
    {
      "cell_type": "code",
      "source": [
        "fig, axs = plt.subplots(figsize=(fig_width, fig_width/phi))\n",
        "# plt.xticks(fontsize=18)\n",
        "# plt.yticks(fontsize=18)\n",
        "axs = sns.violinplot(x=\"image_size\", y=\"perf\", data=df_downsample, inner=\"quartile\", hue='model', cut = 0, scale = 'width')\n",
        "axs.set_title('Processed on : ' + args.HOST + '_' + str(df_downsample['device_type'][0]), size=20)\n",
        "axs.set_ylabel('Classification likelihood (%)', size=18)\n",
        "axs.set_xlabel('Image size', size=18)\n",
        "h, l = axs.get_legend_handles_labels()\n",
        "axs.legend(h[:5], l[:5], loc ='center', fontsize=16);"
      ],
      "outputs": [],
      "execution_count": null,
      "metadata": {
        "execution": {
          "iopub.execute_input": "2021-10-22T21:20:44.219176Z",
          "iopub.status.busy": "2021-10-22T21:20:44.203290Z",
          "iopub.status.idle": "2021-10-22T21:20:44.683677Z",
          "shell.execute_reply": "2021-10-22T21:20:44.684264Z"
        }
      }
    },
    {
      "cell_type": "markdown",
      "source": [
        "## Image display\n",
        "\n",
        "The 64 worsts classification likelihood, all models and sizes combined : "
      ],
      "metadata": {}
    },
    {
      "cell_type": "code",
      "source": [
        "N_image_i = 8\n",
        "N_image_j = 8\n",
        "fig, axs = plt.subplots(N_image_i, N_image_j, figsize=(fig_width, fig_width))\n",
        "for i, idx in enumerate(df_downsample[\"perf\"].argsort()[:(N_image_i*N_image_j)]):\n",
        "    ax = axs[i%N_image_i][i//N_image_i]\n",
        "    ax.imshow(imageio.imread(image_datasets['test'].imgs[df_downsample.loc[idx]['i_image']][0]))\n",
        "    ax.set_xticks([])\n",
        "    ax.set_yticks([])\n",
        "    ax.set_xlabel(df_downsample.loc[idx]['label'] + ' | ' + df_downsample.loc[idx]['model']+ ' | ' + str(df_downsample.loc[idx]['image_size']), color='g')\n",
        "    perf_ = df_downsample.loc[idx]['perf']\n",
        "    ax.set_ylabel(f'P={perf_:2.3f}%', color='g')"
      ],
      "outputs": [],
      "execution_count": null,
      "metadata": {
        "execution": {
          "iopub.execute_input": "2021-10-22T21:20:44.769281Z",
          "iopub.status.busy": "2021-10-22T21:20:44.730193Z",
          "iopub.status.idle": "2021-10-22T21:20:48.827532Z",
          "shell.execute_reply": "2021-10-22T21:20:48.828081Z"
        }
      }
    },
    {
      "cell_type": "markdown",
      "source": [
        "## summary\n",
        "\n",
        "Again, we extracted a specific mean for each models : "
      ],
      "metadata": {}
    },
    {
      "cell_type": "markdown",
      "source": [
        "Mean accuracy"
      ],
      "metadata": {}
    },
    {
      "cell_type": "code",
      "source": [
        "for model_name in models_vgg.keys():\n",
        "    pprint(f'Benchmarking model {model_name}')\n",
        "    for image_size in args.image_sizes:\n",
        "        df_ = df_downsample[(df_downsample['model']==model_name) & (df_downsample['image_size']==image_size)]\n",
        "        mean_acc = (df_[\"top_1\"] == df_[\"label\"]).mean()\n",
        "        print(f'For size {image_size}, the mean accuracy = {mean_acc*100:.4f} %' )"
      ],
      "outputs": [],
      "execution_count": null,
      "metadata": {
        "execution": {
          "iopub.execute_input": "2021-10-22T21:20:48.844468Z",
          "iopub.status.busy": "2021-10-22T21:20:48.843464Z",
          "iopub.status.idle": "2021-10-22T21:20:48.987402Z",
          "shell.execute_reply": "2021-10-22T21:20:48.988191Z"
        }
      }
    },
    {
      "cell_type": "markdown",
      "source": [
        "Classification likelihood's mean"
      ],
      "metadata": {}
    },
    {
      "cell_type": "code",
      "source": [
        "for model_name in models_vgg.keys():\n",
        "    pprint(f'Benchmarking model {model_name}')\n",
        "    for image_size in args.image_sizes:\n",
        "        med_perf = np.mean(df_downsample[(df_downsample['model']==model_name) & (df_downsample['image_size']==image_size)][\"perf\"])\n",
        "        print(f'For size {image_size}, the mean clasification likelihood = {med_perf:.5f} %' )"
      ],
      "outputs": [],
      "execution_count": null,
      "metadata": {
        "execution": {
          "iopub.execute_input": "2021-10-22T21:20:48.999643Z",
          "iopub.status.busy": "2021-10-22T21:20:48.998659Z",
          "iopub.status.idle": "2021-10-22T21:20:49.127389Z",
          "shell.execute_reply": "2021-10-22T21:20:49.128185Z"
        }
      }
    },
    {
      "cell_type": "markdown",
      "source": [
        "Computation time 's mean"
      ],
      "metadata": {}
    },
    {
      "cell_type": "code",
      "source": [
        "for model_name in models_vgg.keys():\n",
        "    pprint(f'Benchmarking model {model_name}')\n",
        "    for image_size in args.image_sizes:\n",
        "        med_perf = np.mean(df_downsample[(df_downsample['model']==model_name) & (df_downsample['image_size']==image_size)][\"time\"])\n",
        "        print(f'For size {image_size}, the mean computation time = {med_perf:.3f} s' )"
      ],
      "outputs": [],
      "execution_count": null,
      "metadata": {
        "execution": {
          "iopub.execute_input": "2021-10-22T21:20:49.146940Z",
          "iopub.status.busy": "2021-10-22T21:20:49.145915Z",
          "iopub.status.idle": "2021-10-22T21:20:49.305973Z",
          "shell.execute_reply": "2021-10-22T21:20:49.306800Z"
        }
      }
    },
    {
      "cell_type": "markdown",
      "source": [
        "Frame per second's mean"
      ],
      "metadata": {}
    },
    {
      "cell_type": "code",
      "source": [
        "for model_name in models_vgg.keys():\n",
        "    pprint(f'Benchmarking model {model_name}')\n",
        "    for image_size in args.image_sizes:\n",
        "        med_perf = np.mean(df_downsample[(df_downsample['model']==model_name) & (df_downsample['image_size']==image_size)][\"fps\"])\n",
        "        print(f'For size {image_size}, the mean fps = {med_perf:.3f} Hz' )"
      ],
      "outputs": [],
      "execution_count": null,
      "metadata": {
        "execution": {
          "iopub.execute_input": "2021-10-22T21:20:49.325827Z",
          "iopub.status.busy": "2021-10-22T21:20:49.324778Z",
          "iopub.status.idle": "2021-10-22T21:20:49.458707Z",
          "shell.execute_reply": "2021-10-22T21:20:49.459031Z"
        }
      }
    },
    {
      "cell_type": "markdown",
      "source": [
        "# Experiment 3: Image processing and recognition on grayscale images :\n",
        "\n",
        "Again, same likelihood indicators but now with a grayscale transformation."
      ],
      "metadata": {}
    },
    {
      "cell_type": "code",
      "source": [
        "scriptname = 'experiment_grayscale.py'"
      ],
      "outputs": [],
      "execution_count": null,
      "metadata": {
        "execution": {
          "iopub.execute_input": "2021-10-22T21:20:49.463480Z",
          "iopub.status.busy": "2021-10-22T21:20:49.463070Z",
          "iopub.status.idle": "2021-10-22T21:20:49.466745Z",
          "shell.execute_reply": "2021-10-22T21:20:49.467049Z"
        }
      }
    },
    {
      "cell_type": "code",
      "source": [
        "%%writefile {scriptname}\n",
        "\n",
        "#import model's script and set the output file\n",
        "from DCNN_transfer_learning.model import *\n",
        "filename = f'results/{datetag}_results_3_{args.HOST}.json'\n",
        "\n",
        "def main():\n",
        "    if os.path.isfile(filename):\n",
        "        df_gray = pd.read_json(filename)\n",
        "    else:\n",
        "        i_trial = 0\n",
        "        df_gray = pd.DataFrame([], columns=['model', 'perf', 'fps', 'time', 'label', 'i_label', 'i_image', 'filename', 'device_type', 'top_1']) \n",
        "        # image preprocessing setting a grayscale output\n",
        "        (dataset_sizes, dataloaders, image_datasets, data_transforms) = datasets_transforms(image_size=args.image_size, p=1, batch_size=1)\n",
        "\n",
        "        # Displays the input image of the model \n",
        "        for i_image, (data, label) in enumerate(dataloaders['test']):\n",
        "            data, label = data.to(device), label.to(device)\n",
        "\n",
        "            for model_name in models_vgg.keys():\n",
        "                model = models_vgg[model_name]\n",
        "                model = model.to(device)\n",
        "\n",
        "                with torch.no_grad():\n",
        "                    i_label_top = reverse_labels[image_datasets['test'].classes[label]]\n",
        "                    tic = time.time()\n",
        "                    out = model(data).squeeze(0)\n",
        "                    if model_name == 'vgg' :\n",
        "                        percentage = torch.nn.functional.softmax(out[args.subset_i_labels], dim=0) * 100\n",
        "                        _, indices = torch.sort(out, descending=True)\n",
        "                        top_1 = labels[indices[0]]\n",
        "                        perf_ = percentage[reverse_subset_i_labels[i_label_top]].item()\n",
        "                    else :\n",
        "                        percentage = torch.nn.functional.softmax(out, dim=0) * 100\n",
        "                        _, indices = torch.sort(out, descending=True)\n",
        "                        top_1 = subset_labels[indices[0]] \n",
        "                        perf_ = percentage[label].item()\n",
        "                dt = time.time() - tic\n",
        "                df_gray.loc[i_trial] = {'model':model_name, 'perf':perf_, 'time':dt, 'fps': 1/dt,\n",
        "                                   'label':labels[i_label_top], 'i_label':i_label_top, \n",
        "                                   'i_image':i_image, 'filename':image_datasets['test'].imgs[i_image][0], 'device_type':device.type, 'top_1':str(top_1)}\n",
        "                print(f'The {model_name} model get {labels[i_label_top]} at {perf_:.2f} % confidence in {dt:.3f} seconds, best confidence for : {top_1}')\n",
        "                i_trial += 1\n",
        "        df_gray.to_json(filename)\n",
        "\n",
        "main()    "
      ],
      "outputs": [],
      "execution_count": null,
      "metadata": {
        "execution": {
          "iopub.execute_input": "2021-10-22T21:20:49.473074Z",
          "iopub.status.busy": "2021-10-22T21:20:49.470012Z",
          "iopub.status.idle": "2021-10-22T21:20:49.479362Z",
          "shell.execute_reply": "2021-10-22T21:20:49.478846Z"
        }
      }
    },
    {
      "cell_type": "code",
      "source": [
        "%run -int {scriptname}"
      ],
      "outputs": [],
      "execution_count": null,
      "metadata": {
        "execution": {
          "iopub.execute_input": "2021-10-22T21:20:49.485831Z",
          "iopub.status.busy": "2021-10-22T21:20:49.484768Z",
          "iopub.status.idle": "2021-10-22T21:20:49.625185Z",
          "shell.execute_reply": "2021-10-22T21:20:49.625516Z"
        }
      }
    },
    {
      "cell_type": "markdown",
      "source": [
        "\n",
        "Collecting all the results, displaying all the data in a table "
      ],
      "metadata": {}
    },
    {
      "cell_type": "code",
      "source": [
        "filename = f'results/{datetag}_results_3_{args.HOST}.json'\n",
        "#filename = 'results/2021-04-20_results_3_INV-133-DE01.json'\n",
        "df_gray = pd.read_json(filename)\n",
        "df_gray"
      ],
      "outputs": [],
      "execution_count": null,
      "metadata": {
        "execution": {
          "iopub.execute_input": "2021-10-22T21:20:49.630500Z",
          "iopub.status.busy": "2021-10-22T21:20:49.630072Z",
          "iopub.status.idle": "2021-10-22T21:20:49.772118Z",
          "shell.execute_reply": "2021-10-22T21:20:49.771212Z"
        }
      }
    },
    {
      "cell_type": "code",
      "source": [
        "np.unique(df_gray['model'])"
      ],
      "outputs": [],
      "execution_count": null,
      "metadata": {
        "execution": {
          "iopub.execute_input": "2021-10-22T21:20:49.800261Z",
          "iopub.status.busy": "2021-10-22T21:20:49.799035Z",
          "iopub.status.idle": "2021-10-22T21:20:49.804892Z",
          "shell.execute_reply": "2021-10-22T21:20:49.805694Z"
        }
      }
    },
    {
      "cell_type": "markdown",
      "source": [
        "## Image display\n",
        "\n",
        "The 64 worsts classification likelihood, all model combined : "
      ],
      "metadata": {}
    },
    {
      "cell_type": "code",
      "source": [
        "N_image_i = 8\n",
        "N_image_j = 8\n",
        "\n",
        "fig, axs = plt.subplots(N_image_i, N_image_j, figsize=(fig_width, fig_width))\n",
        "for i, idx in enumerate(df_gray[\"perf\"].argsort()[:(N_image_i*N_image_j)]):\n",
        "    ax = axs[i%N_image_i][i//N_image_i]\n",
        "    ax.imshow(imageio.imread(image_datasets['test'].imgs[df_gray.loc[idx]['i_image']][0], pilmode=\"L\"), cmap='gray')\n",
        "    ax.set_xticks([])\n",
        "    ax.set_yticks([])\n",
        "    ax.set_xlabel(df_gray.loc[idx]['label'] + ' | ' + df_gray.loc[idx]['model'], color='g')\n",
        "    perf_ = df_gray.loc[idx]['perf']\n",
        "    ax.set_ylabel(f'P={perf_:2.3f}%', color='g')"
      ],
      "outputs": [],
      "execution_count": null,
      "metadata": {
        "execution": {
          "iopub.execute_input": "2021-10-22T21:20:49.900311Z",
          "iopub.status.busy": "2021-10-22T21:20:49.869524Z",
          "iopub.status.idle": "2021-10-22T21:20:53.966471Z",
          "shell.execute_reply": "2021-10-22T21:20:53.967291Z"
        }
      }
    },
    {
      "cell_type": "markdown",
      "source": [
        "### Classification likelihood compared with experiment 1\n",
        "\n",
        "Let's analyze the classification likelihood of each models on the same dataset for color versus grayscale images. Here likelihood's are displayed as a violin plot to allow a better representation of the models."
      ],
      "metadata": {}
    },
    {
      "cell_type": "code",
      "source": [
        "import seaborn as sns\n",
        "\n",
        "fig, axs = plt.subplots(figsize=(fig_width, fig_width/phi**2))\n",
        "# plt.xticks(fontsize=18)\n",
        "# plt.yticks(fontsize=18)\n",
        "for color, df_, label in zip(['gray', 'red'], [df_gray, df], ['black', 'color']):\n",
        "    axs = sns.violinplot(x=\"model\", y=\"perf\", data=df_, inner=\"quartile\", cut=0, color=color, alpha=.5, scale = 'width')\n",
        "axs.set_title('Processed on : ' + args.HOST + '_' + str(df_['device_type'][0]), size=20)\n",
        "axs.set_ylabel('Classification likelihood (%)', size=18)\n",
        "axs.set_xlabel('Model', size=18)\n",
        "axs.legend(['Color', 'Gray'], fontsize=18)\n",
        "    "
      ],
      "outputs": [],
      "execution_count": null,
      "metadata": {
        "execution": {
          "iopub.execute_input": "2021-10-22T21:20:53.998447Z",
          "iopub.status.busy": "2021-10-22T21:20:53.997379Z",
          "iopub.status.idle": "2021-10-22T21:20:54.270373Z",
          "shell.execute_reply": "2021-10-22T21:20:54.271203Z"
        }
      }
    },
    {
      "cell_type": "markdown",
      "source": [
        "Classification likelihood's mean"
      ],
      "metadata": {}
    },
    {
      "cell_type": "code",
      "source": [
        "for model_name in models_vgg.keys():\n",
        "    med_perf_orig = np.mean(df[df['model']==model_name][\"perf\"])\n",
        "    med_perf = np.mean(df_gray[df_gray['model']==model_name][\"perf\"])\n",
        "    print(f'For the {model_name} model, the mean clasification likelihood = {med_perf:.5f} % (color = {med_perf_orig:.5f} % )' )\n",
        "    print(stats.ttest_1samp(df_gray[df_gray['model']==model_name][\"perf\"], np.mean(df[df['model']==model_name][\"perf\"])))"
      ],
      "outputs": [],
      "execution_count": null,
      "metadata": {
        "execution": {
          "iopub.execute_input": "2021-10-22T21:20:54.280231Z",
          "iopub.status.busy": "2021-10-22T21:20:54.279701Z",
          "iopub.status.idle": "2021-10-22T21:20:54.344093Z",
          "shell.execute_reply": "2021-10-22T21:20:54.344889Z"
        }
      }
    },
    {
      "cell_type": "markdown",
      "source": [
        "## Accuracy of the learned models on grayscale images"
      ],
      "metadata": {}
    },
    {
      "cell_type": "raw",
      "source": [
        "results = {} \n",
        "results['acc'] = []\n",
        "results['precision'] = {}\n",
        "results['recall'] = {}\n",
        "\n",
        "for model_name in models_vgg.keys():\n",
        "    #pprint('Model : ' + model_name)\n",
        "    model_pred = df_gray[df_gray['model']==model_name][\"top_1\"].values.tolist()\n",
        "    ground_truth = df_gray[df_gray['model']==model_name][\"label\"].values.tolist()\n",
        "    acc = sklearn.metrics.accuracy_score(ground_truth, model_pred)\n",
        "    results['acc'].append(acc)\n",
        "    \n",
        "    #print(f'Accuracy top_1 : {acc:.3f}')\n",
        "    pres = sklearn.metrics.multilabel_confusion_matrix(ground_truth, model_pred)\n",
        "    results['precision'][model_name] = []\n",
        "    #pprint('Precision :')\n",
        "    for i, label in zip(pres, subset_labels) :\n",
        "        pres_ = np.flip(i)\n",
        "        pres_ = ((pres_[0][0]) / (pres_[0][0] + pres_[-1][0]))\n",
        "        results['precision'][model_name].append(pres_)\n",
        "        #print(f'{pres_:.3f} for the label {label}')\n",
        "    results['recall'][model_name] = []\n",
        "    #pprint('Recall :')\n",
        "    for i, label in zip(pres, subset_labels) :\n",
        "        pres_ = np.flip(i)\n",
        "        pres_ = ((pres_[0][0]) / (pres_[0][0] + pres_[0][-1]))\n",
        "        results['recall'][model_name].append(pres_)\n",
        "        #print(f'{pres_:.3f} for the label {label}')\n",
        "\n",
        "for mode in ['recall', 'precision']:\n",
        "    df_acc = pd.DataFrame({'vgg16_gray': results[mode]['vgg16_gray'],\n",
        "                        'vgg16_lin': results[mode]['vgg16_lin'],\n",
        "                         'vgg16_gen': results[mode]['vgg16_gen'],\n",
        "                          'vgg16_scale': results[mode]['vgg16_scale'],\n",
        "                           'vgg': results[mode]['vgg'],\n",
        "                      }, index=subset_labels)\n",
        "    ax = df_acc.plot.bar(rot=0, figsize=(fig_width, fig_width//4), fontsize = 10)\n",
        "    ax.set_ylim(0, 1)\n",
        "    ax.hlines(xmin=-.5, xmax=len(models_vgg.keys())-.5, y=1/n_output, ls='--', ec='k', label='chance level')\n",
        "    ax.set_title(mode.capitalize()+' for each models - experiment 3', size=20)\n",
        "    ax.set_ylabel(mode.capitalize(), size=14)\n",
        "    ax.set_xlabel('Labels', size=16)\n",
        "    \n",
        "df_acc = pd.DataFrame({'accuracy': results['acc']},\n",
        "                  index = models_vgg.keys())\n",
        "ax = df_acc.plot.bar(rot=0, figsize=(fig_width, fig_width//4), fontsize = 18)\n",
        "ax.set_ylim(0, 1)\n",
        "ax.hlines(xmin=-.5, xmax=len(models_vgg.keys())-.5, y=1/n_output, ls='--', ec='k', label='chance level')\n",
        "# https://matplotlib.org/stable/gallery/lines_bars_and_markers/bar_label_demo.html\n",
        "ax.bar_label(ax.containers[0], padding=-24, color='black', fontsize=14, fmt='%.3f')\n",
        "ax.set_title('Accuracy top_1 : for each models - experiment 3', size=20)\n",
        "ax.set_ylabel('Accuracy', size=14)\n",
        "ax.set_xlabel('Models', size=14)"
      ],
      "metadata": {}
    },
    {
      "cell_type": "markdown",
      "source": [
        "Mean accuracy"
      ],
      "metadata": {}
    },
    {
      "cell_type": "code",
      "source": [
        "for model_name in models_vgg.keys():\n",
        "    mean_acc_orig = (df[df['model']==model_name][\"top_1\"] == df[df['model']==model_name][\"label\"]).mean()\n",
        "    mean_acc = (df_gray[df_gray['model']==model_name][\"top_1\"] == df_gray[df_gray['model']==model_name][\"label\"]).mean()\n",
        "    print(f'For the {model_name} model, the mean clasification likelihood = {mean_acc*100:.5f} % (color = {mean_acc_orig*100:.5f} % )' )"
      ],
      "outputs": [],
      "execution_count": null,
      "metadata": {
        "execution": {
          "iopub.execute_input": "2021-10-22T21:20:54.352198Z",
          "iopub.status.busy": "2021-10-22T21:20:54.351222Z",
          "iopub.status.idle": "2021-10-22T21:20:54.410799Z",
          "shell.execute_reply": "2021-10-22T21:20:54.411593Z"
        }
      }
    },
    {
      "cell_type": "code",
      "source": [
        "df_acc = pd.DataFrame({model_name: {subset_label: accuracy_score(df[(df['model']==model_name) & (df['label']==subset_label)][\"top_1\"], \n",
        "                                                                 df[(df['model']==model_name) & (df['label']==subset_label)][\"label\"])\n",
        "                                    for subset_label in subset_labels} \n",
        "                       for model_name in models_vgg.keys()})\n",
        "\n",
        "ax = df_acc.plot.bar(rot=60, figsize=(fig_width, fig_width//4), fontsize=18)\n",
        "ax.set_ylim(0, 1)\n",
        "ax.hlines(xmin=-.5, xmax=len(subset_labels)-.5, y=1/n_output, ls='--', ec='k', label='chance level')\n",
        "plt.legend(bbox_to_anchor=(1.1, .5), loc='lower right')\n",
        "ax.set_title('Accuracy top_1 : for each models - experiment 1', size=20)\n",
        "ax.set_ylabel('Accuracy', size=14)\n",
        "ax.set_xlabel('Models', size=14);"
      ],
      "outputs": [],
      "execution_count": null,
      "metadata": {
        "execution": {
          "iopub.execute_input": "2021-10-22T21:20:54.426812Z",
          "iopub.status.busy": "2021-10-22T21:20:54.423310Z",
          "iopub.status.idle": "2021-10-22T21:20:54.972417Z",
          "shell.execute_reply": "2021-10-22T21:20:54.972739Z"
        }
      }
    },
    {
      "cell_type": "code",
      "source": [
        "df_acc = pd.DataFrame({model_name: {label: accuracy_score(df_[(df_['model']==model_name)][\"top_1\"], \n",
        "                                                               df_[(df_['model']==model_name)][\"label\"])\n",
        "                                    for label, df_ in zip(['original', 'gray'], [df, df_gray])} \n",
        "                       for model_name in models_vgg.keys()})\n",
        "\n",
        "ax = df_acc.T.plot.bar(rot=0, figsize=(fig_width, fig_width//4), fontsize=18)\n",
        "ax.set_ylim(0, 1)\n",
        "ax.hlines(xmin=-.5, xmax=len(models_vgg.keys())-.5, y=1/n_output, ls='--', ec='k', label='chance level')\n",
        "# https://matplotlib.org/stable/gallery/lines_bars_and_markers/bar_label_demo.html\n",
        "for container in ax.containers: ax.bar_label(container, padding=-50, color='black', fontsize=14, fmt='%.3f', rotation=90)\n",
        "plt.legend(bbox_to_anchor=(1.1, .5), loc='lower right')\n",
        "ax.set_title(f'Experiment 3 - color vs gray images', size=20)\n",
        "ax.set_ylabel('Accuracy', size=14)\n",
        "plt.show();"
      ],
      "outputs": [],
      "execution_count": null,
      "metadata": {
        "execution": {
          "iopub.execute_input": "2021-10-22T21:20:54.991787Z",
          "iopub.status.busy": "2021-10-22T21:20:54.986803Z",
          "iopub.status.idle": "2021-10-22T21:20:55.257990Z",
          "shell.execute_reply": "2021-10-22T21:20:55.257433Z"
        }
      }
    },
    {
      "cell_type": "markdown",
      "source": [
        "## Computation time\n",
        "\n",
        "A display of the differents computation time of each models on the same dataset for a single resolution :"
      ],
      "metadata": {}
    },
    {
      "cell_type": "code",
      "source": [
        "df_gray['time'].min(), df_gray['time'].max(), df_gray['time'].quantile(.005), len(df_gray[df_gray['model']==model_name]['time'])"
      ],
      "outputs": [],
      "execution_count": null,
      "metadata": {
        "execution": {
          "iopub.execute_input": "2021-10-22T21:20:55.262770Z",
          "iopub.status.busy": "2021-10-22T21:20:55.261920Z",
          "iopub.status.idle": "2021-10-22T21:20:55.269862Z",
          "shell.execute_reply": "2021-10-22T21:20:55.270561Z"
        }
      }
    },
    {
      "cell_type": "markdown",
      "source": [
        "Computation time 's mean"
      ],
      "metadata": {}
    },
    {
      "cell_type": "code",
      "source": [
        "for model_name in models_vgg.keys():\n",
        "    med_perf_orig = np.mean(df[df['model']==model_name][\"time\"])\n",
        "    med_perf = np.mean(df_gray[df_gray['model']==model_name][\"time\"])\n",
        "    print(f'For the {model_name} model, the mean computation time = {med_perf:.4f} s (color = {med_perf_orig:.4f} s )' )"
      ],
      "outputs": [],
      "execution_count": null,
      "metadata": {
        "execution": {
          "iopub.execute_input": "2021-10-22T21:20:55.279884Z",
          "iopub.status.busy": "2021-10-22T21:20:55.276732Z",
          "iopub.status.idle": "2021-10-22T21:20:55.317930Z",
          "shell.execute_reply": "2021-10-22T21:20:55.318269Z"
        }
      }
    },
    {
      "cell_type": "markdown",
      "source": [
        "Frame per second's mean"
      ],
      "metadata": {}
    },
    {
      "cell_type": "code",
      "source": [
        "for model_name in models_vgg.keys():\n",
        "    med_perf_orig = np.mean(df[df['model']==model_name][\"fps\"])\n",
        "    med_perf = np.mean(df_gray[df_gray['model']==model_name][\"fps\"])\n",
        "    print(f'For the {model_name} model, the mean fps = {med_perf:.3f} Hz (color = {med_perf_orig:.3f} Hz )' )"
      ],
      "outputs": [],
      "execution_count": null,
      "metadata": {
        "execution": {
          "iopub.execute_input": "2021-10-22T21:20:55.327136Z",
          "iopub.status.busy": "2021-10-22T21:20:55.326661Z",
          "iopub.status.idle": "2021-10-22T21:20:55.363750Z",
          "shell.execute_reply": "2021-10-22T21:20:55.364429Z"
        }
      }
    },
    {
      "cell_type": "code",
      "source": [
        "fig, axs = plt.subplots(len(models_vgg.keys()), 1, figsize=(fig_width, fig_width*phi//2))\n",
        "for color, df_, label, legend in zip(['gray', 'red'], [df_gray, df], ['black', 'color'], ['Grayscale', 'Regular']):\n",
        "    for ax, model_name in zip(axs, models_vgg.keys()):\n",
        "        ax.set_ylabel('Frequency', fontsize=14) \n",
        "        df_[df_['model']==model_name]['time'].plot.hist(bins=150, lw=1, label=str(legend+ ' ' + model_name), ax=ax, color=color, density=True)\n",
        "        ax.legend(loc='upper right', fontsize=20)\n",
        "        ax.set_xlim(df_gray['time'].quantile(.01), df_gray['time'].quantile(.99))\n",
        "axs[-1].set_xlabel('Processing time (s)', size=18)\n",
        "axs[0].set_title('Processed on : ' + args.HOST + '_' + str(df['device_type'][0]), size = 20);"
      ],
      "outputs": [],
      "execution_count": null,
      "metadata": {
        "execution": {
          "iopub.execute_input": "2021-10-22T21:20:55.438276Z",
          "iopub.status.busy": "2021-10-22T21:20:55.434631Z",
          "iopub.status.idle": "2021-10-22T21:20:57.990375Z",
          "shell.execute_reply": "2021-10-22T21:20:57.990021Z"
        }
      }
    },
    {
      "cell_type": "markdown",
      "source": [
        "## Classification likelihood\n",
        "\n",
        "A display of the classification likelihood of each models on the same dataset for a single resolution :"
      ],
      "metadata": {}
    },
    {
      "cell_type": "code",
      "source": [
        "fig, axs = plt.subplots(len(models_vgg.keys()), 1, figsize=(fig_width, fig_width*phi//2), sharex=True, sharey=True)\n",
        "# plt.xticks(fontsize=18)\n",
        "# plt.yticks(fontsize=18)\n",
        "for ax, color, model_name in zip(axs, colors, models_vgg.keys()):\n",
        "    ax.set_ylabel('Frequency', fontsize=14)\n",
        "    df_gray[df_gray['model']==model_name]['perf'].plot.hist(bins=np.linspace(90, 100, 100), lw=0, alpha=0.3, label=model_name + '_gray', ax=ax, color='k', density=True)\n",
        "    df[df['model']==model_name]['perf'].plot.hist(bins=np.linspace(90, 100, 100), lw=0, alpha=0.3, label=model_name + '_color', ax=ax, color=color, density=True)\n",
        "    ax.legend(loc='upper left', fontsize=20)\n",
        "    ax.set_xlim(90, 100)\n",
        "    ax.set_ylim(0, 1)\n",
        "    # ax.tick_params(axis='x', labelsize=14)\n",
        "    # ax.tick_params(axis='y', labelsize=14)\n",
        "axs[-1].set_xlabel('Classification likelihood (%)', size=18)\n",
        "axs[0].set_title('Processed on : ' + args.HOST + '_' + str(df['device_type'][0]), size = 20);"
      ],
      "outputs": [],
      "execution_count": null,
      "metadata": {
        "execution": {
          "iopub.execute_input": "2021-10-22T21:20:58.030463Z",
          "iopub.status.busy": "2021-10-22T21:20:57.993333Z",
          "iopub.status.idle": "2021-10-22T21:20:59.985260Z",
          "shell.execute_reply": "2021-10-22T21:20:59.986062Z"
        }
      }
    },
    {
      "cell_type": "markdown",
      "source": [
        "## summary\n",
        "\n",
        "\n",
        "As a summary, we have shown here that one can implement transfer learning on a subset of images and that it reaches a higher accuracy than a simpler hypothesis. We have also shown that transfer learning could also be used to teach the network to different perturbations of the image, for instance changes in the resolution of in the colorspace. Such framework is thus promising for further applications which aim at modelling higher-order cognitive processes."
      ],
      "metadata": {}
    }
  ],
  "metadata": {
    "kernelspec": {
      "display_name": "Python 3",
      "language": "python",
      "name": "python3"
    },
    "language_info": {
      "name": "python",
      "version": "3.9.7",
      "mimetype": "text/x-python",
      "codemirror_mode": {
        "name": "ipython",
        "version": 3
      },
      "pygments_lexer": "ipython3",
      "nbconvert_exporter": "python",
      "file_extension": ".py"
    },
    "nteract": {
      "version": "0.28.0"
    },
    "toc-autonumbering": true,
    "toc-showmarkdowntxt": false
  },
  "nbformat": 4,
  "nbformat_minor": 4
}