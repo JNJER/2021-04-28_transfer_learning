{
 "cells": [
  {
   "cell_type": "markdown",
   "metadata": {},
   "source": [
    "# Implementing transfer learning on Vgg16 using pyTorch"
   ]
  },
  {
   "cell_type": "markdown",
   "metadata": {},
   "source": [
    "Hi! I am  [Jean-Nicolas Jérémie](https://laurentperrinet.github.io/author/jean-nicolas-jeremie/) and the goal of this notebook is to provide a framework to implement (and experiment with) [transfer learning](https://en.wikipedia.org/wiki/Transfer_learning) on deep convolutional neuronal network (DCNN). In a nutshell, [transfer learning](https://www.analyticsvidhya.com/blog/2021/06/transfer-learning-using-vgg16-in-pytorch/) allows to re-use the knowlegde learned on a problem, such as categorizing images from  a large dataset, and apply it to a different (yet related) problem, performing the categorization on a smaller dataset. It is a powerful method as it allows to implement complex task *de novo* quite rapidly (in a few hours) without having to retrain the millions of parameters of a DCNN (which takes days of computations). The basic hypothesis is that it suffices to [re-train the last classification layers](https://www.kaggle.com/carloalbertobarbano/vgg16-transfer-learning-pytorch) (the head) while keeping the first layers fixed. Here, these networks teach us also some interesting insights into how living systems may perform such categorization tasks.\n",
    "\n",
    "Based on our [previous work]( https://laurentperrinet.github.io/sciblog/posts/2020-09-28-benchmarking-cnns.html), we will start from a [VGG16 network](https://pytorch.org/hub/pytorch_vision_vgg/) loaded from the [`torchvision.models` library](https://github.com/pytorch/vision/blob/main/torchvision/models/vgg.py) and pre-trained on the [Imagenet](http://image-net.org/) dataset wich allows to perform label detection on naturals images for $K = 1000$ labels. Our goal here will be to re-train the last fully-Connected layer of the network to perfom the same task but in a sub-set of $K = 10$ labels from the Imagenet dataset. \n",
    "\n",
    "Moreover, we are going to evaluate different strategies of transfer learning:\n",
    "\n",
    "* VGG General : Substitute the last layer of the pyTorch VGG16 network ($K = 1000$ labels) with a new layer build from a specific subset ($K = 10$ labels).\n",
    "* VGG Linear : Add a new layer build from a specific subset ($K = 10$ labels) after the last Fully-Connected layer of the the pyTorch VGG16 network.\n",
    "* VGG Gray : Same architecture as the VGG General network but trained with grayscale images.\n",
    "* VGG Scale : Same architecture as the VGG General network but trained with images of different size.\n",
    "\n",
    "In this notebook, I will use the [pyTorch](https://pytorch.org/) library for running the networks and the [pandas](https://pandas.pydata.org/docs/getting_started/index.html) library to collect and display the results. This notebook was done during a master 2 internship at the Neurosciences Institute of Timone (INT) under the supervision of [Laurent PERRINET](https://laurentperrinet.github.io/). It is curated in the following [github repo](https://github.com/JNJER/2020-06-26_fast_and_curious.git).\n",
    "\n",
    "<!-- TEASER_END -->\n",
    "\n",
    "In our [previous work]( https://laurentperrinet.github.io/sciblog/posts/2020-09-28-benchmarking-cnns.html), as the VGG16 network was first trained on the entire dataset of $K=1000$ labels, and in order to recover the classification confidence predicted by the model according to the specific subset of classes ($K = 10$ labels) on which it is tested, the output `softmax` mathematical function of the last layer of the network was slightly changed. By assuming that we know *a priori* that the image belongs to one (and only one) category from the sub-set the probabilities obtained would correspond to a confidence of classification discriminating only the classes of interest and can be compared to a chance level of $1 /K$. This creates another network (which is not retrained) directly based on VGG:\n",
    "\n",
    "* VGG Subset : Just consider the specific subset ($K = 10$ labels) from the last layer of the pyTorch VGG16 network ($K = 1000$ labels).\n",
    "\n",
    "This notebook aims in addition to test this hypothesis. Our use case consists of measuring whether there are differences in the likelihood of these networks during an image recognition task on a sub-set of $1000$ classes of the `ImageNet` library, with $K = 10$ (experiment 1). Additionally, we will implement some image transformations as up/down-sampling (experiment 2) or transforming to grayscale (experiment 3) to quantify their influence on the accuracy and computation time of each network.\n"
   ]
  },
  {
   "cell_type": "markdown",
   "metadata": {},
   "source": [
    "*Some useful links :*\n",
    "\n",
    "* https://jaketae.github.io/study/pytorch-vgg/\n",
    "* https://www.kaggle.com/carloalbertobarbano/vgg16-transfer-learning-pytorch\n",
    "* https://www.kaggle.com/paultimothymooney/detect-retina-damage-from-oct-images/notebook\n",
    "\n",
    "* https://en.wikipedia.org/wiki/Transfer_learning\n",
    "* https://github.com/laurentperrinet/ImageNet-Datasets-Downloader/tree/8d1c0925b5512f48978177a76e7b851ff40acb7b"
   ]
  },
  {
   "cell_type": "markdown",
   "metadata": {},
   "source": [
    "Let's first install requirements"
   ]
  },
  {
   "cell_type": "code",
   "execution_count": 1,
   "metadata": {},
   "outputs": [
    {
     "name": "stdout",
     "output_type": "stream",
     "text": [
      "Defaulting to user installation because normal site-packages is not writeable\n",
      "Requirement already satisfied: pip in /home/laurent/.local/lib/python3.8/site-packages (from -r requirements.txt (line 4)) (21.3.1)\n",
      "Requirement already satisfied: matplotlib in /home/laurent/.local/lib/python3.8/site-packages (from -r requirements.txt (line 5)) (3.4.3)\n",
      "Requirement already satisfied: numpy in /home/laurent/.local/lib/python3.8/site-packages (from -r requirements.txt (line 6)) (1.21.3)\n",
      "Requirement already satisfied: imageio in /home/laurent/.local/lib/python3.8/site-packages (from -r requirements.txt (line 7)) (2.9.0)\n",
      "Requirement already satisfied: torch in /home/laurent/.local/lib/python3.8/site-packages (from -r requirements.txt (line 8)) (1.10.0)\n",
      "Requirement already satisfied: torchvision in /home/laurent/.local/lib/python3.8/site-packages (from -r requirements.txt (line 9)) (0.11.1)\n",
      "Requirement already satisfied: pandas in /home/laurent/.local/lib/python3.8/site-packages (from -r requirements.txt (line 10)) (1.3.4)\n",
      "Requirement already satisfied: requests in /home/laurent/.local/lib/python3.8/site-packages (from -r requirements.txt (line 11)) (2.26.0)\n",
      "Requirement already satisfied: sklearn in /home/laurent/.local/lib/python3.8/site-packages (from -r requirements.txt (line 12)) (0.0)\n",
      "Requirement already satisfied: scipy in /home/laurent/.local/lib/python3.8/site-packages (from -r requirements.txt (line 13)) (1.7.1)\n",
      "Requirement already satisfied: seaborn in /home/laurent/.local/lib/python3.8/site-packages (from -r requirements.txt (line 14)) (0.11.2)\n",
      "Requirement already satisfied: pillow>=6.2.0 in /usr/lib/python3/dist-packages (from matplotlib->-r requirements.txt (line 5)) (7.0.0)\n",
      "Requirement already satisfied: python-dateutil>=2.7 in /usr/lib/python3/dist-packages (from matplotlib->-r requirements.txt (line 5)) (2.7.3)\n",
      "Requirement already satisfied: kiwisolver>=1.0.1 in /home/laurent/.local/lib/python3.8/site-packages (from matplotlib->-r requirements.txt (line 5)) (1.2.0)\n",
      "Requirement already satisfied: pyparsing>=2.2.1 in /home/laurent/.local/lib/python3.8/site-packages (from matplotlib->-r requirements.txt (line 5)) (2.4.7)\n",
      "Requirement already satisfied: cycler>=0.10 in /home/laurent/.local/lib/python3.8/site-packages (from matplotlib->-r requirements.txt (line 5)) (0.10.0)\n",
      "Requirement already satisfied: typing-extensions in /home/laurent/.local/lib/python3.8/site-packages (from torch->-r requirements.txt (line 8)) (3.10.0.0)\n",
      "Requirement already satisfied: pytz>=2017.3 in /usr/lib/python3/dist-packages (from pandas->-r requirements.txt (line 10)) (2019.3)\n",
      "Requirement already satisfied: urllib3<1.27,>=1.21.1 in /usr/lib/python3/dist-packages (from requests->-r requirements.txt (line 11)) (1.25.8)\n",
      "Requirement already satisfied: certifi>=2017.4.17 in /home/laurent/.local/lib/python3.8/site-packages (from requests->-r requirements.txt (line 11)) (2020.6.20)\n",
      "Requirement already satisfied: charset-normalizer~=2.0.0 in /home/laurent/.local/lib/python3.8/site-packages (from requests->-r requirements.txt (line 11)) (2.0.6)\n",
      "Requirement already satisfied: idna<4,>=2.5 in /usr/lib/python3/dist-packages (from requests->-r requirements.txt (line 11)) (2.8)\n",
      "Requirement already satisfied: scikit-learn in /home/laurent/.local/lib/python3.8/site-packages (from sklearn->-r requirements.txt (line 12)) (0.23.2)\n",
      "Requirement already satisfied: six in /usr/lib/python3/dist-packages (from cycler>=0.10->matplotlib->-r requirements.txt (line 5)) (1.14.0)\n",
      "Requirement already satisfied: threadpoolctl>=2.0.0 in /home/laurent/.local/lib/python3.8/site-packages (from scikit-learn->sklearn->-r requirements.txt (line 12)) (2.1.0)\n",
      "Requirement already satisfied: joblib>=0.11 in /home/laurent/.local/lib/python3.8/site-packages (from scikit-learn->sklearn->-r requirements.txt (line 12)) (0.17.0)\n",
      "Note: you may need to restart the kernel to use updated packages.\n"
     ]
    }
   ],
   "source": [
    "%pip install --upgrade -r requirements.txt"
   ]
  },
  {
   "cell_type": "raw",
   "metadata": {},
   "source": [
    "!make clean"
   ]
  },
  {
   "cell_type": "code",
   "execution_count": 2,
   "metadata": {},
   "outputs": [
    {
     "name": "stdout",
     "output_type": "stream",
     "text": [
      "total 93720\n",
      "-rw-r--r-- 1 501 dialout 95551495 Apr  2  2021 Imagenet_urls_ILSVRC_2016.json\n",
      "-rw-r--r-- 1 501 dialout      886 Oct  5 14:47 README.md\n",
      "-rw-r--r-- 1 501 dialout   121566 Oct  5 14:47 imagenet_label_to_wordnet_synset.json\n",
      "drwxr-xr-x 1 501 dialout      256 Oct  7 15:17 \u001b[0m\u001b[01;34mfigures\u001b[0m/\n",
      "-rw-r--r-- 1 501 dialout      391 Oct 25 16:30 Makefile\n",
      "drwxr-xr-x 1 501 dialout       64 Oct 25 23:51 \u001b[01;34mmodels\u001b[0m/\n",
      "drwxr-xr-x 1 501 dialout      192 Oct 26 08:00 \u001b[01;34mDCNN_transfer_learning\u001b[0m/\n",
      "-rw-r--r-- 1 501 dialout      221 Oct 26 09:25 requirements.txt\n",
      "-rw-r--r-- 1 501 dialout     5798 Oct 26 09:40 experiment_train.py\n",
      "-rw-r--r-- 1 501 dialout     2362 Oct 26 09:40 experiment_basic.py\n",
      "-rw-r--r-- 1 501 dialout     2609 Oct 26 09:40 experiment_downsample.py\n",
      "-rw-r--r-- 1 501 dialout     2402 Oct 26 09:40 experiment_grayscale.py\n",
      "-rw-r--r-- 1 501 dialout     2504 Oct 26 09:40 experiment_scan.py\n",
      "drwxr-xr-x 1 501 dialout       96 Oct 26 09:40 \u001b[01;34m__pycache__\u001b[0m/\n",
      "drwxr-xr-x 1 501 dialout     7296 Oct 26 13:23 \u001b[01;34mresults\u001b[0m/\n",
      "drwxr-xr-x 1 501 dialout      192 Oct 26 13:26 \u001b[01;34mdata\u001b[0m/\n",
      "-rw-r--r-- 1 501 dialout   224323 Oct 26 13:36 benchmark_transfer_learning_VGG.ipynb\n"
     ]
    }
   ],
   "source": [
    "%ls -ltr"
   ]
  },
  {
   "cell_type": "code",
   "execution_count": 3,
   "metadata": {},
   "outputs": [],
   "source": [
    "%matplotlib inline\n",
    "# uncommment to re-run training\n",
    "#%rm -fr models\n",
    "%mkdir -p DCNN_transfer_learning\n",
    "%mkdir -p results\n",
    "%mkdir -p models"
   ]
  },
  {
   "cell_type": "markdown",
   "metadata": {},
   "source": [
    "## Initialization of the libraries/variables\n",
    "\n",
    "Our coding strategy is to build up a small library as a package of scripts in the `DCNN_benchmark` folder and to run all calls to that library from this notebook. This follows our [previous work]( https://laurentperrinet.github.io/sciblog/posts/2020-09-28-benchmarking-cnns.html) in which we benchmarked various DCNNs and which allowed us to select VGG16 as a good compromise between performance and complexity.\n",
    "\n",
    "First of all, a `init.py` script defines all our usefull variables like the new labels to learn, the number of training images or the root folder to use. Also, we import libraries to train the different networks and display the results."
   ]
  },
  {
   "cell_type": "code",
   "execution_count": 4,
   "metadata": {},
   "outputs": [],
   "source": [
    "scriptname = 'DCNN_transfer_learning/init.py'"
   ]
  },
  {
   "cell_type": "code",
   "execution_count": 5,
   "metadata": {},
   "outputs": [
    {
     "name": "stdout",
     "output_type": "stream",
     "text": [
      "Overwriting DCNN_transfer_learning/init.py\n"
     ]
    }
   ],
   "source": [
    "%%writefile {scriptname}\n",
    "\n",
    "# Importing libraries\n",
    "import torch\n",
    "import argparse\n",
    "import json\n",
    "import matplotlib.pyplot as plt\n",
    "plt.rc('xtick', labelsize=18)    # fontsize of the tick labels\n",
    "plt.rc('ytick', labelsize=18)    # fontsize of the tick labels\n",
    "import numpy as np\n",
    "#from numpy import random\n",
    "import os\n",
    "import requests\n",
    "import time\n",
    "\n",
    "from time import strftime, gmtime\n",
    "datetag = strftime(\"%Y-%m-%d\", gmtime())\n",
    "datetag = '2021-10-26'\n",
    "\n",
    "HOST, device = os.uname()[1], torch.device(\"cuda\" if torch.cuda.is_available() else \"cpu\")\n",
    "HOST, device = 'inv-ope-de06', torch.device(\"cuda\")\n",
    "\n",
    "    \n",
    "# to store results\n",
    "import pandas as pd\n",
    "\n",
    "def arg_parse():\n",
    "    DEBUG = 25\n",
    "    DEBUG = 1\n",
    "    parser = argparse.ArgumentParser(description='DCNN_transfer_learning/init.py set root')\n",
    "    parser.add_argument(\"--root\", dest = 'root', help = \"Directory containing images to perform the training\",\n",
    "                        default = 'data', type = str)\n",
    "    parser.add_argument(\"--folders\", dest = 'folders', help =  \"Set the training, validation and testing folders relative to the root\",\n",
    "                        default = ['test', 'val', 'train'], type = list)\n",
    "    parser.add_argument(\"--N_images\", dest = 'N_images', help =\"Set the number of images per classe in the train folder\",\n",
    "                        default = [400//DEBUG, 200//DEBUG, 800//DEBUG], type = list)\n",
    "    parser.add_argument(\"--HOST\", dest = 'HOST', help = \"Set the name of your machine\",\n",
    "                    default=HOST, type = str)\n",
    "    parser.add_argument(\"--datetag\", dest = 'datetag', help = \"Set the datetag of the result's file\",\n",
    "                    default = datetag, type = str)\n",
    "    parser.add_argument(\"--image_size\", dest = 'image_size', help = \"Set the default image_size of the input\",\n",
    "                    default = 256)\n",
    "    parser.add_argument(\"--image_sizes\", dest = 'image_sizes', help = \"Set the image_sizes of the input for experiment 2 (downscaling)\",\n",
    "                    default = [64, 128, 256, 512], type = list)\n",
    "    parser.add_argument(\"--num_epochs\", dest = 'num_epochs', help = \"Set the number of epoch to perform during the traitransportationning phase\",\n",
    "                    default = 200//DEBUG)\n",
    "    parser.add_argument(\"--batch_size\", dest = 'batch_size', help=\"Set the batch size\", default = 32)\n",
    "    parser.add_argument(\"--lr\", dest = 'lr', help=\"Set the learning rate\", default = 0.0001)\n",
    "    parser.add_argument(\"--momentum\", dest = 'momentum', help=\"Set the momentum\", default = 0.9)\n",
    "    parser.add_argument(\"--beta2\", dest = 'beta2', help=\"Set the second momentum - use zero for SGD\", default = 0.)\n",
    "    parser.add_argument(\"--subset_i_labels\", dest = 'subset_i_labels', help=\"Set the labels of the classes (list of int)\",\n",
    "                    default = [945, 513, 886, 508, 786, 310, 373, 145, 146, 396], type = list)\n",
    "    parser.add_argument(\"--class_loader\", dest = 'class_loader', help = \"Set the Directory containing imagenet downloaders class\",\n",
    "                        default = 'imagenet_label_to_wordnet_synset.json', type = str)\n",
    "    parser.add_argument(\"--url_loader\", dest = 'url_loader', help = \"Set the file containing imagenet urls\",\n",
    "                        default = 'Imagenet_urls_ILSVRC_2016.json', type = str)\n",
    "    parser.add_argument(\"--model_path\", dest = 'model_path', help = \"Set the path to the pre-trained model\",\n",
    "                        default = 'models/re-trained_', type = str)\n",
    "    parser.add_argument(\"--model_names\", dest = 'model_names', help = \"Modes for the new trained networks\",\n",
    "                        default = ['vgg16_lin', 'vgg16_gen', 'vgg16_scale', 'vgg16_gray', ], type = list)\n",
    "    return parser.parse_args()\n",
    "\n",
    "args = arg_parse()\n",
    "datetag = args.datetag\n",
    "json_fname = os.path.join('results', datetag + '_config_args.json')\n",
    "load_parse = False # False to custom the config\n",
    "\n",
    "if load_parse:\n",
    "    with open(json_fname, 'rt') as f:\n",
    "        print(f'file {json_fname} exists: LOADING')\n",
    "        override = json.load(f)\n",
    "        args.__dict__.update(override)\n",
    "else:\n",
    "    print(f'Creating file {json_fname}')\n",
    "    with open(json_fname, 'wt') as f:\n",
    "        json.dump(vars(args), f, indent=4)\n",
    "    \n",
    "# matplotlib parameters\n",
    "colors = ['b', 'r', 'k', 'g', 'm']\n",
    "fig_width = 20\n",
    "phi = (np.sqrt(5)+1)/2 # golden ratio for the figures :-)\n",
    "\n",
    "#to plot & display \n",
    "def pprint(message): #display function\n",
    "    print('-'*len(message))\n",
    "    print(message)\n",
    "    print('-'*len(message))\n",
    "    \n",
    "#DCCN training\n",
    "print('On date', args.datetag, ', Running benchmark on host', args.HOST, ' with device', device.type)\n",
    "\n",
    "# Labels Configuration\n",
    "N_labels = len(args.subset_i_labels)\n",
    "\n",
    "paths = {}\n",
    "N_images_per_class = {}\n",
    "for folder, N_image in zip(args.folders, args.N_images):\n",
    "    paths[folder] = os.path.join(args.root, folder) # data path\n",
    "    N_images_per_class[folder] = N_image\n",
    "    os.makedirs(paths[folder], exist_ok=True)\n",
    "    \n",
    "with open(args.class_loader, 'r') as fp: # get all the classes on the data_downloader\n",
    "    imagenet = json.load(fp)\n",
    "\n",
    "# gathering labels\n",
    "labels = []\n",
    "class_wnids = []\n",
    "reverse_id_labels = {}\n",
    "for a, img_id in enumerate(imagenet):\n",
    "    reverse_id_labels[str('n' + (imagenet[img_id]['id'].replace('-n','')))] = imagenet[img_id]['label'].split(',')[0]\n",
    "    labels.append(imagenet[img_id]['label'].split(',')[0])\n",
    "    if int(img_id) in args.subset_i_labels:\n",
    "        class_wnids.append('n' + (imagenet[img_id]['id'].replace('-n','')))    \n",
    "        \n",
    "# a reverse look-up-table giving the index of a given label (within the whole set of imagenet labels)\n",
    "reverse_labels = {}\n",
    "for i_label, label in enumerate(labels):\n",
    "    reverse_labels[label] = i_label\n",
    "# a reverse look-up-table giving the index of a given i_label (within the sub-set of classes)\n",
    "reverse_subset_i_labels = {}\n",
    "for i_label, label in enumerate(args.subset_i_labels):\n",
    "    reverse_subset_i_labels[label] = i_label\n",
    "    \n",
    "# a reverse look-up-table giving the label of a given index in the last layer of the new model (within the sub-set of classes)\n",
    "subset_labels = []\n",
    "pprint('List of Pre-selected classes : ')\n",
    "# choosing the selected classes for recognition\n",
    "for i_label, id_ in zip(args.subset_i_labels, class_wnids) : \n",
    "    subset_labels.append(labels[i_label])\n",
    "    print('-> label', i_label, '=', labels[i_label], '\\nid wordnet : ', id_)\n",
    "subset_labels.sort()"
   ]
  },
  {
   "cell_type": "code",
   "execution_count": 6,
   "metadata": {},
   "outputs": [
    {
     "name": "stdout",
     "output_type": "stream",
     "text": [
      "Creating file results/2021-10-26_config_args.json\n",
      "On date 2021-10-26 , Running benchmark on host inv-ope-de06  with device cuda\n",
      "-------------------------------\n",
      "List of Pre-selected classes : \n",
      "-------------------------------\n",
      "-> label 945 = bell pepper \n",
      "id wordnet :  n02056570\n",
      "-> label 513 = cornet \n",
      "id wordnet :  n02058221\n",
      "-> label 886 = vending machine \n",
      "id wordnet :  n02219486\n",
      "-> label 508 = computer keyboard \n",
      "id wordnet :  n02487347\n",
      "-> label 786 = sewing machine \n",
      "id wordnet :  n02643566\n",
      "-> label 310 = ant \n",
      "id wordnet :  n03085013\n",
      "-> label 373 = macaque \n",
      "id wordnet :  n03110669\n",
      "-> label 145 = king penguin \n",
      "id wordnet :  n04179913\n",
      "-> label 146 = albatross \n",
      "id wordnet :  n04525305\n",
      "-> label 396 = lionfish \n",
      "id wordnet :  n07720875\n",
      "\n",
      "IPython CPU timings (estimated):\n",
      "  User   :       0.71 s.\n",
      "  System :       0.10 s.\n",
      "Wall time:       0.90 s.\n"
     ]
    }
   ],
   "source": [
    "%run -int {scriptname} "
   ]
  },
  {
   "cell_type": "markdown",
   "metadata": {},
   "source": [
    "## Download the `train` & `val` dataset\n",
    "\n",
    "In the `dataset.py`, we use an archive of the Imagenet fall 2011 urls to populate datasets based on the pre-selected classes listed in the `DCNN_benchmark/init.py` file. The following script is inspired by [previous work](https://github.com/laurentperrinet/ImageNet-Datasets-Downloader/) in our group."
   ]
  },
  {
   "cell_type": "code",
   "execution_count": 7,
   "metadata": {},
   "outputs": [
    {
     "data": {
      "text/plain": [
       "({'test': 'data/test', 'val': 'data/val', 'train': 'data/train'},\n",
       " ['test', 'val', 'train'])"
      ]
     },
     "execution_count": 7,
     "metadata": {},
     "output_type": "execute_result"
    }
   ],
   "source": [
    "paths, args.folders"
   ]
  },
  {
   "cell_type": "code",
   "execution_count": 8,
   "metadata": {},
   "outputs": [
    {
     "data": {
      "text/plain": [
       "\u001b[0;31mSignature:\u001b[0m \u001b[0mimageio\u001b[0m\u001b[0;34m.\u001b[0m\u001b[0mimread\u001b[0m\u001b[0;34m(\u001b[0m\u001b[0muri\u001b[0m\u001b[0;34m,\u001b[0m \u001b[0mformat\u001b[0m\u001b[0;34m=\u001b[0m\u001b[0;32mNone\u001b[0m\u001b[0;34m,\u001b[0m \u001b[0;34m**\u001b[0m\u001b[0mkwargs\u001b[0m\u001b[0;34m)\u001b[0m\u001b[0;34m\u001b[0m\u001b[0;34m\u001b[0m\u001b[0m\n",
       "\u001b[0;31mDocstring:\u001b[0m\n",
       "imread(uri, format=None, **kwargs)\n",
       "\n",
       "Reads an image from the specified file. Returns a numpy array, which\n",
       "comes with a dict of meta data at its 'meta' attribute.\n",
       "\n",
       "Note that the image data is returned as-is, and may not always have\n",
       "a dtype of uint8 (and thus may differ from what e.g. PIL returns).\n",
       "\n",
       "Parameters\n",
       "----------\n",
       "uri : {str, pathlib.Path, bytes, file}\n",
       "    The resource to load the image from, e.g. a filename, pathlib.Path,\n",
       "    http address or file object, see the docs for more info.\n",
       "format : str\n",
       "    The format to use to read the file. By default imageio selects\n",
       "    the appropriate for you based on the filename and its contents.\n",
       "kwargs : ...\n",
       "    Further keyword arguments are passed to the reader. See :func:`.help`\n",
       "    to see what arguments are available for a particular format.\n",
       "\u001b[0;31mFile:\u001b[0m      ~/.local/lib/python3.8/site-packages/imageio/core/functions.py\n",
       "\u001b[0;31mType:\u001b[0m      function\n"
      ]
     },
     "metadata": {},
     "output_type": "display_data"
    }
   ],
   "source": [
    "import imageio\n",
    "imageio.imread?"
   ]
  },
  {
   "cell_type": "code",
   "execution_count": 9,
   "metadata": {},
   "outputs": [
    {
     "data": {
      "text/plain": [
       "(528, 800, 3)"
      ]
     },
     "execution_count": 9,
     "metadata": {},
     "output_type": "execute_result"
    }
   ],
   "source": [
    "imageio.imread('https://upload.wikimedia.org/wikipedia/commons/thumb/7/7b/Crozet_-_Manchots.jpg/800px-Crozet_-_Manchots.jpg').shape"
   ]
  },
  {
   "cell_type": "code",
   "execution_count": 50,
   "metadata": {},
   "outputs": [],
   "source": [
    "scriptname = 'DCNN_transfer_learning/dataset.py'"
   ]
  },
  {
   "cell_type": "code",
   "execution_count": 51,
   "metadata": {},
   "outputs": [
    {
     "name": "stdout",
     "output_type": "stream",
     "text": [
      "Overwriting DCNN_transfer_learning/dataset.py\n"
     ]
    }
   ],
   "source": [
    "%%writefile {scriptname}\n",
    "\n",
    "from DCNN_transfer_learning.init import *  \n",
    "verbose = False\n",
    "\n",
    "with open(args.url_loader) as json_file:\n",
    "    Imagenet_urls_ILSVRC_2016 = json.load(json_file)\n",
    "\n",
    "def clean_list(list_dir, patterns=['.DS_Store']):\n",
    "    for pattern in patterns:\n",
    "        if pattern in list_dir: list_dir.remove('.DS_Store')\n",
    "    return list_dir\n",
    "\n",
    "import imageio\n",
    "def get_image(img_url, timeout=3., min_content=5000, verbose=verbose):\n",
    "    if verbose:\n",
    "        print(f'Processing {img_url}')\n",
    "    try:\n",
    "        img_resp = imageio.imread(img_url)\n",
    "        if verbose : print(f\"Success with url {img_url}\")\n",
    "        #img_resp = requests.get(img_url, timeout=timeout)\n",
    "        #if not 'content-type' in img_resp.headers :\n",
    "        #    if verbose : print('No content-type')\n",
    "        #    return False # did not work\n",
    "        #elif not 'image' in img_resp.headers['content-type'] :\n",
    "        #    if verbose : print('Not an image')\n",
    "        #    return False # did not work\n",
    "        #elif (len(img_resp.content) < min_content) :\n",
    "        #    if verbose : print('Content to short')\n",
    "        #    return False # did not work\n",
    "        #else:\n",
    "        #    return img_resp.content # worked!\n",
    "        return img_resp\n",
    "    except Exception as e:\n",
    "        if verbose : print(f\"Failed with {e} for url {img_url}\")\n",
    "        return False # did not work\n",
    "\n",
    "import hashlib # jah.\n",
    "# root folder\n",
    "os.makedirs(args.root, exist_ok=True)\n",
    "# train, val and test folders\n",
    "for folder in args.folders : \n",
    "    os.makedirs(paths[folder], exist_ok=True)\n",
    "    \n",
    "list_urls = {}\n",
    "list_img_name_used = {}\n",
    "for class_wnid in class_wnids:\n",
    "    list_urls[class_wnid] =  Imagenet_urls_ILSVRC_2016[str(class_wnid)]\n",
    "    np.random.shuffle(list_urls[class_wnid])\n",
    "    list_img_name_used[class_wnid] = []\n",
    "\n",
    "    # a folder per class in each train, val and test folder\n",
    "    for folder in args.folders : \n",
    "        class_name = reverse_id_labels[class_wnid]\n",
    "        class_folder = os.path.join(paths[folder], class_name)\n",
    "        os.makedirs(class_folder, exist_ok=True)\n",
    "        list_img_name_used[class_wnid] += clean_list(os.listdir(class_folder)) # join two lists\n",
    "    \n",
    "# train, val and test folders\n",
    "for folder in args.folders : \n",
    "    print(f'Folder \\\"{folder}\\\"')\n",
    "\n",
    "    filename = f'results/{datetag}_dataset_{folder}_{args.HOST}.json'\n",
    "    columns = ['img_url', 'img_name', 'is_flickr', 'dt', 'worked', 'class_wnid', 'class_name']\n",
    "    if os.path.isfile(filename):\n",
    "        df_dataset = pd.read_json(filename)\n",
    "    else:\n",
    "        df_dataset = pd.DataFrame([], columns=columns)\n",
    "\n",
    "    for class_wnid in class_wnids:\n",
    "        class_name = reverse_id_labels[class_wnid]\n",
    "        print(f'Scraping images for class \\\"{class_name}\\\"')\n",
    "        class_folder = os.path.join(paths[folder], class_name)\n",
    "        while (len(clean_list(os.listdir(class_folder))) < N_images_per_class[folder]) and (len(list_urls[class_wnid]) > 0):\n",
    "\n",
    "            # pick and remove element from shuffled list \n",
    "            img_url = list_urls[class_wnid].pop()\n",
    "            \n",
    "            if len(df_dataset[df_dataset['img_url']==img_url])==0 : # we have not yet tested this URL yet\n",
    "\n",
    "                # Transform URL into filename\n",
    "                # https://laurentperrinet.github.io/sciblog/posts/2018-06-13-generating-an-unique-seed-for-a-given-filename.html\n",
    "                img_name = hashlib.sha224(img_url.encode('utf-8')).hexdigest() + '.png'\n",
    "\n",
    "                if img_url.split('.')[-1] in ['jpe', 'gif']:\n",
    "                    if verbose: print('Bad extension for the img_url', img_url)\n",
    "                # make sure it was not used in other folders\n",
    "                elif not (img_name in list_img_name_used[class_wnid]):\n",
    "                    tic = time.time()\n",
    "                    img_content = get_image(img_url, verbose=verbose)\n",
    "                    dt = time.time() - tic\n",
    "                    \n",
    "                    worked = img_content is not False\n",
    "                    if worked:\n",
    "                        if verbose : print('Good URl, now saving', img_url, ' in', class_folder, ' as', img_name)\n",
    "                        imageio.imsave(os.path.join(class_folder, img_name), img_content, format='png')\n",
    "                        list_img_name_used[class_wnid].append(img_name)\n",
    "                    df_dataset.loc[len(df_dataset.index)] = {'img_url':img_url, 'img_name':img_name, 'is_flickr':1 if 'flickr' in img_url else 0, 'dt':dt,\n",
    "                                'worked':worked, 'class_wnid':class_wnid, 'class_name':class_name}\n",
    "\n",
    "                print(f'\\r{len(clean_list(os.listdir(class_folder)))} / {N_images_per_class[folder]}', end='' if verbose else '\\n', flush=not verbose)\n",
    "            #print('\\n')\n",
    "        if (len(clean_list(os.listdir(class_folder))) < N_images_per_class[folder]) and (len(list_urls[class_wnid]) == 0): \n",
    "            print('Not enough working url to complete the dataset') \n",
    "    \n",
    "    df_dataset.to_json(filename)\n",
    "\n",
    "\n",
    "if False: \n",
    "    \n",
    "    # replace the file with that URLs that worked - removes the ones that failed\n",
    "    print(f'Replacing file {args.url_loader}')\n",
    "    with open(args.url_loader, 'wt') as f:\n",
    "        json.dump(Imagenet_urls_ILSVRC_2016, f, indent=4)\n"
   ]
  },
  {
   "cell_type": "code",
   "execution_count": null,
   "metadata": {},
   "outputs": [],
   "source": [
    "%run -int {scriptname}"
   ]
  },
  {
   "cell_type": "code",
   "execution_count": 41,
   "metadata": {},
   "outputs": [
    {
     "data": {
      "text/plain": [
       "['7a1a3915115df9441b0452e809deff8cc1bd01ac8ec3544a04400a13.png']"
      ]
     },
     "execution_count": 41,
     "metadata": {},
     "output_type": "execute_result"
    }
   ],
   "source": [
    "list_img_name_used[class_wnid]"
   ]
  },
  {
   "cell_type": "code",
   "execution_count": 42,
   "metadata": {},
   "outputs": [
    {
     "data": {
      "text/plain": [
       "0"
      ]
     },
     "execution_count": 42,
     "metadata": {},
     "output_type": "execute_result"
    }
   ],
   "source": [
    "len(df_dataset.index)"
   ]
  },
  {
   "cell_type": "code",
   "execution_count": 43,
   "metadata": {},
   "outputs": [
    {
     "data": {
      "text/plain": [
       "['7a1a3915115df9441b0452e809deff8cc1bd01ac8ec3544a04400a13.png',\n",
       " '0ce99fffdd5f013fb20735881080854760fde02b183c9d62594801fb.png',\n",
       " '790d7eefdea576b558ee141bc4c254f27d60ce0176222c13cda8f9d1.png',\n",
       " '432e29c87ccbef0143216caadb937c77cea125f78675625c95d1294f.png',\n",
       " 'ac41ffb9be88a016aec6fc3157d1181448edb4f518b9e5ff41c09e6b.png',\n",
       " '1a1f987a255562e5d3627c4818d1d0b6919d76d1530b76544231355d.png',\n",
       " '9e85c2b92f70cb9d868120715d5fb6083b2d10e893ff2aa5863a6c2f.png',\n",
       " '83837d04ac69d3d337999b190f3fd96fb3d3b4a07895b59979816bd4.png',\n",
       " '63d6cef2cc752b1cd1485d149c17ed33117e0bc443ac0be4ace23e12.png',\n",
       " '83cc38b4c332fed1c3622aea2878d1b6ced258a797b2cd7f67af16d4.png',\n",
       " '687d317f7ece91eef893efc8bbee8907ce24b4da0cc363457165f655.png',\n",
       " '20e17edda5a853f3a33cef5a4ae778e1071949ecc3de60773e76925f.png',\n",
       " '2a9c2bb96f64bc97600f67ac1bb1026aed3aa8edd715dca5980752e9.png',\n",
       " '47dd62b81330eab0dc45c70f6cbc75a8e048a16bc8e299b53d8d1ed0.png',\n",
       " '6d2401c0e207a9530f0e8321aad51d0c1219b634551feb8316c9266b.png',\n",
       " '606bb26c78e32d3596298b57dd03919bf08bf8f02af48e47bbfca7d4.png',\n",
       " '540a27b43fdf67aea91a1ab7481cd9afc0222d58a0e8cc65f27b9fe6.png',\n",
       " '6237d3d140d5e984faceac847349d655e08ab1e49afbf29b82a39c5f.png',\n",
       " '75892adbbdaa6c8471922fefce4090a5f07dbdde6ec4657378a1f298.png',\n",
       " 'b79ee5e8f3f18a08b6e3d8680d1a4d1d0c64b441a8cc6d680d4ba6c6.png',\n",
       " 'cce476dd9afbccce8086cbc8394e51a3dbd45cbbe1e85c6c3b925c3a.png',\n",
       " '6c266317141cf2dbe26fd7a46c7f67205cd4cb8afe0a006f69dfe81e.png',\n",
       " '735e52742d265a8da1cf60a332a2d902a0ba5cee2b772794ef9b82cb.png',\n",
       " 'd7632be647f91ea1c2b49ee8a9f17cb79f2bea6f751e1d67eb0b6996.png',\n",
       " 'c79d95efad58047bba5254c32cd46c9ca8481c9c6044cb4620223796.png',\n",
       " '60761cfd8979cf1558378112bfcd3435bb2c2dc75548d91005eca576.png',\n",
       " '3b47fd648574e2f50115a4bc35dc978def719dbe06119fa79e264a5c.png',\n",
       " 'c24d3e24be3e7c059379f625f5b53268345c70441eb65e41ecf4ed03.png',\n",
       " 'd7837c6015904e4a854d44407f408bdf3b0ba1707ae8d8a8f37be4b9.png',\n",
       " 'f7a6752a634438e5815baae47e51ca6b69c54c4b2a63728532edd0b4.png',\n",
       " '9430b3b9430fc805aad0b35d8bff6186d90de53954eb22f49bee4729.png',\n",
       " '224a0844ede3491a4a74574f5c298ac007ea2a6db31c3ac35e520408.png',\n",
       " 'e79fdcf2234b159fb8492f50097fcb0ddabef7bf3f05fb7ec7b3aab4.png',\n",
       " '716c8806453e0249d8e97be08ad5a22cc6d321357ed788f932f0d2f8.png',\n",
       " '9ba781b9b1f03ada8f1012b8d5d9a6d764257ccd2fe03a07009a6517.png',\n",
       " '0e09a7692f65c05d073b183c0ee9686a45cbe305c8c075535645f37c.png',\n",
       " '18a038c2ec8e1dbb6c88e50e931831b63d09458e93a021eb67833bf5.png',\n",
       " '29fdeab0d27a6c91b3fd91f49c4898604a4cfba247eb4aa554225e75.png',\n",
       " '92f8314bb62f54ac19798feeab66ed9fcff86c8e81879c9783f10531.png',\n",
       " '4595932645ed0fb2032d7e6adf892856f3528e0aba4871d18604785c.png',\n",
       " '384e8635066780937083e814e56bca6aaedd4015ea944f1f1d45d63f.png',\n",
       " '9195850d73364cd1d7f530c9448bbc02c8c144508608f0a64ee5bd43.png',\n",
       " 'b62620ac6e76d8b6ca3b2e18a61164ac13633aaadc72584f1e9bc8f1.png',\n",
       " '7ebcdc2267d7276a50267797314902c60677df1ae9a49de51345d938.png',\n",
       " 'ea1f07a573a494c16ce95e5a581c529ed6e7f264d78d6274cccde2eb.png',\n",
       " 'a0ee3ee64182912a89adaf4f10e2fd8a63a9f310859b138e98953823.png',\n",
       " '6b712f0c66bb16e694d0ca166d5754870af75b532a45dddbdce58f43.png',\n",
       " '6530a7eabc6922c20a58046851a6069503deecc073f22a034aab77e8.png',\n",
       " '829bc6813ebd4066b036970bd9ea693212eb8a964c6ad2093b24136a.png',\n",
       " '3b53d4634e59d3622680a13e8f74ff3916c2d520f617b35c8e7335da.png',\n",
       " 'cdff03f9f85268c57aa80ccf99c9ca757e2126e86c02e95d5818f832.png',\n",
       " '0399220d980d778e3309a9ba2b11fd58fb74757b45108bb6a7732561.png',\n",
       " 'a0304cc5e93bc1a3393d5ffcfaaeee159e0387226793f26279d707d7.png',\n",
       " '2a001e27a4c7a7bfb143aaff343e90787a888fa2c58bd2373ac6889d.png',\n",
       " '575c92f7961963664d267edbe9e1c634436aca9bb6c8595734b5249e.png',\n",
       " '713faaf327c2abbf9702d4245b29cdcf7128d3c7a631902d21cc9583.png',\n",
       " 'b7a169b41d1592eb22c46dc2f9151b7b3d9e72c8fa14fdeb1472700a.png',\n",
       " 'fd551c78676a0415078d6a16227ddb8697e47cd37d5a74c6f2d34170.png',\n",
       " 'f580c086f58c19a3e964b015341c35dba0e3a44fc5fbfcf65a269c88.png',\n",
       " '8b204ab604b71022b5a3810ca17d3921d32a5f1a064c6c9e8ecd912c.png',\n",
       " '35b5307e92af4dfc0518e27d8b6ee6c355edaa35ad63908872b43d8e.png',\n",
       " '28736e10a18c3524ada943158dfb2869e0c12b26ab961ba6a482b596.png',\n",
       " '9c67ec47dec0d3986f09984d2eec91dfd079bd768b7c579b1a27aa29.png',\n",
       " '52642ea7b43eaaef547afed75e2268746c91c1f708e283db71832757.png',\n",
       " 'c8dfabd4345fadbe3908f0a4679302193b2d552103d289ef0dae001f.png',\n",
       " '57d9643f11a2a29d21af4e8158f4c35c9a5826492e5fff13cef34f6b.png',\n",
       " '09c82cace14618e7e317623e99512fb260d2ad6c422ca791e53a26c2.png',\n",
       " '37209516be01335ab2a8c8959bb6e2c6e8385f031d2186d61471ad78.png',\n",
       " '5f9462143c623b0c5189e0718b1f799820ac54aecc4fde70153a2abc.png',\n",
       " 'e2fbe5e29645ae1943bef6d525d5e711a59184c332dc805c18e17b8d.png',\n",
       " '366392b8ff09a717e3fe1c14bf655ccc84cc01a110d7e7bf427d7b15.png',\n",
       " 'ec46ee31b55999e7eb39f8fcd0ca42fb6f2a90096ecab3aedd441c72.png',\n",
       " 'f0da37acc580bf7b1c06522e27ce13f8be3b804913732257d77b034f.png',\n",
       " 'cf2a3772bf08440163520995009687b2053290ab725d71d5d3f4fbb1.png',\n",
       " '9745bd8816f666181c18155e4af75a12c5c969a111b748a5847b4714.png',\n",
       " 'e4283c903c4bea98d47652971bc804fd514d2da71d086f199e896c6d.png',\n",
       " '64f6d40250b97509a2ae318ef8681db518e571b01dd63d8236d9a255.png',\n",
       " '7f4d14939b31ac69464273477aff65525974790a6afb711d05e5320b.png',\n",
       " 'b12a03f099fb586fa962a33ba538bc5315ca222809686deae01137c8.png',\n",
       " '7ea39cc673bee09ff5a0332e86b5b2a83813d90ef90487fa85026faf.png',\n",
       " 'c78790a50bd263affdc8ccda23df324ddc5c273688508a6ff9d2b0e2.png',\n",
       " '5c624a112eb5a36dd16ac49cf5c6d881c548c8752037da6b1016ca87.png',\n",
       " '4a35ec7fb182c6fb6b22f5d8b5e6b8892b60c422771a8b2ab96a9b3d.png',\n",
       " 'eb1e069f6d514eec7b38ca015fba1495d64096c80875461d2211d61d.png',\n",
       " 'dc79fa6b68dd57ed6dd28f5e303665f5681c75bfea1f6b4f5f2bd5a7.png',\n",
       " 'ce32c7b63c3a9ff8ded2de1cfed81b41f565a875ed0485dfdb4cdaa4.png',\n",
       " 'dde78bdbba436079f5457721270bc5ae14d2322f54f8af6e22df1dae.png',\n",
       " '4fb7318eb359eae0e8db7427b0a30c8d9ff99ac311e99274881bb527.png',\n",
       " 'd7a8e15024c28f78d7c24639e9b9fbfa38351d59c556ef703e640ad6.png',\n",
       " 'eaf5929c27394a7400a16fdf42830243d8bafef246888555be94b814.png',\n",
       " 'a81a612eb6488ec99fb8cc4eb576d45fc943e78bea3710e81154060e.png',\n",
       " 'faaeb675ec18b3db01d9b3dda390090b58c885ae6ea939641496c9dd.png',\n",
       " 'd6c8276babd0ba1adad9cd108d58419c0b7b043b34dac24790556f99.png',\n",
       " '1d6a3f5bc280889e7418160e001e2ef08a8832b18dc5f96a984dcf18.png',\n",
       " 'e8fcfccd8598d4fbf779a21f704112fd115b32f50a912b453d4a18e1.png',\n",
       " '12de786410553a7d669eb37246478a409028769c7f8a801d1cc0dd13.png',\n",
       " 'a101c31d2773993bfce10e818b06e09441a16304c5ebc67b9b3f8f97.png',\n",
       " 'c9d544cbc51db1f8be243db6508acc0a481b2cfe628ed5a542bb17e4.png',\n",
       " '994ed2a1e883dad58ec4c72218fab6d2c9a7a2a040e5a9e7d40da498.png',\n",
       " 'ff41984df5dfc93fb2bc5f031ecaf31e08df7b9912c4be00c4a3cce2.png',\n",
       " '1edc8612353106a15dc5bd4f4e6740b78a350742a14fa8f6e0af2341.png',\n",
       " '5fd0a4ed3cb036c8e3a45f854eacaa83dd4012082d7df1567126d840.png',\n",
       " '44d27b48a1e0cbd98c00d98a71725fd8c3e48a5865355981a975076e.png',\n",
       " '6866a29b691de5e1b546ec4b6d99a13277f24ef41fb641c8f774db22.png',\n",
       " '49a8e8030a94974708dd14759c85e3b541af0b49121dea0f1edea212.png',\n",
       " '5a5c87f4f679fee81f13a5f780d71d6b803df66c24fe89cbd5056a73.png',\n",
       " '29c3eb1e2336a46e0a0f3307a7f4b5d92eabe769ef649e9ae1f94917.png',\n",
       " '0d251d8d2128920e5caeb0093ecb9a2e1766401e8cc932c1c7f90016.png',\n",
       " '8bb975f64700a942f0538b18fb9528438c2b1a95298a767e5c656919.png',\n",
       " '8dde0ed9ba13e931a470a02e8d0ffd80ad786ac982ae72e96577f0a2.png',\n",
       " '0ed04150b6be08133d9d494fa55a2684d02cf69ab476fd63199074da.png',\n",
       " 'cc41183142c1f0dfad3391a19b08b19ca8a59908fc42d974ce9c9f63.png',\n",
       " '051a9611415975d50bd280a7b21cc23bfbb94e00d2342b01d489af78.png',\n",
       " '139cf9e99888104183e14eb8f9a9ac9fbf4d9b9ec9514cabbe9ea29c.png',\n",
       " '2139e3803249ed283294e44257643458e191341946382a613b1ad68e.png',\n",
       " '655daf1de6f2eedc27a9bbf028ac78607182fb34800531b2ea0adf9f.png',\n",
       " 'a751f638269f7f6c08a30d98bdb515de23a837b20f596de979784a93.png',\n",
       " '512a38a189cf206b2f155a61b99589531ca8f7b8b9e3203250c310e1.png',\n",
       " '71fef589220d68e0a0d4e1e64a8ac7d7410d0ab18b8ba691e7a89204.png',\n",
       " '5c9eedc6224a07ead9400ed04011ffad12012182046e29f87984af95.png',\n",
       " 'b5b04a289fb4d7e7ccf4730321bc429be5c6bc782d9292f503f545a0.png',\n",
       " '8780f16e95210956ff376d35a0bd0a5068316e13d49634d71da463c7.png',\n",
       " '3e0919567653495b5456f5ed75b4bd9d8274d114807fc49c761207cc.png',\n",
       " '37601a467866e4225f12f3eba6b2c98ec74f01b6a94df5ac12a7ce52.png',\n",
       " '085630d8c7024e8446f91729f7e71567e883db21e45f48511a053b06.png',\n",
       " '03ae4db7e1ec40ee7493b63d54ee2bfd84662d7ec94a114930c3a549.png',\n",
       " '1b54ea20cb6c087e00e61f26e6698c781aee687895505c4cde1b41ef.png',\n",
       " 'bef75c753a396912cc55b572f473abd1691605d6774f6887256f9a0f.png',\n",
       " '3f30d4cc4486465ba88ef7b9e8fa2ae9feac8864308ade5457d82d20.png',\n",
       " '0ada331e25bba677c430c7742d98251236f864e7b5985b1ad17e75d9.png',\n",
       " 'fd811db580fc273dac928346d4a5d7897dc18738699d3bb29714e4dd.png',\n",
       " 'a7315ac661d14534fae242cb34d00dbc39d4299bfed188da3b1cc830.png',\n",
       " '1460f97094ceb0c26cfe8f35f4b1a629ff764eebc4ce0957fb083e99.png',\n",
       " '8f87f856e4bf8dc90b8bce87bcb25edfd8e235f22feac5959183ce2f.png',\n",
       " '70c6639bcbfbe70cd5e6bfe3f98c213f31e9386707747a68d18078f0.png',\n",
       " 'a1f4bf6f4ef4524b9634c37836d97e95624123a51fa820cde830f3cc.png',\n",
       " '9a97f09c3b3403097c82bfd48852bc85e097a8b00d6293c4235ac3f6.png',\n",
       " '198bf9ce6ce8086f1e87d547d9f2e98d3e133252793c5c774204eafe.png',\n",
       " '2c3b6e1178b3e40fc1e4a2bc741a26ea30741578eee9e9d850d2dcc7.png',\n",
       " '4f5b6b30342fbd54cc52c220198efd6bea23d162f590c04320dbefb2.png',\n",
       " '05234e1af1a66aad8257d7a9e435a61bbb907d8563af3b67ceb81d9e.png',\n",
       " 'd1a2b01bb8233d8ea3e74e47776d0c98bcea8503ed5b4fc87bdacb66.png',\n",
       " '0c0f4358057b2d22484d232292d9d4fa02f264d019c99352e87ab54d.png',\n",
       " '63ed16f6cbfc46f0fa89fb4d4ee760cc9b60ef085dd1df841e7a4dee.png',\n",
       " '49defb3d8f9b3d7bc201cfda782ea08fc785169c767538c83e753e0b.png',\n",
       " '56b5395ed712ba11790b84ac0607f4dfbe14186fd8a8383d4b74cf97.png',\n",
       " '66c344b5fcda1fca13b942a26d2a1244fa63c1be33b35e8c13364d44.png',\n",
       " '73f8aca603019deec3d0717e8bf3acde8eb15f49004697d37f8fdb59.png',\n",
       " '97f748df7f0adf6b79c09ea2df757c8232f29de54ef69efcef743e22.png',\n",
       " '20d0e2702cdf88b0c43ad9d00b3e02d4599f9e27063cb68aea06b98b.png',\n",
       " 'ab21db6bdf0fd29788185d41dcd48f783ab19ccc118db1da7f4493f9.png',\n",
       " 'ee37985b4be70e93a533855194182156fb4bb3967e91cda0a9732154.png',\n",
       " 'b55de6a621e132d58e0e08769899b4ae1aad8c0ef9c07f49a5beffe6.png',\n",
       " '8953ead849efd133ff91e24178a0856ac537ea95cdfcb65e2f01aa49.png',\n",
       " '2c13774f74e46bd2d9ba34c976bf98186524658e8be73ef8f2fbb45f.png',\n",
       " '1a3717d468984dc294a6adad9bf77e47297471c46909d17f2d6d8081.png',\n",
       " 'ea842f756556dcfcaac4e39e1dc767b6de75dd5e03bdd26b50b3e885.png',\n",
       " '1faa18e5b0dee0d566e6c3fb52942fef9b210a87733722065564f53d.png',\n",
       " '0c627fceabca647be4f57534ed25eb2a92dff02d3cc1584cd2d524d5.png',\n",
       " '646fdab6abeec8b1ec74d5eb080096b337b5b7badc0b6a1aaa67141d.png',\n",
       " 'cfe452087515b11809ddac940d7058aca0f3c872b59a7ed2cb64e688.png',\n",
       " 'be00a72acfa9119869f75339bc3fa6b6622d3b29c7e63298418e0aca.png',\n",
       " '039cebf9df844189942640e5d37a009a4b919e17cc510ccb2cbc42d7.png',\n",
       " '544b6d197212d83c99f396cf959a61b1c8f38c29a8361eaa8e28802e.png',\n",
       " '388722ad86dd3a38ef495745e95b7760a1c015c456c5c8dd4283bf51.png',\n",
       " 'ae4bd182f02271720eced49910b5252e73ffa246565b8214ddbbe6c8.png',\n",
       " '78617e0dc086a342e6b97fd158892301c635812ecb210d92cf23344c.png',\n",
       " '0783257e0c0fbf04fc816726813b2363cbb6edb86d51f4e1d1e90ff0.png',\n",
       " '2164792f08096240cfdcfbe8eb8548a9c7b0fb5dfc7e9842f2892fde.png',\n",
       " '82e9d1094b2c60a1bbdecb45d9a251888af4cd96b3a827789e3a4cad.png',\n",
       " 'a38c65e01c250fe15d2ad72dd54064f529d758fde3f28a5e34d92d61.png',\n",
       " '3d33f3de2df4f63f512d058c52e97ea28181471b9f6b5c72af45b18e.png',\n",
       " '9b907a05b91e6f8ab9a7153d602799b909fb6e55b89362f12b2a0220.png',\n",
       " '9e4eb48fbe303dc578685fa85c667b34f0c535dd164d793a46b93e97.png']"
      ]
     },
     "execution_count": 43,
     "metadata": {},
     "output_type": "execute_result"
    }
   ],
   "source": [
    "list_img_name_used['n02056570']"
   ]
  },
  {
   "cell_type": "code",
   "execution_count": 44,
   "metadata": {},
   "outputs": [
    {
     "data": {
      "text/html": [
       "<div>\n",
       "<style scoped>\n",
       "    .dataframe tbody tr th:only-of-type {\n",
       "        vertical-align: middle;\n",
       "    }\n",
       "\n",
       "    .dataframe tbody tr th {\n",
       "        vertical-align: top;\n",
       "    }\n",
       "\n",
       "    .dataframe thead th {\n",
       "        text-align: right;\n",
       "    }\n",
       "</style>\n",
       "<table border=\"1\" class=\"dataframe\">\n",
       "  <thead>\n",
       "    <tr style=\"text-align: right;\">\n",
       "      <th></th>\n",
       "      <th>img_url</th>\n",
       "      <th>img_name</th>\n",
       "      <th>is_flickr</th>\n",
       "      <th>dt</th>\n",
       "      <th>worked</th>\n",
       "      <th>class_wnid</th>\n",
       "      <th>class_name</th>\n",
       "    </tr>\n",
       "  </thead>\n",
       "  <tbody>\n",
       "  </tbody>\n",
       "</table>\n",
       "</div>"
      ],
      "text/plain": [
       "Empty DataFrame\n",
       "Columns: [img_url, img_name, is_flickr, dt, worked, class_wnid, class_name]\n",
       "Index: []"
      ]
     },
     "execution_count": 44,
     "metadata": {},
     "output_type": "execute_result"
    }
   ],
   "source": [
    "df_dataset"
   ]
  },
  {
   "cell_type": "code",
   "execution_count": 45,
   "metadata": {},
   "outputs": [
    {
     "data": {
      "text/html": [
       "<div>\n",
       "<style scoped>\n",
       "    .dataframe tbody tr th:only-of-type {\n",
       "        vertical-align: middle;\n",
       "    }\n",
       "\n",
       "    .dataframe tbody tr th {\n",
       "        vertical-align: top;\n",
       "    }\n",
       "\n",
       "    .dataframe thead th {\n",
       "        text-align: right;\n",
       "    }\n",
       "</style>\n",
       "<table border=\"1\" class=\"dataframe\">\n",
       "  <thead>\n",
       "    <tr style=\"text-align: right;\">\n",
       "      <th></th>\n",
       "      <th>img_url</th>\n",
       "      <th>img_name</th>\n",
       "      <th>is_flickr</th>\n",
       "      <th>dt</th>\n",
       "      <th>worked</th>\n",
       "      <th>class_wnid</th>\n",
       "      <th>class_name</th>\n",
       "    </tr>\n",
       "  </thead>\n",
       "  <tbody>\n",
       "  </tbody>\n",
       "</table>\n",
       "</div>"
      ],
      "text/plain": [
       "Empty DataFrame\n",
       "Columns: [img_url, img_name, is_flickr, dt, worked, class_wnid, class_name]\n",
       "Index: []"
      ]
     },
     "execution_count": 45,
     "metadata": {},
     "output_type": "execute_result"
    }
   ],
   "source": [
    "df_dataset[df_dataset['img_url']=='http://www.cdli.ca/CITE/emperor_penguins.gif']"
   ]
  },
  {
   "cell_type": "code",
   "execution_count": 46,
   "metadata": {},
   "outputs": [
    {
     "data": {
      "text/html": [
       "<div>\n",
       "<style scoped>\n",
       "    .dataframe tbody tr th:only-of-type {\n",
       "        vertical-align: middle;\n",
       "    }\n",
       "\n",
       "    .dataframe tbody tr th {\n",
       "        vertical-align: top;\n",
       "    }\n",
       "\n",
       "    .dataframe thead th {\n",
       "        text-align: right;\n",
       "    }\n",
       "</style>\n",
       "<table border=\"1\" class=\"dataframe\">\n",
       "  <thead>\n",
       "    <tr style=\"text-align: right;\">\n",
       "      <th></th>\n",
       "      <th>img_url</th>\n",
       "      <th>img_name</th>\n",
       "      <th>is_flickr</th>\n",
       "      <th>dt</th>\n",
       "      <th>worked</th>\n",
       "      <th>class_wnid</th>\n",
       "      <th>class_name</th>\n",
       "    </tr>\n",
       "  </thead>\n",
       "  <tbody>\n",
       "  </tbody>\n",
       "</table>\n",
       "</div>"
      ],
      "text/plain": [
       "Empty DataFrame\n",
       "Columns: [img_url, img_name, is_flickr, dt, worked, class_wnid, class_name]\n",
       "Index: []"
      ]
     },
     "execution_count": 46,
     "metadata": {},
     "output_type": "execute_result"
    }
   ],
   "source": [
    "df_dataset"
   ]
  },
  {
   "cell_type": "code",
   "execution_count": 20,
   "metadata": {},
   "outputs": [],
   "source": [
    "with open(args.url_loader) as json_file:\n",
    "    Imagenet_urls_ILSVRC_2016 = json.load(json_file)"
   ]
  },
  {
   "cell_type": "code",
   "execution_count": 21,
   "metadata": {},
   "outputs": [],
   "source": [
    "for class_wnid in class_wnids:\n",
    "        list_urls =  Imagenet_urls_ILSVRC_2016[str(class_wnid)]\n",
    "        np.random.shuffle(list_urls)    "
   ]
  },
  {
   "cell_type": "code",
   "execution_count": 22,
   "metadata": {},
   "outputs": [],
   "source": [
    "list_urls = {}\n",
    "for class_wnid in class_wnids:\n",
    "    list_urls[class_wnid] =  Imagenet_urls_ILSVRC_2016[str(class_wnid)]\n",
    "    np.random.shuffle(list_urls[class_wnid])\n"
   ]
  },
  {
   "cell_type": "code",
   "execution_count": 23,
   "metadata": {},
   "outputs": [
    {
     "data": {
      "text/plain": [
       "'n07720875'"
      ]
     },
     "execution_count": 23,
     "metadata": {},
     "output_type": "execute_result"
    }
   ],
   "source": [
    "class_wnid"
   ]
  },
  {
   "cell_type": "code",
   "execution_count": 24,
   "metadata": {},
   "outputs": [
    {
     "data": {
      "text/plain": [
       "'http://farm2.static.flickr.com/1331/561484939_3ac230bc8f.jpg'"
      ]
     },
     "execution_count": 24,
     "metadata": {},
     "output_type": "execute_result"
    }
   ],
   "source": [
    "list_urls[class_wnid][0]"
   ]
  },
  {
   "cell_type": "code",
   "execution_count": 25,
   "metadata": {},
   "outputs": [
    {
     "data": {
      "text/plain": [
       "'http://farm4.static.flickr.com/3104/2482335590_2584568f24.jpg'"
      ]
     },
     "execution_count": 25,
     "metadata": {},
     "output_type": "execute_result"
    }
   ],
   "source": [
    "list_urls[class_wnid].pop()"
   ]
  },
  {
   "cell_type": "code",
   "execution_count": 26,
   "metadata": {},
   "outputs": [
    {
     "data": {
      "text/plain": [
       "({'test': 'data/test', 'val': 'data/val', 'train': 'data/train'},\n",
       " ['.DS_Store', 'test', 'train', 'val'],\n",
       " ['ant',\n",
       "  'macaque',\n",
       "  'bell pepper',\n",
       "  'cornet',\n",
       "  'king penguin',\n",
       "  'computer keyboard',\n",
       "  'vending machine',\n",
       "  'lionfish',\n",
       "  'sewing machine',\n",
       "  'albatross'],\n",
       " ['n02056570',\n",
       "  'n02058221',\n",
       "  'n02219486',\n",
       "  'n02487347',\n",
       "  'n02643566',\n",
       "  'n03085013',\n",
       "  'n03110669',\n",
       "  'n04179913',\n",
       "  'n04525305',\n",
       "  'n07720875'])"
      ]
     },
     "execution_count": 26,
     "metadata": {},
     "output_type": "execute_result"
    }
   ],
   "source": [
    "import os\n",
    "paths, os.listdir('data/'), clean_list(os.listdir(paths[folder])), class_wnids"
   ]
  },
  {
   "cell_type": "code",
   "execution_count": 27,
   "metadata": {},
   "outputs": [
    {
     "name": "stdout",
     "output_type": "stream",
     "text": [
      "test king penguin 174\n",
      "test albatross 181\n",
      "test ant 76\n",
      "test macaque 92\n",
      "test lionfish 20\n",
      "test computer keyboard 152\n",
      "test cornet 180\n",
      "test sewing machine 1\n",
      "test vending machine 1\n",
      "test bell pepper 1\n",
      "val king penguin 0\n",
      "val albatross 0\n",
      "val ant 0\n",
      "val macaque 0\n",
      "val lionfish 0\n",
      "val computer keyboard 0\n",
      "val cornet 0\n",
      "val sewing machine 0\n",
      "val vending machine 0\n",
      "val bell pepper 0\n",
      "train king penguin 0\n",
      "train albatross 0\n",
      "train ant 0\n",
      "train macaque 0\n",
      "train lionfish 0\n",
      "train computer keyboard 0\n",
      "train cornet 0\n",
      "train sewing machine 0\n",
      "train vending machine 0\n",
      "train bell pepper 0\n"
     ]
    }
   ],
   "source": [
    "for folder in args.folders:\n",
    "    for class_wnid in class_wnids:\n",
    "        class_name = reverse_id_labels[class_wnid]\n",
    "        class_folder = os.path.join(paths[folder], class_name)\n",
    "        list_dir = os.listdir(class_folder)\n",
    "        print(folder, class_name, len(clean_list(list_dir)))"
   ]
  },
  {
   "cell_type": "code",
   "execution_count": 28,
   "metadata": {
    "nteract": {
     "transient": {
      "deleting": false
     }
    }
   },
   "outputs": [
    {
     "data": {
      "text/plain": [
       "2225"
      ]
     },
     "execution_count": 28,
     "metadata": {},
     "output_type": "execute_result"
    }
   ],
   "source": [
    "Imagenet_urls_ILSVRC_2016.keys()\n",
    "len(Imagenet_urls_ILSVRC_2016['n03085013'])\n"
   ]
  },
  {
   "cell_type": "markdown",
   "metadata": {},
   "source": [
    "Let's plot some statistics for the scrapped images:"
   ]
  },
  {
   "cell_type": "code",
   "execution_count": 29,
   "metadata": {},
   "outputs": [],
   "source": [
    "filename = f'results/2021-10-20_dataset_test_inv-ope-de06.json'\n",
    "df_dataset = pd.read_json(filename)\n"
   ]
  },
  {
   "cell_type": "code",
   "execution_count": 30,
   "metadata": {},
   "outputs": [
    {
     "name": "stderr",
     "output_type": "stream",
     "text": [
      "/home/laurent/.local/lib/python3.8/site-packages/pandas/plotting/_matplotlib/core.py:1616: MatplotlibDeprecationWarning: normalize=None does not normalize if the sum is less than 1 but this behavior is deprecated since 3.3 until two minor releases later. After the deprecation period the default value will be normalize=True. To prevent normalization pass normalize=False \n",
      "  results = ax.pie(y, labels=blabels, **kwds)\n",
      "No handles with labels found to put in legend.\n",
      "No handles with labels found to put in legend.\n",
      "No handles with labels found to put in legend.\n",
      "No handles with labels found to put in legend.\n"
     ]
    },
    {
     "data": {
      "image/png": "[encoded data removed]",
      "text/plain": [
       "<Figure size 360x360 with 1 Axes>"
      ]
     },
     "metadata": {},
     "output_type": "display_data"
    },
    {
     "data": {
      "image/png": "[encoded data removed]",
      "text/plain": [
       "<Figure size 792x432 with 2 Axes>"
      ]
     },
     "metadata": {},
     "output_type": "display_data"
    },
    {
     "data": {
      "image/png": "[encoded data removed]",
      "text/plain": [
       "<Figure size 360x360 with 1 Axes>"
      ]
     },
     "metadata": {},
     "output_type": "display_data"
    },
    {
     "data": {
      "image/png": "[encoded data removed]",
      "text/plain": [
       "<Figure size 360x360 with 1 Axes>"
      ]
     },
     "metadata": {},
     "output_type": "display_data"
    },
    {
     "data": {
      "image/png": "[encoded data removed]",
      "text/plain": [
       "<Figure size 792x432 with 2 Axes>"
      ]
     },
     "metadata": {},
     "output_type": "display_data"
    },
    {
     "data": {
      "image/png": "[encoded data removed]",
      "text/plain": [
       "<Figure size 360x360 with 1 Axes>"
      ]
     },
     "metadata": {},
     "output_type": "display_data"
    },
    {
     "data": {
      "image/png": "[encoded data removed]",
      "text/plain": [
       "<Figure size 360x360 with 1 Axes>"
      ]
     },
     "metadata": {},
     "output_type": "display_data"
    },
    {
     "data": {
      "image/png": "[encoded data removed]",
      "text/plain": [
       "<Figure size 792x432 with 2 Axes>"
      ]
     },
     "metadata": {},
     "output_type": "display_data"
    },
    {
     "data": {
      "image/png": "[encoded data removed]",
      "text/plain": [
       "<Figure size 360x360 with 1 Axes>"
      ]
     },
     "metadata": {},
     "output_type": "display_data"
    }
   ],
   "source": [
    "for folder in args.folders : \n",
    "    filename = f'results/{datetag}_dataset_{folder}_{args.HOST}.json'\n",
    "    if os.path.isfile(filename):\n",
    "        df_dataset = pd.read_json(filename)\n",
    "\n",
    "        df_type = pd.DataFrame({'urls_type': [len(df_dataset[df_dataset['is_flickr']==1]), \n",
    "                                              len(df_dataset[df_dataset['is_flickr']==0])]},\n",
    "                          index=['is_flickr', 'not_flikr'])\n",
    "        df_flikr = pd.DataFrame({'not_flikr': [df_dataset[df_dataset['is_flickr']==0]['worked'].sum(), \n",
    "                                               (len(df_dataset[df_dataset['is_flickr']==0]) - df_dataset[df_dataset['is_flickr']==0]['worked'].sum())],\n",
    "                                 'is_flickr': [df_dataset[df_dataset['is_flickr']==1]['worked'].sum(), \n",
    "                                               (len(df_dataset[df_dataset['is_flickr']==1]) - df_dataset[df_dataset['is_flickr']==1]['worked'].sum())]},\n",
    "                                  index=['worked', 'not_working'])\n",
    "        df_all = pd.DataFrame({'url': [len(df_dataset[df_dataset['worked']==1]), len(df_dataset[df_dataset['worked']==0])]},\n",
    "                          index=['worked', 'not_working'])\n",
    "\n",
    "        plot_type = df_type.plot.pie(y='urls_type', figsize=(5, 5), labeldistance=None)\n",
    "        plot_type.set_title('Stats for the folder '+ folder + ' (' + str(len(df_dataset)) + ' attempts) :', size = 18)\n",
    "        if not len(df_dataset[df_dataset['is_flickr']==0]) == 0 or len(df_dataset[df_dataset['is_flickr']==1]) == 0: \n",
    "            plot_flickr = df_flikr.plot.pie(subplots=True, figsize=(11, 6), labeldistance=None)\n",
    "        plot_all = df_all.plot.pie(y='url', figsize=(5, 5), labeldistance=None)\n",
    "    else:\n",
    "        print(f'The file {filename} is not available...')"
   ]
  },
  {
   "cell_type": "markdown",
   "metadata": {},
   "source": [
    "TODO : show one representative image from each class"
   ]
  },
  {
   "cell_type": "markdown",
   "metadata": {},
   "source": [
    "## Transfer learning and dataset config\n",
    "\n",
    "In the `model.py` scrip,t we first define the `transform` functions for the datasets. To perform image augmentation, we apply the pyTorch `AutoAugment` function to the `train` and `val` dataset. Then, we load the pretrained models and store them in memory."
   ]
  },
  {
   "cell_type": "code",
   "execution_count": 31,
   "metadata": {},
   "outputs": [],
   "source": [
    "scriptname = 'DCNN_transfer_learning/model.py'"
   ]
  },
  {
   "cell_type": "code",
   "execution_count": 32,
   "metadata": {},
   "outputs": [
    {
     "name": "stdout",
     "output_type": "stream",
     "text": [
      "Overwriting DCNN_transfer_learning/model.py\n"
     ]
    }
   ],
   "source": [
    "%%writefile {scriptname}\n",
    "\n",
    "from DCNN_transfer_learning.init import *\n",
    "\n",
    "import torchvision\n",
    "from torchvision import datasets, models, transforms\n",
    "from torchvision.datasets import ImageFolder\n",
    "import torch.nn as nn\n",
    "\n",
    "# normalization used to train VGG\n",
    "# see https://pytorch.org/hub/pytorch_vision_vgg/\n",
    "mean = np.array([0.485, 0.456, 0.406])\n",
    "std = np.array([0.229, 0.224, 0.225])\n",
    "transforms_norm = transforms.Normalize(mean=mean, std=std) # to normalize colors on the imagenet dataset\n",
    "\n",
    "import seaborn as sns\n",
    "import sklearn.metrics\n",
    "from scipy import stats\n",
    "from scipy.special import logit, expit\n",
    "\n",
    "# VGG-16 datasets initialisation\n",
    "def datasets_transforms(image_size=args.image_size, p=0, num_workers=1, batch_size=args.batch_size, **kwargs):\n",
    "    data_transforms = {\n",
    "        'train': transforms.Compose([\n",
    "            transforms.Resize((int(image_size), int(image_size))),\n",
    "            transforms.AutoAugment(), # https://pytorch.org/vision/master/transforms.html#torchvision.transforms.AutoAugment\n",
    "            transforms.RandomGrayscale(p=p),\n",
    "            transforms.ToTensor(),      # Convert the image to pyTorch Tensor data type.\n",
    "            transforms_norm ]),\n",
    "\n",
    "        'val': transforms.Compose([\n",
    "            transforms.Resize((int(image_size), int(image_size))),\n",
    "            transforms.AutoAugment(), # https://pytorch.org/vision/master/transforms.html#torchvision.transforms.AutoAugment\n",
    "            transforms.RandomGrayscale(p=p),\n",
    "            transforms.ToTensor(),      # Convert the image to pyTorch Tensor data type.\n",
    "            transforms_norm ]),\n",
    "\n",
    "        'test': transforms.Compose([\n",
    "            transforms.Resize((int(image_size), int(image_size))),\n",
    "            transforms.RandomGrayscale(p=p),\n",
    "            transforms.ToTensor(),      # Convert the image to pyTorch Tensor data type.\n",
    "            transforms_norm ]),\n",
    "    }\n",
    "    #print(paths)\n",
    "    \n",
    "\n",
    "    image_datasets = {\n",
    "        folder: datasets.ImageFolder(\n",
    "            paths[folder], \n",
    "            transform=data_transforms[folder]\n",
    "        )\n",
    "        for folder in args.folders\n",
    "    }\n",
    "\n",
    "    dataloaders = {\n",
    "        folder: torch.utils.data.DataLoader(\n",
    "            image_datasets[folder], batch_size=batch_size,\n",
    "            shuffle=True, num_workers=num_workers\n",
    "        )\n",
    "        for folder in args.folders\n",
    "    }\n",
    "\n",
    "    dataset_sizes = {folder: len(image_datasets[folder]) for folder in args.folders}\n",
    "\n",
    "    return dataset_sizes, dataloaders, image_datasets, data_transforms\n",
    "\n",
    "(dataset_sizes, dataloaders, image_datasets, data_transforms) = datasets_transforms(image_size=args.image_size)\n",
    "\n",
    "for folder in args.folders : print(f\"Loaded {dataset_sizes[folder]} images under {folder}\")\n",
    "class_names = image_datasets['train'].classes\n",
    "print(\"Classes: \", image_datasets['train'].classes)\n",
    "n_output = len(os.listdir(paths['train']))"
   ]
  },
  {
   "cell_type": "code",
   "execution_count": 33,
   "metadata": {},
   "outputs": [
    {
     "ename": "FileNotFoundError",
     "evalue": "Found no valid file for the classes albatross, ant, bell pepper, computer keyboard, cornet, king penguin, lionfish, macaque, sewing machine, vending machine. Supported extensions are: .jpg, .jpeg, .png, .ppm, .bmp, .pgm, .tif, .tiff, .webp",
     "output_type": "error",
     "traceback": [
      "\u001b[0;31m---------------------------------------------------------------------------\u001b[0m",
      "\u001b[0;31mFileNotFoundError\u001b[0m                         Traceback (most recent call last)",
      "\u001b[0;32m~/quantic/science/FastAndCurious/2021-04-28_transfer_learning/DCNN_transfer_learning/model.py\u001b[0m in \u001b[0;36m<module>\u001b[0;34m\u001b[0m\n\u001b[1;32m     64\u001b[0m     \u001b[0;32mreturn\u001b[0m \u001b[0mdataset_sizes\u001b[0m\u001b[0;34m,\u001b[0m \u001b[0mdataloaders\u001b[0m\u001b[0;34m,\u001b[0m \u001b[0mimage_datasets\u001b[0m\u001b[0;34m,\u001b[0m \u001b[0mdata_transforms\u001b[0m\u001b[0;34m\u001b[0m\u001b[0;34m\u001b[0m\u001b[0m\n\u001b[1;32m     65\u001b[0m \u001b[0;34m\u001b[0m\u001b[0m\n\u001b[0;32m---> 66\u001b[0;31m \u001b[0;34m(\u001b[0m\u001b[0mdataset_sizes\u001b[0m\u001b[0;34m,\u001b[0m \u001b[0mdataloaders\u001b[0m\u001b[0;34m,\u001b[0m \u001b[0mimage_datasets\u001b[0m\u001b[0;34m,\u001b[0m \u001b[0mdata_transforms\u001b[0m\u001b[0;34m)\u001b[0m \u001b[0;34m=\u001b[0m \u001b[0mdatasets_transforms\u001b[0m\u001b[0;34m(\u001b[0m\u001b[0mimage_size\u001b[0m\u001b[0;34m=\u001b[0m\u001b[0margs\u001b[0m\u001b[0;34m.\u001b[0m\u001b[0mimage_size\u001b[0m\u001b[0;34m)\u001b[0m\u001b[0;34m\u001b[0m\u001b[0;34m\u001b[0m\u001b[0m\n\u001b[0m\u001b[1;32m     67\u001b[0m \u001b[0;34m\u001b[0m\u001b[0m\n\u001b[1;32m     68\u001b[0m \u001b[0;32mfor\u001b[0m \u001b[0mfolder\u001b[0m \u001b[0;32min\u001b[0m \u001b[0margs\u001b[0m\u001b[0;34m.\u001b[0m\u001b[0mfolders\u001b[0m \u001b[0;34m:\u001b[0m \u001b[0mprint\u001b[0m\u001b[0;34m(\u001b[0m\u001b[0;34mf\"Loaded {dataset_sizes[folder]} images under {folder}\"\u001b[0m\u001b[0;34m)\u001b[0m\u001b[0;34m\u001b[0m\u001b[0;34m\u001b[0m\u001b[0m\n",
      "\u001b[0;32m~/quantic/science/FastAndCurious/2021-04-28_transfer_learning/DCNN_transfer_learning/model.py\u001b[0m in \u001b[0;36mdatasets_transforms\u001b[0;34m(image_size, p, num_workers, batch_size, **kwargs)\u001b[0m\n\u001b[1;32m     44\u001b[0m \u001b[0;34m\u001b[0m\u001b[0m\n\u001b[1;32m     45\u001b[0m \u001b[0;34m\u001b[0m\u001b[0m\n\u001b[0;32m---> 46\u001b[0;31m     image_datasets = {\n\u001b[0m\u001b[1;32m     47\u001b[0m         folder: datasets.ImageFolder(\n\u001b[1;32m     48\u001b[0m             \u001b[0mpaths\u001b[0m\u001b[0;34m[\u001b[0m\u001b[0mfolder\u001b[0m\u001b[0;34m]\u001b[0m\u001b[0;34m,\u001b[0m\u001b[0;34m\u001b[0m\u001b[0;34m\u001b[0m\u001b[0m\n",
      "\u001b[0;32m~/quantic/science/FastAndCurious/2021-04-28_transfer_learning/DCNN_transfer_learning/model.py\u001b[0m in \u001b[0;36m<dictcomp>\u001b[0;34m(.0)\u001b[0m\n\u001b[1;32m     45\u001b[0m \u001b[0;34m\u001b[0m\u001b[0m\n\u001b[1;32m     46\u001b[0m     image_datasets = {\n\u001b[0;32m---> 47\u001b[0;31m         folder: datasets.ImageFolder(\n\u001b[0m\u001b[1;32m     48\u001b[0m             \u001b[0mpaths\u001b[0m\u001b[0;34m[\u001b[0m\u001b[0mfolder\u001b[0m\u001b[0;34m]\u001b[0m\u001b[0;34m,\u001b[0m\u001b[0;34m\u001b[0m\u001b[0;34m\u001b[0m\u001b[0m\n\u001b[1;32m     49\u001b[0m             \u001b[0mtransform\u001b[0m\u001b[0;34m=\u001b[0m\u001b[0mdata_transforms\u001b[0m\u001b[0;34m[\u001b[0m\u001b[0mfolder\u001b[0m\u001b[0;34m]\u001b[0m\u001b[0;34m\u001b[0m\u001b[0;34m\u001b[0m\u001b[0m\n",
      "\u001b[0;32m~/.local/lib/python3.8/site-packages/torchvision/datasets/folder.py\u001b[0m in \u001b[0;36m__init__\u001b[0;34m(self, root, transform, target_transform, loader, is_valid_file)\u001b[0m\n\u001b[1;32m    308\u001b[0m             \u001b[0mis_valid_file\u001b[0m\u001b[0;34m:\u001b[0m \u001b[0mOptional\u001b[0m\u001b[0;34m[\u001b[0m\u001b[0mCallable\u001b[0m\u001b[0;34m[\u001b[0m\u001b[0;34m[\u001b[0m\u001b[0mstr\u001b[0m\u001b[0;34m]\u001b[0m\u001b[0;34m,\u001b[0m \u001b[0mbool\u001b[0m\u001b[0;34m]\u001b[0m\u001b[0;34m]\u001b[0m \u001b[0;34m=\u001b[0m \u001b[0;32mNone\u001b[0m\u001b[0;34m,\u001b[0m\u001b[0;34m\u001b[0m\u001b[0;34m\u001b[0m\u001b[0m\n\u001b[1;32m    309\u001b[0m     ):\n\u001b[0;32m--> 310\u001b[0;31m         super(ImageFolder, self).__init__(root, loader, IMG_EXTENSIONS if is_valid_file is None else None,\n\u001b[0m\u001b[1;32m    311\u001b[0m                                           \u001b[0mtransform\u001b[0m\u001b[0;34m=\u001b[0m\u001b[0mtransform\u001b[0m\u001b[0;34m,\u001b[0m\u001b[0;34m\u001b[0m\u001b[0;34m\u001b[0m\u001b[0m\n\u001b[1;32m    312\u001b[0m                                           \u001b[0mtarget_transform\u001b[0m\u001b[0;34m=\u001b[0m\u001b[0mtarget_transform\u001b[0m\u001b[0;34m,\u001b[0m\u001b[0;34m\u001b[0m\u001b[0;34m\u001b[0m\u001b[0m\n",
      "\u001b[0;32m~/.local/lib/python3.8/site-packages/torchvision/datasets/folder.py\u001b[0m in \u001b[0;36m__init__\u001b[0;34m(self, root, loader, extensions, transform, target_transform, is_valid_file)\u001b[0m\n\u001b[1;32m    144\u001b[0m                                             target_transform=target_transform)\n\u001b[1;32m    145\u001b[0m         \u001b[0mclasses\u001b[0m\u001b[0;34m,\u001b[0m \u001b[0mclass_to_idx\u001b[0m \u001b[0;34m=\u001b[0m \u001b[0mself\u001b[0m\u001b[0;34m.\u001b[0m\u001b[0mfind_classes\u001b[0m\u001b[0;34m(\u001b[0m\u001b[0mself\u001b[0m\u001b[0;34m.\u001b[0m\u001b[0mroot\u001b[0m\u001b[0;34m)\u001b[0m\u001b[0;34m\u001b[0m\u001b[0;34m\u001b[0m\u001b[0m\n\u001b[0;32m--> 146\u001b[0;31m         \u001b[0msamples\u001b[0m \u001b[0;34m=\u001b[0m \u001b[0mself\u001b[0m\u001b[0;34m.\u001b[0m\u001b[0mmake_dataset\u001b[0m\u001b[0;34m(\u001b[0m\u001b[0mself\u001b[0m\u001b[0;34m.\u001b[0m\u001b[0mroot\u001b[0m\u001b[0;34m,\u001b[0m \u001b[0mclass_to_idx\u001b[0m\u001b[0;34m,\u001b[0m \u001b[0mextensions\u001b[0m\u001b[0;34m,\u001b[0m \u001b[0mis_valid_file\u001b[0m\u001b[0;34m)\u001b[0m\u001b[0;34m\u001b[0m\u001b[0;34m\u001b[0m\u001b[0m\n\u001b[0m\u001b[1;32m    147\u001b[0m \u001b[0;34m\u001b[0m\u001b[0m\n\u001b[1;32m    148\u001b[0m         \u001b[0mself\u001b[0m\u001b[0;34m.\u001b[0m\u001b[0mloader\u001b[0m \u001b[0;34m=\u001b[0m \u001b[0mloader\u001b[0m\u001b[0;34m\u001b[0m\u001b[0;34m\u001b[0m\u001b[0m\n",
      "\u001b[0;32m~/.local/lib/python3.8/site-packages/torchvision/datasets/folder.py\u001b[0m in \u001b[0;36mmake_dataset\u001b[0;34m(directory, class_to_idx, extensions, is_valid_file)\u001b[0m\n\u001b[1;32m    190\u001b[0m                 \u001b[0;34m\"The class_to_idx parameter cannot be None.\"\u001b[0m\u001b[0;34m\u001b[0m\u001b[0;34m\u001b[0m\u001b[0m\n\u001b[1;32m    191\u001b[0m             )\n\u001b[0;32m--> 192\u001b[0;31m         \u001b[0;32mreturn\u001b[0m \u001b[0mmake_dataset\u001b[0m\u001b[0;34m(\u001b[0m\u001b[0mdirectory\u001b[0m\u001b[0;34m,\u001b[0m \u001b[0mclass_to_idx\u001b[0m\u001b[0;34m,\u001b[0m \u001b[0mextensions\u001b[0m\u001b[0;34m=\u001b[0m\u001b[0mextensions\u001b[0m\u001b[0;34m,\u001b[0m \u001b[0mis_valid_file\u001b[0m\u001b[0;34m=\u001b[0m\u001b[0mis_valid_file\u001b[0m\u001b[0;34m)\u001b[0m\u001b[0;34m\u001b[0m\u001b[0;34m\u001b[0m\u001b[0m\n\u001b[0m\u001b[1;32m    193\u001b[0m \u001b[0;34m\u001b[0m\u001b[0m\n\u001b[1;32m    194\u001b[0m     \u001b[0;32mdef\u001b[0m \u001b[0mfind_classes\u001b[0m\u001b[0;34m(\u001b[0m\u001b[0mself\u001b[0m\u001b[0;34m,\u001b[0m \u001b[0mdirectory\u001b[0m\u001b[0;34m:\u001b[0m \u001b[0mstr\u001b[0m\u001b[0;34m)\u001b[0m \u001b[0;34m->\u001b[0m \u001b[0mTuple\u001b[0m\u001b[0;34m[\u001b[0m\u001b[0mList\u001b[0m\u001b[0;34m[\u001b[0m\u001b[0mstr\u001b[0m\u001b[0;34m]\u001b[0m\u001b[0;34m,\u001b[0m \u001b[0mDict\u001b[0m\u001b[0;34m[\u001b[0m\u001b[0mstr\u001b[0m\u001b[0;34m,\u001b[0m \u001b[0mint\u001b[0m\u001b[0;34m]\u001b[0m\u001b[0;34m]\u001b[0m\u001b[0;34m:\u001b[0m\u001b[0;34m\u001b[0m\u001b[0;34m\u001b[0m\u001b[0m\n",
      "\u001b[0;32m~/.local/lib/python3.8/site-packages/torchvision/datasets/folder.py\u001b[0m in \u001b[0;36mmake_dataset\u001b[0;34m(directory, class_to_idx, extensions, is_valid_file)\u001b[0m\n\u001b[1;32m    100\u001b[0m         \u001b[0;32mif\u001b[0m \u001b[0mextensions\u001b[0m \u001b[0;32mis\u001b[0m \u001b[0;32mnot\u001b[0m \u001b[0;32mNone\u001b[0m\u001b[0;34m:\u001b[0m\u001b[0;34m\u001b[0m\u001b[0;34m\u001b[0m\u001b[0m\n\u001b[1;32m    101\u001b[0m             \u001b[0mmsg\u001b[0m \u001b[0;34m+=\u001b[0m \u001b[0;34mf\"Supported extensions are: {', '.join(extensions)}\"\u001b[0m\u001b[0;34m\u001b[0m\u001b[0;34m\u001b[0m\u001b[0m\n\u001b[0;32m--> 102\u001b[0;31m         \u001b[0;32mraise\u001b[0m \u001b[0mFileNotFoundError\u001b[0m\u001b[0;34m(\u001b[0m\u001b[0mmsg\u001b[0m\u001b[0;34m)\u001b[0m\u001b[0;34m\u001b[0m\u001b[0;34m\u001b[0m\u001b[0m\n\u001b[0m\u001b[1;32m    103\u001b[0m \u001b[0;34m\u001b[0m\u001b[0m\n\u001b[1;32m    104\u001b[0m     \u001b[0;32mreturn\u001b[0m \u001b[0minstances\u001b[0m\u001b[0;34m\u001b[0m\u001b[0;34m\u001b[0m\u001b[0m\n",
      "\u001b[0;31mFileNotFoundError\u001b[0m: Found no valid file for the classes albatross, ant, bell pepper, computer keyboard, cornet, king penguin, lionfish, macaque, sewing machine, vending machine. Supported extensions are: .jpg, .jpeg, .png, .ppm, .bmp, .pgm, .tif, .tiff, .webp"
     ]
    },
    {
     "name": "stdout",
     "output_type": "stream",
     "text": [
      "\n",
      "IPython CPU timings (estimated):\n",
      "  User   :       0.54 s.\n",
      "  System :       0.14 s.\n",
      "Wall time:       0.49 s.\n"
     ]
    },
    {
     "data": {
      "text/plain": [
       "<Figure size 432x288 with 0 Axes>"
      ]
     },
     "metadata": {},
     "output_type": "display_data"
    }
   ],
   "source": [
    "%run -int {scriptname}"
   ]
  },
  {
   "cell_type": "markdown",
   "metadata": {},
   "source": [
    "## Training process\n",
    "\n",
    "Finaly, we implement the training process in `experiment_train.py`, using a classic training script with pyTorch. For further statistical analyses, we extract factors (like the accuracy and loss) within a `pandas` object (a `DataFrame`). "
   ]
  },
  {
   "cell_type": "code",
   "execution_count": 34,
   "metadata": {},
   "outputs": [],
   "source": [
    "scriptname = 'experiment_train.py'"
   ]
  },
  {
   "cell_type": "code",
   "execution_count": 35,
   "metadata": {},
   "outputs": [
    {
     "name": "stdout",
     "output_type": "stream",
     "text": [
      "Overwriting experiment_train.py\n"
     ]
    }
   ],
   "source": [
    "%%writefile {scriptname}\n",
    "from DCNN_transfer_learning.model import *\n",
    "\n",
    "def train_model(model, num_epochs, dataloaders, lr=args.lr, momentum=args.momentum, beta2=args.beta2, log_interval=100, **kwargs):\n",
    "    \n",
    "    model.to(device)\n",
    "    if beta2 > 0.: \n",
    "        optimizer = torch.optim.Adam(model.parameters(), lr=lr, betas=(momentum, beta2)) #, amsgrad=amsgrad)\n",
    "    else:\n",
    "        optimizer = torch.optim.SGD(model.parameters(), lr=lr, momentum=momentum) # to set training variables\n",
    "\n",
    "    df_train = pd.DataFrame([], columns=['epoch', 'avg_loss', 'avg_acc', 'avg_loss_val', 'avg_acc_val', 'device_type']) \n",
    "\n",
    "    for epoch in range(num_epochs):\n",
    "        loss_train = 0\n",
    "        acc_train = 0\n",
    "        for i, (images, labels) in enumerate(dataloaders['train']):\n",
    "            images, labels = images.to(device), labels.to(device)\n",
    "            \n",
    "            optimizer.zero_grad()\n",
    "            outputs = model(images)\n",
    "            loss = criterion(outputs, labels)\n",
    "\n",
    "            loss.backward()\n",
    "            optimizer.step()\n",
    "\n",
    "            loss_train += loss.item() * images.size(0)\n",
    "            _, preds = torch.max(outputs.data, 1)\n",
    "            acc_train += torch.sum(preds == labels.data)\n",
    "            \n",
    "        avg_loss = loss_train / dataset_sizes['train']\n",
    "        avg_acc = acc_train / dataset_sizes['train']\n",
    "           \n",
    "        with torch.no_grad():\n",
    "            loss_val = 0\n",
    "            acc_val = 0\n",
    "            for i, (images, labels) in enumerate(dataloaders['val']):\n",
    "                images, labels = images.to(device), labels.to(device)\n",
    "\n",
    "                outputs = model(images)\n",
    "                loss = criterion(outputs, labels)\n",
    "\n",
    "                loss_val += loss.item() * images.size(0)\n",
    "                _, preds = torch.max(outputs.data, 1)\n",
    "                acc_val += torch.sum(preds == labels.data)\n",
    "        \n",
    "            avg_loss_val = loss_val / dataset_sizes['val']\n",
    "            avg_acc_val = acc_val / dataset_sizes['val']\n",
    "        \n",
    "        df_train.loc[epoch] = {'epoch':epoch, 'avg_loss':avg_loss, 'avg_acc':float(avg_acc),\n",
    "                               'avg_loss_val':avg_loss_val, 'avg_acc_val':float(avg_acc_val), 'device_type':device.type}\n",
    "        print(f\"Epoch {epoch+1}/{num_epochs} : train= loss: {avg_loss:.4f} / acc : {avg_acc:.4f} - val= loss : {avg_loss_val:.4f} / acc : {avg_acc_val:.4f}\")\n",
    "\n",
    "    model.cpu()\n",
    "    torch.cuda.empty_cache()\n",
    "    return model, df_train\n",
    "\n",
    " \n",
    "criterion = nn.CrossEntropyLoss()\n",
    "\n",
    "\n",
    "# Training and saving the network\n",
    "\n",
    "models_vgg = {}\n",
    "opt = {}\n",
    "#df_train = {}\n",
    "\n",
    "models_vgg['vgg'] = torchvision.models.vgg16(pretrained=True)\n",
    "\n",
    "# Downloading the model\n",
    "model_filenames = {}\n",
    "for model_name in args.model_names:\n",
    "    model_filenames[model_name] = args.model_path + model_name + '.pt'\n",
    "    filename = f'results/{datetag}_{args.HOST}_train_{model_name}.json'\n",
    "\n",
    "    models_vgg[model_name] = torchvision.models.vgg16(pretrained=True)\n",
    "    # TODO : compare with full learning\n",
    "    # Freeze training for all layers\n",
    "    # Newly created modules have require_grad=True by default\n",
    "    for param in models_vgg[model_name].features.parameters():\n",
    "        param.require_grad = False \n",
    "\n",
    "    if model_name == 'vgg16_lin':\n",
    "        num_features = models_vgg[model_name].classifier[-1].out_features\n",
    "        features = list(models_vgg[model_name].classifier.children())\n",
    "        features.extend([nn.Linear(num_features, n_output)]) # Adding one layer on top of last layer\n",
    "        models_vgg[model_name].classifier = nn.Sequential(*features)\n",
    "\n",
    "    else : \n",
    "        num_features = models_vgg[model_name].classifier[-1].in_features\n",
    "        features = list(models_vgg[model_name].classifier.children())[:-1] # Remove last layer\n",
    "        features.extend([nn.Linear(num_features, n_output)]) # Add our layer with 10 outputs\n",
    "        models_vgg[model_name].classifier = nn.Sequential(*features) # Replace the model classifier\n",
    "\n",
    "    if os.path.isfile(model_filenames[model_name]):\n",
    "        print(\"Loading pretrained model for..\", model_name, ' from', model_filenames[model_name])\n",
    "        #print(\"Resume_training : \", resume_training)\n",
    "\n",
    "        if device.type == 'cuda':\n",
    "            models_vgg[model_name].load_state_dict(torch.load(model_filenames[model_name])) #on GPU\n",
    "        else:\n",
    "            models_vgg[model_name].load_state_dict(torch.load(model_filenames[model_name], map_location=torch.device('cpu'))) #on CPU\n",
    "\n",
    "    else:\n",
    "        print(\"Re-training pretrained model...\", model_filenames[model_name])\n",
    "        since = time.time()\n",
    "\n",
    "        p = 1 if model_name == 'vgg16_gray' else 0\n",
    "        if model_name =='vgg16_scale':\n",
    "            df_train = None\n",
    "            for image_size_ in args.image_sizes: # starting with low resolution images \n",
    "                print(f\"Traning {model_name}, image_size = {image_size_}, p (Grayscale) = {p}\")\n",
    "                (dataset_sizes, dataloaders, image_datasets, data_transforms) = datasets_transforms(image_size=image_size_, p=p)\n",
    "                models_vgg[model_name], df_train_ = train_model(models_vgg[model_name], num_epochs=args.num_epochs//len(args.image_sizes),\n",
    "                                                             dataloaders=dataloaders)\n",
    "                df_train = df_train_ if df_train is None else df_train.append(df_train_, ignore_index=True)\n",
    "        else :\n",
    "            print(f\"Traning {model_name}, image_size = {args.image_size}, p (Grayscale) = {p}\")\n",
    "            (dataset_sizes, dataloaders, image_datasets, data_transforms) = datasets_transforms(image_size=args.image_size, p=p)\n",
    "            models_vgg[model_name], df_train = train_model(models_vgg[model_name], num_epochs=args.num_epochs,\n",
    "                                                        dataloaders=dataloaders)\n",
    "        torch.save(models_vgg[model_name].state_dict(), model_filenames[model_name])\n",
    "        df_train.to_json(filename)\n",
    "        elapsed_time = time.time() - since\n",
    "        print(f\"Training completed in {elapsed_time // 60:.0f}m {elapsed_time % 60:.0f}s\")\n",
    "        print()\n"
   ]
  },
  {
   "cell_type": "code",
   "execution_count": 36,
   "metadata": {
    "tags": []
   },
   "outputs": [
    {
     "ename": "FileNotFoundError",
     "evalue": "Found no valid file for the classes albatross, ant, bell pepper, computer keyboard, cornet, king penguin, lionfish, macaque, sewing machine, vending machine. Supported extensions are: .jpg, .jpeg, .png, .ppm, .bmp, .pgm, .tif, .tiff, .webp",
     "output_type": "error",
     "traceback": [
      "\u001b[0;31m---------------------------------------------------------------------------\u001b[0m",
      "\u001b[0;31mFileNotFoundError\u001b[0m                         Traceback (most recent call last)",
      "\u001b[0;32m~/quantic/science/FastAndCurious/2021-04-28_transfer_learning/experiment_train.py\u001b[0m in \u001b[0;36m<module>\u001b[0;34m\u001b[0m\n\u001b[0;32m----> 1\u001b[0;31m \u001b[0;32mfrom\u001b[0m \u001b[0mDCNN_transfer_learning\u001b[0m\u001b[0;34m.\u001b[0m\u001b[0mmodel\u001b[0m \u001b[0;32mimport\u001b[0m \u001b[0;34m*\u001b[0m\u001b[0;34m\u001b[0m\u001b[0;34m\u001b[0m\u001b[0m\n\u001b[0m\u001b[1;32m      2\u001b[0m \u001b[0;34m\u001b[0m\u001b[0m\n\u001b[1;32m      3\u001b[0m \u001b[0;32mdef\u001b[0m \u001b[0mtrain_model\u001b[0m\u001b[0;34m(\u001b[0m\u001b[0mmodel\u001b[0m\u001b[0;34m,\u001b[0m \u001b[0mnum_epochs\u001b[0m\u001b[0;34m,\u001b[0m \u001b[0mdataloaders\u001b[0m\u001b[0;34m,\u001b[0m \u001b[0mlr\u001b[0m\u001b[0;34m=\u001b[0m\u001b[0margs\u001b[0m\u001b[0;34m.\u001b[0m\u001b[0mlr\u001b[0m\u001b[0;34m,\u001b[0m \u001b[0mmomentum\u001b[0m\u001b[0;34m=\u001b[0m\u001b[0margs\u001b[0m\u001b[0;34m.\u001b[0m\u001b[0mmomentum\u001b[0m\u001b[0;34m,\u001b[0m \u001b[0mlog_interval\u001b[0m\u001b[0;34m=\u001b[0m\u001b[0;36m100\u001b[0m\u001b[0;34m,\u001b[0m \u001b[0;34m**\u001b[0m\u001b[0mkwargs\u001b[0m\u001b[0;34m)\u001b[0m\u001b[0;34m:\u001b[0m\u001b[0;34m\u001b[0m\u001b[0;34m\u001b[0m\u001b[0m\n\u001b[1;32m      4\u001b[0m \u001b[0;34m\u001b[0m\u001b[0m\n\u001b[1;32m      5\u001b[0m     \u001b[0mmodel\u001b[0m\u001b[0;34m.\u001b[0m\u001b[0mto\u001b[0m\u001b[0;34m(\u001b[0m\u001b[0mdevice\u001b[0m\u001b[0;34m)\u001b[0m\u001b[0;34m\u001b[0m\u001b[0;34m\u001b[0m\u001b[0m\n",
      "\u001b[0;32m~/quantic/science/FastAndCurious/2021-04-28_transfer_learning/DCNN_transfer_learning/model.py\u001b[0m in \u001b[0;36m<module>\u001b[0;34m\u001b[0m\n\u001b[1;32m     64\u001b[0m     \u001b[0;32mreturn\u001b[0m \u001b[0mdataset_sizes\u001b[0m\u001b[0;34m,\u001b[0m \u001b[0mdataloaders\u001b[0m\u001b[0;34m,\u001b[0m \u001b[0mimage_datasets\u001b[0m\u001b[0;34m,\u001b[0m \u001b[0mdata_transforms\u001b[0m\u001b[0;34m\u001b[0m\u001b[0;34m\u001b[0m\u001b[0m\n\u001b[1;32m     65\u001b[0m \u001b[0;34m\u001b[0m\u001b[0m\n\u001b[0;32m---> 66\u001b[0;31m \u001b[0;34m(\u001b[0m\u001b[0mdataset_sizes\u001b[0m\u001b[0;34m,\u001b[0m \u001b[0mdataloaders\u001b[0m\u001b[0;34m,\u001b[0m \u001b[0mimage_datasets\u001b[0m\u001b[0;34m,\u001b[0m \u001b[0mdata_transforms\u001b[0m\u001b[0;34m)\u001b[0m \u001b[0;34m=\u001b[0m \u001b[0mdatasets_transforms\u001b[0m\u001b[0;34m(\u001b[0m\u001b[0mimage_size\u001b[0m\u001b[0;34m=\u001b[0m\u001b[0margs\u001b[0m\u001b[0;34m.\u001b[0m\u001b[0mimage_size\u001b[0m\u001b[0;34m)\u001b[0m\u001b[0;34m\u001b[0m\u001b[0;34m\u001b[0m\u001b[0m\n\u001b[0m\u001b[1;32m     67\u001b[0m \u001b[0;34m\u001b[0m\u001b[0m\n\u001b[1;32m     68\u001b[0m \u001b[0;32mfor\u001b[0m \u001b[0mfolder\u001b[0m \u001b[0;32min\u001b[0m \u001b[0margs\u001b[0m\u001b[0;34m.\u001b[0m\u001b[0mfolders\u001b[0m \u001b[0;34m:\u001b[0m \u001b[0mprint\u001b[0m\u001b[0;34m(\u001b[0m\u001b[0;34mf\"Loaded {dataset_sizes[folder]} images under {folder}\"\u001b[0m\u001b[0;34m)\u001b[0m\u001b[0;34m\u001b[0m\u001b[0;34m\u001b[0m\u001b[0m\n",
      "\u001b[0;32m~/quantic/science/FastAndCurious/2021-04-28_transfer_learning/DCNN_transfer_learning/model.py\u001b[0m in \u001b[0;36mdatasets_transforms\u001b[0;34m(image_size, p, num_workers, batch_size, **kwargs)\u001b[0m\n\u001b[1;32m     44\u001b[0m \u001b[0;34m\u001b[0m\u001b[0m\n\u001b[1;32m     45\u001b[0m \u001b[0;34m\u001b[0m\u001b[0m\n\u001b[0;32m---> 46\u001b[0;31m     image_datasets = {\n\u001b[0m\u001b[1;32m     47\u001b[0m         folder: datasets.ImageFolder(\n\u001b[1;32m     48\u001b[0m             \u001b[0mpaths\u001b[0m\u001b[0;34m[\u001b[0m\u001b[0mfolder\u001b[0m\u001b[0;34m]\u001b[0m\u001b[0;34m,\u001b[0m\u001b[0;34m\u001b[0m\u001b[0;34m\u001b[0m\u001b[0m\n",
      "\u001b[0;32m~/quantic/science/FastAndCurious/2021-04-28_transfer_learning/DCNN_transfer_learning/model.py\u001b[0m in \u001b[0;36m<dictcomp>\u001b[0;34m(.0)\u001b[0m\n\u001b[1;32m     45\u001b[0m \u001b[0;34m\u001b[0m\u001b[0m\n\u001b[1;32m     46\u001b[0m     image_datasets = {\n\u001b[0;32m---> 47\u001b[0;31m         folder: datasets.ImageFolder(\n\u001b[0m\u001b[1;32m     48\u001b[0m             \u001b[0mpaths\u001b[0m\u001b[0;34m[\u001b[0m\u001b[0mfolder\u001b[0m\u001b[0;34m]\u001b[0m\u001b[0;34m,\u001b[0m\u001b[0;34m\u001b[0m\u001b[0;34m\u001b[0m\u001b[0m\n\u001b[1;32m     49\u001b[0m             \u001b[0mtransform\u001b[0m\u001b[0;34m=\u001b[0m\u001b[0mdata_transforms\u001b[0m\u001b[0;34m[\u001b[0m\u001b[0mfolder\u001b[0m\u001b[0;34m]\u001b[0m\u001b[0;34m\u001b[0m\u001b[0;34m\u001b[0m\u001b[0m\n",
      "\u001b[0;32m~/.local/lib/python3.8/site-packages/torchvision/datasets/folder.py\u001b[0m in \u001b[0;36m__init__\u001b[0;34m(self, root, transform, target_transform, loader, is_valid_file)\u001b[0m\n\u001b[1;32m    308\u001b[0m             \u001b[0mis_valid_file\u001b[0m\u001b[0;34m:\u001b[0m \u001b[0mOptional\u001b[0m\u001b[0;34m[\u001b[0m\u001b[0mCallable\u001b[0m\u001b[0;34m[\u001b[0m\u001b[0;34m[\u001b[0m\u001b[0mstr\u001b[0m\u001b[0;34m]\u001b[0m\u001b[0;34m,\u001b[0m \u001b[0mbool\u001b[0m\u001b[0;34m]\u001b[0m\u001b[0;34m]\u001b[0m \u001b[0;34m=\u001b[0m \u001b[0;32mNone\u001b[0m\u001b[0;34m,\u001b[0m\u001b[0;34m\u001b[0m\u001b[0;34m\u001b[0m\u001b[0m\n\u001b[1;32m    309\u001b[0m     ):\n\u001b[0;32m--> 310\u001b[0;31m         super(ImageFolder, self).__init__(root, loader, IMG_EXTENSIONS if is_valid_file is None else None,\n\u001b[0m\u001b[1;32m    311\u001b[0m                                           \u001b[0mtransform\u001b[0m\u001b[0;34m=\u001b[0m\u001b[0mtransform\u001b[0m\u001b[0;34m,\u001b[0m\u001b[0;34m\u001b[0m\u001b[0;34m\u001b[0m\u001b[0m\n\u001b[1;32m    312\u001b[0m                                           \u001b[0mtarget_transform\u001b[0m\u001b[0;34m=\u001b[0m\u001b[0mtarget_transform\u001b[0m\u001b[0;34m,\u001b[0m\u001b[0;34m\u001b[0m\u001b[0;34m\u001b[0m\u001b[0m\n",
      "\u001b[0;32m~/.local/lib/python3.8/site-packages/torchvision/datasets/folder.py\u001b[0m in \u001b[0;36m__init__\u001b[0;34m(self, root, loader, extensions, transform, target_transform, is_valid_file)\u001b[0m\n\u001b[1;32m    144\u001b[0m                                             target_transform=target_transform)\n\u001b[1;32m    145\u001b[0m         \u001b[0mclasses\u001b[0m\u001b[0;34m,\u001b[0m \u001b[0mclass_to_idx\u001b[0m \u001b[0;34m=\u001b[0m \u001b[0mself\u001b[0m\u001b[0;34m.\u001b[0m\u001b[0mfind_classes\u001b[0m\u001b[0;34m(\u001b[0m\u001b[0mself\u001b[0m\u001b[0;34m.\u001b[0m\u001b[0mroot\u001b[0m\u001b[0;34m)\u001b[0m\u001b[0;34m\u001b[0m\u001b[0;34m\u001b[0m\u001b[0m\n\u001b[0;32m--> 146\u001b[0;31m         \u001b[0msamples\u001b[0m \u001b[0;34m=\u001b[0m \u001b[0mself\u001b[0m\u001b[0;34m.\u001b[0m\u001b[0mmake_dataset\u001b[0m\u001b[0;34m(\u001b[0m\u001b[0mself\u001b[0m\u001b[0;34m.\u001b[0m\u001b[0mroot\u001b[0m\u001b[0;34m,\u001b[0m \u001b[0mclass_to_idx\u001b[0m\u001b[0;34m,\u001b[0m \u001b[0mextensions\u001b[0m\u001b[0;34m,\u001b[0m \u001b[0mis_valid_file\u001b[0m\u001b[0;34m)\u001b[0m\u001b[0;34m\u001b[0m\u001b[0;34m\u001b[0m\u001b[0m\n\u001b[0m\u001b[1;32m    147\u001b[0m \u001b[0;34m\u001b[0m\u001b[0m\n\u001b[1;32m    148\u001b[0m         \u001b[0mself\u001b[0m\u001b[0;34m.\u001b[0m\u001b[0mloader\u001b[0m \u001b[0;34m=\u001b[0m \u001b[0mloader\u001b[0m\u001b[0;34m\u001b[0m\u001b[0;34m\u001b[0m\u001b[0m\n",
      "\u001b[0;32m~/.local/lib/python3.8/site-packages/torchvision/datasets/folder.py\u001b[0m in \u001b[0;36mmake_dataset\u001b[0;34m(directory, class_to_idx, extensions, is_valid_file)\u001b[0m\n\u001b[1;32m    190\u001b[0m                 \u001b[0;34m\"The class_to_idx parameter cannot be None.\"\u001b[0m\u001b[0;34m\u001b[0m\u001b[0;34m\u001b[0m\u001b[0m\n\u001b[1;32m    191\u001b[0m             )\n\u001b[0;32m--> 192\u001b[0;31m         \u001b[0;32mreturn\u001b[0m \u001b[0mmake_dataset\u001b[0m\u001b[0;34m(\u001b[0m\u001b[0mdirectory\u001b[0m\u001b[0;34m,\u001b[0m \u001b[0mclass_to_idx\u001b[0m\u001b[0;34m,\u001b[0m \u001b[0mextensions\u001b[0m\u001b[0;34m=\u001b[0m\u001b[0mextensions\u001b[0m\u001b[0;34m,\u001b[0m \u001b[0mis_valid_file\u001b[0m\u001b[0;34m=\u001b[0m\u001b[0mis_valid_file\u001b[0m\u001b[0;34m)\u001b[0m\u001b[0;34m\u001b[0m\u001b[0;34m\u001b[0m\u001b[0m\n\u001b[0m\u001b[1;32m    193\u001b[0m \u001b[0;34m\u001b[0m\u001b[0m\n\u001b[1;32m    194\u001b[0m     \u001b[0;32mdef\u001b[0m \u001b[0mfind_classes\u001b[0m\u001b[0;34m(\u001b[0m\u001b[0mself\u001b[0m\u001b[0;34m,\u001b[0m \u001b[0mdirectory\u001b[0m\u001b[0;34m:\u001b[0m \u001b[0mstr\u001b[0m\u001b[0;34m)\u001b[0m \u001b[0;34m->\u001b[0m \u001b[0mTuple\u001b[0m\u001b[0;34m[\u001b[0m\u001b[0mList\u001b[0m\u001b[0;34m[\u001b[0m\u001b[0mstr\u001b[0m\u001b[0;34m]\u001b[0m\u001b[0;34m,\u001b[0m \u001b[0mDict\u001b[0m\u001b[0;34m[\u001b[0m\u001b[0mstr\u001b[0m\u001b[0;34m,\u001b[0m \u001b[0mint\u001b[0m\u001b[0;34m]\u001b[0m\u001b[0;34m]\u001b[0m\u001b[0;34m:\u001b[0m\u001b[0;34m\u001b[0m\u001b[0;34m\u001b[0m\u001b[0m\n",
      "\u001b[0;32m~/.local/lib/python3.8/site-packages/torchvision/datasets/folder.py\u001b[0m in \u001b[0;36mmake_dataset\u001b[0;34m(directory, class_to_idx, extensions, is_valid_file)\u001b[0m\n\u001b[1;32m    100\u001b[0m         \u001b[0;32mif\u001b[0m \u001b[0mextensions\u001b[0m \u001b[0;32mis\u001b[0m \u001b[0;32mnot\u001b[0m \u001b[0;32mNone\u001b[0m\u001b[0;34m:\u001b[0m\u001b[0;34m\u001b[0m\u001b[0;34m\u001b[0m\u001b[0m\n\u001b[1;32m    101\u001b[0m             \u001b[0mmsg\u001b[0m \u001b[0;34m+=\u001b[0m \u001b[0;34mf\"Supported extensions are: {', '.join(extensions)}\"\u001b[0m\u001b[0;34m\u001b[0m\u001b[0;34m\u001b[0m\u001b[0m\n\u001b[0;32m--> 102\u001b[0;31m         \u001b[0;32mraise\u001b[0m \u001b[0mFileNotFoundError\u001b[0m\u001b[0;34m(\u001b[0m\u001b[0mmsg\u001b[0m\u001b[0;34m)\u001b[0m\u001b[0;34m\u001b[0m\u001b[0;34m\u001b[0m\u001b[0m\n\u001b[0m\u001b[1;32m    103\u001b[0m \u001b[0;34m\u001b[0m\u001b[0m\n\u001b[1;32m    104\u001b[0m     \u001b[0;32mreturn\u001b[0m \u001b[0minstances\u001b[0m\u001b[0;34m\u001b[0m\u001b[0;34m\u001b[0m\u001b[0m\n",
      "\u001b[0;31mFileNotFoundError\u001b[0m: Found no valid file for the classes albatross, ant, bell pepper, computer keyboard, cornet, king penguin, lionfish, macaque, sewing machine, vending machine. Supported extensions are: .jpg, .jpeg, .png, .ppm, .bmp, .pgm, .tif, .tiff, .webp"
     ]
    },
    {
     "name": "stdout",
     "output_type": "stream",
     "text": [
      "\n",
      "IPython CPU timings (estimated):\n",
      "  User   :       0.02 s.\n",
      "  System :       0.00 s.\n",
      "Wall time:       0.03 s.\n"
     ]
    }
   ],
   "source": [
    "%run -int {scriptname}"
   ]
  },
  {
   "cell_type": "markdown",
   "metadata": {},
   "source": [
    "Here we display both average accuracy and loss during the training phase and during the validation one : "
   ]
  },
  {
   "cell_type": "code",
   "execution_count": 37,
   "metadata": {},
   "outputs": [
    {
     "name": "stdout",
     "output_type": "stream",
     "text": [
      "ls: cannot access 'results/2021-10-26_inv-ope-de06_train_vgg16_lin.json': No such file or directory\n"
     ]
    }
   ],
   "source": [
    "model_name = 'vgg16_lin'\n",
    "filename = f'results/{datetag}_{args.HOST}_train_{model_name}.json'\n",
    "%ls {filename}"
   ]
  },
  {
   "cell_type": "code",
   "execution_count": 38,
   "metadata": {},
   "outputs": [
    {
     "ename": "ValueError",
     "evalue": "Expected object or value",
     "output_type": "error",
     "traceback": [
      "\u001b[0;31m---------------------------------------------------------------------------\u001b[0m",
      "\u001b[0;31mValueError\u001b[0m                                Traceback (most recent call last)",
      "\u001b[0;32m~/quantic/science/FastAndCurious/2021-04-28_transfer_learning/experiment_train.py\u001b[0m in \u001b[0;36m<module>\u001b[0;34m\u001b[0m\n\u001b[1;32m      1\u001b[0m \u001b[0;32mfor\u001b[0m \u001b[0mmodel_name\u001b[0m \u001b[0;32min\u001b[0m \u001b[0margs\u001b[0m\u001b[0;34m.\u001b[0m\u001b[0mmodel_names\u001b[0m\u001b[0;34m:\u001b[0m\u001b[0;34m\u001b[0m\u001b[0;34m\u001b[0m\u001b[0m\n\u001b[1;32m      2\u001b[0m     \u001b[0mfilename\u001b[0m \u001b[0;34m=\u001b[0m \u001b[0;34mf'results/{datetag}_{args.HOST}_train_{model_name}.json'\u001b[0m\u001b[0;34m\u001b[0m\u001b[0;34m\u001b[0m\u001b[0m\n\u001b[0;32m----> 3\u001b[0;31m     \u001b[0mdf_train\u001b[0m \u001b[0;34m=\u001b[0m \u001b[0mpd\u001b[0m\u001b[0;34m.\u001b[0m\u001b[0mread_json\u001b[0m\u001b[0;34m(\u001b[0m\u001b[0mfilename\u001b[0m\u001b[0;34m)\u001b[0m\u001b[0;34m\u001b[0m\u001b[0;34m\u001b[0m\u001b[0m\n\u001b[0m\u001b[1;32m      4\u001b[0m     \u001b[0mfig\u001b[0m\u001b[0;34m,\u001b[0m \u001b[0maxs\u001b[0m \u001b[0;34m=\u001b[0m \u001b[0mplt\u001b[0m\u001b[0;34m.\u001b[0m\u001b[0msubplots\u001b[0m\u001b[0;34m(\u001b[0m\u001b[0mfigsize\u001b[0m\u001b[0;34m=\u001b[0m\u001b[0;34m(\u001b[0m\u001b[0mfig_width\u001b[0m\u001b[0;34m,\u001b[0m \u001b[0mfig_width\u001b[0m\u001b[0;34m/\u001b[0m\u001b[0mphi\u001b[0m\u001b[0;34m//\u001b[0m\u001b[0;36m2\u001b[0m\u001b[0;34m)\u001b[0m\u001b[0;34m)\u001b[0m\u001b[0;34m\u001b[0m\u001b[0;34m\u001b[0m\u001b[0m\n\u001b[1;32m      5\u001b[0m     \u001b[0;31m# plt.xticks(fontsize=18)\u001b[0m\u001b[0;34m\u001b[0m\u001b[0;34m\u001b[0m\u001b[0;34m\u001b[0m\u001b[0m\n",
      "\u001b[0;32m~/.local/lib/python3.8/site-packages/pandas/util/_decorators.py\u001b[0m in \u001b[0;36mwrapper\u001b[0;34m(*args, **kwargs)\u001b[0m\n\u001b[1;32m    205\u001b[0m                 \u001b[0;32melse\u001b[0m\u001b[0;34m:\u001b[0m\u001b[0;34m\u001b[0m\u001b[0;34m\u001b[0m\u001b[0m\n\u001b[1;32m    206\u001b[0m                     \u001b[0mkwargs\u001b[0m\u001b[0;34m[\u001b[0m\u001b[0mnew_arg_name\u001b[0m\u001b[0;34m]\u001b[0m \u001b[0;34m=\u001b[0m \u001b[0mnew_arg_value\u001b[0m\u001b[0;34m\u001b[0m\u001b[0;34m\u001b[0m\u001b[0m\n\u001b[0;32m--> 207\u001b[0;31m             \u001b[0;32mreturn\u001b[0m \u001b[0mfunc\u001b[0m\u001b[0;34m(\u001b[0m\u001b[0;34m*\u001b[0m\u001b[0margs\u001b[0m\u001b[0;34m,\u001b[0m \u001b[0;34m**\u001b[0m\u001b[0mkwargs\u001b[0m\u001b[0;34m)\u001b[0m\u001b[0;34m\u001b[0m\u001b[0;34m\u001b[0m\u001b[0m\n\u001b[0m\u001b[1;32m    208\u001b[0m \u001b[0;34m\u001b[0m\u001b[0m\n\u001b[1;32m    209\u001b[0m         \u001b[0;32mreturn\u001b[0m \u001b[0mcast\u001b[0m\u001b[0;34m(\u001b[0m\u001b[0mF\u001b[0m\u001b[0;34m,\u001b[0m \u001b[0mwrapper\u001b[0m\u001b[0;34m)\u001b[0m\u001b[0;34m\u001b[0m\u001b[0;34m\u001b[0m\u001b[0m\n",
      "\u001b[0;32m~/.local/lib/python3.8/site-packages/pandas/util/_decorators.py\u001b[0m in \u001b[0;36mwrapper\u001b[0;34m(*args, **kwargs)\u001b[0m\n\u001b[1;32m    309\u001b[0m                     \u001b[0mstacklevel\u001b[0m\u001b[0;34m=\u001b[0m\u001b[0mstacklevel\u001b[0m\u001b[0;34m,\u001b[0m\u001b[0;34m\u001b[0m\u001b[0;34m\u001b[0m\u001b[0m\n\u001b[1;32m    310\u001b[0m                 )\n\u001b[0;32m--> 311\u001b[0;31m             \u001b[0;32mreturn\u001b[0m \u001b[0mfunc\u001b[0m\u001b[0;34m(\u001b[0m\u001b[0;34m*\u001b[0m\u001b[0margs\u001b[0m\u001b[0;34m,\u001b[0m \u001b[0;34m**\u001b[0m\u001b[0mkwargs\u001b[0m\u001b[0;34m)\u001b[0m\u001b[0;34m\u001b[0m\u001b[0;34m\u001b[0m\u001b[0m\n\u001b[0m\u001b[1;32m    312\u001b[0m \u001b[0;34m\u001b[0m\u001b[0m\n\u001b[1;32m    313\u001b[0m         \u001b[0;32mreturn\u001b[0m \u001b[0mwrapper\u001b[0m\u001b[0;34m\u001b[0m\u001b[0;34m\u001b[0m\u001b[0m\n",
      "\u001b[0;32m~/.local/lib/python3.8/site-packages/pandas/io/json/_json.py\u001b[0m in \u001b[0;36mread_json\u001b[0;34m(path_or_buf, orient, typ, dtype, convert_axes, convert_dates, keep_default_dates, numpy, precise_float, date_unit, encoding, encoding_errors, lines, chunksize, compression, nrows, storage_options)\u001b[0m\n\u001b[1;32m    612\u001b[0m \u001b[0;34m\u001b[0m\u001b[0m\n\u001b[1;32m    613\u001b[0m     \u001b[0;32mwith\u001b[0m \u001b[0mjson_reader\u001b[0m\u001b[0;34m:\u001b[0m\u001b[0;34m\u001b[0m\u001b[0;34m\u001b[0m\u001b[0m\n\u001b[0;32m--> 614\u001b[0;31m         \u001b[0;32mreturn\u001b[0m \u001b[0mjson_reader\u001b[0m\u001b[0;34m.\u001b[0m\u001b[0mread\u001b[0m\u001b[0;34m(\u001b[0m\u001b[0;34m)\u001b[0m\u001b[0;34m\u001b[0m\u001b[0;34m\u001b[0m\u001b[0m\n\u001b[0m\u001b[1;32m    615\u001b[0m \u001b[0;34m\u001b[0m\u001b[0m\n\u001b[1;32m    616\u001b[0m \u001b[0;34m\u001b[0m\u001b[0m\n",
      "\u001b[0;32m~/.local/lib/python3.8/site-packages/pandas/io/json/_json.py\u001b[0m in \u001b[0;36mread\u001b[0;34m(self)\u001b[0m\n\u001b[1;32m    746\u001b[0m                 \u001b[0mobj\u001b[0m \u001b[0;34m=\u001b[0m \u001b[0mself\u001b[0m\u001b[0;34m.\u001b[0m\u001b[0m_get_object_parser\u001b[0m\u001b[0;34m(\u001b[0m\u001b[0mself\u001b[0m\u001b[0;34m.\u001b[0m\u001b[0m_combine_lines\u001b[0m\u001b[0;34m(\u001b[0m\u001b[0mdata_lines\u001b[0m\u001b[0;34m)\u001b[0m\u001b[0;34m)\u001b[0m\u001b[0;34m\u001b[0m\u001b[0;34m\u001b[0m\u001b[0m\n\u001b[1;32m    747\u001b[0m         \u001b[0;32melse\u001b[0m\u001b[0;34m:\u001b[0m\u001b[0;34m\u001b[0m\u001b[0;34m\u001b[0m\u001b[0m\n\u001b[0;32m--> 748\u001b[0;31m             \u001b[0mobj\u001b[0m \u001b[0;34m=\u001b[0m \u001b[0mself\u001b[0m\u001b[0;34m.\u001b[0m\u001b[0m_get_object_parser\u001b[0m\u001b[0;34m(\u001b[0m\u001b[0mself\u001b[0m\u001b[0;34m.\u001b[0m\u001b[0mdata\u001b[0m\u001b[0;34m)\u001b[0m\u001b[0;34m\u001b[0m\u001b[0;34m\u001b[0m\u001b[0m\n\u001b[0m\u001b[1;32m    749\u001b[0m         \u001b[0mself\u001b[0m\u001b[0;34m.\u001b[0m\u001b[0mclose\u001b[0m\u001b[0;34m(\u001b[0m\u001b[0;34m)\u001b[0m\u001b[0;34m\u001b[0m\u001b[0;34m\u001b[0m\u001b[0m\n\u001b[1;32m    750\u001b[0m         \u001b[0;32mreturn\u001b[0m \u001b[0mobj\u001b[0m\u001b[0;34m\u001b[0m\u001b[0;34m\u001b[0m\u001b[0m\n",
      "\u001b[0;32m~/.local/lib/python3.8/site-packages/pandas/io/json/_json.py\u001b[0m in \u001b[0;36m_get_object_parser\u001b[0;34m(self, json)\u001b[0m\n\u001b[1;32m    768\u001b[0m         \u001b[0mobj\u001b[0m \u001b[0;34m=\u001b[0m \u001b[0;32mNone\u001b[0m\u001b[0;34m\u001b[0m\u001b[0;34m\u001b[0m\u001b[0m\n\u001b[1;32m    769\u001b[0m         \u001b[0;32mif\u001b[0m \u001b[0mtyp\u001b[0m \u001b[0;34m==\u001b[0m \u001b[0;34m\"frame\"\u001b[0m\u001b[0;34m:\u001b[0m\u001b[0;34m\u001b[0m\u001b[0;34m\u001b[0m\u001b[0m\n\u001b[0;32m--> 770\u001b[0;31m             \u001b[0mobj\u001b[0m \u001b[0;34m=\u001b[0m \u001b[0mFrameParser\u001b[0m\u001b[0;34m(\u001b[0m\u001b[0mjson\u001b[0m\u001b[0;34m,\u001b[0m \u001b[0;34m**\u001b[0m\u001b[0mkwargs\u001b[0m\u001b[0;34m)\u001b[0m\u001b[0;34m.\u001b[0m\u001b[0mparse\u001b[0m\u001b[0;34m(\u001b[0m\u001b[0;34m)\u001b[0m\u001b[0;34m\u001b[0m\u001b[0;34m\u001b[0m\u001b[0m\n\u001b[0m\u001b[1;32m    771\u001b[0m \u001b[0;34m\u001b[0m\u001b[0m\n\u001b[1;32m    772\u001b[0m         \u001b[0;32mif\u001b[0m \u001b[0mtyp\u001b[0m \u001b[0;34m==\u001b[0m \u001b[0;34m\"series\"\u001b[0m \u001b[0;32mor\u001b[0m \u001b[0mobj\u001b[0m \u001b[0;32mis\u001b[0m \u001b[0;32mNone\u001b[0m\u001b[0;34m:\u001b[0m\u001b[0;34m\u001b[0m\u001b[0;34m\u001b[0m\u001b[0m\n",
      "\u001b[0;32m~/.local/lib/python3.8/site-packages/pandas/io/json/_json.py\u001b[0m in \u001b[0;36mparse\u001b[0;34m(self)\u001b[0m\n\u001b[1;32m    883\u001b[0m \u001b[0;34m\u001b[0m\u001b[0m\n\u001b[1;32m    884\u001b[0m         \u001b[0;32melse\u001b[0m\u001b[0;34m:\u001b[0m\u001b[0;34m\u001b[0m\u001b[0;34m\u001b[0m\u001b[0m\n\u001b[0;32m--> 885\u001b[0;31m             \u001b[0mself\u001b[0m\u001b[0;34m.\u001b[0m\u001b[0m_parse_no_numpy\u001b[0m\u001b[0;34m(\u001b[0m\u001b[0;34m)\u001b[0m\u001b[0;34m\u001b[0m\u001b[0;34m\u001b[0m\u001b[0m\n\u001b[0m\u001b[1;32m    886\u001b[0m \u001b[0;34m\u001b[0m\u001b[0m\n\u001b[1;32m    887\u001b[0m         \u001b[0;32mif\u001b[0m \u001b[0mself\u001b[0m\u001b[0;34m.\u001b[0m\u001b[0mobj\u001b[0m \u001b[0;32mis\u001b[0m \u001b[0;32mNone\u001b[0m\u001b[0;34m:\u001b[0m\u001b[0;34m\u001b[0m\u001b[0;34m\u001b[0m\u001b[0m\n",
      "\u001b[0;32m~/.local/lib/python3.8/site-packages/pandas/io/json/_json.py\u001b[0m in \u001b[0;36m_parse_no_numpy\u001b[0;34m(self)\u001b[0m\n\u001b[1;32m   1138\u001b[0m         \u001b[0;32mif\u001b[0m \u001b[0morient\u001b[0m \u001b[0;34m==\u001b[0m \u001b[0;34m\"columns\"\u001b[0m\u001b[0;34m:\u001b[0m\u001b[0;34m\u001b[0m\u001b[0;34m\u001b[0m\u001b[0m\n\u001b[1;32m   1139\u001b[0m             self.obj = DataFrame(\n\u001b[0;32m-> 1140\u001b[0;31m                 \u001b[0mloads\u001b[0m\u001b[0;34m(\u001b[0m\u001b[0mjson\u001b[0m\u001b[0;34m,\u001b[0m \u001b[0mprecise_float\u001b[0m\u001b[0;34m=\u001b[0m\u001b[0mself\u001b[0m\u001b[0;34m.\u001b[0m\u001b[0mprecise_float\u001b[0m\u001b[0;34m)\u001b[0m\u001b[0;34m,\u001b[0m \u001b[0mdtype\u001b[0m\u001b[0;34m=\u001b[0m\u001b[0;32mNone\u001b[0m\u001b[0;34m\u001b[0m\u001b[0;34m\u001b[0m\u001b[0m\n\u001b[0m\u001b[1;32m   1141\u001b[0m             )\n\u001b[1;32m   1142\u001b[0m         \u001b[0;32melif\u001b[0m \u001b[0morient\u001b[0m \u001b[0;34m==\u001b[0m \u001b[0;34m\"split\"\u001b[0m\u001b[0;34m:\u001b[0m\u001b[0;34m\u001b[0m\u001b[0;34m\u001b[0m\u001b[0m\n",
      "\u001b[0;31mValueError\u001b[0m: Expected object or value"
     ]
    }
   ],
   "source": [
    "for model_name in args.model_names:\n",
    "    filename = f'results/{datetag}_{args.HOST}_train_{model_name}.json'\n",
    "    df_train = pd.read_json(filename)\n",
    "    fig, axs = plt.subplots(figsize=(fig_width, fig_width/phi//2))\n",
    "    # plt.xticks(fontsize=18)\n",
    "    # plt.yticks(fontsize=18)\n",
    "    ax = df_train['avg_loss'].plot(lw=2, marker='.', markersize=10)\n",
    "    ax = df_train['avg_loss_val'].plot(lw=2, marker='.', markersize=10)\n",
    "    ax.legend([\"avg_loss\", \"avg_loss_val\"], fontsize=18);\n",
    "    ax.set_xlabel(\"Epoch\", size=18)\n",
    "    ax.set_ylabel(\"Loss value\", size=18)\n",
    "    ax.set_ylim(0, 1.2)\n",
    "    axs.set_title(f'Average values of the loss by epoch : {filename}' , size = 20)"
   ]
  },
  {
   "cell_type": "code",
   "execution_count": null,
   "metadata": {},
   "outputs": [],
   "source": [
    "for model_name in args.model_names:\n",
    "    filename = f'results/{datetag}_{args.HOST}_train_{model_name}.json'\n",
    "    df_train = pd.read_json(filename)\n",
    "    fig, axs = plt.subplots(figsize=(fig_width, fig_width/phi//2))\n",
    "    # plt.xticks(fontsize=18)\n",
    "    # plt.yticks(fontsize=18)\n",
    "    ax = df_train['avg_acc'].plot(lw=2, marker='.', markersize=10)\n",
    "    ax = df_train['avg_acc_val'].plot(lw=2, marker='.', markersize=10)\n",
    "    ax.legend([\"avg_acc\", \"avg_acc_val\"], fontsize=18);\n",
    "    ax.set_xlabel(\"Epoch\", size=18)\n",
    "    ax.set_ylabel(\"Accuracy value\", size=18)\n",
    "    ax.set_ylim(0.60, 1)\n",
    "    axs.set_title(f'Average values of the accuracy by epoch : {filename}' , size = 20)"
   ]
  },
  {
   "cell_type": "markdown",
   "metadata": {},
   "source": [
    "# Experiment 1: Image processing and recognition for differents labels \n"
   ]
  },
  {
   "cell_type": "markdown",
   "metadata": {},
   "source": [
    "The networks are now ready for a quantitative evaluation. The second part of this notebook offers a comparison between : \n",
    "\n",
    "- A pre-trained image recognition's networks, here VGG, trained on the [Imagenet](http://image-net.org/) dataset wich allows to work on naturals images for $1000$ labels, taken from the `torchvision.models` library\n",
    "\n",
    "- And four re-trained version of the same network VGG16 based on a reduced Imagenet dataset wich allows to focus on naturals images from $10$ labels.\n",
    "\n",
    "For further statistical analyses, we extract these differents factors (like the accuracy and the processing time for differents datasets at differents resolution) in a `pandas` object. "
   ]
  },
  {
   "cell_type": "code",
   "execution_count": null,
   "metadata": {},
   "outputs": [],
   "source": [
    "scriptname = 'experiment_basic.py'"
   ]
  },
  {
   "cell_type": "code",
   "execution_count": null,
   "metadata": {},
   "outputs": [],
   "source": [
    "%%writefile {scriptname}\n",
    "\n",
    "#import model's script and set the output file\n",
    "from DCNN_transfer_learning.model import *\n",
    "#from experiment_train import *\n",
    "filename = f'results/{datetag}_results_1_{args.HOST}.json'\n",
    "print(f'{filename=}')\n",
    "def main():\n",
    "    if os.path.isfile(filename):\n",
    "        df = pd.read_json(filename)\n",
    "    else:\n",
    "        i_trial = 0\n",
    "        df = pd.DataFrame([], columns=['model', 'perf', 'fps', 'time', 'label', 'i_label', 'i_image', 'filename', 'device_type', 'top_1']) \n",
    "        (dataset_sizes, dataloaders, image_datasets, data_transforms) = datasets_transforms(image_size=args.image_size, batch_size=1)\n",
    "        \n",
    "        for i_image, (data, label) in enumerate(dataloaders['test']):            \n",
    "            data, label = data.to(device), label.to(device)\n",
    "            \n",
    "            for model_name in models_vgg.keys():\n",
    "                model = models_vgg[model_name]\n",
    "                model = model.to(device)\n",
    "\n",
    "                with torch.no_grad():\n",
    "                    i_label_top = reverse_labels[image_datasets['test'].classes[label]]\n",
    "                    tic = time.time()\n",
    "                    out = model(data).squeeze(0)\n",
    "                    _, indices = torch.sort(out, descending=True)\n",
    "                    if model_name == 'vgg' : # our previous work\n",
    "                        top_1 = labels[indices[0]]\n",
    "                        percentage = torch.nn.functional.softmax(out[args.subset_i_labels], dim=0) * 100\n",
    "                        perf_ = percentage[reverse_subset_i_labels[i_label_top]].item()\n",
    "                    else :\n",
    "                        top_1 = subset_labels[indices[0]] \n",
    "                        percentage = torch.nn.functional.softmax(out, dim=0) * 100\n",
    "                        perf_ = percentage[label].item()\n",
    "                    elapsed_time = time.time() - tic\n",
    "                    \n",
    "                print(f'The {model_name} model get {labels[i_label_top]} at {perf_:.2f} % confidence in {elapsed_time:.3f} seconds, best confidence for : {top_1}')\n",
    "                df.loc[i_trial] = {'model':model_name, 'perf':perf_, 'time':elapsed_time, 'fps': 1/elapsed_time,\n",
    "                                   'label':labels[i_label_top], 'i_label':i_label_top, \n",
    "                                   'i_image':i_image, 'filename':image_datasets['test'].imgs[i_image][0], 'device_type':device.type, 'top_1':top_1}\n",
    "                i_trial += 1\n",
    "        df.to_json(filename)\n",
    "\n",
    "main()    "
   ]
  },
  {
   "cell_type": "code",
   "execution_count": null,
   "metadata": {},
   "outputs": [],
   "source": [
    "%run -int {scriptname}"
   ]
  },
  {
   "cell_type": "markdown",
   "metadata": {},
   "source": [
    "Here we collect our results, we can already display all the data in a table "
   ]
  },
  {
   "cell_type": "code",
   "execution_count": null,
   "metadata": {},
   "outputs": [],
   "source": [
    "filename = f'results/{datetag}_results_1_{args.HOST}.json'\n",
    "filename"
   ]
  },
  {
   "cell_type": "code",
   "execution_count": null,
   "metadata": {},
   "outputs": [],
   "source": [
    "df = pd.read_json(filename)\n",
    "df"
   ]
  },
  {
   "cell_type": "markdown",
   "metadata": {},
   "source": [
    "## Accuracy, Precision, Recall\n",
    "\n",
    "We now compute the top-1 accuracy (which is a metric that describes how the model performs across all classes, here top 1 because we only take the best likelihood at the outputof the networks), the precision (which reflects how reliable the model is in classifying samples as Positive) and the recall (which measures the model's ability to detect Positive samples) of each networks. We use the [sklearn librairy](https://sklearn.org/index.html) to perform this [analysis](https://blog.paperspace.com/deep-learning-metrics-precision-recall-accuracy/)."
   ]
  },
  {
   "cell_type": "code",
   "execution_count": null,
   "metadata": {},
   "outputs": [],
   "source": [
    "from sklearn.metrics import accuracy_score, precision_score, f1_score"
   ]
  },
  {
   "cell_type": "markdown",
   "metadata": {},
   "source": [
    "https://scikit-learn.org/stable/modules/generated/sklearn.metrics.precision_score.html"
   ]
  },
  {
   "cell_type": "code",
   "execution_count": null,
   "metadata": {},
   "outputs": [],
   "source": [
    "df_precision = pd.DataFrame({model_name: {subset_label: precision_score(df[(df['model']==model_name) & (df['label']==subset_label)][\"top_1\"], \n",
    "                                                                  df[(df['model']==model_name) & (df['label']==subset_label)][\"label\"],\n",
    "                                                                 average='micro')\n",
    "                                    for subset_label in subset_labels} \n",
    "                       for model_name in models_vgg.keys()})"
   ]
  },
  {
   "cell_type": "code",
   "execution_count": null,
   "metadata": {},
   "outputs": [],
   "source": [
    "ax = df_precision.plot.bar(rot=60, figsize=(fig_width, fig_width//4), fontsize=18)\n",
    "ax.set_ylim(0, 1)\n",
    "ax.hlines(xmin=-.5, xmax=len(subset_labels)-.5, y=1/n_output, ls='--', ec='k', label='chance level')\n",
    "plt.legend(bbox_to_anchor=(1.1, .5), loc='lower right')\n",
    "ax.set_title('Precision for each models - experiment 1', size=20)\n",
    "ax.set_ylabel('Accuracy', size=14)\n",
    "ax.set_xlabel('Models', size=14);"
   ]
  },
  {
   "cell_type": "markdown",
   "metadata": {},
   "source": [
    "TODO : use the f1-score everywhere\n",
    "https://scikit-learn.org/stable/modules/generated/sklearn.metrics.f1_score.html"
   ]
  },
  {
   "cell_type": "code",
   "execution_count": null,
   "metadata": {},
   "outputs": [],
   "source": [
    "df_f1_score = pd.DataFrame({model_name: {subset_label: f1_score(df[(df['model']==model_name) & (df['label']==subset_label)][\"top_1\"], \n",
    "                                                                df[(df['model']==model_name) & (df['label']==subset_label)][\"label\"],\n",
    "                                                                average='micro')\n",
    "                                    for subset_label in subset_labels} \n",
    "                       for model_name in models_vgg.keys()})\n",
    "\n",
    "ax = df_f1_score.plot.bar(rot=60, figsize=(fig_width, fig_width//4), fontsize=18)\n",
    "ax.set_ylim(0, 1)\n",
    "ax.hlines(xmin=-.5, xmax=len(subset_labels)-.5, y=1/n_output, ls='--', ec='k', label='chance level')\n",
    "plt.legend(bbox_to_anchor=(1.1, .5), loc='lower right')\n",
    "ax.set_title('F1-score for each models - experiment 1', size=20)\n",
    "ax.set_ylabel('Accuracy', size=14);"
   ]
  },
  {
   "cell_type": "code",
   "execution_count": null,
   "metadata": {},
   "outputs": [],
   "source": [
    "df_acc = pd.DataFrame({model_name: {subset_label: accuracy_score(df[(df['model']==model_name) & (df['label']==subset_label)][\"top_1\"], \n",
    "                                                                 df[(df['model']==model_name) & (df['label']==subset_label)][\"label\"])\n",
    "                                    for subset_label in subset_labels} \n",
    "                       for model_name in models_vgg.keys()})\n",
    "\n",
    "ax = df_acc.plot.bar(rot=60, figsize=(fig_width, fig_width//4), fontsize=18)\n",
    "ax.set_ylim(0, 1)\n",
    "ax.hlines(xmin=-.5, xmax=len(subset_labels)-.5, y=1/n_output, ls='--', ec='k', label='chance level')\n",
    "plt.legend(bbox_to_anchor=(1.1, .5), loc='lower right')\n",
    "ax.set_title('Accuracy top_1 : for each models - experiment 1', size=20)\n",
    "ax.set_ylabel('Accuracy', size=14)\n",
    "ax.set_xlabel('Models', size=14);"
   ]
  },
  {
   "cell_type": "code",
   "execution_count": null,
   "metadata": {},
   "outputs": [],
   "source": [
    "df_acc = pd.DataFrame({'accuracy': [accuracy_score(df[df['model']==model_name][\"top_1\"], df[df['model']==model_name][\"label\"]) for model_name in models_vgg.keys()]}, index=models_vgg.keys())\n",
    "ax = df_acc.plot.bar(rot=0, figsize=(fig_width, fig_width//4), fontsize=18)\n",
    "ax.set_ylim(0, 1)\n",
    "ax.hlines(xmin=-.5, xmax=len(models_vgg.keys())-.5, y=1/n_output, ls='--', ec='k', label='chance level')\n",
    "# https://matplotlib.org/stable/gallery/lines_bars_and_markers/bar_label_demo.html\n",
    "ax.bar_label(ax.containers[0], padding=-24, color='black', fontsize=14, fmt='%.3f')\n",
    "plt.legend(bbox_to_anchor=(1.1, .5), loc='lower right')\n",
    "ax.set_title('Average accuracy top_1 : for each models - experiment 1', size=20)\n",
    "ax.set_ylabel('Accuracy', size=14)\n",
    "ax.set_xlabel('Models', size=14);"
   ]
  },
  {
   "cell_type": "markdown",
   "metadata": {},
   "source": [
    "## Computation time\n",
    "\n",
    "A display of the differents computation time of each models on the same dataset for the sequence of trials :"
   ]
  },
  {
   "cell_type": "code",
   "execution_count": null,
   "metadata": {},
   "outputs": [],
   "source": [
    "fig, axs = plt.subplots(len(models_vgg.keys()), 1, figsize=(fig_width, fig_width*phi//2), sharex=True, sharey=True)\n",
    "# plt.xticks(fontsize=18)\n",
    "# plt.yticks(fontsize=18)\n",
    "for ax, color, model_name in zip(axs, colors, models_vgg.keys()):\n",
    "    ax.set_ylabel('Frequency', fontsize=14)\n",
    "    df[df['model']==model_name]['time'].plot.hist(bins=150, lw=1, label=model_name,ax=ax, color=color, density=True)\n",
    "    ax.legend(loc='upper left', fontsize=20)\n",
    "    ax.set_xlim(df['time'].quantile(.01), df['time'].quantile(.99))\n",
    "axs[-1].set_xlabel('Processing time (s)', size=18)\n",
    "axs[0].set_title('Processed on : ' + args.HOST + '_' + str(df['device_type'][0]), size = 20);"
   ]
  },
  {
   "cell_type": "markdown",
   "metadata": {},
   "source": [
    "## Classification likelihood\n",
    "\n",
    "This graph shows the frequency of the logit of the classification likelihood for our four models and the pyTorch VGG16 model. The classification likelihood represent a predicted likelihood probability of detection for a given label at the output of the network. As most of them are close either to 100 as to 0, we applied a logit function to make the difference between these networks more obvious."
   ]
  },
  {
   "cell_type": "code",
   "execution_count": null,
   "metadata": {},
   "outputs": [],
   "source": [
    "fig, axs = plt.subplots(len(models_vgg.keys()), 1, figsize=(fig_width, fig_width*phi//2), sharex=True, sharey=True)\n",
    "# plt.xticks(fontsize=18)\n",
    "# plt.yticks(fontsize=18)\n",
    "for ax, color, model_name in zip(axs, colors, models_vgg.keys()):\n",
    "    ax.set_ylabel('Frequency', fontsize=14)\n",
    "    (logit(df[df['model']==model_name]['perf']/100)/np.log2(10)).plot.hist(bins=np.linspace(0, 5, 150), lw=1, label=model_name, ax=ax, color=color, density=True)\n",
    "    #df[df['model']==model_name]['perf'].plot.hist(bins=np.linspace(99.95, 100, 150), lw=1, label=model_name, ax=ax, color=color, density=True)\n",
    "    ax.legend(loc='upper left', fontsize=20)\n",
    "    ax.set_ylim(0, 5)\n",
    "    # ax.tick_params(axis='x', labelsize=14)\n",
    "    # ax.tick_params(axis='y', labelsize=14)\n",
    "axs[-1].set_xlabel('Classification likelihood (ban)', size=18)\n",
    "axs[0].set_title('Processed on : ' + args.HOST + '_' + str(df['device_type'][0]), size = 20);"
   ]
  },
  {
   "cell_type": "code",
   "execution_count": null,
   "metadata": {},
   "outputs": [],
   "source": [
    "# TODO : change name of variable perf to likelihood ??\n"
   ]
  },
  {
   "cell_type": "markdown",
   "metadata": {},
   "source": [
    "TODO \n",
    "- voir si on peut donner la valeur du logit en hartley base 10 https://en.wikipedia.org/wiki/Hartley_(unit) tracer le chance level\n",
    "- show success of categorization vs likelihood / odd-ratio of label vs rest"
   ]
  },
  {
   "cell_type": "markdown",
   "metadata": {},
   "source": [
    "## Image display\n",
    "\n",
    "Here we display the 64 *worsts* Classification likelihood's, all model combined : "
   ]
  },
  {
   "cell_type": "code",
   "execution_count": null,
   "metadata": {},
   "outputs": [],
   "source": [
    "N_image_i = 8\n",
    "N_image_j = 8\n",
    "fig, axs = plt.subplots(N_image_i, N_image_j, figsize=(fig_width, fig_width))\n",
    "for i_image, idx in enumerate(df[\"perf\"].argsort()[:(N_image_i*N_image_j)]):\n",
    "    ax = axs[i%N_image_i][i_image//N_image_i]\n",
    "    ax.imshow(imageio.imread(image_datasets['test'].imgs[df.loc[idx]['i_image']][0]))\n",
    "    ax.set_xticks([])\n",
    "    ax.set_yticks([])\n",
    "    ax.set_xlabel(df.loc[idx]['label'] + ' | ' + df.loc[idx]['model'], color='g')\n",
    "    perf_ = df.loc[idx]['perf']\n",
    "    ax.set_ylabel(f'P={perf_:2.3f}%', color='g')"
   ]
  },
  {
   "cell_type": "markdown",
   "metadata": {},
   "source": [
    "## summary\n",
    "\n",
    "To make it even clearer we extracted a specific mean for each models : "
   ]
  },
  {
   "cell_type": "markdown",
   "metadata": {},
   "source": [
    "Mean accuracy"
   ]
  },
  {
   "cell_type": "code",
   "execution_count": null,
   "metadata": {},
   "outputs": [],
   "source": [
    "for model_name in models_vgg.keys():\n",
    "    mean_acc = (df[df['model']==model_name][\"top_1\"] == df[df['model']==model_name][\"label\"]).mean()\n",
    "    print(f'For the {model_name} model, the mean accuracy = {mean_acc*100:.4f} %' )"
   ]
  },
  {
   "cell_type": "markdown",
   "metadata": {},
   "source": [
    "Classification likelihood's mean"
   ]
  },
  {
   "cell_type": "code",
   "execution_count": null,
   "metadata": {},
   "outputs": [],
   "source": [
    "for model_name in models_vgg.keys():\n",
    "    med_perf = np.mean(df[df['model']==model_name][\"perf\"])\n",
    "    print(f'For the {model_name} model, the mean clasification likelihood = {med_perf:.4f} %' )"
   ]
  },
  {
   "cell_type": "markdown",
   "metadata": {},
   "source": [
    "Computation time 's mean"
   ]
  },
  {
   "cell_type": "code",
   "execution_count": null,
   "metadata": {},
   "outputs": [],
   "source": [
    "for model_name in models_vgg.keys():\n",
    "    med_perf = np.mean(df[df['model']==model_name][\"time\"])\n",
    "    print(f'For the {model_name} model, the mean computation time = {med_perf:.5f} s')"
   ]
  },
  {
   "cell_type": "markdown",
   "metadata": {},
   "source": [
    "Frame per second's mean"
   ]
  },
  {
   "cell_type": "code",
   "execution_count": null,
   "metadata": {},
   "outputs": [],
   "source": [
    "for model_name in models_vgg.keys():\n",
    "    med_perf = np.mean(df[df['model']==model_name][\"fps\"])\n",
    "    print(f'For the {model_name} model, the mean fps = {med_perf:.3f} Hz' )"
   ]
  },
  {
   "cell_type": "markdown",
   "metadata": {},
   "source": [
    "# Experiment 2: Image processing and recognition for differents resolutions :\n",
    "\n",
    "Let's now study that same likelihood indicators at different image resolutions."
   ]
  },
  {
   "cell_type": "code",
   "execution_count": null,
   "metadata": {},
   "outputs": [],
   "source": [
    "scriptname = 'experiment_downsample.py'"
   ]
  },
  {
   "cell_type": "code",
   "execution_count": null,
   "metadata": {},
   "outputs": [],
   "source": [
    "%%writefile {scriptname}\n",
    "#import model's script and set the output file\n",
    "from DCNN_transfer_learning.model import *\n",
    "filename = f'results/{datetag}_results_2_{args.HOST}.json'\n",
    "\n",
    "def main():\n",
    "    if os.path.isfile(filename):\n",
    "        df_downsample = pd.read_json(filename)\n",
    "    else:\n",
    "        i_trial = 0\n",
    "        df_downsample = pd.DataFrame([], columns=['model', 'perf', 'fps', 'time', 'label', 'i_label', 'i_image', 'image_size', 'filename', 'device_type', 'top_1']) \n",
    "        # image preprocessing\n",
    "        for image_size_ in args.image_sizes:\n",
    "            (dataset_sizes, dataloaders, image_datasets, data_transforms) = datasets_transforms(image_size=image_size_, batch_size=1)\n",
    "            print(f'Résolution de {image_size_=}')\n",
    "            # Displays the input image of the model \n",
    "            for i_image, (data, label) in enumerate(dataloaders['test']):                \n",
    "                data, label = data.to(device), label.to(device)\n",
    "\n",
    "                for model_name in models_vgg.keys():\n",
    "                    model = models_vgg[model_name]\n",
    "                    model = model.to(device)\n",
    "\n",
    "                    with torch.no_grad():\n",
    "                        i_label_top = reverse_labels[image_datasets['test'].classes[label]]\n",
    "                        tic = time.time()\n",
    "                        out = model(data).squeeze(0)\n",
    "                        _, indices = torch.sort(out, descending=True)\n",
    "                        if model_name == 'vgg' : # our previous work\n",
    "                            top_1 = labels[indices[0]]\n",
    "                            percentage = torch.nn.functional.softmax(out[args.subset_i_labels], dim=0) * 100\n",
    "                            perf_ = percentage[reverse_subset_i_labels[i_label_top]].item()\n",
    "                        else :\n",
    "                            top_1 = subset_labels[indices[0]] \n",
    "                            percentage = torch.nn.functional.softmax(out, dim=0) * 100\n",
    "                            perf_ = percentage[label].item()\n",
    "                        dt = time.time() - tic\n",
    "                    print(f'The {model_name} model get {labels[i_label_top]} at {perf_:.2f} % confidence in {dt:.3f} seconds, best confidence for : {top_1}')\n",
    "                    df_downsample.loc[i_trial] = {'model':model_name, 'perf':perf_, 'time':dt, 'fps': 1/dt,\n",
    "                                       'label':labels[i_label_top], 'i_label':i_label_top, \n",
    "                                       'i_image':i_image, 'filename':image_datasets['test'].imgs[i_image][0], 'image_size': image_size_, 'device_type':device.type, 'top_1':str(top_1)}\n",
    "                    i_trial += 1\n",
    "\n",
    "            df_downsample.to_json(filename)\n",
    "\n",
    "main()            "
   ]
  },
  {
   "cell_type": "code",
   "execution_count": null,
   "metadata": {
    "tags": []
   },
   "outputs": [],
   "source": [
    "%run -int {scriptname}"
   ]
  },
  {
   "cell_type": "markdown",
   "metadata": {},
   "source": [
    "Here, again, we collect our results, and display all the data in a table "
   ]
  },
  {
   "cell_type": "code",
   "execution_count": null,
   "metadata": {},
   "outputs": [],
   "source": [
    "filename = f'results/{datetag}_results_2_{args.HOST}.json'\n",
    "#filename = 'results/2021-04-20_results_2_INV-133-DE01.json'\n",
    "df_downsample = pd.read_json(filename)\n",
    "df_downsample"
   ]
  },
  {
   "cell_type": "markdown",
   "metadata": {},
   "source": [
    "## Accuracy\n",
    "\n",
    "And extract the accuracy, the precision ans the recall for each networks :"
   ]
  },
  {
   "cell_type": "code",
   "execution_count": null,
   "metadata": {},
   "outputs": [],
   "source": [
    "for image_size in args.image_sizes:\n",
    "    pprint(f'Benchmarking image size = {image_size}')\n",
    "    df_acc = pd.DataFrame({model_name: {subset_label: accuracy_score(df_downsample[(df_downsample['model']==model_name) & (df_downsample['image_size']==image_size)][\"top_1\"], \n",
    "                                                                     df_downsample[(df_downsample['model']==model_name) & (df_downsample['image_size']==image_size)][\"label\"])\n",
    "                                        for subset_label in subset_labels} \n",
    "                           for model_name in models_vgg.keys()})\n",
    "\n",
    "    ax = df_acc.plot.bar(rot=60, figsize=(fig_width, fig_width//4), fontsize=18)\n",
    "    ax.set_ylim(0, 1)\n",
    "    ax.hlines(xmin=-.5, xmax=len(subset_labels)-.5, y=1/n_output, ls='--', ec='k', label='chance level')\n",
    "    plt.legend(bbox_to_anchor=(1.1, .5), loc='lower right')\n",
    "    ax.set_title(f'Experiment 2 - image size = {image_size}', size=20)\n",
    "    ax.set_ylabel('Accuracy top_1', size=14)\n",
    "    plt.show();\n"
   ]
  },
  {
   "cell_type": "code",
   "execution_count": null,
   "metadata": {},
   "outputs": [],
   "source": [
    "df_acc = pd.DataFrame({model_name: {image_size: accuracy_score(df_downsample[(df_downsample['model']==model_name) & (df_downsample['image_size']==image_size)][\"top_1\"], \n",
    "                                                               df_downsample[(df_downsample['model']==model_name) & (df_downsample['image_size']==image_size)][\"label\"])\n",
    "                                    for image_size in args.image_sizes} \n",
    "                       for model_name in models_vgg.keys()})\n",
    "\n",
    "ax = df_acc.plot.bar(rot=0, figsize=(fig_width, fig_width//4), fontsize=18)\n",
    "ax.set_ylim(0, 1)\n",
    "ax.hlines(xmin=-.5, xmax=len(models_vgg.keys())-.5, y=1/n_output, ls='--', ec='k', label='chance level')\n",
    "# https://matplotlib.org/stable/gallery/lines_bars_and_markers/bar_label_demo.html\n",
    "for container in ax.containers: ax.bar_label(container, padding=-50, color='black', fontsize=14, fmt='%.3f', rotation=90)\n",
    "plt.legend(bbox_to_anchor=(1.1, .5), loc='lower right')\n",
    "ax.set_title(f'Experiment 2 - image sizes = {args.image_sizes}', size=20)\n",
    "ax.set_ylabel('Accuracy', size=14)\n",
    "plt.show();"
   ]
  },
  {
   "cell_type": "code",
   "execution_count": null,
   "metadata": {},
   "outputs": [],
   "source": [
    "ax = df_acc.T.plot.bar(rot=0, figsize=(fig_width, fig_width//4), fontsize=18)\n",
    "ax.set_ylim(0, 1)\n",
    "ax.hlines(xmin=-.5, xmax=len(models_vgg.keys())-.5, y=1/n_output, ls='--', ec='k', label='chance level')\n",
    "# https://matplotlib.org/stable/gallery/lines_bars_and_markers/bar_label_demo.html\n",
    "for container in ax.containers: ax.bar_label(container, padding=-50, color='black', fontsize=14, fmt='%.3f', rotation=90)\n",
    "plt.legend(bbox_to_anchor=(1.1, .5), loc='lower right')\n",
    "ax.set_title(f'Experiment 2 - image sizes = {args.image_sizes}', size=20)\n",
    "ax.set_ylabel('Accuracy', size=14)\n",
    "plt.show();"
   ]
  },
  {
   "cell_type": "markdown",
   "metadata": {},
   "source": [
    "## Computation time\n",
    "\n",
    "A display of the differents computation time of each models on the same dataset for differents resolutions :"
   ]
  },
  {
   "cell_type": "code",
   "execution_count": null,
   "metadata": {},
   "outputs": [],
   "source": [
    "fig, axs = plt.subplots(figsize=(fig_width, fig_width/phi))\n",
    "# plt.xticks(fontsize=18)\n",
    "# plt.yticks(fontsize=18)\n",
    "for color, model_name in zip(colors, models_vgg.keys()):\n",
    "    axs = sns.violinplot(x=\"image_size\", y=\"time\", data=df_downsample, inner=\"quartile\", hue='model')\n",
    "    axs.set_title('Processed on : ' + args.HOST + '_' + str(df_downsample['device_type'][0]), size = 20)\n",
    "    axs.set_ylabel('Computation time (s)', size=18)\n",
    "    axs.set_xlabel('Trial', size=18)\n",
    "    axs.set_yscale('log')\n",
    "h, l = axs.get_legend_handles_labels()\n",
    "axs.legend(h[:5], l[:5], loc='upper center', fontsize=16);"
   ]
  },
  {
   "cell_type": "markdown",
   "metadata": {},
   "source": [
    "## Classification likelihood\n",
    "\n",
    "Let's display the likelihood of each models on the same dataset for differents resolutions. Here accuracies are displayed as a violin plot to allow a better representation of the models."
   ]
  },
  {
   "cell_type": "code",
   "execution_count": null,
   "metadata": {},
   "outputs": [],
   "source": [
    "fig, axs = plt.subplots(figsize=(fig_width, fig_width/phi))\n",
    "# plt.xticks(fontsize=18)\n",
    "# plt.yticks(fontsize=18)\n",
    "axs = sns.violinplot(x=\"image_size\", y=\"perf\", data=df_downsample, inner=\"quartile\", hue='model', cut = 0, scale = 'width')\n",
    "axs.set_title('Processed on : ' + args.HOST + '_' + str(df_downsample['device_type'][0]), size=20)\n",
    "axs.set_ylabel('Classification likelihood (%)', size=18)\n",
    "axs.set_xlabel('Image size', size=18)\n",
    "h, l = axs.get_legend_handles_labels()\n",
    "axs.legend(h[:5], l[:5], loc ='center', fontsize=16);"
   ]
  },
  {
   "cell_type": "markdown",
   "metadata": {},
   "source": [
    "## Image display\n",
    "\n",
    "The 64 worsts classification likelihood, all models and sizes combined : "
   ]
  },
  {
   "cell_type": "code",
   "execution_count": null,
   "metadata": {},
   "outputs": [],
   "source": [
    "N_image_i = 8\n",
    "N_image_j = 8\n",
    "fig, axs = plt.subplots(N_image_i, N_image_j, figsize=(fig_width, fig_width))\n",
    "for i, idx in enumerate(df_downsample[\"perf\"].argsort()[:(N_image_i*N_image_j)]):\n",
    "    ax = axs[i%N_image_i][i//N_image_i]\n",
    "    ax.imshow(imageio.imread(image_datasets['test'].imgs[df_downsample.loc[idx]['i_image']][0]))\n",
    "    ax.set_xticks([])\n",
    "    ax.set_yticks([])\n",
    "    ax.set_xlabel(df_downsample.loc[idx]['label'] + ' | ' + df_downsample.loc[idx]['model']+ ' | ' + str(df_downsample.loc[idx]['image_size']), color='g')\n",
    "    perf_ = df_downsample.loc[idx]['perf']\n",
    "    ax.set_ylabel(f'P={perf_:2.3f}%', color='g')"
   ]
  },
  {
   "cell_type": "markdown",
   "metadata": {},
   "source": [
    "## summary\n",
    "\n",
    "Again, we extracted a specific mean for each models : "
   ]
  },
  {
   "cell_type": "markdown",
   "metadata": {},
   "source": [
    "Mean accuracy"
   ]
  },
  {
   "cell_type": "code",
   "execution_count": null,
   "metadata": {},
   "outputs": [],
   "source": [
    "for model_name in models_vgg.keys():\n",
    "    pprint(f'Benchmarking model {model_name}')\n",
    "    for image_size in args.image_sizes:\n",
    "        df_ = df_downsample[(df_downsample['model']==model_name) & (df_downsample['image_size']==image_size)]\n",
    "        mean_acc = (df_[\"top_1\"] == df_[\"label\"]).mean()\n",
    "        print(f'For size {image_size}, the mean accuracy = {mean_acc*100:.4f} %' )"
   ]
  },
  {
   "cell_type": "markdown",
   "metadata": {},
   "source": [
    "Classification likelihood's mean"
   ]
  },
  {
   "cell_type": "code",
   "execution_count": null,
   "metadata": {},
   "outputs": [],
   "source": [
    "for model_name in models_vgg.keys():\n",
    "    pprint(f'Benchmarking model {model_name}')\n",
    "    for image_size in args.image_sizes:\n",
    "        med_perf = np.mean(df_downsample[(df_downsample['model']==model_name) & (df_downsample['image_size']==image_size)][\"perf\"])\n",
    "        print(f'For size {image_size}, the mean clasification likelihood = {med_perf:.5f} %' )"
   ]
  },
  {
   "cell_type": "markdown",
   "metadata": {},
   "source": [
    "Computation time 's mean"
   ]
  },
  {
   "cell_type": "code",
   "execution_count": null,
   "metadata": {},
   "outputs": [],
   "source": [
    "for model_name in models_vgg.keys():\n",
    "    pprint(f'Benchmarking model {model_name}')\n",
    "    for image_size in args.image_sizes:\n",
    "        med_perf = np.mean(df_downsample[(df_downsample['model']==model_name) & (df_downsample['image_size']==image_size)][\"time\"])\n",
    "        print(f'For size {image_size}, the mean computation time = {med_perf:.3f} s' )"
   ]
  },
  {
   "cell_type": "markdown",
   "metadata": {},
   "source": [
    "Frame per second's mean"
   ]
  },
  {
   "cell_type": "code",
   "execution_count": null,
   "metadata": {},
   "outputs": [],
   "source": [
    "for model_name in models_vgg.keys():\n",
    "    pprint(f'Benchmarking model {model_name}')\n",
    "    for image_size in args.image_sizes:\n",
    "        med_perf = np.mean(df_downsample[(df_downsample['model']==model_name) & (df_downsample['image_size']==image_size)][\"fps\"])\n",
    "        print(f'For size {image_size}, the mean fps = {med_perf:.3f} Hz' )"
   ]
  },
  {
   "cell_type": "markdown",
   "metadata": {},
   "source": [
    "# Experiment 3: Image processing and recognition on grayscale images :\n",
    "\n",
    "Again, same likelihood indicators but now with a grayscale transformation."
   ]
  },
  {
   "cell_type": "code",
   "execution_count": null,
   "metadata": {},
   "outputs": [],
   "source": [
    "scriptname = 'experiment_grayscale.py'"
   ]
  },
  {
   "cell_type": "code",
   "execution_count": null,
   "metadata": {},
   "outputs": [],
   "source": [
    "%%writefile {scriptname}\n",
    "\n",
    "#import model's script and set the output file\n",
    "from DCNN_transfer_learning.model import *\n",
    "filename = f'results/{datetag}_results_3_{args.HOST}.json'\n",
    "\n",
    "def main():\n",
    "    if os.path.isfile(filename):\n",
    "        df_gray = pd.read_json(filename)\n",
    "    else:\n",
    "        i_trial = 0\n",
    "        df_gray = pd.DataFrame([], columns=['model', 'perf', 'fps', 'time', 'label', 'i_label', 'i_image', 'filename', 'device_type', 'top_1']) \n",
    "        # image preprocessing setting a grayscale output\n",
    "        (dataset_sizes, dataloaders, image_datasets, data_transforms) = datasets_transforms(image_size=args.image_size, p=1, batch_size=1)\n",
    "\n",
    "        # Displays the input image of the model \n",
    "        for i_image, (data, label) in enumerate(dataloaders['test']):\n",
    "            data, label = data.to(device), label.to(device)\n",
    "\n",
    "            for model_name in models_vgg.keys():\n",
    "                model = models_vgg[model_name]\n",
    "                model = model.to(device)\n",
    "\n",
    "                with torch.no_grad():\n",
    "                    i_label_top = reverse_labels[image_datasets['test'].classes[label]]\n",
    "                    tic = time.time()\n",
    "                    out = model(data).squeeze(0)\n",
    "                    if model_name == 'vgg' :\n",
    "                        percentage = torch.nn.functional.softmax(out[args.subset_i_labels], dim=0) * 100\n",
    "                        _, indices = torch.sort(out, descending=True)\n",
    "                        top_1 = labels[indices[0]]\n",
    "                        perf_ = percentage[reverse_subset_i_labels[i_label_top]].item()\n",
    "                    else :\n",
    "                        percentage = torch.nn.functional.softmax(out, dim=0) * 100\n",
    "                        _, indices = torch.sort(out, descending=True)\n",
    "                        top_1 = subset_labels[indices[0]] \n",
    "                        perf_ = percentage[label].item()\n",
    "                dt = time.time() - tic\n",
    "                df_gray.loc[i_trial] = {'model':model_name, 'perf':perf_, 'time':dt, 'fps': 1/dt,\n",
    "                                   'label':labels[i_label_top], 'i_label':i_label_top, \n",
    "                                   'i_image':i_image, 'filename':image_datasets['test'].imgs[i_image][0], 'device_type':device.type, 'top_1':str(top_1)}\n",
    "                print(f'The {model_name} model get {labels[i_label_top]} at {perf_:.2f} % confidence in {dt:.3f} seconds, best confidence for : {top_1}')\n",
    "                i_trial += 1\n",
    "        df_gray.to_json(filename)\n",
    "\n",
    "main()    "
   ]
  },
  {
   "cell_type": "code",
   "execution_count": null,
   "metadata": {},
   "outputs": [],
   "source": [
    "%run -int {scriptname}"
   ]
  },
  {
   "cell_type": "markdown",
   "metadata": {},
   "source": [
    "\n",
    "Collecting all the results, displaying all the data in a table "
   ]
  },
  {
   "cell_type": "code",
   "execution_count": null,
   "metadata": {},
   "outputs": [],
   "source": [
    "filename = f'results/{datetag}_results_3_{args.HOST}.json'\n",
    "#filename = 'results/2021-04-20_results_3_INV-133-DE01.json'\n",
    "df_gray = pd.read_json(filename)\n",
    "df_gray"
   ]
  },
  {
   "cell_type": "code",
   "execution_count": null,
   "metadata": {},
   "outputs": [],
   "source": [
    "np.unique(df_gray['model'])"
   ]
  },
  {
   "cell_type": "markdown",
   "metadata": {},
   "source": [
    "## Image display\n",
    "\n",
    "The 64 worsts classification likelihood, all model combined : "
   ]
  },
  {
   "cell_type": "code",
   "execution_count": null,
   "metadata": {},
   "outputs": [],
   "source": [
    "N_image_i = 8\n",
    "N_image_j = 8\n",
    "\n",
    "fig, axs = plt.subplots(N_image_i, N_image_j, figsize=(fig_width, fig_width))\n",
    "for i, idx in enumerate(df_gray[\"perf\"].argsort()[:(N_image_i*N_image_j)]):\n",
    "    ax = axs[i%N_image_i][i//N_image_i]\n",
    "    ax.imshow(imageio.imread(image_datasets['test'].imgs[df_gray.loc[idx]['i_image']][0], pilmode=\"L\"), cmap='gray')\n",
    "    ax.set_xticks([])\n",
    "    ax.set_yticks([])\n",
    "    ax.set_xlabel(df_gray.loc[idx]['label'] + ' | ' + df_gray.loc[idx]['model'], color='g')\n",
    "    perf_ = df_gray.loc[idx]['perf']\n",
    "    ax.set_ylabel(f'P={perf_:2.3f}%', color='g')"
   ]
  },
  {
   "cell_type": "markdown",
   "metadata": {},
   "source": [
    "### Classification likelihood compared with experiment 1\n",
    "\n",
    "Let's analyze the classification likelihood of each models on the same dataset for color versus grayscale images. Here likelihood's are displayed as a violin plot to allow a better representation of the models."
   ]
  },
  {
   "cell_type": "code",
   "execution_count": null,
   "metadata": {},
   "outputs": [],
   "source": [
    "import seaborn as sns\n",
    "\n",
    "fig, axs = plt.subplots(figsize=(fig_width, fig_width/phi**2))\n",
    "# plt.xticks(fontsize=18)\n",
    "# plt.yticks(fontsize=18)\n",
    "for color, df_, label in zip(['gray', 'red'], [df_gray, df], ['black', 'color']):\n",
    "    axs = sns.violinplot(x=\"model\", y=\"perf\", data=df_, inner=\"quartile\", cut=0, color=color, alpha=.5, scale = 'width')\n",
    "axs.set_title('Processed on : ' + args.HOST + '_' + str(df_['device_type'][0]), size=20)\n",
    "axs.set_ylabel('Classification likelihood (%)', size=18)\n",
    "axs.set_xlabel('Model', size=18)\n",
    "axs.legend(['Color', 'Gray'], fontsize=18)\n",
    "    "
   ]
  },
  {
   "cell_type": "markdown",
   "metadata": {},
   "source": [
    "Classification likelihood's mean"
   ]
  },
  {
   "cell_type": "code",
   "execution_count": null,
   "metadata": {},
   "outputs": [],
   "source": [
    "for model_name in models_vgg.keys():\n",
    "    med_perf_orig = np.mean(df[df['model']==model_name][\"perf\"])\n",
    "    med_perf = np.mean(df_gray[df_gray['model']==model_name][\"perf\"])\n",
    "    print(f'For the {model_name} model, the mean clasification likelihood = {med_perf:.5f} % (color = {med_perf_orig:.5f} % )' )\n",
    "    print(stats.ttest_1samp(df_gray[df_gray['model']==model_name][\"perf\"], np.mean(df[df['model']==model_name][\"perf\"])))"
   ]
  },
  {
   "cell_type": "markdown",
   "metadata": {},
   "source": [
    "## Accuracy of the learned models on grayscale images"
   ]
  },
  {
   "cell_type": "raw",
   "metadata": {},
   "source": [
    "results = {} \n",
    "results['acc'] = []\n",
    "results['precision'] = {}\n",
    "results['recall'] = {}\n",
    "\n",
    "for model_name in models_vgg.keys():\n",
    "    #pprint('Model : ' + model_name)\n",
    "    model_pred = df_gray[df_gray['model']==model_name][\"top_1\"].values.tolist()\n",
    "    ground_truth = df_gray[df_gray['model']==model_name][\"label\"].values.tolist()\n",
    "    acc = sklearn.metrics.accuracy_score(ground_truth, model_pred)\n",
    "    results['acc'].append(acc)\n",
    "    \n",
    "    #print(f'Accuracy top_1 : {acc:.3f}')\n",
    "    pres = sklearn.metrics.multilabel_confusion_matrix(ground_truth, model_pred)\n",
    "    results['precision'][model_name] = []\n",
    "    #pprint('Precision :')\n",
    "    for i, label in zip(pres, subset_labels) :\n",
    "        pres_ = np.flip(i)\n",
    "        pres_ = ((pres_[0][0]) / (pres_[0][0] + pres_[-1][0]))\n",
    "        results['precision'][model_name].append(pres_)\n",
    "        #print(f'{pres_:.3f} for the label {label}')\n",
    "    results['recall'][model_name] = []\n",
    "    #pprint('Recall :')\n",
    "    for i, label in zip(pres, subset_labels) :\n",
    "        pres_ = np.flip(i)\n",
    "        pres_ = ((pres_[0][0]) / (pres_[0][0] + pres_[0][-1]))\n",
    "        results['recall'][model_name].append(pres_)\n",
    "        #print(f'{pres_:.3f} for the label {label}')\n",
    "\n",
    "for mode in ['recall', 'precision']:\n",
    "    df_acc = pd.DataFrame({'vgg16_gray': results[mode]['vgg16_gray'],\n",
    "                        'vgg16_lin': results[mode]['vgg16_lin'],\n",
    "                         'vgg16_gen': results[mode]['vgg16_gen'],\n",
    "                          'vgg16_scale': results[mode]['vgg16_scale'],\n",
    "                           'vgg': results[mode]['vgg'],\n",
    "                      }, index=subset_labels)\n",
    "    ax = df_acc.plot.bar(rot=0, figsize=(fig_width, fig_width//4), fontsize = 10)\n",
    "    ax.set_ylim(0, 1)\n",
    "    ax.hlines(xmin=-.5, xmax=len(models_vgg.keys())-.5, y=1/n_output, ls='--', ec='k', label='chance level')\n",
    "    ax.set_title(mode.capitalize()+' for each models - experiment 3', size=20)\n",
    "    ax.set_ylabel(mode.capitalize(), size=14)\n",
    "    ax.set_xlabel('Labels', size=16)\n",
    "    \n",
    "df_acc = pd.DataFrame({'accuracy': results['acc']},\n",
    "                  index = models_vgg.keys())\n",
    "ax = df_acc.plot.bar(rot=0, figsize=(fig_width, fig_width//4), fontsize = 18)\n",
    "ax.set_ylim(0, 1)\n",
    "ax.hlines(xmin=-.5, xmax=len(models_vgg.keys())-.5, y=1/n_output, ls='--', ec='k', label='chance level')\n",
    "# https://matplotlib.org/stable/gallery/lines_bars_and_markers/bar_label_demo.html\n",
    "ax.bar_label(ax.containers[0], padding=-24, color='black', fontsize=14, fmt='%.3f')\n",
    "ax.set_title('Accuracy top_1 : for each models - experiment 3', size=20)\n",
    "ax.set_ylabel('Accuracy', size=14)\n",
    "ax.set_xlabel('Models', size=14)"
   ]
  },
  {
   "cell_type": "markdown",
   "metadata": {},
   "source": [
    "Mean accuracy"
   ]
  },
  {
   "cell_type": "code",
   "execution_count": null,
   "metadata": {},
   "outputs": [],
   "source": [
    "for model_name in models_vgg.keys():\n",
    "    mean_acc_orig = (df[df['model']==model_name][\"top_1\"] == df[df['model']==model_name][\"label\"]).mean()\n",
    "    mean_acc = (df_gray[df_gray['model']==model_name][\"top_1\"] == df_gray[df_gray['model']==model_name][\"label\"]).mean()\n",
    "    print(f'For the {model_name} model, the mean clasification likelihood = {mean_acc*100:.5f} % (color = {mean_acc_orig*100:.5f} % )' )"
   ]
  },
  {
   "cell_type": "code",
   "execution_count": null,
   "metadata": {},
   "outputs": [],
   "source": [
    "df_acc = pd.DataFrame({model_name: {subset_label: accuracy_score(df[(df['model']==model_name) & (df['label']==subset_label)][\"top_1\"], \n",
    "                                                                 df[(df['model']==model_name) & (df['label']==subset_label)][\"label\"])\n",
    "                                    for subset_label in subset_labels} \n",
    "                       for model_name in models_vgg.keys()})\n",
    "\n",
    "ax = df_acc.plot.bar(rot=60, figsize=(fig_width, fig_width//4), fontsize=18)\n",
    "ax.set_ylim(0, 1)\n",
    "ax.hlines(xmin=-.5, xmax=len(subset_labels)-.5, y=1/n_output, ls='--', ec='k', label='chance level')\n",
    "plt.legend(bbox_to_anchor=(1.1, .5), loc='lower right')\n",
    "ax.set_title('Accuracy top_1 : for each models - experiment 1', size=20)\n",
    "ax.set_ylabel('Accuracy', size=14)\n",
    "ax.set_xlabel('Models', size=14);"
   ]
  },
  {
   "cell_type": "code",
   "execution_count": null,
   "metadata": {},
   "outputs": [],
   "source": [
    "df_acc = pd.DataFrame({model_name: {label: accuracy_score(df_[(df_['model']==model_name)][\"top_1\"], \n",
    "                                                               df_[(df_['model']==model_name)][\"label\"])\n",
    "                                    for label, df_ in zip(['original', 'gray'], [df, df_gray])} \n",
    "                       for model_name in models_vgg.keys()})\n",
    "\n",
    "ax = df_acc.T.plot.bar(rot=0, figsize=(fig_width, fig_width//4), fontsize=18)\n",
    "ax.set_ylim(0, 1)\n",
    "ax.hlines(xmin=-.5, xmax=len(models_vgg.keys())-.5, y=1/n_output, ls='--', ec='k', label='chance level')\n",
    "# https://matplotlib.org/stable/gallery/lines_bars_and_markers/bar_label_demo.html\n",
    "for container in ax.containers: ax.bar_label(container, padding=-50, color='black', fontsize=14, fmt='%.3f', rotation=90)\n",
    "plt.legend(bbox_to_anchor=(1.1, .5), loc='lower right')\n",
    "ax.set_title(f'Experiment 3 - color vs gray images', size=20)\n",
    "ax.set_ylabel('Accuracy', size=14)\n",
    "plt.show();"
   ]
  },
  {
   "cell_type": "code",
   "execution_count": null,
   "metadata": {},
   "outputs": [],
   "source": [
    "# TODO : analyse *post-hoc* effect of contrast or salience"
   ]
  },
  {
   "cell_type": "markdown",
   "metadata": {},
   "source": [
    "## Computation time\n",
    "\n",
    "A display of the differents computation time of each models on the same dataset for a single resolution :"
   ]
  },
  {
   "cell_type": "code",
   "execution_count": null,
   "metadata": {},
   "outputs": [],
   "source": [
    "df_gray['time'].min(), df_gray['time'].max(), df_gray['time'].quantile(.005), len(df_gray[df_gray['model']==model_name]['time'])"
   ]
  },
  {
   "cell_type": "markdown",
   "metadata": {},
   "source": [
    "Computation time 's mean"
   ]
  },
  {
   "cell_type": "code",
   "execution_count": null,
   "metadata": {},
   "outputs": [],
   "source": [
    "for model_name in models_vgg.keys():\n",
    "    med_perf_orig = np.mean(df[df['model']==model_name][\"time\"])\n",
    "    med_perf = np.mean(df_gray[df_gray['model']==model_name][\"time\"])\n",
    "    print(f'For the {model_name} model, the mean computation time = {med_perf:.4f} s (color = {med_perf_orig:.4f} s )' )"
   ]
  },
  {
   "cell_type": "markdown",
   "metadata": {},
   "source": [
    "Frame per second's mean"
   ]
  },
  {
   "cell_type": "code",
   "execution_count": null,
   "metadata": {},
   "outputs": [],
   "source": [
    "for model_name in models_vgg.keys():\n",
    "    med_perf_orig = np.mean(df[df['model']==model_name][\"fps\"])\n",
    "    med_perf = np.mean(df_gray[df_gray['model']==model_name][\"fps\"])\n",
    "    print(f'For the {model_name} model, the mean fps = {med_perf:.3f} Hz (color = {med_perf_orig:.3f} Hz )' )"
   ]
  },
  {
   "cell_type": "code",
   "execution_count": null,
   "metadata": {},
   "outputs": [],
   "source": [
    "fig, axs = plt.subplots(len(models_vgg.keys()), 1, figsize=(fig_width, fig_width*phi//2))\n",
    "for color, df_, label, legend in zip(['gray', 'red'], [df_gray, df], ['black', 'color'], ['Grayscale', 'Regular']):\n",
    "    for ax, model_name in zip(axs, models_vgg.keys()):\n",
    "        ax.set_ylabel('Frequency', fontsize=14) \n",
    "        df_[df_['model']==model_name]['time'].plot.hist(bins=150, lw=1, label=str(legend+ ' ' + model_name), ax=ax, color=color, density=True)\n",
    "        ax.legend(loc='upper right', fontsize=20)\n",
    "        ax.set_xlim(df_gray['time'].quantile(.01), df_gray['time'].quantile(.99))\n",
    "axs[-1].set_xlabel('Processing time (s)', size=18)\n",
    "axs[0].set_title('Processed on : ' + args.HOST + '_' + str(df['device_type'][0]), size = 20);"
   ]
  },
  {
   "cell_type": "markdown",
   "metadata": {},
   "source": [
    "## Classification likelihood\n",
    "\n",
    "A display of the classification likelihood of each models on the same dataset for a single resolution :"
   ]
  },
  {
   "cell_type": "code",
   "execution_count": null,
   "metadata": {},
   "outputs": [],
   "source": [
    "fig, axs = plt.subplots(len(models_vgg.keys()), 1, figsize=(fig_width, fig_width*phi//2), sharex=True, sharey=True)\n",
    "# plt.xticks(fontsize=18)\n",
    "# plt.yticks(fontsize=18)\n",
    "for ax, color, model_name in zip(axs, colors, models_vgg.keys()):\n",
    "    ax.set_ylabel('Frequency', fontsize=14)\n",
    "    df_gray[df_gray['model']==model_name]['perf'].plot.hist(bins=np.linspace(90, 100, 100), lw=0, alpha=0.3, label=model_name + '_gray', ax=ax, color='k', density=True)\n",
    "    df[df['model']==model_name]['perf'].plot.hist(bins=np.linspace(90, 100, 100), lw=0, alpha=0.3, label=model_name + '_color', ax=ax, color=color, density=True)\n",
    "    ax.legend(loc='upper left', fontsize=20)\n",
    "    ax.set_xlim(90, 100)\n",
    "    ax.set_ylim(0, 1)\n",
    "    # ax.tick_params(axis='x', labelsize=14)\n",
    "    # ax.tick_params(axis='y', labelsize=14)\n",
    "axs[-1].set_xlabel('Classification likelihood (%)', size=18)\n",
    "axs[0].set_title('Processed on : ' + args.HOST + '_' + str(df['device_type'][0]), size = 20);"
   ]
  },
  {
   "cell_type": "markdown",
   "metadata": {},
   "source": [
    "## summary\n",
    "\n",
    "\n",
    "As a summary, we have shown here that one can implement transfer learning on a subset of images and that it reaches a higher accuracy than a simpler hypothesis. We have also shown that transfer learning could also be used to teach the network to different perturbations of the image, for instance changes in the resolution of in the colorspace. Such framework is thus promising for further applications which aim at modelling higher-order cognitive processes."
   ]
  },
  {
   "cell_type": "markdown",
   "metadata": {},
   "source": [
    "## Bonus: scan of some parameters\n",
    "\n",
    "If there is some GPU time time left, let's try to *meta*-optimize some parameters by testing how accuracy would vary. To avoid potential over-fitting problems, we perform that test on the `val` validation set which is separate from the `test` and `train` datasets. "
   ]
  },
  {
   "cell_type": "code",
   "execution_count": null,
   "metadata": {},
   "outputs": [],
   "source": [
    "scriptname = 'experiment_scan.py'"
   ]
  },
  {
   "cell_type": "code",
   "execution_count": null,
   "metadata": {},
   "outputs": [],
   "source": [
    "%%writefile {scriptname}\n",
    "\n",
    "#import model's script and set the output file\n",
    "from DCNN_transfer_learning.model import *\n",
    "from experiment_train import train_model\n",
    "\n",
    "scan_dicts= {'batch_size' : [8, 13, 21, 34, 55],\n",
    "             'lr': args.lr * np.logspace(-1, 1, 7, base=10),\n",
    "             'momentum': 1 - np.logspace(-3, -.5, 7, base=10),\n",
    "             'beta2': 1 - np.logspace(-5, -1, 7, base=10),\n",
    "            }\n",
    "\n",
    "def main(N_avg=10):\n",
    "\n",
    "    for key in scan_dicts:\n",
    "        filename = f'results/{datetag}_train_scan_{key}_{args.HOST}.json'\n",
    "        print(f'{filename=}')\n",
    "        if os.path.isfile(filename):\n",
    "            df_scan = pd.read_json(filename)\n",
    "        else:\n",
    "            i_trial = 0\n",
    "            measure_columns = [key, 'avg_loss_val', 'avg_acc_val', 'time']\n",
    "\n",
    "            df_scan = pd.DataFrame([], columns=measure_columns) \n",
    "            for i_trial, value in enumerate(scan_dicts[key]):\n",
    "                new_kwarg = {key: value}\n",
    "                print('trial', i_trial, ' /', len(scan_dicts[key]))\n",
    "                print('new_kwarg', new_kwarg)\n",
    "                # Training and saving the network\n",
    "                models_vgg_ = torchvision.models.vgg16(pretrained=True)\n",
    "                # Freeze training for all layers\n",
    "                # Newly created modules have require_grad=True by default\n",
    "                for param in models_vgg_.features.parameters():\n",
    "                    param.require_grad = False \n",
    "\n",
    "                num_features = models_vgg_.classifier[-1].in_features\n",
    "                features = list(models_vgg_.classifier.children())[:-1] # Remove last layer\n",
    "                features.extend([nn.Linear(num_features, n_output)]) # Add our layer with `n_output` outputs\n",
    "                models_vgg_.classifier = nn.Sequential(*features) # Replace the model classifier\n",
    "\n",
    "                since = time.time()\n",
    "\n",
    "                (dataset_sizes, dataloaders, image_datasets, data_transforms) = datasets_transforms(image_size=args.image_size, p=0, **new_kwarg)\n",
    "                models_vgg_, df_train = train_model(models_vgg_, num_epochs=args.num_epochs//4, dataloaders=dataloaders, **new_kwarg)\n",
    "\n",
    "                elapsed_time = time.time() - since\n",
    "                print(f\"Training completed in {elapsed_time // 60:.0f}m {elapsed_time % 60:.0f}s\")\n",
    "\n",
    "                df_scan.loc[i_trial] = {key:value, 'avg_loss_val':df_train.iloc[-N_avg:-1]['avg_loss_val'].mean(), \n",
    "                                   'avg_acc_val':df_train.iloc[-N_avg:-1]['avg_acc_val'].mean(), 'time':elapsed_time}\n",
    "                print(df_scan.loc[i_trial])\n",
    "                i_trial += 1\n",
    "            df_scan.to_json(filename)\n",
    "\n",
    "main()    "
   ]
  },
  {
   "cell_type": "code",
   "execution_count": null,
   "metadata": {},
   "outputs": [],
   "source": [
    "%run -int {scriptname}"
   ]
  },
  {
   "cell_type": "code",
   "execution_count": null,
   "metadata": {
    "nteract": {
     "transient": {
      "deleting": false
     }
    }
   },
   "outputs": [],
   "source": [
    "for key in scan_dicts:\n",
    "    filename = f'results/{datetag}_train_scan_{key}_{args.HOST}.json'\n",
    "    df_scan = pd.read_json(filename)\n",
    "    print(df_scan)"
   ]
  },
  {
   "cell_type": "code",
   "execution_count": null,
   "metadata": {},
   "outputs": [],
   "source": [
    "df_scan.plot()"
   ]
  },
  {
   "cell_type": "code",
   "execution_count": null,
   "metadata": {},
   "outputs": [],
   "source": [
    "print(df_scan)"
   ]
  }
 ],
 "metadata": {
  "kernelspec": {
   "display_name": "Python 3",
   "language": "python",
   "name": "python3"
  },
  "language_info": {
   "codemirror_mode": {
    "name": "ipython",
    "version": 3
   },
   "file_extension": ".py",
   "mimetype": "text/x-python",
   "name": "python",
   "nbconvert_exporter": "python",
   "pygments_lexer": "ipython3",
   "version": "3.8.10"
  },
  "nteract": {
   "version": "0.28.0"
  },
  "toc-autonumbering": true,
  "toc-showmarkdowntxt": false
 },
 "nbformat": 4,
 "nbformat_minor": 4
}
