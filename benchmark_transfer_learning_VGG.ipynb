{
 "cells": [
  {
   "cell_type": "markdown",
   "metadata": {},
   "source": [
    "# Implementing transfer learning on Vgg16 using pyTorch"
   ]
  },
  {
   "cell_type": "markdown",
   "metadata": {},
   "source": [
    "Hi! I am  [Jean-Nicolas Jérémie](https://laurentperrinet.github.io/author/jean-nicolas-jeremie/) and the goal of this notebook is to provide a framework to implement (and experiment with) [transfer learning](https://en.wikipedia.org/wiki/Transfer_learning) on deep convolutional neuronal network (DCNN). In a nutshell, [transfer learning](https://www.analyticsvidhya.com/blog/2021/06/transfer-learning-using-vgg16-in-pytorch/) allows to re-use the knowlegde learned on a problem, such as categorizing images from  a large dataset, and apply it to a different (yet related) problem, performing the categorization on a smaller dataset. It is a powerful method as it allows to implement complex task *de novo* quite rapidly (in a few hours) without having to retrain the millions of parameters of a DCNN (which takes days of computations). The basic hypothesis is that it suffices to [re-train the last classification layers](https://www.kaggle.com/carloalbertobarbano/vgg16-transfer-learning-pytorch) (the head) while keeping the first layers fixed. Here, these networks teach us also some interesting insights into how living systems may perform such categorization tasks.\n",
    "\n",
    "Based on our [previous work]( https://laurentperrinet.github.io/sciblog/posts/2020-09-28-benchmarking-cnns.html), we will start from a [VGG16 network](https://pytorch.org/hub/pytorch_vision_vgg/) loaded from the [`torchvision.models` library](https://github.com/pytorch/vision/blob/main/torchvision/models/vgg.py) and pre-trained on the [Imagenet](http://image-net.org/) dataset wich allows to perform label detection on naturals images for $K = 1000$ labels. Our goal here will be to re-train the last fully-Connected layer of the network to perfom the same task but in a sub-set of $K = 10$ labels from the Imagenet dataset. \n",
    "\n",
    "Moreover, we are going to evaluate different strategies of transfer learning:\n",
    "\n",
    "* VGG General : Substitute the last layer of the pyTorch VGG16 network ($K = 1000$ labels) with a new layer build from a specific subset ($K = 10$ labels).\n",
    "* VGG Linear : Add a new layer build from a specific subset ($K = 10$ labels) after the last Fully-Connected layer of the the pyTorch VGG16 network.\n",
    "* VGG Gray : Same architecture as the VGG General network but trained with grayscale images.\n",
    "* VGG Scale : Same architecture as the VGG General network but trained with images of different size.\n",
    "\n",
    "In this notebook, I will use the [pyTorch](https://pytorch.org/) library for running the networks and the [pandas](https://pandas.pydata.org/docs/getting_started/index.html) library to collect and display the results. This notebook was done during a master 2 internship at the Neurosciences Institute of Timone (INT) under the supervision of [Laurent PERRINET](https://laurentperrinet.github.io/). It is curated in the following [github repo](https://github.com/JNJER/2020-06-26_fast_and_curious.git).\n",
    "\n",
    "<!-- TEASER_END -->\n",
    "\n",
    "In our [previous work]( https://laurentperrinet.github.io/sciblog/posts/2020-09-28-benchmarking-cnns.html), as the VGG16 network was first trained on the entire dataset of $K=1000$ labels, and in order to recover the classification confidence predicted by the model according to the specific subset of classes ($K = 10$ labels) on which it is tested, the output `softmax` mathematical function of the last layer of the network was slightly changed. By assuming that we know *a priori* that the image belongs to one (and only one) category from the sub-set the probabilities obtained would correspond to a confidence of classification discriminating only the classes of interest and can be compared to a chance level of $1 /K$. This creates another network (which is not retrained) directly based on VGG:\n",
    "\n",
    "* VGG Subset : Just consider the specific subset ($K = 10$ labels) from the last layer of the pyTorch VGG16 network ($K = 1000$ labels).\n",
    "\n",
    "This notebook aims in addition to test this hypothesis. Our use case consists of measuring whether there are differences in the likelihood of these networks during an image recognition task on a sub-set of $1000$ classes of the `ImageNet` library, with $K = 10$ (experiment 1). Additionally, we will implement some image transformations as up/down-sampling (experiment 2) or transforming to grayscale (experiment 3) to quantify their influence on the accuracy and computation time of each network.\n"
   ]
  },
  {
   "cell_type": "markdown",
   "metadata": {},
   "source": [
    "*Some useful links :*\n",
    "\n",
    "* https://jaketae.github.io/study/pytorch-vgg/\n",
    "* https://www.kaggle.com/carloalbertobarbano/vgg16-transfer-learning-pytorch\n",
    "* https://www.kaggle.com/paultimothymooney/detect-retina-damage-from-oct-images/notebook\n",
    "\n",
    "* https://en.wikipedia.org/wiki/Transfer_learning\n",
    "* https://github.com/laurentperrinet/ImageNet-Datasets-Downloader/tree/8d1c0925b5512f48978177a76e7b851ff40acb7b"
   ]
  },
  {
   "cell_type": "markdown",
   "metadata": {},
   "source": [
    "Let's first install requirements"
   ]
  },
  {
   "cell_type": "code",
   "execution_count": 1,
   "metadata": {},
   "outputs": [
    {
     "name": "stdout",
     "output_type": "stream",
     "text": [
      "Defaulting to user installation because normal site-packages is not writeable\n",
      "Requirement already satisfied: pip in /home/laurent/.local/lib/python3.8/site-packages (from -r requirements.txt (line 4)) (21.3.1)\n",
      "Requirement already satisfied: matplotlib in /home/laurent/.local/lib/python3.8/site-packages (from -r requirements.txt (line 5)) (3.4.3)\n",
      "Requirement already satisfied: numpy in /home/laurent/.local/lib/python3.8/site-packages (from -r requirements.txt (line 6)) (1.21.3)\n",
      "Requirement already satisfied: imageio in /home/laurent/.local/lib/python3.8/site-packages (from -r requirements.txt (line 7)) (2.9.0)\n",
      "Requirement already satisfied: torch in /home/laurent/.local/lib/python3.8/site-packages (from -r requirements.txt (line 8)) (1.10.0)\n",
      "Requirement already satisfied: torchvision in /home/laurent/.local/lib/python3.8/site-packages (from -r requirements.txt (line 9)) (0.11.1)\n",
      "Requirement already satisfied: pandas in /home/laurent/.local/lib/python3.8/site-packages (from -r requirements.txt (line 10)) (1.3.4)\n",
      "Requirement already satisfied: requests in /home/laurent/.local/lib/python3.8/site-packages (from -r requirements.txt (line 11)) (2.26.0)\n",
      "Requirement already satisfied: sklearn in /home/laurent/.local/lib/python3.8/site-packages (from -r requirements.txt (line 12)) (0.0)\n",
      "Requirement already satisfied: scipy in /home/laurent/.local/lib/python3.8/site-packages (from -r requirements.txt (line 13)) (1.7.1)\n",
      "Requirement already satisfied: seaborn in /home/laurent/.local/lib/python3.8/site-packages (from -r requirements.txt (line 14)) (0.11.2)\n",
      "Requirement already satisfied: cycler>=0.10 in /home/laurent/.local/lib/python3.8/site-packages (from matplotlib->-r requirements.txt (line 5)) (0.10.0)\n",
      "Requirement already satisfied: kiwisolver>=1.0.1 in /home/laurent/.local/lib/python3.8/site-packages (from matplotlib->-r requirements.txt (line 5)) (1.2.0)\n",
      "Requirement already satisfied: pillow>=6.2.0 in /usr/lib/python3/dist-packages (from matplotlib->-r requirements.txt (line 5)) (7.0.0)\n",
      "Requirement already satisfied: pyparsing>=2.2.1 in /home/laurent/.local/lib/python3.8/site-packages (from matplotlib->-r requirements.txt (line 5)) (2.4.7)\n",
      "Requirement already satisfied: python-dateutil>=2.7 in /usr/lib/python3/dist-packages (from matplotlib->-r requirements.txt (line 5)) (2.7.3)\n",
      "Requirement already satisfied: typing-extensions in /home/laurent/.local/lib/python3.8/site-packages (from torch->-r requirements.txt (line 8)) (3.10.0.0)\n",
      "Requirement already satisfied: pytz>=2017.3 in /usr/lib/python3/dist-packages (from pandas->-r requirements.txt (line 10)) (2019.3)\n",
      "Requirement already satisfied: idna<4,>=2.5 in /usr/lib/python3/dist-packages (from requests->-r requirements.txt (line 11)) (2.8)\n",
      "Requirement already satisfied: urllib3<1.27,>=1.21.1 in /usr/lib/python3/dist-packages (from requests->-r requirements.txt (line 11)) (1.25.8)\n",
      "Requirement already satisfied: certifi>=2017.4.17 in /home/laurent/.local/lib/python3.8/site-packages (from requests->-r requirements.txt (line 11)) (2020.6.20)\n",
      "Requirement already satisfied: charset-normalizer~=2.0.0 in /home/laurent/.local/lib/python3.8/site-packages (from requests->-r requirements.txt (line 11)) (2.0.6)\n",
      "Requirement already satisfied: scikit-learn in /home/laurent/.local/lib/python3.8/site-packages (from sklearn->-r requirements.txt (line 12)) (0.23.2)\n",
      "Requirement already satisfied: six in /usr/lib/python3/dist-packages (from cycler>=0.10->matplotlib->-r requirements.txt (line 5)) (1.14.0)\n",
      "Requirement already satisfied: threadpoolctl>=2.0.0 in /home/laurent/.local/lib/python3.8/site-packages (from scikit-learn->sklearn->-r requirements.txt (line 12)) (2.1.0)\n",
      "Requirement already satisfied: joblib>=0.11 in /home/laurent/.local/lib/python3.8/site-packages (from scikit-learn->sklearn->-r requirements.txt (line 12)) (0.17.0)\n",
      "Note: you may need to restart the kernel to use updated packages.\n"
     ]
    }
   ],
   "source": [
    "%pip install --upgrade -r requirements.txt"
   ]
  },
  {
   "cell_type": "raw",
   "metadata": {},
   "source": [
    "!make clean"
   ]
  },
  {
   "cell_type": "code",
   "execution_count": 2,
   "metadata": {},
   "outputs": [
    {
     "name": "stdout",
     "output_type": "stream",
     "text": [
      "total 101440\n",
      "-rw-r--r-- 1 501 dialout 95551495 Apr  2  2021  Imagenet_urls_ILSVRC_2016.json\n",
      "-rw-r--r-- 1 501 dialout      886 Oct  5 14:47  README.md\n",
      "-rw-r--r-- 1 501 dialout   121566 Oct  5 14:47  imagenet_label_to_wordnet_synset.json\n",
      "drwxr-xr-x 1 501 dialout      256 Oct  7 15:17  \u001b[0m\u001b[01;34mfigures\u001b[0m/\n",
      "-rw-r--r-- 1 501 dialout      391 Oct 25 16:30  Makefile\n",
      "drwxr-xr-x 1 501 dialout       64 Oct 25 23:51  \u001b[01;34mmodels\u001b[0m/\n",
      "-rw-r--r-- 1 501 dialout      221 Oct 26 09:25  requirements.txt\n",
      "drwxr-xr-x 1 501 dialout      192 Oct 26 13:26  \u001b[01;34mdata\u001b[0m/\n",
      "drwxr-xr-x 1 501 dialout      192 Oct 26 22:44  \u001b[01;34mDCNN_transfer_learning\u001b[0m/\n",
      "drwxr-xr-x 1 501 dialout     7488 Oct 27 00:29  \u001b[01;34mresults\u001b[0m/\n",
      "-rw-r--r-- 1 501 dialout  4905354 Oct 27 00:31 'benchmark_transfer_learning_VGG (conflicted copy 2021-10-27 003137).ipynb'\n",
      "-rw-r--r-- 1 501 dialout     5838 Oct 27 08:29  experiment_train.py\n",
      "-rw-r--r-- 1 501 dialout     2362 Oct 27 08:31  experiment_basic.py\n",
      "-rw-r--r-- 1 501 dialout     2609 Oct 27 08:31  experiment_downsample.py\n",
      "-rw-r--r-- 1 501 dialout     2402 Oct 27 08:32  experiment_grayscale.py\n",
      "drwxr-xr-x 1 501 dialout       96 Oct 27 08:32  \u001b[01;34m__pycache__\u001b[0m/\n",
      "-rw-r--r-- 1 501 dialout     2563 Oct 27 08:32  experiment_scan.py\n",
      "-rw-r--r-- 1 501 dialout  3222558 Oct 27 09:24  benchmark_transfer_learning_VGG.ipynb\n"
     ]
    }
   ],
   "source": [
    "%ls -ltr"
   ]
  },
  {
   "cell_type": "code",
   "execution_count": 3,
   "metadata": {},
   "outputs": [],
   "source": [
    "%matplotlib inline\n",
    "# uncommment to re-run training\n",
    "#%rm -fr models\n",
    "%mkdir -p DCNN_transfer_learning\n",
    "%mkdir -p results\n",
    "%mkdir -p models"
   ]
  },
  {
   "cell_type": "markdown",
   "metadata": {},
   "source": [
    "## Initialization of the libraries/variables\n",
    "\n",
    "Our coding strategy is to build up a small library as a package of scripts in the `DCNN_benchmark` folder and to run all calls to that library from this notebook. This follows our [previous work]( https://laurentperrinet.github.io/sciblog/posts/2020-09-28-benchmarking-cnns.html) in which we benchmarked various DCNNs and which allowed us to select VGG16 as a good compromise between performance and complexity.\n",
    "\n",
    "First of all, a `init.py` script defines all our usefull variables like the new labels to learn, the number of training images or the root folder to use. Also, we import libraries to train the different networks and display the results."
   ]
  },
  {
   "cell_type": "code",
   "execution_count": 4,
   "metadata": {},
   "outputs": [],
   "source": [
    "scriptname = 'DCNN_transfer_learning/init.py'"
   ]
  },
  {
   "cell_type": "code",
   "execution_count": 5,
   "metadata": {},
   "outputs": [
    {
     "name": "stdout",
     "output_type": "stream",
     "text": [
      "Overwriting DCNN_transfer_learning/init.py\n"
     ]
    }
   ],
   "source": [
    "%%writefile {scriptname}\n",
    "\n",
    "# Importing libraries\n",
    "import torch\n",
    "import argparse\n",
    "import json\n",
    "import matplotlib.pyplot as plt\n",
    "plt.rc('xtick', labelsize=18)    # fontsize of the tick labels\n",
    "plt.rc('ytick', labelsize=18)    # fontsize of the tick labels\n",
    "import numpy as np\n",
    "#from numpy import random\n",
    "import os\n",
    "import requests\n",
    "import time\n",
    "\n",
    "from time import strftime, gmtime\n",
    "datetag = strftime(\"%Y-%m-%d\", gmtime())\n",
    "datetag = '2021-10-26'\n",
    "\n",
    "HOST, device = os.uname()[1], torch.device(\"cuda\" if torch.cuda.is_available() else \"cpu\")\n",
    "HOST, device = 'inv-ope-de06', torch.device(\"cuda\")\n",
    "\n",
    "    \n",
    "# to store results\n",
    "import pandas as pd\n",
    "\n",
    "def arg_parse():\n",
    "    DEBUG = 25\n",
    "    DEBUG = 1\n",
    "    parser = argparse.ArgumentParser(description='DCNN_transfer_learning/init.py set root')\n",
    "    parser.add_argument(\"--root\", dest = 'root', help = \"Directory containing images to perform the training\",\n",
    "                        default = 'data', type = str)\n",
    "    parser.add_argument(\"--folders\", dest = 'folders', help =  \"Set the training, validation and testing folders relative to the root\",\n",
    "                        default = ['test', 'val', 'train'], type = list)\n",
    "    parser.add_argument(\"--N_images\", dest = 'N_images', help =\"Set the number of images per classe in the train folder\",\n",
    "                        default = [400//DEBUG, 200//DEBUG, 800//DEBUG], type = list)\n",
    "    parser.add_argument(\"--HOST\", dest = 'HOST', help = \"Set the name of your machine\",\n",
    "                    default=HOST, type = str)\n",
    "    parser.add_argument(\"--datetag\", dest = 'datetag', help = \"Set the datetag of the result's file\",\n",
    "                    default = datetag, type = str)\n",
    "    parser.add_argument(\"--image_size\", dest = 'image_size', help = \"Set the default image_size of the input\",\n",
    "                    default = 256)\n",
    "    parser.add_argument(\"--image_sizes\", dest = 'image_sizes', help = \"Set the image_sizes of the input for experiment 2 (downscaling)\",\n",
    "                    default = [64, 128, 256, 512], type = list)\n",
    "    parser.add_argument(\"--num_epochs\", dest = 'num_epochs', help = \"Set the number of epoch to perform during the traitransportationning phase\",\n",
    "                    default = 200//DEBUG)\n",
    "    parser.add_argument(\"--batch_size\", dest = 'batch_size', help=\"Set the batch size\", default = 32)\n",
    "    parser.add_argument(\"--lr\", dest = 'lr', help=\"Set the learning rate\", default = 0.0001)\n",
    "    parser.add_argument(\"--momentum\", dest = 'momentum', help=\"Set the momentum\", default = 0.9)\n",
    "    parser.add_argument(\"--beta2\", dest = 'beta2', help=\"Set the second momentum - use zero for SGD\", default = 0.)\n",
    "    parser.add_argument(\"--subset_i_labels\", dest = 'subset_i_labels', help=\"Set the labels of the classes (list of int)\",\n",
    "                    default = [945, 513, 886, 508, 786, 310, 373, 145, 146, 396], type = list)\n",
    "    parser.add_argument(\"--class_loader\", dest = 'class_loader', help = \"Set the Directory containing imagenet downloaders class\",\n",
    "                        default = 'imagenet_label_to_wordnet_synset.json', type = str)\n",
    "    parser.add_argument(\"--url_loader\", dest = 'url_loader', help = \"Set the file containing imagenet urls\",\n",
    "                        default = 'Imagenet_urls_ILSVRC_2016.json', type = str)\n",
    "    parser.add_argument(\"--model_path\", dest = 'model_path', help = \"Set the path to the pre-trained model\",\n",
    "                        default = 'models/re-trained_', type = str)\n",
    "    parser.add_argument(\"--model_names\", dest = 'model_names', help = \"Modes for the new trained networks\",\n",
    "                        default = ['vgg16_lin', 'vgg16_gen', 'vgg16_scale', 'vgg16_gray', ], type = list)\n",
    "    return parser.parse_args()\n",
    "\n",
    "args = arg_parse()\n",
    "datetag = args.datetag\n",
    "json_fname = os.path.join('results', datetag + '_config_args.json')\n",
    "load_parse = False # False to custom the config\n",
    "\n",
    "if load_parse:\n",
    "    with open(json_fname, 'rt') as f:\n",
    "        print(f'file {json_fname} exists: LOADING')\n",
    "        override = json.load(f)\n",
    "        args.__dict__.update(override)\n",
    "else:\n",
    "    print(f'Creating file {json_fname}')\n",
    "    with open(json_fname, 'wt') as f:\n",
    "        json.dump(vars(args), f, indent=4)\n",
    "    \n",
    "# matplotlib parameters\n",
    "colors = ['b', 'r', 'k', 'g', 'm']\n",
    "fig_width = 20\n",
    "phi = (np.sqrt(5)+1)/2 # golden ratio for the figures :-)\n",
    "\n",
    "#to plot & display \n",
    "def pprint(message): #display function\n",
    "    print('-'*len(message))\n",
    "    print(message)\n",
    "    print('-'*len(message))\n",
    "    \n",
    "#DCCN training\n",
    "print('On date', args.datetag, ', Running benchmark on host', args.HOST, ' with device', device.type)\n",
    "\n",
    "# Labels Configuration\n",
    "N_labels = len(args.subset_i_labels)\n",
    "\n",
    "paths = {}\n",
    "N_images_per_class = {}\n",
    "for folder, N_image in zip(args.folders, args.N_images):\n",
    "    paths[folder] = os.path.join(args.root, folder) # data path\n",
    "    N_images_per_class[folder] = N_image\n",
    "    os.makedirs(paths[folder], exist_ok=True)\n",
    "    \n",
    "with open(args.class_loader, 'r') as fp: # get all the classes on the data_downloader\n",
    "    imagenet = json.load(fp)\n",
    "\n",
    "# gathering labels\n",
    "labels = []\n",
    "class_wnids = []\n",
    "reverse_id_labels = {}\n",
    "for a, img_id in enumerate(imagenet):\n",
    "    reverse_id_labels[str('n' + (imagenet[img_id]['id'].replace('-n','')))] = imagenet[img_id]['label'].split(',')[0]\n",
    "    labels.append(imagenet[img_id]['label'].split(',')[0])\n",
    "    if int(img_id) in args.subset_i_labels:\n",
    "        class_wnids.append('n' + (imagenet[img_id]['id'].replace('-n','')))    \n",
    "        \n",
    "# a reverse look-up-table giving the index of a given label (within the whole set of imagenet labels)\n",
    "reverse_labels = {}\n",
    "for i_label, label in enumerate(labels):\n",
    "    reverse_labels[label] = i_label\n",
    "# a reverse look-up-table giving the index of a given i_label (within the sub-set of classes)\n",
    "reverse_subset_i_labels = {}\n",
    "for i_label, label in enumerate(args.subset_i_labels):\n",
    "    reverse_subset_i_labels[label] = i_label\n",
    "    \n",
    "# a reverse look-up-table giving the label of a given index in the last layer of the new model (within the sub-set of classes)\n",
    "subset_labels = []\n",
    "pprint('List of Pre-selected classes : ')\n",
    "# choosing the selected classes for recognition\n",
    "for i_label, id_ in zip(args.subset_i_labels, class_wnids) : \n",
    "    subset_labels.append(labels[i_label])\n",
    "    print('-> label', i_label, '=', labels[i_label], '\\nid wordnet : ', id_)\n",
    "subset_labels.sort()"
   ]
  },
  {
   "cell_type": "code",
   "execution_count": 6,
   "metadata": {},
   "outputs": [
    {
     "name": "stdout",
     "output_type": "stream",
     "text": [
      "Creating file results/2021-10-26_config_args.json\n",
      "On date 2021-10-26 , Running benchmark on host inv-ope-de06  with device cuda\n",
      "-------------------------------\n",
      "List of Pre-selected classes : \n",
      "-------------------------------\n",
      "-> label 945 = bell pepper \n",
      "id wordnet :  n02056570\n",
      "-> label 513 = cornet \n",
      "id wordnet :  n02058221\n",
      "-> label 886 = vending machine \n",
      "id wordnet :  n02219486\n",
      "-> label 508 = computer keyboard \n",
      "id wordnet :  n02487347\n",
      "-> label 786 = sewing machine \n",
      "id wordnet :  n02643566\n",
      "-> label 310 = ant \n",
      "id wordnet :  n03085013\n",
      "-> label 373 = macaque \n",
      "id wordnet :  n03110669\n",
      "-> label 145 = king penguin \n",
      "id wordnet :  n04179913\n",
      "-> label 146 = albatross \n",
      "id wordnet :  n04525305\n",
      "-> label 396 = lionfish \n",
      "id wordnet :  n07720875\n",
      "\n",
      "IPython CPU timings (estimated):\n",
      "  User   :       0.67 s.\n",
      "  System :       0.13 s.\n",
      "Wall time:       0.89 s.\n"
     ]
    }
   ],
   "source": [
    "%run -int {scriptname} "
   ]
  },
  {
   "cell_type": "markdown",
   "metadata": {},
   "source": [
    "## Download the `train` & `val` dataset\n",
    "\n",
    "In the `dataset.py`, we use an archive of the Imagenet fall 2011 urls to populate datasets based on the pre-selected classes listed in the `DCNN_benchmark/init.py` file. The following script is inspired by [previous work](https://github.com/laurentperrinet/ImageNet-Datasets-Downloader/) in our group."
   ]
  },
  {
   "cell_type": "code",
   "execution_count": 7,
   "metadata": {},
   "outputs": [
    {
     "data": {
      "text/plain": [
       "({'test': 'data/test', 'val': 'data/val', 'train': 'data/train'},\n",
       " ['test', 'val', 'train'])"
      ]
     },
     "execution_count": 7,
     "metadata": {},
     "output_type": "execute_result"
    }
   ],
   "source": [
    "paths, args.folders"
   ]
  },
  {
   "cell_type": "code",
   "execution_count": 8,
   "metadata": {},
   "outputs": [
    {
     "data": {
      "text/plain": [
       "\u001b[0;31mSignature:\u001b[0m \u001b[0mimageio\u001b[0m\u001b[0;34m.\u001b[0m\u001b[0mimread\u001b[0m\u001b[0;34m(\u001b[0m\u001b[0muri\u001b[0m\u001b[0;34m,\u001b[0m \u001b[0mformat\u001b[0m\u001b[0;34m=\u001b[0m\u001b[0;32mNone\u001b[0m\u001b[0;34m,\u001b[0m \u001b[0;34m**\u001b[0m\u001b[0mkwargs\u001b[0m\u001b[0;34m)\u001b[0m\u001b[0;34m\u001b[0m\u001b[0;34m\u001b[0m\u001b[0m\n",
       "\u001b[0;31mDocstring:\u001b[0m\n",
       "imread(uri, format=None, **kwargs)\n",
       "\n",
       "Reads an image from the specified file. Returns a numpy array, which\n",
       "comes with a dict of meta data at its 'meta' attribute.\n",
       "\n",
       "Note that the image data is returned as-is, and may not always have\n",
       "a dtype of uint8 (and thus may differ from what e.g. PIL returns).\n",
       "\n",
       "Parameters\n",
       "----------\n",
       "uri : {str, pathlib.Path, bytes, file}\n",
       "    The resource to load the image from, e.g. a filename, pathlib.Path,\n",
       "    http address or file object, see the docs for more info.\n",
       "format : str\n",
       "    The format to use to read the file. By default imageio selects\n",
       "    the appropriate for you based on the filename and its contents.\n",
       "kwargs : ...\n",
       "    Further keyword arguments are passed to the reader. See :func:`.help`\n",
       "    to see what arguments are available for a particular format.\n",
       "\u001b[0;31mFile:\u001b[0m      ~/.local/lib/python3.8/site-packages/imageio/core/functions.py\n",
       "\u001b[0;31mType:\u001b[0m      function\n"
      ]
     },
     "metadata": {},
     "output_type": "display_data"
    }
   ],
   "source": [
    "import imageio\n",
    "imageio.imread?"
   ]
  },
  {
   "cell_type": "code",
   "execution_count": 9,
   "metadata": {},
   "outputs": [
    {
     "data": {
      "text/plain": [
       "(528, 800, 3)"
      ]
     },
     "execution_count": 9,
     "metadata": {},
     "output_type": "execute_result"
    }
   ],
   "source": [
    "imageio.imread('https://upload.wikimedia.org/wikipedia/commons/thumb/7/7b/Crozet_-_Manchots.jpg/800px-Crozet_-_Manchots.jpg').shape"
   ]
  },
  {
   "cell_type": "code",
   "execution_count": 10,
   "metadata": {},
   "outputs": [],
   "source": [
    "scriptname = 'DCNN_transfer_learning/dataset.py'"
   ]
  },
  {
   "cell_type": "code",
   "execution_count": 11,
   "metadata": {},
   "outputs": [
    {
     "name": "stdout",
     "output_type": "stream",
     "text": [
      "Overwriting DCNN_transfer_learning/dataset.py\n"
     ]
    }
   ],
   "source": [
    "%%writefile {scriptname}\n",
    "\n",
    "from DCNN_transfer_learning.init import *  \n",
    "verbose = False\n",
    "\n",
    "with open(args.url_loader) as json_file:\n",
    "    Imagenet_urls_ILSVRC_2016 = json.load(json_file)\n",
    "\n",
    "def clean_list(list_dir, patterns=['.DS_Store']):\n",
    "    for pattern in patterns:\n",
    "        if pattern in list_dir: list_dir.remove('.DS_Store')\n",
    "    return list_dir\n",
    "\n",
    "import imageio\n",
    "def get_image(img_url, timeout=3., min_content=5000, verbose=verbose):\n",
    "    try:\n",
    "        img_resp = imageio.imread(img_url)\n",
    "        if verbose : print(f\"Success with url {img_url}\")\n",
    "        # TODO : raise error when min_content is not reached\n",
    "        return img_resp\n",
    "    except Exception as e:\n",
    "        if verbose : print(f\"Failed with {e} for url {img_url}\")\n",
    "        return False # did not work\n",
    "\n",
    "import hashlib # jah.\n",
    "# root folder\n",
    "os.makedirs(args.root, exist_ok=True)\n",
    "# train, val and test folders\n",
    "for folder in args.folders : \n",
    "    os.makedirs(paths[folder], exist_ok=True)\n",
    "    \n",
    "list_urls = {}\n",
    "list_img_name_used = {}\n",
    "for class_wnid in class_wnids:\n",
    "    list_urls[class_wnid] =  Imagenet_urls_ILSVRC_2016[str(class_wnid)]\n",
    "    np.random.shuffle(list_urls[class_wnid])\n",
    "    list_img_name_used[class_wnid] = []\n",
    "\n",
    "    # a folder per class in each train, val and test folder\n",
    "    for folder in args.folders : \n",
    "        class_name = reverse_id_labels[class_wnid]\n",
    "        class_folder = os.path.join(paths[folder], class_name)\n",
    "        os.makedirs(class_folder, exist_ok=True)\n",
    "        list_img_name_used[class_wnid] += clean_list(os.listdir(class_folder)) # join two lists\n",
    "    \n",
    "# train, val and test folders\n",
    "for folder in args.folders : \n",
    "    print(f'Folder \\\"{folder}\\\"')\n",
    "\n",
    "    filename = f'results/{datetag}_dataset_{folder}_{args.HOST}.json'\n",
    "    columns = ['img_url', 'img_name', 'is_flickr', 'dt', 'worked', 'class_wnid', 'class_name']\n",
    "    if os.path.isfile(filename):\n",
    "        df_dataset = pd.read_json(filename)\n",
    "    else:\n",
    "        df_dataset = pd.DataFrame([], columns=columns)\n",
    "\n",
    "    for class_wnid in class_wnids:\n",
    "        class_name = reverse_id_labels[class_wnid]\n",
    "        print(f'Scraping images for class \\\"{class_name}\\\"')\n",
    "        class_folder = os.path.join(paths[folder], class_name)\n",
    "        while (len(clean_list(os.listdir(class_folder))) < N_images_per_class[folder]) and (len(list_urls[class_wnid]) > 0):\n",
    "\n",
    "            # pick and remove element from shuffled list \n",
    "            img_url = list_urls[class_wnid].pop()\n",
    "            \n",
    "            if len(df_dataset[df_dataset['img_url']==img_url])==0 : # we have not yet tested this URL yet\n",
    "\n",
    "                # Transform URL into filename\n",
    "                # https://laurentperrinet.github.io/sciblog/posts/2018-06-13-generating-an-unique-seed-for-a-given-filename.html\n",
    "                img_name = hashlib.sha224(img_url.encode('utf-8')).hexdigest() + '.png'\n",
    "\n",
    "                if img_url.split('.')[-1] in ['.tiff', '.bmp', 'jpe', 'gif']:\n",
    "                    if verbose: print('Bad extension for the img_url', img_url)\n",
    "                    worked, dt = False, 0.\n",
    "                # make sure it was not used in other folders\n",
    "                elif not (img_name in list_img_name_used[class_wnid]):\n",
    "                    tic = time.time()\n",
    "                    img_content = get_image(img_url, verbose=verbose)\n",
    "                    dt = time.time() - tic\n",
    "                    \n",
    "                    worked = img_content is not False\n",
    "                    if worked:\n",
    "                        if verbose : print('Good URl, now saving', img_url, ' in', class_folder, ' as', img_name)\n",
    "                        imageio.imsave(os.path.join(class_folder, img_name), img_content, format='png')\n",
    "                        list_img_name_used[class_wnid].append(img_name)\n",
    "                df_dataset.loc[len(df_dataset.index)] = {'img_url':img_url, 'img_name':img_name, 'is_flickr':1 if 'flickr' in img_url else 0, 'dt':dt,\n",
    "                                'worked':worked, 'class_wnid':class_wnid, 'class_name':class_name}\n",
    "                df_dataset.to_json(filename)\n",
    "                print(f'\\r{len(clean_list(os.listdir(class_folder)))} / {N_images_per_class[folder]}', end='\\n' if verbose else '', flush=not verbose)\n",
    "            #print('\\n')\n",
    "        if (len(clean_list(os.listdir(class_folder))) < N_images_per_class[folder]) and (len(list_urls[class_wnid]) == 0): \n",
    "            print('Not enough working url to complete the dataset') \n",
    "    \n",
    "    df_dataset.to_json(filename)\n",
    "\n",
    "\n",
    "if False: \n",
    "    \n",
    "    # replace the file with that URLs that worked - removes the ones that failed\n",
    "    print(f'Replacing file {args.url_loader}')\n",
    "    with open(args.url_loader, 'wt') as f:\n",
    "        json.dump(Imagenet_urls_ILSVRC_2016, f, indent=4)\n"
   ]
  },
  {
   "cell_type": "code",
   "execution_count": 12,
   "metadata": {},
   "outputs": [
    {
     "name": "stdout",
     "output_type": "stream",
     "text": [
      "Creating file results/2021-10-26_config_args.json\n",
      "On date 2021-10-26 , Running benchmark on host inv-ope-de06  with device cuda\n",
      "-------------------------------\n",
      "List of Pre-selected classes : \n",
      "-------------------------------\n",
      "-> label 945 = bell pepper \n",
      "id wordnet :  n02056570\n",
      "-> label 513 = cornet \n",
      "id wordnet :  n02058221\n",
      "-> label 886 = vending machine \n",
      "id wordnet :  n02219486\n",
      "-> label 508 = computer keyboard \n",
      "id wordnet :  n02487347\n",
      "-> label 786 = sewing machine \n",
      "id wordnet :  n02643566\n",
      "-> label 310 = ant \n",
      "id wordnet :  n03085013\n",
      "-> label 373 = macaque \n",
      "id wordnet :  n03110669\n",
      "-> label 145 = king penguin \n",
      "id wordnet :  n04179913\n",
      "-> label 146 = albatross \n",
      "id wordnet :  n04525305\n",
      "-> label 396 = lionfish \n",
      "id wordnet :  n07720875\n",
      "Folder \"test\"\n",
      "Scraping images for class \"king penguin\"\n",
      "Scraping images for class \"albatross\"\n",
      "Scraping images for class \"ant\"\n",
      "Scraping images for class \"macaque\"\n",
      "Scraping images for class \"lionfish\"\n",
      "Scraping images for class \"computer keyboard\"\n",
      "Scraping images for class \"cornet\"\n",
      "Scraping images for class \"sewing machine\"\n",
      "Scraping images for class \"vending machine\"\n",
      "Scraping images for class \"bell pepper\"\n",
      "Folder \"val\"\n",
      "Scraping images for class \"king penguin\"\n",
      "Scraping images for class \"albatross\"\n",
      "Scraping images for class \"ant\"\n",
      "Scraping images for class \"macaque\"\n",
      "Scraping images for class \"lionfish\"\n",
      "Scraping images for class \"computer keyboard\"\n",
      "Scraping images for class \"cornet\"\n",
      "Scraping images for class \"sewing machine\"\n",
      "Scraping images for class \"vending machine\"\n",
      "Scraping images for class \"bell pepper\"\n",
      "Folder \"train\"\n",
      "Scraping images for class \"king penguin\"\n",
      "Not enough working url to complete the dataset\n",
      "Scraping images for class \"albatross\"\n",
      "Not enough working url to complete the dataset\n",
      "Scraping images for class \"ant\"\n",
      "Not enough working url to complete the dataset\n",
      "Scraping images for class \"macaque\"\n",
      "Not enough working url to complete the dataset\n",
      "Scraping images for class \"lionfish\"\n",
      "Not enough working url to complete the dataset\n",
      "Scraping images for class \"computer keyboard\"\n",
      "Not enough working url to complete the dataset\n",
      "Scraping images for class \"cornet\"\n",
      "Not enough working url to complete the dataset\n",
      "Scraping images for class \"sewing machine\"\n",
      "Not enough working url to complete the dataset\n",
      "Scraping images for class \"vending machine\"\n",
      "Not enough working url to complete the dataset\n",
      "Scraping images for class \"bell pepper\"\n",
      "Not enough working url to complete the dataset\n",
      "\n",
      "IPython CPU timings (estimated):\n",
      "  User   :      26.06 s.\n",
      "  System :       3.09 s.\n",
      "Wall time:      34.00 s.\n"
     ]
    }
   ],
   "source": [
    "%run -int {scriptname}"
   ]
  },
  {
   "cell_type": "code",
   "execution_count": 13,
   "metadata": {
    "collapsed": true,
    "jupyter": {
     "outputs_hidden": true
    }
   },
   "outputs": [
    {
     "data": {
      "text/plain": [
       "['c279ab399a6fb8cd2b8f87fbd9166bc8946d1cebd0516456a9bdc2fb.png',\n",
       " '88efceeab10b785b297aa8aae52235b7b778b0bb0a1f716e8eed1755.png',\n",
       " 'b9f3bcec9d347ec8757c30e1fe2a778993bc01eeec2e3e6dfac8fcec.png',\n",
       " 'd56b8535ad8efb944469789ed53c730e504a942e23e945513b9b842c.png',\n",
       " 'f03b55cc45969201bd969c7762b8c5394efd0832848618a3539a2144.png',\n",
       " '2bffdaf36f957ab70442c5b27ace5ea624b6f69d024e0eb1ad770cb3.png',\n",
       " 'a4f13d4e5723c413332806b722e18fa645d42ab544a52b45fffe43dd.png',\n",
       " '5774b61338ebe108bf487a988bfa0cef38a3c4496b6f6204639e2d4e.png',\n",
       " '27ede39e118db6e37ada9c43a9d17d54f7d2fda14a16ee1d90897c28.png',\n",
       " '66a22e3f2a1c111496c2857d2bf920a3ae69643bb5d6251594250f07.png',\n",
       " '10234a409fcb9b638ffce5f2e1b83e91a5ee7ba742cc26bd767c33a5.png',\n",
       " '6e097b853ef3244f839ae9173196dd9a4f4913a0b1b78bcf0e177fb3.png',\n",
       " '7b047cb4c64c7ad001c5487e20e5effd9cce6f5e301277bf466bc208.png',\n",
       " 'c829cb21301c765be34daa25753e1661ae30533ea2ab2afa8c2dc2f8.png',\n",
       " 'fa39a55e211d287feb92c84bc14d9e7536574d629f08f23dd646f4f4.png',\n",
       " '5bd4bfadce62f27c04990ffda36d29e8ec39d73c736c90e1554bee6a.png',\n",
       " 'c903937ae27f0db73dcaab9a42f2a4939a5c99ca99a25b4b4c2268eb.png',\n",
       " 'dc1a62b0de73ab87a5d889c41b355bc06f5c2f7acac7b6970d63a29a.png',\n",
       " '0a1f91f29aff03e58e303fb36a5da96bfd51127489c216eaefd527d4.png',\n",
       " '56631feee70953e2a3ece9f68bbdcf1d81f3e6c79da3e746d1c5e47c.png',\n",
       " '066fbe61b4295871a4845500a772be6795323430ee5fa587303f3c2c.png',\n",
       " '38ce82bf9ca11861c395da747febc87c0abdcb65a9502a7e3d4362da.png',\n",
       " '94330978e4f2a92f193a4e3ab4424caeec98e6a100238674816756ec.png',\n",
       " '8368e59e681deb3116ce8f055a87b2466cb76104f0365cd720a33873.png',\n",
       " '068ad38abcc69eb4cf5a505b8d37984b567aa1b02a504dac02c0b654.png',\n",
       " '9ce73a567e5b53e06e4fb390f6e17cc1b7d82850350beb3b47b0ee29.png',\n",
       " 'cfff3ca1899e8b0acb68ed55608e16a130c90dc469842cd2e0f45cef.png',\n",
       " '299e3a00747d19a514711aec57230e42852168e61e0257f796d53a82.png',\n",
       " 'd99062154bb51c83de72914312b9edc47eb5ccde5231ab9ab106ec41.png',\n",
       " '910146ca76c546a3510478e0b5e4ee8b4e8b4951a88c7134958571a0.png',\n",
       " 'fdbdece794af6481550dd2473a5d0ac5a5a93bb8730fce8c98b1b602.png',\n",
       " '72b2fbc9f745433a64b68febb0de71f3c6f4fa9929d62988f723aef6.png',\n",
       " '84a1e38a80c28ab6109c368dccc8b6f230f1d7d2c397de756356604b.png',\n",
       " '5ba0a0e0b77e710fc1ed10ab108d3fd15b8c06fe82ac15cd887bf748.png',\n",
       " '78283b5ef339dc709863f72b31861dda81792af89486edf0db906c36.png',\n",
       " '45b161e271aab89e1d32d44e0082ac97ff768848b1af559ea6d972a4.png',\n",
       " 'aabe29dafb35dbf021b4e78141272da4175249da3dae3946f20f45e5.png',\n",
       " '287d0234d8dcbe6aac14882ae0d4d936ac2de9db217a89accde9ec77.png',\n",
       " '1534f81bdd9eb443f413993e2a150f47a1fe15017ef62e184820955b.png',\n",
       " 'eb47f9e4cc33aeed8d0e5701dd32a636bfcd5aaaa894d7b33fda90ba.png',\n",
       " 'ae0e5f35f8aa7cf995168b3e67825740aae43e588248337a683174da.png',\n",
       " '142600e37fc9cec8f89ce51d82bad1cde7984fc24d6b32c1658235ee.png',\n",
       " 'dfd596f337c1aff750f0c5b95e8548dd9ebb486f8167419203311862.png',\n",
       " 'b89bd300922d29bb303ba25a6a070917e3bfaa93e869ce454871860d.png',\n",
       " '2654028d0bfeb40da378d6058a455147a720e65953dd9a7b1e4ec5dc.png',\n",
       " '6bb0d55910e4a6fc30fb79c3a600d463833718a9633e8255dcf53275.png',\n",
       " '1bfdaaec2f77c07520ac6110635876208985571e1ba23ae519701d80.png',\n",
       " '44c62de6fc98a35e3d429e47ea91f9d485af9fedf1cd3f342156b4ca.png',\n",
       " '2dcc3c0e924dffc004a6939475377241d8ce54fe5b9b615f42d1e40c.png',\n",
       " '6e121c15156a054b41c3353bf012982bfe8ed8988ca50679d85d5f12.png',\n",
       " '5ca259ab96a336fe62728a5e566c19dae8cc911b84b6f5b8bb379ad6.png',\n",
       " 'c091e5500893db2d74586db485b0fb55fc56bfb92542f7baaeb6a946.png',\n",
       " '449ed0d0767f8bf3cffb0712f470c1d7d7b66144429c4e1f4f7b9360.png',\n",
       " '9591956cfc060da597e74813f4bd7289603960d05b5ea86c104b32d4.png',\n",
       " 'e142e1a37717d008317b5dc0618153c7bcbf0f7572464db5595fca43.png',\n",
       " '1961aef32c1b9d5040f63d747dc167b85c4bcb4613307d76f82b29e5.png',\n",
       " '3eeffd23b2bcb1a032d47a2dd566b85c043742834078ab6e8693468e.png',\n",
       " '86c722a6f6f5e809f3178878f464569a492d12a9700bf63a88e1b51d.png',\n",
       " '95ec7cd9bab4b31f81e6371a4deb8b45508257e61ee6d2976c61b47a.png',\n",
       " '43e94419bd0dfc05714a203af29329058dbc21f4d28746c196d3f037.png',\n",
       " '5ffcb35733f2b8ab1889775aacf9a8bb243ac2e958563c0c458a7771.png',\n",
       " 'ffc9a8d6b3301fa1a0d14f11a02ada68d3f3e8629d54a21c69163cdd.png',\n",
       " 'f900ccb78bcfd7731dc8233d839855140e4b91bca01887cd91b22a46.png',\n",
       " '9c0de8b1937a0d25af8d251948f1613c8e09c98172184ff99c04dfef.png',\n",
       " '24fc82e24508e2c13c66586524121bc14803008e4ccec21f592c65d1.png',\n",
       " 'dd2825615dccd794f89b058ef553e0dfa016dc6dacef6a0bb8bfa198.png',\n",
       " '96db1928e8562d8f0fcf0c8818c9b058ee344a25720f7bb253103a62.png',\n",
       " 'f76b2dd7f454d4e0186409b0daef5f64e037d06d3870b863ca535800.png',\n",
       " '1377afb722a0e279e0fc904f84194a8598bafe5d6bb861f4e28ff699.png',\n",
       " '7ccc13b7216482a9d3b32bdd47d5b4f1641adab9f0650c11b723dfef.png',\n",
       " 'e870f0d9c49eda962f8e18a0f60c8f4eef7fe004878182fbd3da3c28.png',\n",
       " '412975d1139f60ab52e83bcf70f035d5cf0d2eeeb022e49a094ea599.png',\n",
       " '7a6f8e1a3b3ebe2a9ca3669d9ed6f114b8fbd223f162a5822958fb3f.png',\n",
       " '60dde900123ce82b9441389d5d5125e3092cbb6709071f404ceba5ca.png',\n",
       " '3a0b366784437070b2e8e876f1973e575a037320407192c8d391d1a2.png',\n",
       " '93cc78357b057ae4043dbf204b131e0d31749ef62f0683e5fb690f52.png',\n",
       " 'cff70977e38610cbcff45968f48da0e44d27debc226e42f4aacea657.png',\n",
       " '8509c76de066702a7e40d64db4958b21ab152dd18a1f73d28345c950.png',\n",
       " 'b114496abe7b0d720ff6b7f04bfa66fea400852b6f4c8f8121d90629.png',\n",
       " 'b66e7f87c681e906e4cfd7f3e51367cc6815d54f16104448a374136e.png',\n",
       " '5e7067fb2793542a63585906f20097f8ec3766bbb4c175319c569f9d.png',\n",
       " '5a11a6d5f9c2d4d366112d5f3c50cd6a4990f4334441599415f16cbb.png',\n",
       " '4d264475f9bdb466d61f6a2b70774cc1cbd9ea4be94ca1b4ba1d46b4.png',\n",
       " '76df47537dc08b380fedcd3f3eedeb0f2823da84b707ad6546f1d110.png',\n",
       " '82fd83353d1a92f3096ac15a9555b29f8b5e95f0e0a616c7a56044cd.png',\n",
       " '6e6b02e23a0516d0f7d960f386760a9a30a642e471f1a4104a9d3c25.png',\n",
       " 'a2976000ef16e1568fa4af3f81ce45061f8ce96e7a0468ed8ca74745.png',\n",
       " '68ea877f41a3d5acc87ed8679df0a0f81aedcfe37ae84929752b369c.png',\n",
       " '699b1a0a5a0e8a8340d3dd257313591d68fe17d5e71f8ac1c961bcb9.png',\n",
       " '42fde525e3f8faccfdc3ef5c78fbf49d056abe6a20b2ddbb15b10663.png',\n",
       " '5a2d5fa835015c839483c3153158cc48eba04da184f5a04fa8827076.png',\n",
       " '7e4bf1aa22d1fea00bed43dfd9362fe92c7de72665564b22e6a79993.png',\n",
       " '83619c705bc966565ba994d9d01cb6d692bede9d7d31e77128b35671.png',\n",
       " '7e361efa075eeccb0d9c41350fdc11d571ce7f64d7614aab5ddf539d.png',\n",
       " '7d075d316ee0cf62ebe913986be448522e371b5b986dc8a3c01dee22.png',\n",
       " 'c4f18f1de98a288a44396ca9cc0394b5f22041abe2f8131d4bffff29.png',\n",
       " '4e45e76b7e91b1752057105add3e617c78492439c6584140dd5bebf1.png',\n",
       " '79f91a59bf8469e47343ac60560c9eb307f14c72d0f0efe6e64cae51.png',\n",
       " '196c7ae8f902be25b1920d1b9cf9cb56e84e628eebf4e65bddfb5a52.png',\n",
       " 'b5e68ecb6ff9a0219274f0f0b987e0cac3a373ee9208954e83f92e32.png',\n",
       " '10a57b29acb6d4245ebee1b0357a6300e5d46c26b9422051b9c3e80e.png',\n",
       " 'f70201e186b89dd18a8df7654f938cde0925ed4f6647755f84f0e2a2.png',\n",
       " '79ec12f73580db7456e0ebafcccc66908477b6c402f68abdb2d561c7.png',\n",
       " '9a31a033a7e19109a12efb7b74a498befd6204399d1a46696a39aff9.png',\n",
       " '5c81ec5d39e5a20e2f0aa10786aa2e298236d6a3f7cb160ecf627194.png',\n",
       " '5b7dbc8ff81636dbcb4313ed1aaa51fcccef5541da6c9261aee1a2fb.png',\n",
       " 'bb89c800c874a8e64aa7ba37e71cb2b5262f7b4813e0a303b23b0d3b.png',\n",
       " '6657d9387c3816ee437db8ad0e7913aa504d5ba2b0e58f3891aae9f8.png',\n",
       " '8c17b1b2713330638512c7ebf6217205742d8b01dfa2fb04fe266729.png',\n",
       " '66396ab1f63e22955f761cad3a02005d4606615e41b960aaaa1f9b69.png',\n",
       " '8b6ed00e1cae6565bdbc0a95abb4730b97a71479fd4b0796adf0efab.png',\n",
       " '2b215f763831209c8c57b3de28db4b624e3a982c892a50405ee69d3f.png',\n",
       " 'b44584de96f759de8b463d4f5c28c1ce0010bd32b34151e67c26fafb.png',\n",
       " '6be71a0f03d0e2cb7836427cbde49fbc8310364e2faaffdba22c6070.png',\n",
       " 'a158d319aca77182e2d206bfd01b79c382a72889b63845a3d7bdd74b.png',\n",
       " 'dd23fd7678ec0b5ebafe95feae83f3bac9d90c2b0614d68bf0bb4e10.png',\n",
       " '924dc2ad6777c48b03aaa2fbddec0bf316c1f54ceb04b7497f6265a5.png',\n",
       " '1bfeb4b549964e09da5b2dfc42c68feb79841eac42c696cb60cd6472.png',\n",
       " '2e699ab6f72d4c7e589aab0cccf42fa0204c537310f0370a7612d64e.png',\n",
       " 'd2b022275d7e3dd1153e2b3ddb642edcb99dcdfede47be924f2997a0.png',\n",
       " '384f6aedcccf516f6d3f659fef906f72b9fef5fb73e88283f3bcfd2f.png',\n",
       " '2d45ea9862147552179504f276bbd041c26c250baea9792633d0676d.png',\n",
       " '14e85fa4a3f63564c016baa15da074ca59aae726d95d029d63c953c6.png',\n",
       " '1d74c81363f858bae803197f830a6f0a165b42f38a192032896960ad.png',\n",
       " 'bb3b1da1b641f744b1076b408b1f34434f8cb97cc1b8bf64f25c0be4.png',\n",
       " 'b36d55f6542f108c15a706cc9661e60eac51ca552a5e706517719f40.png',\n",
       " 'd45afc3ff4503297f5f7e42634b6d3b5fe7f88b0b2243ce8a18c8993.png',\n",
       " '02d07ab238ab33f3fadc79cf879d31c08917b573ebcda1e9a8b260cd.png',\n",
       " '33d6c7a92cb17dda4529b00490a1fec342912f819f6ed7721163abbc.png',\n",
       " 'f5c7000ed493305df82c12ed22720e9b7764aeabcab27dc6aaed0490.png',\n",
       " '5f6becb410f30627bc96c602354c82bcfb1297ba2532690b6e3bebc0.png',\n",
       " '8c354188694b1327ab37dfbd37f69d5ab06d7cc459037213d60638c6.png',\n",
       " '25b3565b6ca83b98023be33e88ceb8a332056b1c61ae309445295f1b.png',\n",
       " '88512bf79c6e0ae9129a0efa8a3455ddee1ffefec7f8b084d379cf55.png',\n",
       " 'a958a84554543fda36a6376d0e6ae819002f7cc853b11ed156c2def0.png',\n",
       " '6d10280baed02ea6ff00276e04bc239b535385a7c3177de02ebf7486.png',\n",
       " '26b5abaf073bdccea5ac351be05f4954dc5f87845f2f292fd60de7ec.png',\n",
       " '375ba984599ae5378877b202c5a96da8720cff887e29e67a5c4d9326.png',\n",
       " '122b434be32ba5fa6ad12479ddfdf50d4c46a4c5225fd24ed2616fb5.png',\n",
       " '56c2fd9c1b6891ee850914b1295184c17d3339b542d1371a99ade54c.png',\n",
       " 'aca3e5635682e875d518c1fd988ca5e96cda28840432514d6eb500e7.png',\n",
       " '2c251d9334e79dc449ff7f21bc2bb11db0d5405b98cb475e283c4d83.png',\n",
       " '944f388c7d87d3dc06376a171e6a8e492916353f3abcbba73b0282a3.png',\n",
       " '39f156bfc73c08827283632134e5bc2f213b0a1ead10e29fd3931c72.png',\n",
       " 'ee25a4320e831f6f0dbb5da3a265264f8e94a0082d1d0b561fe5a368.png',\n",
       " '94cd530e98777110a861685d6d658877ee20edd829a0ac988eefb17d.png',\n",
       " '838bde15f3b33b46702ba1844fe1a9c4168b3699c6eb0f743d5eb25a.png',\n",
       " '07f0b341151144d73e75f153f5f9737fc6a5e48773e9a904d4bde825.png',\n",
       " '4ea87bb493a63b019c9921ba1385e244c83e02500dbf9457206bf04a.png',\n",
       " '6781454665b8723bc6393c3df77e5c86ea0f545b57d051992124bee1.png',\n",
       " '33d34d47b92366dcd5a03d6cab9abc9e376872ad6b0f57fbbacb9007.png',\n",
       " '85429e942cd5d5718fd3f8e149a73ec3b02e1c68ee13be61c49ba3b8.png',\n",
       " 'daeb66b33959690aa117905d150b6f48411df07decafe5854fafb1b2.png',\n",
       " 'a5f57019c078581b77b490267306990cb5abbc4a57df51c569ff12f1.png',\n",
       " 'c5bb010552d43e9c298552d78637faaf4ffc7a83e703d2d105f5c815.png',\n",
       " '2e45eaed37120f33f2ddec94f86619a2dcb38ec89a7c5c36eb24eca3.png',\n",
       " 'b75f84373ff6f613189f24c61527cb52632a65420c55868bf41fa41f.png',\n",
       " 'e9b21d4169ec2483813ac0fd60828c4b937cd993eb4013834b9ed1b2.png',\n",
       " 'a44371038cc0759017eec0ab9c28a4a5036bf8f1a665f71d18f9f284.png',\n",
       " '5600e0d2b25de8f7e3c33656463b8f5a0a7be5e09d15ae5189e8ebc6.png',\n",
       " 'a8da4aaf2c52888eb761515dbe6c3772039be1dc7e01028c3d1a372c.png',\n",
       " 'd584d58773e1eddf6a46afd58a86b56196d7d833d52fe3ed8f85afec.png',\n",
       " '4614470292838407c0bb77e2b5a80af727fd99e0e83c418dde0070b8.png',\n",
       " '3729abc03df30200b702e79b9d384bcdcce814b52cc9e7366156be41.png',\n",
       " '61dd5a2eeaed9326ffd05d1f7f68e5a6b21c848fafb686b6b69edf60.png',\n",
       " '0018057bd2a9f2c050b19f3c69f2e78936b5e36e9d9d09bd97c2ede3.png',\n",
       " '61e4ce25296fd87bd2268255d3d24fac6e2418951e73f51f666c0b9b.png',\n",
       " '557b45488ca55d5519b010f1e3d6dd2a18f255e529a214c0c15d361e.png',\n",
       " 'fd4276809ea1a7fbbc12fb286473cc254c938e50da81e7233af46483.png',\n",
       " '8452d348449dc99baa1968fa689907a936bfec73b3b95afdd2d6b327.png',\n",
       " 'ddd6ec8735ecfee516691a4ecf894d1eae0d7bec7302f31c50a00d9b.png',\n",
       " 'd42801a6244ae668458e857a341b55c95727b956f2965b75814e47b1.png',\n",
       " '844d1e2f128b4dfa62d970f0e0a3027db57a73742a58162c141d6cf8.png',\n",
       " 'c431aeae54104e586d72a503e812087eb6302d3824f0b93b248b1df1.png',\n",
       " '03dfa29088a2c8bb697dbe6b4b8a11f887223b625ddb9e91ca8c5c93.png',\n",
       " 'f3e8420b5893f1769995a475c76249b4ddd269c853f60e8009fc42c9.png',\n",
       " 'f3b74022a87a53cb2d4c789a91e1a4e2be16f6e17a6ab807a49f16d3.png',\n",
       " 'ddb5e0276d876fb690b962e99f5e9c549786a5c523daa33fc1ceaf75.png',\n",
       " '843de77982835483f0abd77aece8509edf1aa8021abad9ed59913ea7.png',\n",
       " '0b3e17ce257b5e9e55b11600337b0502190764e5d80ae41d44a6cbb1.png',\n",
       " '8fa93c1a26740d6d0e18afda30b354406df332f88fd258a2b3a6a20d.png',\n",
       " '7fdccc33559edbf35a89e6baf7dc37bb4eb93efaf5e87ca90fe6d6e5.png',\n",
       " '218acb92077d25b9c8122bbedc999eb732fa9a917abfa6556df262f4.png',\n",
       " 'd1830aca9f14b16fbf3908a556ef45ef9f2ebab830b56f8e748ed173.png',\n",
       " '510356b3580d9004976bbad5836a549bd310366b55060d370800afc0.png',\n",
       " 'cb6b2c71ff8afc85d2d277df2db5fbeffd86a785fb219ea22b07c782.png',\n",
       " '55b5c9e8b4e9f7df82b76c7969c7a59fe6be0837fa19253444787ebc.png',\n",
       " 'a123aa0d5c61e4104639b59c51cebf9b25ea19997a446884d045952f.png',\n",
       " '1705090d5fe54eae3fdc0fa8e6eb945ba7d910cd757c191f9b33e0de.png',\n",
       " 'c460f663f6eb74a61513861185715b97f9c2c55eb474d93c2559475e.png',\n",
       " '9c3af7611e965e48cf6228c525a319cb3af65b6f9aa72fd60e76cec0.png',\n",
       " 'ab4952ef3a9c851c45b78b2a58c229d323d0b8ea1c6099980f8fdff6.png',\n",
       " '27c3a1df44cb90fbcc962d4ba8d4d6adfa4672b63cea673b9afd23a0.png',\n",
       " 'e035aa9141f5f6825f94deee421c78a74695d91b448ae26a53351686.png',\n",
       " 'bd145b74d6f82b2c91e579803b0b81409cca204e9f995a52049f98e9.png',\n",
       " '53004a0973a3719279b726768e4b990a9efb468890c1b043db25734d.png',\n",
       " 'ade833e50ec9bce7d8e726b22565fbe1f32ff8ea46615b0ca3f3da2b.png',\n",
       " 'cec9e24e8e517b215789580c38a77e6996ac683cab16bc7a941b3304.png',\n",
       " 'ef26820e51c43f292c01721b21b16517eb5282d7a9cc658dc7230f75.png',\n",
       " '189246a498e41230aaea03ca6d0dc23b8a28dc1a3511a00d8f1a7e47.png',\n",
       " 'dad09331e632a464fa047daf9652723f8341be18a5d099cc605b4919.png',\n",
       " '209d0ba4641480bf669df2aebd588820b2cb68da66d8e729a8ab0578.png',\n",
       " '077836ab254b974acffe2edb62e5db12b89dc6210ccb2c1483d5d3f5.png',\n",
       " '8a9d73c0b145ce65c9f29fdbcd57239e6e5412c54db9a618b6c598b5.png',\n",
       " '27e23c716f5aa0d6df6951871eeec80e6c13643eb6a49d258419d365.png',\n",
       " 'c8ec6d4ad806a4a7320f867797e174a688e9ba95a174d1875a4a5ca5.png',\n",
       " '9de83517e7950783e5a763767df0ac5c6eae929172e2cddf0a99a52e.png',\n",
       " 'c3c5253244c890b73ec89a7c4e33691fc988bbc1a30bf2f7e8c93b4b.png',\n",
       " '6a9601e6c5df9cc281620f45eda06bb41f92a5c934a2ea056f54741e.png',\n",
       " 'f0cc135f25327d81f4d2d0460e49f086c12f81873fc4a0dbe1dc7868.png',\n",
       " '4f355289a85b77313b9cf4a15e6a6df2bf41f91d2e48713f3b6bc514.png',\n",
       " '0771a78ca7fb8de066947e8c245757fc7522129df3997cf89e834b9d.png',\n",
       " '5e1c5cf3589a7335e76603ed0fbefa37b6c63f4cf4a196bbe76ce163.png',\n",
       " 'e70efe8f230c5a30ccd7c7da7a97c6e023f1b16f6c8bda6862252d98.png',\n",
       " '8ef1e37fc9348aaf02802c82a229a0f21ae17217c10dcacd9aefbea8.png',\n",
       " '88d7a04675cf57151d4666e78a8cc26dc64f403ba6608d4d244092b1.png',\n",
       " 'fc397886944adff149590fb2deeb56bcaf429f083ba9685477b2e81a.png',\n",
       " '99258e7f69ab0481e387232a04ab81137add2aaa5789a4cd02165c59.png',\n",
       " 'd82a4b3fa10f75e5e75bce1153460acca2907622e6da51b32b8ec54f.png',\n",
       " '7baa6f378ab4bb35f6fe04df18b6fdcc61342a02b3352bff3eee5386.png',\n",
       " '33d4df01b467dae84ace10f75648ca2b2268206ec6cd1e71d1c28304.png',\n",
       " '76812ae9c874e605e103cb2ddf632503ac72b35aa83d5a831fd1c4a7.png',\n",
       " '9b5d4794381f9ce5910b340f134b912ba8947400ffb8a4cc5a0ff4ba.png',\n",
       " 'fc1ee9ab2c716dad94fe3bee1582396a65312e6faeaee8b0bd1bd9d5.png',\n",
       " 'e8efb223ab9bbce37ad58cc9e102bbb8998073cc58c3811f9f572652.png',\n",
       " '496945d71d25428ea722e22f6ae214dbd3c013f1881ce47fd86c0f37.png',\n",
       " '7e47c7c6e411af37572acb8ee2ed9fc76033fd99bae036fd02bd867d.png',\n",
       " 'cdb1dd19242d14ebe6256bfb582f2c29410fa63f3814847836ff38d5.png',\n",
       " '2955840c5d8551240bd18637840968e4cf0d5c1e17a7d4e313a225c4.png',\n",
       " '4a96a81932d30056a5f7b17df4ec8f5700daef0cbc3c02439071be56.png',\n",
       " '01376b81a1f682cf76e618c2c29ad9af2deba42bd53111fc1c061fce.png',\n",
       " '3618be577b2b81a02516ce6e63c8b98d3f70bc83a47db977f7a328ef.png',\n",
       " 'cfd47d7c41abd9b98f191da40dc31836ead474925cf11c6b97ebabbb.png',\n",
       " '09ecf74aa5fa8db3fefb0a0e888ebcf25b44ed6afcc965e9ebe483c0.png',\n",
       " 'e9a4dec5862325eacccefb81434de9f1ac292a06decd3ab29e48f83f.png',\n",
       " '01fa7e5027e71f9e0e10f75cd124e766f9cd62e9a661abffc05417e2.png',\n",
       " 'cdc46df5be7a6446fff128f6dce67dae3e1750f5688f0a67e2a054ee.png',\n",
       " '874b3f7df749616c9f4205661d77d9539194f7ef10a627e38eb78468.png',\n",
       " '2f3c259f6a1c1f3d120b83cfeb29c96b91a368870055b3cea4084b5d.png',\n",
       " '60a67831ca7ba9a4d27f131d2287cb996b8f12365652bb16ec0245d3.png',\n",
       " '59f8f5ef3d83c651d10dc206f835fd8def3174e4b4c1d46ed8834f1d.png',\n",
       " '1c4c962fcc30ca7b18dd87aa1c98e563ec9e2c7cb231604041dbb5cc.png',\n",
       " 'ebffb4b553d45bd36d479a54a42ac41564c9bc257cf57b508d82bb84.png',\n",
       " '75b6251d71d95e57d7ce01a12619e38045a419c955b5b55472700470.png',\n",
       " 'af1fea09ac6aceab1d182c0fe609f9fca388412f818dfa90fc62f21b.png',\n",
       " '084165d8345b20359469db1953966b116f0718805c832f8f00daa455.png',\n",
       " 'e2dff53dc66b436a5a5453a39e5c875b9e8ca7db4f9369d8a5881d40.png',\n",
       " '48646836319e158e1f2d780040464cb461226ec797b80d49c8f8f3b4.png',\n",
       " 'caa2c95d3c51a0cea56ff0b8a9498a1f279959823e93ee237304e4ff.png',\n",
       " '6ed4472d90a0639463a366e85d05ad01569a54951ab59601e3aae670.png',\n",
       " '8c368e5dc5c3a168ccf0ed66a0f4b1302676f61e984d84fa9d48f9db.png',\n",
       " '85d32e84135be8b63f7a5a54fcf2c597c6c3093554d8e0308bcbe42a.png',\n",
       " '3e0910e3603a3ddde864db679616073efc618d32b7e3e2f2cfe4ccbd.png',\n",
       " '58495998dd8598d40964a9de69d8daaadc1b6061c0e2fca1c2f63fca.png',\n",
       " 'cb2cec76955ef9ddcaf8a904c5d256f75469ed7306be73dc6dd263ff.png',\n",
       " '14fd52d1f8a1da8454fddb4ad64cc7f81bf59a93f78faafdb2158852.png',\n",
       " 'aa1fabbec5620e544323f82db3094708a8d0ae44f465ff3f528c104b.png',\n",
       " '73da3d05405c8c6ee5ea105a4778e2ee4f8c7bbc0f31bcb1955ab413.png',\n",
       " '02e419ea49d94eb506cbd61a07a345aa567f973c237e75a6923a24be.png',\n",
       " '4cd3850d3299f474121aba80cc3a8b6f4bf2228ce19c9d544ce0fc29.png',\n",
       " '30ca44e567d703204f77956fbb4ecc555e969f79ac04c14dd2096942.png',\n",
       " 'e05d30b8eafecb6581e99726878519ac3abd45b5b8b42c8e0c50ce3b.png',\n",
       " 'a06f5dcb35ece5c1f23b57ae8828cfd55b717cd5130ad194f0f66efc.png',\n",
       " 'f7323186a97ec8fc0985cef616c50f3b9d4c7a3759e95a465afadb0e.png',\n",
       " 'b28f01e452a039b2770e0fae68224c5d6f1028b2e3d96737e752c4b4.png',\n",
       " '380285e51a25412c371c08d566a3ef965b4844f54337d15210beaf00.png',\n",
       " '3ed26db7f63acc8741542fc7fd946c2799915890d6141d1d3ba78471.png',\n",
       " 'b2c5876aa77032be00d3c142202b56f053b313d3dde3b32185cab101.png',\n",
       " '7c27472af3fb960fac9df2f995d15338a8575bf8b5c1249bf5c48da0.png',\n",
       " 'd38ddd40b1178aafd37ac43f89f8a5104867dec02f06a3dd036b1c99.png',\n",
       " '544dc693e07650950801f2d97a42f21ab693d434f3fc3932c4127530.png',\n",
       " '08c0ac0c4507bb81b114ac5169693021bdd1327fbc9ecf7c29eb0e75.png',\n",
       " 'ec3d5eb1c1c1a6b5251ae01dc8840b7583094c042d91f4dca2eaa6e4.png',\n",
       " '7a1a3915115df9441b0452e809deff8cc1bd01ac8ec3544a04400a13.png',\n",
       " 'c0cfa0dff9b7072c64a57bfcd525475ca1186b659f912ab1377d3fcf.png',\n",
       " 'a4efe92990fc8cc185ee02b8a178ebc7da578f8bae09b8c8383e9c14.png',\n",
       " '1ae83fe5d374f2ba3ad1d955dcde2eacd6061ba62356c6a351504030.png',\n",
       " '3800a5589273c8093543439f664eeeb5f122a8622fc0ff59507da776.png',\n",
       " '0c7f845f8c5f6b554a11b03d8761c33fb30a7d7571398def7fc434ae.png',\n",
       " 'f6f994208fc344dd53b152ed405d0c7ed12e6e726a291267d55fc41c.png',\n",
       " '33510e1294d5bc2a8d7db8001eacf95696d84547a454ad0779d861aa.png',\n",
       " '7339109fa486ae46469a64a990c48d111773b916d1b29822b48f8598.png',\n",
       " 'ef63c9585aceb1a12cee82e7b92d43c8d9046846d0e76b097cbdc71f.png',\n",
       " 'dc121e4d6af531daad6c8791f9aa2660fc7eb99c5cb93ab7b098600d.png',\n",
       " '3684dcd525fea4b8bcc3198c5b6f417ceb2f14d18edbe5088f70987f.png',\n",
       " 'b5e052bdcb782e6cac366461a69dc01d9f5b1c111b73363d065a8271.png',\n",
       " 'c0b2be0c38a68d5b7e4111787669ead61704f03cc18d1251f15afd21.png',\n",
       " '090942f7c7e12bde5e43a6b3f4f6ed0aaa7f9510426bd973fd3ef40d.png',\n",
       " '3e84400c228ac5c46e3d49b882a843ab1ff2f642cb447719cef86275.png',\n",
       " 'eece493bb8de17f5c09626d51f1084f7f3b19a0a76a7c0101a200109.png',\n",
       " '4e858828347b8dc77a72016e21ab5db364f7a9c7f755c949def99d0e.png',\n",
       " '29ca435ae040707b0d73890af379d255b8339790c995d3d26e33aefa.png',\n",
       " '66544785c2950bd96578b9203d2cd070623d05c4f65f0e537eef4ef9.png',\n",
       " 'fe45bbeee9c4a382a92d669bf02c879e27c1eec7c5a0b8b8519637c9.png',\n",
       " '74c0ef359c5b0347b82fb654e6b92c4eec1a535171686a720e4644be.png',\n",
       " 'ee84cbcf91882682ebecf5aff5d3a54d2f56d40a6c92c754b1204831.png',\n",
       " '60952c9625a7bb5f5e37a5dd46ea73459915866075ddd5f659eb1774.png',\n",
       " 'e3507d30a53893abb01e3a842371779df0fcef8de57054d2dd3a1261.png',\n",
       " '72a034511531de1d7dac055e2ce7f23bc3298d1586ee4217028510df.png',\n",
       " '6fd5ac06db9b13b6923fe0ade4f7d3349e58f282e8ce8e13a32bea72.png',\n",
       " '79e4717f7811b2b41737075d07af1192fdf8b8c8ea838fb52ba7c675.png',\n",
       " 'f49a95d296bbbb75122d8321707fff599f97201b0595566f6ca45f1a.png',\n",
       " '121af2899605bebfcac71c3d03e76e73a44768f4808ba0c657574701.png',\n",
       " '3408953766c31b02975543077b4dd0144fe656744740145a83938076.png',\n",
       " '4dc50421c2d882145783cc1731acf0f5d5ea50cf5e63d6c558cd81db.png',\n",
       " 'a85ae5e7cf2ef91fa1660b6b003c6e39b443af8eb0a2535f3551d28c.png',\n",
       " 'e5f4d9d0605f167882061628542d2bbaf8eada654d0daf2be2216029.png',\n",
       " '52ec56c195c512ee2d5d4de393a3c6b914df8243b2445ed1fdde0858.png',\n",
       " 'ad92cc8b7c7d96d9c6a07126bc44b6689c642d2dd4e413e3444e5750.png',\n",
       " 'da5c421cdd7a4ba8fdd1e3ad454234038bb482ff6551de0e340eb959.png',\n",
       " 'ca3ea4c233b48c5fc7b66fda03562c8242563ba53c86c7799faa0140.png',\n",
       " '8b793438f1e7e839cfefb369b10b5e9fe7709d6850403dee0eac5c9a.png',\n",
       " '3a2bcfeb47904710281a8a761ba1b147a8974fc1274ffefa1f4a1cbe.png',\n",
       " '5c8dde59ac53b0967174d16a54e5d321268f152bff2cb06d17732bc0.png',\n",
       " '697ea2f196013d6a46c89912aff71704ec9b46272a4eba678b6abe05.png',\n",
       " '04532f96a25172dff793f8bbb42563073238dafd9ea5f1fdf332b9a0.png',\n",
       " 'dc48f65084286691e476a9938568a9f206b0b1e02ddb0b60b9b8bccf.png',\n",
       " '75ccb5c6ac9872e30a6851ab0cea970ca9d284286437f163af4f60bd.png',\n",
       " '52e774a3597b0d2b1d4b19402b712b0518080a4541188c94f86e7d89.png',\n",
       " '152e10f3100fcf6d1c5d88d46c223354e75cc69e595673206cb6ead0.png',\n",
       " '62c84a84b6430cd3530e8e2d43ef581a785646046650bd65d5f80828.png',\n",
       " '789464197b842fd3bf8519bc856b2695cc1047dab45ebc4bd70598ed.png',\n",
       " '25298642c6f589ae5c888139c62ca6500e7a6e72b7bb4cb70e0461de.png',\n",
       " 'c18a43b9725f007a905e82a54f88a0f9e118bc52e7be86e4ca10c9b5.png',\n",
       " '3b8271e4c2ac2795b70d9971ddfbab9b737bbbdf979b3162ff3c678e.png',\n",
       " 'e12198af814501b50091dabcfd178e3b15bf1573a3d6253262e8e6cb.png',\n",
       " '6c5a38ff97d31f176205d4f4311e7503150e9c0ff1e3923d28553323.png',\n",
       " 'f997986c4c297cf315c6472edcd7072500f147463a4c6b8b827bf7e4.png',\n",
       " '1ffedd52b304a7ed23296e1f983d6083bffc9784114be5282a5e2e68.png',\n",
       " '1c845ddf052d60451ac14edd712bdd443c2b80f286d552f345cc9981.png',\n",
       " '5ba465de345d1f754fe1cfeb3dee7b6d9f8e41da1873500fef5d4e8e.png',\n",
       " '3afa27c3e803cdb49dac38535913f07db4b4793a0973322e1c82ed80.png',\n",
       " '9bd9053b85edd691c40a99a66827a1fe0db9a44f47775705c65dbc5c.png',\n",
       " 'ca15be0ff7822ca6ae7692f76dcd98538e9a895806f7226ec7f5d378.png',\n",
       " '62938c2db26efb9749ef3ce1e890ebeee1f17121d027fba3f125274a.png',\n",
       " '2376644bbcc40b3edee4dc32f9e5865da0a7b0adc1dc0b96c9caf1c1.png',\n",
       " 'a6d30cebdbccefcab260b0d84ec98821bcf6da56884a9a48f95b427c.png',\n",
       " '6acaa1c1dba9c8743e9302f2607777854fef1ba136c72ad9b9c460c2.png',\n",
       " '261ec519415cfd1c82175727208dfc4e204b6f70696747ec6cdf95aa.png',\n",
       " '0f2ec67a08abe8f6eb2ffcf7d858d9567ef95e90543866c7029d842d.png',\n",
       " 'accba2501684d88e13c25c867fb6b66b1e1b53afb9c15b254e17732b.png',\n",
       " '5553ed3c0ef94b9e5727b2bb96c049cee245ef5ef076d55fdcf56164.png',\n",
       " '4bbcbc703b0b99836fe617f43b36c65f616e1611bcbbe4a55fb379d9.png',\n",
       " 'b5fdcc3c5d340766252687569e6b22398843d83bba61635f01f29379.png',\n",
       " 'ed6c5230ee8ab3a5a7cbc0f2c698ffe013350f49a329e3ac0cca1516.png',\n",
       " '45c1852b8d59aec4f784cfc9277949a8913a5766da5fe3c588bdf18d.png',\n",
       " '1cedc645561f9154a12ce818831dfeaa1449114e29a8604dfa5d6d37.png',\n",
       " 'edbf8b02b2ffdfe437195ac349632f0b0c74f005f9fa93e8a5f87418.png',\n",
       " '29a23f3c656e14c71e9a0fa9ae2c8f5381d9a2288eeceb4d25c46c1a.png',\n",
       " '23f0d15b6ca37b381aa9c40821b431473c2a89cfc4d4bfd309557d88.png',\n",
       " '247c0cbb706fa3fb6c5e3e7dd5cd7521c15945176b3d78da2c788726.png',\n",
       " 'f0570fe91311a1010774cf8e8bcfc7331af79884de8551337f8bf7ca.png',\n",
       " '5ba8442f35994ebb601c5d328b5a97700d30824fd4e546b44a615e6d.png',\n",
       " '628d8b5dd632525ee797d8a236555ace5d85232cf5ad84b98bb69298.png',\n",
       " 'b89609f8d24754357548c565158167d065c1c64bc5a5b3c0359b78ae.png',\n",
       " '7201aecdc70be94cd451b87548073f8d52b46d213e9c6d8aa1ed0437.png',\n",
       " 'c4d54f4183fd2c984c8f79ab9b524651b38be927a05ffaee8734f9fb.png',\n",
       " 'ed17dcdba54925d74674806306fb2237757c62a121a5dc5fa1e45cb5.png',\n",
       " '157f48a5fc5c749cb08d9b76971e31fbda50ed518baf9d791462cb79.png',\n",
       " 'adfb40629a7c5e311ddc86a45314c6f8c6e3d54760667f8adadb98ca.png',\n",
       " '98e5b7c2e197a88a180e792fd49e8989c9c40826da3da4d8e9f7c18a.png',\n",
       " 'fb3a5c0aabec2cf8aa896292228e5bffcaaeeb1d7cef3d2ef41c48a5.png',\n",
       " '15979f0b9e6a4bcee4fd43c13a05874e675262dbadf3a61ffa447947.png',\n",
       " 'c1e688b2909172dac681860ec13be4cf131f325a3f4674b4a52908b5.png',\n",
       " 'e9d388b75240ec9a7e5a603fb6abc7c1cfc1871ce7c1173798579ba3.png',\n",
       " 'f94d9db424ffbd4035e4e1ed920ba2d2e9f678ae70ad4ff9bc6ed7e7.png',\n",
       " '2b57a3e4b9ccc34a882c213e439ed4bc1b00b34a3874d9f6f3703931.png',\n",
       " '9b6f150feb2c507c73a5fcafb5143b25ddc9e1488fc3a628cb399af0.png',\n",
       " 'f78d30b2d91b9be8c00effac778dc9c210e34b8b32769a7f51d77126.png',\n",
       " '86a1e003422c6ec98a450ee5db1110d516b1a4905f522ea7c1fbc3bb.png',\n",
       " '789e514644b465234412c9411f46304a4cb9004588fed6bca3c15a44.png',\n",
       " '1efdfdf853be2cb3b9f2e984ea0d47d8df72787c622924fc81ef1d1b.png',\n",
       " 'dbe4fddff33eef0ddfe52d020c522b62c449441d38e0a089df409ac2.png',\n",
       " 'a9cf2786f539220708417958e844a2bac78934235b80a7b5c0230917.png',\n",
       " 'd134a42f84d1f1fa6ef1f2813eed7c1a160963984161e76dad71cb7a.png',\n",
       " '58e2d82d012a024a184d26a5008cbef3ea67c0774efefb8ae3b339dc.png',\n",
       " '9c5313674a571ec07930e6c75b95c072049caf2b0c53c455c08c5df0.png',\n",
       " 'eb3c505aa4deb7e8e6fb42876890f85bcf5b0c68ea2639a2fa0fa62e.png',\n",
       " '1099a62947175c68c994068a416ed223c11dc9288f016ca900d48bce.png',\n",
       " '848250a0702e9f48c85ae75680013de0234839f0be5342a484e5961d.png',\n",
       " '2ece7afcc87b28124fcbaadbbae3b3f5bb103869e8c8f92d5c1831c4.png',\n",
       " '0dfbf21a3b1907e1f7f33eecd27fb34cb8af606e5953505f86270e88.png',\n",
       " '22b0c35036b5ffdd51bef85942682fa1c18e3e70d9cd060668bc0c01.png',\n",
       " 'be0ad32f417922f48b83944308c674f9ab19d2ce02ae113294cc2492.png',\n",
       " 'fce0563dd80078ed3e4a3aff6544797f86c5f6e9b301cd5b9a1a1e5c.png',\n",
       " 'df90878d1a5dddff5070abe9f965dbfbfa26eec8e2e0f5360439d8ac.png',\n",
       " 'ea69a214508fb469b4f8e55b0ba6e63e9ed73696bd41780aea3ff3f5.png',\n",
       " '433d375c2fc105a660629b3516f10e75c4b2c61c4c07ee816c60519d.png',\n",
       " 'bc468a7c7951bd69ceb6661938f7dbe52d10a7d8b284d1651a9b10a2.png',\n",
       " '2c7e975ccb5ed90fdd0ec30fdaaeeab392def18de0b2041cc22a4012.png',\n",
       " 'c6b508d713b2412e6f8e1a8b667e0e967f8634e8a420ce8f3bb30213.png',\n",
       " 'f78c9d35b72a87fbb22b09c983d7501127284847252eac11c36a94ef.png',\n",
       " '552b13d1972b94a8820931d91dc10d27333ee739802ad1b2b3789e8a.png',\n",
       " '1a01943e00880c225e8a13507dad147d9385923d48d9e1e283ae81de.png',\n",
       " '059be8364c0a396b03fc94da594b4f4f25c261b1ad26089271008745.png',\n",
       " '594d0233b814016e73e85598a783585e9958216c6a78257a91fb003e.png',\n",
       " 'fd3acd13c02c7881bbf6ec0022835105a08c13a8f5f41ff2baffa84f.png',\n",
       " '2e2d91c4c6f02ceb76b73cd03551ef24e4fc03d24f5051c163323bb4.png',\n",
       " 'ab0af1f4744834e1d7ea1373b8d217d5dacc3f6ab56abd8a988fede2.png',\n",
       " 'c54884d89c723eabdeb3fbebfb88acd78c5d1fbd0fbe93bd6383596b.png',\n",
       " '3cf5c7773bc52cd6b2b5d40f890601f53b8959c372b3a98b8410e0e5.png',\n",
       " '5f9c1f04e94820a4eedf0591892837e2d262badd2a19f3c5e6cf6f20.png',\n",
       " 'b9d7d7eb02cec90c02a18828c0bf03fabef04eb37ff3904a40b0bbe5.png',\n",
       " 'ace969599edf280e06953870e0228a82f5786fd578690c962ebfd270.png',\n",
       " '61850a481b87c44733f53392b4877db351caf03b3a277ac63cc16740.png',\n",
       " '44c6a5b957cd6a6e4923e8b5798da446e6a36527ce9613b9a28ed8e4.png',\n",
       " '4c5f1912b486a169c29ea1ea3389d7f6e7d513e957c7ae5af7cc67fa.png',\n",
       " 'b472bbcf4c147387739af89cd3bd3e41e0568fed73a7d30cc1e7d011.png',\n",
       " 'b126c92c622e15307a6d45db84deda3984c1a057b956ca9845806d01.png',\n",
       " '88673054a42ccf4e6c648f5fe55957c47b3a98e9cde2019f1f11e32f.png',\n",
       " 'd4ef2dad04e8f91ac127743babe89a3c3dee4f0c35942c2ab5971417.png',\n",
       " '316d29d1c3068317d8beb07486d91d160fc8f9fb06d885d0e3c4458b.png',\n",
       " 'c20000525816cddce84dcb3af3de907e96eab39f49d398c762032035.png',\n",
       " '30c376bfa29d00a4a405f0c41de6a0f18a82d4b00d12bf7647398f08.png',\n",
       " '177985955b084ac3a04243550f22d410c58c5b8086b6c0e30411481c.png',\n",
       " 'ba12d3c3bf718a5e810137b066958cc986ceb8bce2afe632b48011ac.png',\n",
       " 'b03c3ddac4ef146bf5e2bb4b331e01fc17c9251942feee5de7525425.png',\n",
       " '5eef44ce131a08ab78a734b5e99d5836cd774e66be623c8faa173ae7.png',\n",
       " '1f7fc69f374bcc976cba9960c2f5087c7539954fc790779e22dfd85b.png',\n",
       " '0227125959dec640d8163458f631795c8e1c09f0592609d1cdcda658.png',\n",
       " '7fdb4a9f5f4696015e8badb4e32557219aba0b23a964d61950f206d3.png',\n",
       " '98c806b544a101fbe13430590758ea79a3dc5f1a64668de558c4ac4a.png',\n",
       " 'e8458ac2fd03cb0ef7030eeb02f3d243f0370dfc62cc69705bd0f98e.png',\n",
       " 'de4fc50a2a991a0a52bd8d7aadd74f2c3473fd8f3b8184e7a8c234ae.png',\n",
       " '79f82a9ac5debbe7933b0c73e634752bf270d81b56db1453fd16d428.png',\n",
       " '1f6697958264d1d78732f2cda8dea27cf035d89f5e8ea54e59d9dfc1.png',\n",
       " 'b00f7c5b1cf9b69040763b465dabacba9706d90a88b6efbb4bbfd1bd.png',\n",
       " '69c23f3580aca68abe77e6836d3a539952c4929ad4bf2c57b16d40b1.png',\n",
       " '883742b0941061ed5d3f29174ce240df19502af2105438d327585acc.png',\n",
       " '3e387d9e703382cc342f456abcd6b5f5fba1ca495706c50953014841.png',\n",
       " '685c969f7f94ce8b5cf83796d6e505e2320708cc08542a56a420edca.png',\n",
       " '5d26bd5f3a68e90b2abf8fe607337faa74ab27c993241274033c432f.png',\n",
       " 'd52475aff9a98d5e4a628542eaed1edee20ebf4ecb155b758b7ba4a2.png',\n",
       " 'cd0d14f5d1b6defbda9c7c2a6496971f3a182156e4d4cbe61f7f0b1f.png',\n",
       " '31f2662b320ed50bf50476490da0545530003a33f0615ddcd3f2b837.png',\n",
       " 'af4ffb6d0c0790896022b74ea514d8d29ad108ac742be9ddcb51a852.png',\n",
       " '8020499f241edadd124e50cab3056ef20d019cfbd84e3b7edb198007.png',\n",
       " '4e91ca58e52fc6c86db52004af76342de40f10cffc562812a03837de.png',\n",
       " '9046aa9fdcd5e0d02dee1281768a1fd094679f96e78bb8b03278c01d.png',\n",
       " '23d0917128045d033f36c72fa2c420fe864446cce3f3a068a6f261e6.png',\n",
       " '7f1995a0bb294d23cf89813d96d60cf8a446667af4b5661597193276.png',\n",
       " '15e4acd59eecbe84b80a35de52050b880b8d1b66497c287f054ac0a1.png',\n",
       " 'c7a5a218ffa61b216d2535aec86d5bc6c1635020fd344b66dfd797c8.png',\n",
       " 'd5e285f35a38283ae9143a6943b852f2fd6fb21ad1b15f1f01e72e7b.png',\n",
       " 'f1985cdff4bbce811bd089d32fcdc58baad018ac124d45e15c3abea4.png',\n",
       " 'c8489a846ef969d58a20ca49a17a0ba94ab5cbed895197a32c7f239c.png',\n",
       " '7e90b1b1fab7b6a254f33e9bce928fe03e1598d41bd5fc6c920af3b9.png',\n",
       " '0da6d9b36de2a6252fdd534c436ca8b2ff2b688762ec5ba1e2d0e703.png',\n",
       " 'a6aa5db0424c3e3cc31197ed58836c294a5e582d9e2a61114c0ada55.png',\n",
       " '2c45054ed6489ad619706e3b9e7e3625b0fcdeb8d5bf763ce4460291.png',\n",
       " '01bcb71e331f6c9c12ae13ada72e474262bf0a533b0e5f2531b22c15.png',\n",
       " '09d19ce5336c1762ff48ece1dc6cad0f71717c4a65a471928da7ac44.png',\n",
       " 'acf3d66338ab0554c139f341499c1d04f5d7f8f320d6f51a9438783b.png',\n",
       " '2d8ea65668f0e122691e8f978343247cbb3938eec7312a039583abe9.png',\n",
       " '569c444f0299fa71c8fdcf55c9e379b8a5974df110782d6b9c232520.png',\n",
       " '1dcdd836035392977039ca13b469fa45f5109fc3c1043c30ef131c54.png',\n",
       " 'fea6152d297389a7046a81e9b53defccb0671e8fcde97c5f073c2eba.png',\n",
       " '7764579fc043c65107f121e920b2eea7f298fcf207e4a61da3efaf24.png',\n",
       " 'd29b566c34942b304277c1634d633389506919e8f36a6cefa3b5f920.png',\n",
       " '88c185fc1328665e0668ee51c4fdf3078b2d2cb05944aac12510bc7f.png',\n",
       " '5e1534d16c244ccb7e4d3e5c3d967ff670bd20f5971aeba4a9fa5041.png',\n",
       " 'fc1394a12038f39921d871a342f9fda49b5fe0bde956d70c61442c5d.png',\n",
       " 'f3c03a37a016d9489bfbb6368871a765c12d80ab44577434533065e7.png',\n",
       " '6ff92a49d490e582a6c81aa8246b1d1179e5af4853d4f10c930a87c0.png',\n",
       " '4a54c885bc97723d0f785684bdfe2399c52cb3c0a8c609fba08434cf.png',\n",
       " 'd3a151ba0eae49c217b0d229853fe3b1a853e150458a6ad97db6d0a4.png',\n",
       " '54ff5d47f71557c7872bdcb7464e1042a6647c1ac4569b9bdb4c9db4.png',\n",
       " '5cb4041c6238d0d31d9caaefc6480a0b0798425f9b29520886ac87b3.png',\n",
       " 'bf4328bf1e320331740cf9ad22a47f55039a86ce9f6204aea9bf3928.png',\n",
       " '22960e5f61d500792bf8a4ce3914cd0731bfc8a18387dd58b2b06b5a.png',\n",
       " '003faf8170f976b61c659bf82b809cdd33d031ec02475c0cb30eb0f1.png',\n",
       " '3eadcc0a08ea25389a431c736d41ea6c01a2841c2e08b4ab0d5fbcaf.png',\n",
       " 'bc77dbe73a516c06e12e5fca15e0275a6541894334af76a3a952d3bf.png',\n",
       " '7046658220caf1db183345525872b360dbfc4c787a7c07a6909adb08.png',\n",
       " '1dcaebee075a05a80c1affcc478508486ed389807b0cb2d8edbc4d98.png',\n",
       " '1eaa35607d911344edd6f6f059883a263959929377dff259417e5fac.png',\n",
       " '2db7f48268b05a966798a27f3925d79aa3bb6261452d57bce77c04d0.png',\n",
       " '52de6b066889c1da9e401d24743034c30ab4064df05d210734158142.png',\n",
       " '5f959133224466a12f3c586f5277bba31535303bd64ec4245967353d.png',\n",
       " '09d1fb5f68b0e1ec8478c6d74c612614e512903c782fa7ef1ace4cfc.png',\n",
       " '5e6105ed0b24583a73b13a6cef80b4080c97e7239b3a28bc849cf310.png',\n",
       " '6604e9397f0a41b2152d360006e34f77ef97cee67e92c4424a698155.png',\n",
       " 'a9e261f6320ffa95454b6512562f751e83db671501c2cac26d5a0edb.png',\n",
       " 'c4893f1e515367484dc8b2cf0ad24361d47580131bb66d2f7ddb7090.png',\n",
       " '6b9c14965a9b6161494e26af32c68d9f99c897ca0a40c39be99a633a.png',\n",
       " '55accf9bcf530ebfae3a0efe1cc575a7a80a59e4307c1fcc6cb48b5f.png',\n",
       " 'e6b7f1228597a853cb1ca702a204c9391b0efc91f5203571905e49f1.png',\n",
       " '1dba3efe2d2a77d690bb50331b465a268e7dd7353c69bc7e23f478f3.png',\n",
       " '5ce66da96b2b2ee97e87727a2fcc8d36dd2b440bd22800965f62a2d7.png',\n",
       " 'e0a11f65c3b2876d81f93a6a98934431afee7554113237173755220c.png',\n",
       " 'ed081f183bdcd9c518abede35f50e030278ce06b223d7926a7fb3bc5.png',\n",
       " '40fd7befa5c87619aa5f0a3f000c55fbe52ef177d8b7f45086f01b42.png',\n",
       " 'b7f9dfed1e9b109968a87ca5d9f185bf03ffd7e8852dd8cf18ca8783.png',\n",
       " '689a80c851919971e50029cf66a8ec9b3ca0e20dd2a92e6ba4c67135.png',\n",
       " '971a9d6256b257d7d2c6fc90bd82f0069d8ab4c2f4506b3213eacda3.png',\n",
       " 'c6bb3eb9dd098c43d7023a3bed9f2031bde6d172407f707ffac09904.png',\n",
       " '9e2917b7106a14d9e358606193da6e60ffdcfd0813167fa4c1eabab6.png',\n",
       " 'f1fa8c5994339f0026203ddc607e83c9cf2f1204824931fb89258a29.png',\n",
       " '3c0a58dde4f4e3f3fd237481b82eec74b8ad36d482fdf93ac06dfded.png',\n",
       " '9595d87ccb0f59ebd6c72964e2b32c0b635bf9e9d3b4d3b0be538264.png',\n",
       " 'db4cf08de93b593a8efabb87f12ae34d9a3dd42ecfbe28dfc0ed9a31.png',\n",
       " '09fc4a4a5393b48248eaeeed15656917a783ac7a6cb300a042a1742c.png',\n",
       " 'd6e3ab5f61c42e6e4d4ac6860a80e1ca3d4b3a7d1ccc0f823851bb8b.png',\n",
       " 'fb4182c42031a96e823955472da28509b29a35ad0039283789fa1f8a.png',\n",
       " '4108bf2dfa6b796a28f1ff4d11bd3ee194bb68186055c17b4cdb542d.png',\n",
       " 'f5c3c10f9cdb4071ed3cf60753ada034ccf7cc060dbc3635f9ac70dd.png',\n",
       " '7fb26ad5a1cb17c68404cc5061b5939e4f616f57c79bdbd1f5614c51.png',\n",
       " '123f9f00cf0e69420c6d4b4c59e63873e69c1883074decd1a30e6549.png',\n",
       " '45578692f58b5b12fc075c411e72514ec37475a201f8dfb5e2a8d630.png',\n",
       " '8a4c0847570665a3621df4431c52128b14f91929c5220442bae20de9.png',\n",
       " '0a060528f38bbd504af9eca48c9414d577b03cf114c030d6d6f569df.png',\n",
       " '61b2638795ab9b51d911733759ce03972aa6514446452742a221d602.png',\n",
       " '3fb3a1878e2319965389089bc097631e0f084113270213601a454e5d.png',\n",
       " '1c1a4bc6981da37486579be82dc5d4410f7513e6bdadac93904cc617.png',\n",
       " 'b7d55071d2af21e47050614b9c2c7762662e447feefd57dcc5bf9502.png',\n",
       " 'aa85dc3db4453d48f12d1761cebb3c491efc5e29020ffb5bc47f1d20.png',\n",
       " 'd58f88bd494d1b5486d613314dde3f94a6c6e75c0d8f0e3dba1e7851.png',\n",
       " '261b91fb23dbe55016a01c986f696eebf250e9f0b6d12cd1062c10f5.png',\n",
       " 'd7554d6dca8738c93a97f3228c14d7de2cad5a8b52a24e417cd9cecb.png',\n",
       " 'bc2844fe02f31b7cb5c6d8925cee521c1036506cde9b6a62832515fa.png',\n",
       " '05b322f3368960ba1d4937f25ddbc090f2b121df2617a25aa53ecdea.png',\n",
       " '068c596124ab55637ca62a75a92890eae1ebabec0c2ec72b74b1c877.png',\n",
       " '3e812bd479c5ffcfda07778d38ca4ede1a94b040e78c98102f2ed007.png',\n",
       " '47220ba44574a557cc08d93d6d35413778f096f7cda42aa77be8a69c.png',\n",
       " 'e6c24c278ded5bb9d4372f68a590f0363b05e9a97610c4395d95a914.png',\n",
       " '6c8e823d6f78883171e786b852850f4ea2ec944f1d432c1ac1538a06.png',\n",
       " 'f9cf8d7444d6cefb3d90af1679e4b806c118de5d3f9cf42e5431313c.png',\n",
       " '29df9fcf8afb89f09c497202b3ae437ba7bf7a45f42c0c9391cbc00c.png',\n",
       " '9f6fa2b8722265a3b890ec9e885ebf8bcf12c1ab06d4967f688c5cb9.png',\n",
       " 'e3109d91488f31a797f05fe71273990d5de4eb76aa8376cd75a74c5c.png',\n",
       " '9be33a876e55a5743e51b09bf7c8627f12b762c75c064f71a85000f1.png',\n",
       " '0efcc5a17e550ad1add0cad9b6c36a8388a383d97bc4cdfb95c9d2d1.png',\n",
       " '18064ce0f68fbde1b103dc2cce4604eee9a7af4a1af9384f89c8f03b.png',\n",
       " 'dcb7f41a3bc3d68956ad78cfc91df1710505b94c8eb6d595135117ed.png',\n",
       " 'af812cb7b94e24710be499b1a016d844cbc8001c4636da9d555fb4e8.png',\n",
       " 'f72e03e5ee77d3b85a3d42f7101d27712ed6f31b99dc2ce77e3fa199.png',\n",
       " '46e0ee01c50ca7cff6d1eac774d2d0718950c9150af9f2947dcb5d1f.png',\n",
       " '3c1dea4f6855f71e0953127c168a93ac9157437eeff248eaef40ead6.png',\n",
       " 'da77edeeb7bc8ecfb7dbb102c193401a553e46a9928731ddc308a8e9.png',\n",
       " 'b669f42779cd9d44b710582cd4dac461d91102f86fde3448d79b8719.png',\n",
       " '8ceeb6c7822063c5e2debd59175783844422eb1d376f7aa46f8f92c0.png',\n",
       " '4ece43764be83e2909602a7c8f62e7c6f4cca256737cacbd3dbb3b91.png',\n",
       " 'ce241a3f60b5d67e0865ff53d4bdaf954f76758a4760935e47253c7c.png',\n",
       " 'fb6151df80ab7a17fd6548e7a79dd392d2956e4210e0ff0317b9721e.png',\n",
       " 'e59e5d41ade0d3e0e488565412d5836db224520fc28a96d03bcebab6.png',\n",
       " '73e22f148350f9b4a34e5cd322dad8c23944d85483d00f361da5949a.png',\n",
       " 'bfbf6c7b29466ede2080b76c274e5eaaf2b22b15ce34728a94013b71.png',\n",
       " '9bd60fb344afde16a3cb77690e30c9c8f62b531f3e54f0f24b5bc021.png',\n",
       " 'ad709be62cb3590b0ee4a29826d57cb143b906c2cb1a3b9ecb9e99ab.png',\n",
       " 'd1aaf3bc9105c5fa17809066bfc843f385928e5a310bfb1932a5a127.png',\n",
       " '6ef01c60e29195099c9dd51c2244855be997cebd755857066b0fc34a.png',\n",
       " 'b2f1b840299283b5aaebaec5c1b45bb3bbbafc13a2404327fe171bba.png',\n",
       " '034db8b6d088e0244276380af71b65bd46530d7cb777c97179c9ed39.png',\n",
       " '0435747abd7a8398f7a74fa31b41bf038af5a637d4953e16bff7f7aa.png',\n",
       " 'ba89247daf31a11512b9843bc021cd79b1b264fad5e86325a67e45a6.png',\n",
       " 'f03a3013bfdf106b89f4131253d838453b82e69a5f485f3af585e505.png',\n",
       " 'f0c41c0e10bac4f77186cdfaef3628889a826a4e9ccf63be76bfe460.png',\n",
       " '7545ab1648dc3f143ce260f952bbf648dc1b46a206c6186673079671.png',\n",
       " 'e9c2b0e468fa5a3c9d1d0e5c73c0dc812dffce6e6481e6db0dc3c7d9.png',\n",
       " '21340aca01e3bc891e45c4c1f951d4e3bf4de02b2f7b0d8647785b4b.png',\n",
       " '778da37f46191aadfb050e16fd885df1edb3a45f482160aee297d8a9.png',\n",
       " '213811a7cc0160c77cd54474e7b0e2b2c93fee1665c6e6d8f279e3a4.png',\n",
       " '289a43f4948865a16112169eedb4b853f21ab9d2173b59c630b525dc.png',\n",
       " '3cb996a9f8b22aabbec71d6d74cd43deda41063e70ebf90c2e0ceca2.png',\n",
       " '8adfe81737b9a60dbcbba70aee07deb38fcf3575ed1d42e3de33f6f0.png',\n",
       " '1088810748effc416f5fa5e63b7f44a01f8d89328fe533be97a2fd9d.png',\n",
       " 'a9693eafbccc428c3128d25c810906515fc5b19172d7f970dd030be2.png',\n",
       " '85777a07c86e1cd6b15ca6266b604204a349b567f9a32383c8251ef0.png',\n",
       " 'f16d1c4d604b2b080c23fa5d6dc75a6da3e65994a03e18efaa4a384c.png',\n",
       " '871bd4816ca2b8404e23053d6ce558cf448962960f9735283365cbe5.png',\n",
       " '8ec31193d4b8ed79addf894c37ba581a9effe9ef9b0242e9afff781d.png',\n",
       " '9da91740a7b1c61be5b554fcba1747086a3976abf2bb64d34f8e33d2.png',\n",
       " 'd9d76c7535c662ad652a5a36ffc7c75d377c7a79bc7dd9952e24ab13.png',\n",
       " '1ba124bbded9a42f33a6b3df2adbaa6044b2b9391c7cedd715ed0aba.png',\n",
       " '65e939f3e74b751f18e98ce33ed3f66e2b7c5d8323d3fafcc9bd2c7d.png',\n",
       " 'c4f1252d28cb213243ecf93f92278c8d31f047ee8c289e43a08f4080.png',\n",
       " '0694283bf6038122d2d6e28f25170c3d208e627e5230a8e518385490.png',\n",
       " 'e0376befde884349b32d7a4274d8351a2cd7c6767ab8cc993c156398.png',\n",
       " '4bb8d09f5e9547cf72bbde1af9368dccc71c1f6402b78382f78fe10e.png',\n",
       " 'd9bf1ab1b68c976f50352493d8570c1859e7e22b8d47e7d0dcc21a25.png',\n",
       " 'e8490e0260c7730414c38bb711ab6d24582b5c0e35292fea2c118ddc.png',\n",
       " 'c1aa51ff9cece4a7149a12e424f6ed288ba3dd7f361ebeb298ed21a1.png',\n",
       " 'bba9a34399101746ccd64ca216c23c7cda93428499c40cfac53bf2b1.png',\n",
       " 'b815f5048d461cf0ca2e4e6da7a19e7a11b527729a08dea0269782a7.png',\n",
       " '97aee11450e11620f0adbd0d9e2adf57829ea77887632507a1d5aafe.png',\n",
       " '8fbfac51575c93b12fce6af7b648ce6285199722fdb3cd15a26bec30.png',\n",
       " '84de0fbca234a7922e6944e162b6894253c57be9a8b1659d1fcf62b1.png',\n",
       " '48c4d1d0f53d270757690ac1fd9ae36e2603b085cd9e05883fbb5dd5.png',\n",
       " 'dbc4e6c5a544e6d90422b0c3f59b796fd021d4516491453dce9de2c8.png',\n",
       " '3e9453238a5a09ed619bad0a906db6f05d9ddf3ba5a3ddc35ce04cd1.png',\n",
       " '423010da189a8ecf464cbe4e1e86f847a3d7efe917e6cea10acea763.png',\n",
       " 'ae7f5d0e56f2584a5b66b716335e5f9e1fc22f9ccd570f58ece9b3a9.png',\n",
       " '43c60d7c9641c0e54d969282b5f4bbd65c5e7a4408413ecf7ea36e92.png',\n",
       " '12b315e8337b7b86344e539b067953e5ecab48eb53ea628f9d1605e4.png',\n",
       " 'df3cdcf44422fe8008584df16e6c17846f619df6b11497b334dbde08.png',\n",
       " '684fbc787c89cfcbb89ff45b4ec0f7c10174bcc328b6ec80dc9d532c.png',\n",
       " '0d8e4b71e479b9e285fc266e02b21a08ef5ebe5e94127200d620b872.png',\n",
       " '42b108657663940bcc68a16377b4a99bd77c52b8ee908f54fc1977da.png',\n",
       " '754da7869909d43a19caba313ccc8eef1c5b750032b519c88052962a.png',\n",
       " 'e21721e557d41b721aeec02cc2a1a57b79c87deee36586b1b2fcaa08.png',\n",
       " '3e81fbb7918165437a7de97d43a703719ecd2d05e9769409877fbc0a.png',\n",
       " '2b2c8d90e400bea992331ef323bbf8c115a27ab00af65c31485afc2d.png',\n",
       " '01fd7463b1706521b704fc91a0419709fa94709060bf6f39ed299e46.png',\n",
       " '1958f80cc02fb33d8e0c27c6f9ec2d9f67034b6a15ab275ef149a98a.png',\n",
       " '464d014a16050bd63faa542b211d0a3614a1114f9331cf079c53ba8c.png',\n",
       " '4c749fc593165dff7fb236bfc6ef9448a59a93a18b50fb386822389a.png',\n",
       " 'ca12adc1d9bfd32d65dcc2514179df39c8435a4c99adbf7fbc1c2225.png',\n",
       " 'fe8b817ddea0933343de67a4e6b32b7f261fced7c0758ea07fc9d1b3.png',\n",
       " '8804c24bf53b3cb2f87d00a740f925445bec44d7be03e15aebf16b8e.png',\n",
       " 'a4de26c04dcf745c3a74e0efd5c044a15fceb5fe5c3e5eb0b91980ec.png',\n",
       " 'b34cd3ab9056ca0a06816db31688598f12c2530b081e36f5d9162e86.png',\n",
       " '35bacba70b53465b4b1f58db02f216adb29621e072825fc1b70d4880.png',\n",
       " '67e3b8a452c51015f4c3c307dd2f3df1683a84c345620edf2c3d71df.png',\n",
       " 'ad3a459883e04766141d1d8171ab5178d795497e5a95413b49c915b6.png',\n",
       " '20e49ce9e7539afd861c40b214b7add7a037f22b599831797b3f1b9f.png',\n",
       " 'c912e658097f6cb51c12b405144001154a15c5944921bc9db274c3ec.png',\n",
       " '2b42700a6b55e3765bb35b73b32b3ba113e36c9d7c406c51823f0dbf.png',\n",
       " '2342b3e32bd3265150ca2d80de66c3b3e78a8c50e72695583b714f8c.png',\n",
       " 'c345d10ba259165651d991792c1984cf3c5383ad8492966e89d80b64.png',\n",
       " 'ecbcf41fd7785c47bf63817bea69bf552afe0bd44881b31ec1a309d9.png',\n",
       " '5fa628c50ef99684ef0416e99073674d6ba0b8c0177c244e8ef3144a.png',\n",
       " '34196c4554d264b990309e25608ade150db8d80130280d870e3500bc.png',\n",
       " 'dff62c1183052dc9a1821578f9915551c78b68cb2664c588e0ecf848.png',\n",
       " '9a81940d8882d964619b45ca9c652eba8b1d4ea4b663493e5b7f7543.png',\n",
       " '0f4ff89e763c177d86cf798e37ae15d0138808622c64b700b7a5e5b0.png',\n",
       " '5e86d93f0c1dbca7e76a57b570b9d280f0eacb60b5725c809d761fbb.png',\n",
       " '36bb3d25170cf9f71c5607edbd73990a6508be86ef8994cf4fdfc281.png',\n",
       " '72150fb6fa6cb7c9639556e330b38205e67a4a10548ceab98158b9c6.png',\n",
       " '664125c78d935bbc160ddfb6963478fca1cbe5338742e9bde1c2d3dc.png',\n",
       " '5e0252c93050dbd2b372ec46798af2b0881ef0f38e0d4b03595534dd.png',\n",
       " '7c55e6c2bb795d58653b62670c437297209b710f67545fe8c6b85743.png',\n",
       " '8cbcbb595275f6117abb0b379b58c613ebb90523baa1e4e1db2ddefd.png',\n",
       " '0eb674de3adc8a14d0643fe9bc0f192818d29804f695c3e9ec0ac062.png',\n",
       " '83c477604e7a3572f1ec07929d1789b2cf5f3214e245029e9f058a0e.png',\n",
       " '5d8255dd0b0e27c0b9ba653413cbde0a2badf8c7d246c81efd97b0e3.png',\n",
       " 'b2f1dc6b8b40511a45561a2611153cebf6dc93e1e12be2b4e6167447.png',\n",
       " 'd96d0f19d0357da13601deeb4f69e1d2d9c8adc13fa1195c3d66df8f.png',\n",
       " 'b8a90d258099933200f7e98669aa1717d867d7ab0a72cc5a74367826.png',\n",
       " '8a33357cfb0553d2077f3faea61728745edb2ce69ee44ec300997050.png',\n",
       " '99d74633ac144e240b1a956b1ff9161ae6a0e82f0e10c15f185f01c5.png',\n",
       " '7cb3333220239ea9b70e0af4a051bea573b63fa885c0bde109e1a068.png',\n",
       " '31702f368b00333a9b1856430511769fd16ae63f72e70f6f454c89af.png',\n",
       " '118fee8c083e3f821eb22c7c6e2299c119279215f082352e1ff15672.png',\n",
       " '245188ec476b315f7c191ad8f89554c32c6676a776e041de007d4040.png',\n",
       " 'e1aafc85e476b9267331f3219e88fe8833ae66586b267aed5623f5b0.png',\n",
       " '2c4bac461ab4cfde3fb3fe47496ed53181f55140c8459153003044ac.png',\n",
       " '3045cf410c39a433e7649a05f4d4b67e0215e725da6239265efa6e50.png',\n",
       " '82d038308e4caf3c9399babd795089d3652f7ca6c3d2205c694904b8.png',\n",
       " '626b66a0df5f38c61e544f57f1099f2db2746afae65d57f375e87159.png',\n",
       " '7d8710ad2c5632385727a76d9d56ae7766d290a57297fe5bef26d9eb.png',\n",
       " 'db7f9f706f9a842d96af8fae7590a3ac2944a9a5ac56457ed99b139d.png',\n",
       " 'fb88ada20e968aba80daa7a6aa6b3f7c07a1061aaffd3da575c8330f.png',\n",
       " 'aab00a3a55ea8a514d0a9756e46eaa2742883ce5269a23062f2a11b7.png',\n",
       " 'fafc159a0eac83e4bfeeea8c49ba3d6632df932cfdba1b4e01d26d83.png',\n",
       " '0a79fc2be2b217d84ad9e88d9aa02dda76f9cfb84b7ae3f1292dd1bc.png',\n",
       " 'c762786e0e2107ef7dc39c3061bd2a8123a7bd0a0681a174b38d8a8e.png',\n",
       " 'c59774685d1995813a2206262618312dec67aa1ba1e83a0d0c86dd2e.png',\n",
       " '3d2ed3cf53274712e0ab64a98690d0427dee4e7695dc69c55f812d41.png',\n",
       " '268366687e9d2c38fc82c1ad932db958884513d6c70c432cfc4cf0d3.png',\n",
       " '9607d0493aa9842fa5007cf40e8f7f86fff9b90ca3150b6d2ea50dbd.png',\n",
       " 'abda7b8d9082e41519a16109bd116b2f8c2d5ec9ba6679d725bc11bc.png',\n",
       " '805bc8de60609aa4ea55db13d67418779bce7579b7edd45da9cdc5a6.png',\n",
       " '1faac521cff64dc8602ac89cfbed3d3137e4a51ceae3cac17c8cab5c.png',\n",
       " '62893c60fee3dbe61d66b8fc49e3e4d3ba655c10d774fb3c440d0785.png',\n",
       " '65494405b8ad3ab2e09b2098c2ac05b54139890a720f4d4b602cadb5.png',\n",
       " 'd8c932c7848123e49458d18905d9f584ea4d7c6c4f373422a7e89da1.png',\n",
       " 'a497ba411efbc4911a61496f8a68b31353133a1cdbb71e667c58a241.png',\n",
       " 'db289c7f381774794818e13e02688a99339d1857ae2dc3084dcb22b9.png',\n",
       " '077460931027c1675734063413200af820f8b3d5b96ef77658df8954.png',\n",
       " 'b2443cd92ec089db16f425412622325b0d407a874e4a92ddc5391882.png',\n",
       " '34b155f520dc1469c3e2a43c6306f6831b7115d3528fbe87e9847ae8.png',\n",
       " '35cdf0e5eb3884d432b07a17a57a67193fbad37b95be8be91b61da6b.png',\n",
       " '588b2b19d0f3fe5ef42d63d67b022d6823146668d41441d15adac533.png',\n",
       " 'b267756ee13a8fb374835bdb69a71431191d00e86a910bc729a50f94.png',\n",
       " 'db6c35217e3a13b594a8a98ad4ecc7c970ad636cf693860fe1820af6.png',\n",
       " 'd1fc5ce6c17ef1f9fcc81155cedf93ec5e40c4c5eafba7a5273aa335.png',\n",
       " '50df6cd866785cd0565e5e1764656596e9c48b1869e1f8ce12ea21bd.png',\n",
       " '0813be1627ba9de6683c8950960c909b86686007c6a6cdc1487ede23.png',\n",
       " '9582b27d7581567b5970c15cc9574ea4c8e11d9728bcc36bfba7d8fe.png',\n",
       " '8f6381dfe1ac7c844a71373c4b9e47bd9b0ee44d4128426466bbf0f1.png',\n",
       " 'facae5f3a111669ccdfedea1e9c8c958e9747eccd581b88fea90f999.png',\n",
       " 'a4cd78d71beb6d8de6a0d3eb2efa9c294d0d6fad95f78a30872c8b88.png',\n",
       " '6bdc64faeaafef07d3c8699d23096c0e7d04b373ac06f509700b4941.png',\n",
       " '5359527dad2bf046c2dd206b26573b88c8b9d78cdb521dcf7f7ba973.png',\n",
       " 'eac61cb1e89cc0cde243b613972cbdf56e8836a9718a8fdee74be163.png',\n",
       " '23f82411e9d6dd6e36f4e0e13bde80374be1538e5a961d4ba874749b.png',\n",
       " '895b61afe74123a1c33645087c634acd7e2f492b96f623da623e78c5.png',\n",
       " 'b7e86245162b8ebb1fbd19eb11ec25754d1bae9fe2215aaf4303f1ba.png',\n",
       " '398a606bc1c58c84c19edb2cc29890f3c49b5330e064b9b5292f0816.png',\n",
       " '2ddb24ebac724016d75c4c61db880cbf1b80c1a4bf178fcb623b5ad3.png',\n",
       " '17fc599c2284c6b1ed409b47a1cdbe0190ecb124f0400231abcac7b0.png',\n",
       " 'd36e805332d08a3049de42c4964e6858b2cc30ef4dfd68607c8a2b76.png',\n",
       " '58fc7f5554f4ac71eb2f08be94a4f6a080f342f4d3556bc2c56cc747.png',\n",
       " '91be9361c2d036850f7cbc45bf007999886ec0baa3ca28c09da37f72.png',\n",
       " '84e49e13bb56c6fb0048d4b52447d6fba246086886ed1350fd87183a.png',\n",
       " '73b0b83684854a79ed07d82c29e2fdc73ed3ce1cc97367770cd73a32.png',\n",
       " '0acd5816e7a4ea48515b31f5e38225301a3d67fbd899d2f11b37e7de.png',\n",
       " '0e1fb6120aa549b591103054198072dd72eabf6a014f989644b21c10.png',\n",
       " '9a3242bd19cc2d23e771c87c5fee7b8e5be99a5c05108d33e6e55d4d.png',\n",
       " 'f4b69df16c7e9b85bca4d8f160f36de982a51e3d159be0f98a8bd618.png',\n",
       " '3ca4d1a6b170eae4d9b6c936a9dbe21097b3f031340084fb08e30d0e.png',\n",
       " 'f0dd17d27070045c9411ce761c98636fb4a5d84bbb3f3b267aa56a6a.png',\n",
       " '6aa265432c5cae1f198eaf7a95fbd254f5a6736febc6d37e4231d919.png',\n",
       " '36cc6706ac99fd8c0e240d954c12fd2d9fe6d9330a8ffda8f0e9bfd9.png',\n",
       " '09d41c219a9f5c542200fb4759ebc296f3ab7065b1281c919a52f954.png',\n",
       " '13312814cd8a19b9687eb07500b7b49deda8b7c5b2285de220c286a6.png',\n",
       " 'd755852d138d11aab50c294ed31f07969cac1b68e9302d29203b7434.png',\n",
       " 'b099d8ca71e0e52f2018c6c59a8cc05fb1b71499542bd61de659eb2c.png',\n",
       " 'd474a9e171941102ffa29cbdece042dce7edf7f3a3bd2d788c999363.png',\n",
       " '832202e0091b2ca20362360ce59f754e8766c8d6f11fa4803953d57a.png',\n",
       " '1dfa26ba849047a5b7c1031af7e2d3986c7f974fe265505567276666.png',\n",
       " '87088d7c50c2aa8fcfc2455872fd5ef4461c08ddefcda869cdb7000c.png',\n",
       " 'ed00415dd3b8ee5349fabf2d0d1b751028019ae83875f71d447a1a38.png',\n",
       " 'c15cb6e9259f487d7e84a25d8dc79d87e66ce4c1816194cebf570135.png',\n",
       " '2c4664afa1e720f8ec9f727f56ab0b67b3cb41ed91a797e28cf868ea.png',\n",
       " '8044fa18a3303de7fb0a8a9e1f17dd7795e812a8188d420b6167b2c9.png',\n",
       " '2a2bd6b4b93b884785502697580123b8d292297365f39b63ff1f4de2.png',\n",
       " 'e066f919ed56db34296c9a2fcde8f8754d554910019b8b2932e82dc8.png',\n",
       " '41b03e358e93053431ec557f0bbce5a49c70777c878b1ad09ff7dcc6.png',\n",
       " 'ea35424e16fd37e5f743232f60f8329e215ff5cd21b311bbdb1a881d.png',\n",
       " '002c920a67ba44fd6c1858991187682f9c516a3786c1b77a1d6817e8.png',\n",
       " '8f7407ca8b0a92a03a7cb841e1a562459b2a5fe0e8d3f2155ac536f4.png',\n",
       " '20348c4b67ea2300688b815cb8fd044ccb3b7fd4301962b267c86461.png',\n",
       " 'b1f1552b269e80a7e9b251796acaa97a753d0ca2a2bcb462f2b0271e.png',\n",
       " '8235e1de181ca836487141621285a77ee8b7664707a1e73569571b2d.png',\n",
       " '5ef1980380e15c973d6bbb281b06a91e6d3de44f6a06812ae0d2a379.png',\n",
       " 'eb4031b0da43c850b1b00adac49e0bc2bdaee56ab6df85c3bde04297.png',\n",
       " '8208b06863f8d359e9a829417e74b1691d7acff79a9b0e9c013ef84c.png',\n",
       " '87bfabc629374be04078f6a7b6b584984c5ac252ab4f5105d1d830cf.png',\n",
       " 'bac8ad040a65a1dc6532b45872f2817a36b3e3ca9e3099702f8a4401.png',\n",
       " '1426422a1bc28b77c157a5eb578e580a2a409f153309b91fe3e08978.png',\n",
       " '3e77ee2c0c93aee2e00ca8fe387ab147fa76fb7572082bc51aaf7760.png',\n",
       " '5f185e3489234552e3d57b4398224886f61e71c154fade6b8b76207c.png',\n",
       " 'ddb5d22f8e90478c43e3b030c3cfc50817cc16638f3ee6bb528bbb41.png',\n",
       " 'e9d71c193af252370bba2ef31d0b249f7e6f8fcb3e5f02968d3ce240.png',\n",
       " 'cc4e044106f10d7da7417984e983d1f90d61dcabf87a313600fbc35a.png',\n",
       " '309b8eb06df7812d17c85cc0706fc62285024ae96afaabd82ba6f7ff.png',\n",
       " '7ac5ae1c7ef1e6ebbccd9198ba6a5aaf4a1f29e034c12611d55defb9.png',\n",
       " '78cad52a37ce27fb77fb8e1ea4cb7ebe17e5ee5462ed328518851d57.png',\n",
       " '6334905863e0813aff61991db4e5f36ee99fa68efc046cd759c2ef2c.png',\n",
       " 'e18ec391df0365fc4d4bbd1abe9ec6145a343e77fe5d11b6de80d636.png',\n",
       " 'a4fae2c61c27c0a307c35867ff9c61963ccbc6a10d6851a852ccdfda.png',\n",
       " '7d1355bdb3e11c284be64e34086e27b2630cf0293c27a43a9654c30a.png',\n",
       " '1b469d825d578754b2541e5e0fed5d43e89decf162c823d128e23f52.png',\n",
       " 'e70ef5432bb60e000c1527653559002867455a7d32329549cce08178.png',\n",
       " '7ff7e1637762e2e3f8aec3deab59c54f4bb7b0471c62c6eb2c077fd0.png',\n",
       " 'bd78a77c8fdd8d06f46fafc12ccfafbe542cc078450266010a69109d.png',\n",
       " '30634c5fbae226376ac7a773a085835107d587cfcd41da1e5f749c16.png',\n",
       " '241662f324f7e1bd31d84f94b3582876bf274995d6faa86b2e8a121d.png',\n",
       " '418a3ba6f638edf22ad3c92fa72554bc087f8f7ba4a7573ffbfb3d4f.png',\n",
       " '2f1e47d59d90b2a3b8c6e1c003e922a2069836a27779b9d239db697c.png',\n",
       " '22731bdcac2be00a2f76c16e13f6d81166bba773c5e24b9b5b432d6c.png',\n",
       " '9e49d08d5ea6c74e650c025de5b39ee49b92efd74335b17ec2759bb1.png',\n",
       " '475acb325d0548a1d2d4801272294f6f3126256e1ebba54cc47f5402.png',\n",
       " '4fadfb8c46a2eedffc07611c22c1e9ddf978c63291ff97f7ed748594.png',\n",
       " '82d6fe35eaaf880d72e6100d6c1e11c54e958de3734d4740bb7b5bc1.png',\n",
       " '156b12bfdedb0fd9772c6f0e1d4ef12acc6b4ff71ebb48e05bb4c1aa.png',\n",
       " '89daf79ef29399c9781a8e732826a9e3725c8c5034cad3255a9ab328.png',\n",
       " '7308c01f23c73e6a6b284f924a7b2df9fe5a425554049710c39a3731.png',\n",
       " 'aece06bf2fd063396e1aaeed4ce3d8c7e82851d8af785fdcbef7064a.png',\n",
       " '81bca11e1784c5a8ca65ebfe7963e5602aa0479b72725de75f8ac6be.png',\n",
       " '5adf5c0473dd9456944de174f8f685ccf7af82e878327aad537083fb.png',\n",
       " 'd0232b7dd74fa91605ac8aeae8355180f2330bb9d9fcc539aff46435.png',\n",
       " '362391109631663eff17f3f2b43bd57fd6595bf643c71a8e602ab96d.png',\n",
       " '27763e81bf2606f60eaa9916b7875e408664d666c5a1854239ba5c63.png',\n",
       " 'b9411df3a972e71fca680e6d47df0852c45f53d6994f088cfc424b2e.png',\n",
       " '6544f2ec3a813f378637ea59d4686dca650b3bec967dee390d0d9e9b.png',\n",
       " '8c71df246d26e067cfdfd5cb92086e65cea88a815200e92ca2001d18.png',\n",
       " '784659fdd56ce1b358fb3b9610257af7cd14ba4491600e5acdf997a3.png',\n",
       " 'f8156d53669eae9a3b9fa241695c32d82f44fcba0767785ef016ac64.png',\n",
       " 'eb6d90ca241685b29206e8d89ff9b3a2f96bcf95fc073fec931cb216.png',\n",
       " '4714b10b32302c579901783492d822692c4d0b48602f86cd164556fb.png',\n",
       " '8fd30a6d602d1b7dc067df5db9fa00fd363627d9cf1de1332c5f8d70.png',\n",
       " 'e7b23fe1adcb54680a73c8d9d300f162dba2f935ccce4fc4a4d2bf54.png',\n",
       " '60f3edeb6c6404484c6c6288ca5800c2eeed3c44f85e4e0f4051cbc6.png',\n",
       " 'a40326a4637a108dd322699f33b3caf84ef0e5129e9a39710233a4b1.png',\n",
       " '6bf87301f37d12cc90fe4e5df0f01d50fd3cf24b4148575d3f901ff2.png',\n",
       " '2f7059e358cdf8e92abcf9d9c6cc2e07abbed7ec36655fcf4836880d.png',\n",
       " '5ea3b124ae28a8c8a9e15138c17ba27acdc36c6886bd33c3bbb33dda.png',\n",
       " '415b9a8fdf1a0a79350ff331ae5536a3c084c587975cabb0650f18e0.png',\n",
       " '668f375d4d074c7b7889a5a3ad63ba8c7311a5ca7d6cbf8cbe6490bb.png',\n",
       " 'aaf01db01830a161748a9e0172bf26a1a7f76d2d1fdb9e4a13fef6ca.png',\n",
       " '5e919e16ee82374f06e2da7be1b28fad48273a4be3dcd7432c4353aa.png',\n",
       " '47bb11e0f6946282bcf5d68867a93fb4b544cc77f8e0a985ca0fa8a2.png',\n",
       " '64cbdf7f524eae9b6b3e2e8d00a9556b87f035a0f93c4649a858eb4a.png',\n",
       " '95987f27f0b74be257ba6034bbc36cdc5fd84fef4fdace775df8e1df.png',\n",
       " '9d42266761065792d120853f0b5cf04d45b3deedef199a1ea9f8faf8.png',\n",
       " '66f80bd86181b96c08235c9745ebd70763219b74b6587e524a05b6e1.png',\n",
       " '0c5897a781375500d8759ce7165fdc7d35dabcd74050a7e6101f32e3.png',\n",
       " '54d335a315387da1e9f7d3465af08e06dbf58da94aba8dd7ddc5b44b.png',\n",
       " 'c7f846229b565eef7b940c86416ba94e8f24277bd5259813184ebda7.png',\n",
       " '5a4feb4f36bcfd0d6f5725c20103b4c70809c625c411a686febc7669.png',\n",
       " '71ceb912a118ab0affe1c1b47a5b41ec1c203cf6fd3f737755ab505c.png',\n",
       " '0f08e04734c0d4bdf881b5814aead89a05326c52dfedd139559e87af.png',\n",
       " 'e7e732c66625a7680643d67ef0a9c97c7d87871efec6fcf0713d7eeb.png',\n",
       " '6a03efdd2f4cbff85164abdb3fb62c8caa92aecafdbde7777056f479.png',\n",
       " '9bd15297b03e43d059e4dff106d96932296fc9869a0c0453d9fb5342.png',\n",
       " '243806564fb027df01a32fa09a21568924c37e4a6f5249ba370471cd.png',\n",
       " 'ff3ca759aaa95de73dc1efeca797cc6a33ed24af384d3742a778f092.png',\n",
       " '1422508a312ff2d1f3ed6e7cc77a7c5ef2f196624c8817906f34c4a0.png',\n",
       " '6c800023177f5f30f3140fc6b77c7705a470405562138bc9192ea044.png',\n",
       " '9535092faf4729bdf950c7ec9fe68eb6c4fc5d426d39d0efc3cf628f.png',\n",
       " 'b9aa7e093e103815f25859497098ae887569b67675592f921a5c3272.png',\n",
       " '728d97b217f1b5c21271b3d4b8d1cd341703fa9b3817e2145006d577.png',\n",
       " '6c60071defdf14211a6c890ae636977fcf58f4d330d2e9dbf34dedcc.png',\n",
       " 'f99c1692b3c1195640855b5827f8d7d9146da7db0fcf27f249d1665e.png',\n",
       " '4412f0de81de72e75b43b4d879d3cd8f30e6bc0c59fe301739e3b362.png',\n",
       " '3a2db175a199d85c25854f39dc0b57ab0535b8d5c12324c35c0cda09.png',\n",
       " '6a228ac8e959a91e6cfd07147ee54c3902d0f22d1a2d9257bd7bb357.png',\n",
       " '54cc538d6beb0ab56e65fac3596c70c187a83a034b84a8abb18918b0.png',\n",
       " '0f4fc57c44cd5f868a02cfdfa38b16db47892beaa44c282db6f63560.png',\n",
       " 'ef0df072c50fcab020187672a871c57a0f526eaeb130dc122b979298.png',\n",
       " '661b97916803de86bbfced3f21c0e2512b9be01747e129a22ad4f24c.png',\n",
       " '4fb50792766ed0ea7e9fd97a49f58174ff248895bf4d155f5852a39d.png',\n",
       " '9f42e54d577f27bbd72ee9d25a9eaf4d0cdb4f2b30c35bd74c705cb4.png',\n",
       " 'ff19e248e1bb16856bee074618a602cbf54c54959d896369495c8267.png',\n",
       " '5660d5aece96f9f323862025d91f18ee599f915d18b12ad5654bf50f.png',\n",
       " '2e48f4da2cd87c38588ad98dc0217d6b55ac2534f350bd3e6441d901.png',\n",
       " '0476766e8a8f2320116476ffd814d895dd7014ce208f7e6d75f1be9d.png',\n",
       " 'b6a1c2d1b2677eadc5c333bf2cabb55e569ff8aa9994f88fc7c6cbd7.png',\n",
       " 'ca6d477d54bb6f911b1ae3b3b4b74de7fbc6d98c983e3126c3f6213a.png',\n",
       " 'b0e219f5099ca9d7cab5054690b9ff6a18b754af8dcb565497a3f008.png',\n",
       " '7a3f6a3adac0142301928dce81752ef2497ee4c9b1633b7dfbdd32a6.png',\n",
       " '9aa4bea67c9f2e0084f55eb08fb6cd13ccc7383afc8615b32fe55e61.png',\n",
       " 'edece6993c522bf90e116b98ca2c9f7f6ee553b8797a87210ece7a0a.png',\n",
       " '9ca563a43781dbf9010026245e6f947ea474aa7971a90c846dea25c3.png',\n",
       " 'f94849b749054c14492bbef92e2d05f7e54e370707c3aff3febd22fd.png',\n",
       " 'b77dda125439a7ce0f8676915369e8590775a29c3580542f4f3be266.png',\n",
       " 'f983f9259b90123856e037b0cc4a421ae344c52db7fb4cbedd822776.png',\n",
       " 'c5872e7251a2fb5f6caa97822c59240a143b2c53898d53171c512efa.png',\n",
       " '9d5f27d76cb3adee1a75b38a40573e49dfdb06114d5e70d2d5288322.png',\n",
       " 'ea9ce2dca68e0cc96559430c31877e081b3614f19fb568294ad58f4b.png',\n",
       " '3bdc1f08cab4370fb1ba24f5c6e2084a14784b79ca9fce7007557988.png',\n",
       " '8408ade9f12fde68b68a792bd42ef1fbd52e9739b4df555996313b93.png',\n",
       " '9f80a1f2b4fa4d7970cfa3411b660969621b408716c0a1527cf52eae.png',\n",
       " '8990875b84e899bfc5c27cb327a78a7591ef1ee5c326845bf94805d1.png',\n",
       " '5527ab43c8554b98d36adeeb06f86c41c813a39eeb67081ae86a522f.png',\n",
       " '460a017683eff9dc904130fd2f987f3ff917db5eb152ab585d0e41a4.png',\n",
       " 'ed98e047357d93187253a0765f5066d331d71e18a80b80efc79afe80.png',\n",
       " 'de1992b3acc8d68799fe6391896d9a7e20fa6f6a1c4676ffd949529f.png',\n",
       " '93fae3ed03ec2e2ef4c240fec83758dd4a29ecda93f3fc6941d6456a.png',\n",
       " '31fc7c6cad99b90c79c1a35274e56deff792ad0ccae9ba7ed6370477.png',\n",
       " '0af094884b3a8cc714a732d51fcefb33e22fa3931aeee4c7eb4dd6b5.png',\n",
       " 'f1476389e09f602541226f8e5fb6c812fca2ecc5da4cb9ef7e8372d2.png',\n",
       " '985d9b62f921faaa04c6b9f5d3555c300ac513735eaee34c55829242.png',\n",
       " 'db640ddf7cc8d3535e4b3e23b72ddc01671b3fc6a411ee7c7a5eefac.png',\n",
       " '569f49ec8939261685db6f0364c9c5a1f409482d9c1a6989be75f948.png',\n",
       " '88b4bf420e93207e03071ab0ba9928113821b6140b702973a1828501.png',\n",
       " '48f989e588cc58298cd86ee49ed10d4a72f92e5c25b8b4927ee7f012.png',\n",
       " '34936f31bc8da755ad8f6f8c71c7ea5cf723d188bd221bdbcc5f89d9.png',\n",
       " '15e1162e4341b1dd34c49defb09c5896dd24ea4d5020ed26bb0442b7.png',\n",
       " 'a836715be7be571da4c4abdaeab133cb5e5c315e45b3be2ac59cb8b6.png',\n",
       " 'db1417c8ed7dce43d616c7c386f42a4475a4372e6526a2223ec75405.png',\n",
       " 'a3b402742f4e13854beaccbc4d34c4b90b8c9252250aef37c81e2b7a.png',\n",
       " '589d29076d516524079e3684e88540339107ee9ccecc9645f8d3f011.png',\n",
       " 'f8f9dff932c4df61fa7e957d5bbb2d44c2b14d17863a49c4b2266b55.png',\n",
       " '985ff6643cf97aedf6b7d9e962aa232bed6ce806c219df95823bf9d5.png',\n",
       " '30a1c26d1393cbdbaf01eccd8e8fb7dff67d0c9c2da1a2f981865e93.png',\n",
       " 'ec7ad3bbb788da96abd0049c914cd45dbe8f139077dd08b44f144af6.png',\n",
       " 'c24efa75f78c8514a5d88f547ff6df56748c719b5ec8dc9ce2b8287a.png',\n",
       " '62fe953617e3ed60ee6e99306f319fe634a15c9da4e64c9479aff214.png',\n",
       " '6acd55aadbe3287584599d7ea631dcbe8e0cf51b397684d806b942f7.png',\n",
       " '2f191124cdaa2dbdae24fe344c921423fe3a059fea559a1cb769c08e.png',\n",
       " '2423352c16a530fb0eeb0dbd54b6f1d291e48ccff986911b39f9fcb2.png',\n",
       " '4494cfc5951b668047bacd9aa529ff41a4543972e85ae00c6865d240.png',\n",
       " '6cc13edba21ec355e48824ffef5984e6a794615562ea8d98900ea417.png',\n",
       " '847b7eecc8ce93ed44811903f51ada2f5c0f15da72732e7dd4d92809.png',\n",
       " 'd76c7ea6eccc355f70bc980687ae797470ddbca4f4a1c4b9e7c26232.png',\n",
       " 'ec49803adab98218bafaa6b57cbb2b3ce66144ef942850c37943b4b5.png',\n",
       " '994d22bef41c83702330678c1d1939a578ba7304d696040bb06d1dfe.png',\n",
       " '559027398f1d659b89417e74b953eeb2097e6fed15ed383aa1e32373.png',\n",
       " 'ef51ad2a4cf1f7e56903c4cde81f35c5e66b3b757e46a1b12fe5c114.png',\n",
       " 'aad6641bb8baed31f5eb83d6775b0d00bc93864ea00f4a8d48a2464d.png',\n",
       " '2cbd89c8a027849b994bc0d93d1f37d70dab8fac9cba3a0359dcb6ef.png',\n",
       " '6d64823fa5be3929d9e38fd2f49b68c24d3c711b25d67263e49848a0.png',\n",
       " '8ac38a80294a6855664e28f8026afdaff6253246942ae8bb573f8faf.png',\n",
       " 'b7e2252318019f6569212377095aa8332c96d3cb28301d14a9b8034f.png',\n",
       " 'b384f1acd1cbe33318fb0c6bfefbeeec476aeeebd91030fbd14ae0a6.png',\n",
       " 'e6f1a10d9b6117d9e8cc29d7eabd4956e10c229a21f28b0bc5ee3db1.png',\n",
       " '884bc354d51f4c750f526b93081abe731ff96d02ae9d7dc4354ce1b4.png',\n",
       " '7dd4f0dce599cf75240262ed93e3660c41fa506d26ea2df62d809f07.png',\n",
       " 'a48b071529b8a2e8f876dcc94abf14a829b6f1f14c4123fba761f37e.png',\n",
       " '721919fd82a44512af575e8fca8b1f9a2c4544454d5828f96aa1a38b.png',\n",
       " '64cf2c910b3732b4c0875022c0ef9ee567be53f3804eee935bce1a6d.png',\n",
       " 'f22f554d78881cb0259a420dc71228db9bb8ddb90ab5bca15d16cc78.png',\n",
       " '8f18ecec06c5231b45960c59c8ebde05693b6057b1f830d5541d9c46.png',\n",
       " '5d7867400f78399a48e0d7c1ddf9e045ffb5fa96966844efa1dfeb10.png',\n",
       " 'a14415e46c22da45790e7e0fc49076898fc1254977abcf1b9d7b47b3.png',\n",
       " '427cee7db8dc55503fc9db50ee409da15f226ce321b963db01377295.png',\n",
       " '703b5eee192c424d4626f69b4b306942c66fbb809e234d933147c3f8.png',\n",
       " '8a3e805e148ae372b47ce6ae6dd4081c2d7bb7783a5ea22a8e45d5f3.png',\n",
       " '1c8607bdb3667482defea282be5cd828d7e739d08b59d6fbd33266b4.png',\n",
       " '78342f98bc2fdfbc30963479a13e952f22f14953aedcef320960fcad.png',\n",
       " 'e21abaa761fc7532248eab84f55a4c45aca337e4f0716102b38afb91.png',\n",
       " 'cb834cef9e8b71688653980ca793e698790110530cb7ca3604a09a78.png',\n",
       " '155509d402af3b302020f4d6e4fbb2a4ce1acb3e9faf99d9deef903e.png',\n",
       " '5fb027baa2273e81c6a11fd2b234571aac80e19477e500f072ddf38f.png',\n",
       " '871d1e3b376ea34158943df944465a9631b4ab0d70cb606e115d91cd.png',\n",
       " '86e04d3e12a3664a394c30acea3fa4ffb0ce85ccee46c97350e1ac5e.png',\n",
       " '1c2b35814948021c23f8b11612cd908daec4c987f4baad4b2e5ce09b.png',\n",
       " 'a9021695e0f631e06ffbc376e9b23a628a40785fa694d9c1cd3ac737.png',\n",
       " 'b3455f66ee1b7a78104121aff3c5c35b88fddd30fa1b94df5ac4bd03.png',\n",
       " '1e10a9c911f2824192a6faac9a1222c66bc22d698e092409438dbb94.png',\n",
       " '82f67e042d5296d77a7871be08efc1596c5af1af620e7e4289a9d3da.png',\n",
       " 'c66480a3306f6966556fd95eaf91ae2bc27010205febcfcacf522f36.png',\n",
       " 'b75ece185b57f4236d4bafc78640df51c37a6a51ede6e646f37f5955.png',\n",
       " '84b18d77d6b79bd3086be9af6e82e690ffef7518251cfa10618d58e5.png',\n",
       " '7c6fc609ea9ab6748148f72624e755ca11c1b4303b4c4fd59f9e5a39.png',\n",
       " 'a3c389190c90801fd3e4d842745e4ec8573c5f1ca3ca95fb9fca79a0.png',\n",
       " '6235e119081e77c84c54385d2f32e10f8e893158c2489fae22d877fd.png',\n",
       " 'fed90867992f573e08b40de823a781d6ea95657d1884e9e62e0ad8a7.png',\n",
       " '46b7617884d27805a2d9581ec9d8993f0bc6a9f31740cd55eb3152cd.png',\n",
       " 'd8032e37fca2a6a16ad8b7a7e1d3f6d4b3c7962fae4d58eb8d40e30b.png',\n",
       " '19517aa6c41b8593edd742853ecaff2ce35865355b85c73a64eb1780.png',\n",
       " '45b646e01f9b83af2e84ee5f4e4b541f9ca2172d2e289726b6ad8264.png',\n",
       " '8588072bda255175a34ea387f807d2ceeee0048f1f6f369a4426e079.png',\n",
       " '349a59ab5229a833c4f34217b9c4eb761c322771198081db78c65a11.png',\n",
       " '60e15b6308a701f0b948be9d4d1e37a208ac2d8fc6e1863273cd2f46.png',\n",
       " 'c8b1d29fc2c9f7664c0c5d41609bfbafef101813b4e5144da58c0c37.png',\n",
       " '5144e271f549f054469b2006e1a3a870b5f3782705709fd367628a53.png',\n",
       " '5754d24556e92a033bd4e01058f847baf9da80142032574dddbd70eb.png',\n",
       " 'df440a459e361afc1f2ceb2c855adf87c00d1ff32a011265d8393b6e.png',\n",
       " '725cd8a949844d48b780c5914ad4a8cffb49f59a2d03f826e0567504.png',\n",
       " '7ee57dbf1631696345102f0d23d407936f5c85126cccf3513647d66b.png',\n",
       " 'e1b3c026c04012b067c183f96198ce527e85f43c47f25114a8750d71.png',\n",
       " 'f4cd782fa6acdc2b9f64062fd693c6ca68de3796d5cc44005c4d7db3.png',\n",
       " 'd2d6665b3dcb3b3f8d1829441e91915090436fc8122db3750d6c498e.png',\n",
       " 'e924c6412292341f1de8984ea4f0d57c2c17cda1f66f88a8d5a2de49.png',\n",
       " '75ae3e03ceb07a42dd2f88b29974b281d3c94dd989fdddc6a72ecadc.png',\n",
       " '2896e7f3b960910d3a8b9671aa50bcf911a5d71d90984c4f5cb16e47.png',\n",
       " '4bcf0f054c01c582d38b6cdba45de268c0d695d5a34f0c834685d8b4.png',\n",
       " 'd5ddd371960ea5c80cdfb56be2205dafae0adbbb34116163e3a961f4.png',\n",
       " '5a9766eb256b39dfa5e928c8710233592d939635bce07634e2f46d7a.png',\n",
       " 'f9184c4cc79076148b0f9bbac546e5044ec57e8d2cb439c10b9bddf0.png',\n",
       " '906cd5d8e7559a99e63764a1750affa203612e9e3058efc3fac2a0b4.png',\n",
       " 'd36d51a50801a4365002188bd57d89bf375856c1771dd8d9eb6a7d65.png',\n",
       " '6921fe8421d954c1e95d158c557c1cb6b072238541738f7436745901.png',\n",
       " 'a1044747fe157db0dc3d8855451c809e3147f6826c341ae9ae175930.png',\n",
       " 'cb780c1b7db01dabfe12ec43e0d6b9cdfbc44d468a158ea112ea0820.png',\n",
       " 'bd4eed6a09f9a47204393e01558462ae9626be0256423244c783f3cf.png',\n",
       " 'fcccb647d869cf23fe349dee1a9c78efefb9005d9f20d122f6a9ba2b.png',\n",
       " 'f406d8b0be4bb332a284ded313e9ea1dde7f754f9f0513d0787c184d.png',\n",
       " 'fb54b2abac68e641bcffcf630f41aa5dfa62f92970561967e547eaa6.png',\n",
       " '115e5db6d9c3489b95dd6d4b24a2a73f93cfd7a6730d04624b3956c9.png',\n",
       " '204a48bd1d6fa2c2a5e6b93e5a016b80104ad9c24864d2120704ce34.png',\n",
       " '14fd8b283a0d394a0db11ef2f6151b04ca2d26d79272c9dbde560a02.png',\n",
       " '560f51fd82204252f70d5822af47569e1f600663ab5e99b1e1f2b11b.png',\n",
       " 'dbe635b68bde88134641eefb84efd443c13edcb3b709c61f083ae049.png',\n",
       " '28cd73d2ed0cda8c0130a1aca43e7cb15544c9063a316aa95e005ee5.png',\n",
       " '7155b7de8e37adf6fa0fb5673b5e71bbfab969d05bd66eb2dbeaa3ef.png',\n",
       " 'b38562d43f40207197768959dd0e36970fa1158fa433b7bb2ef8b7a5.png',\n",
       " 'c5e40387511973263a43d5325d02e70b03d5cd93d02559ff5aae4df7.png']"
      ]
     },
     "execution_count": 13,
     "metadata": {},
     "output_type": "execute_result"
    }
   ],
   "source": [
    "list_img_name_used[class_wnid]"
   ]
  },
  {
   "cell_type": "code",
   "execution_count": 14,
   "metadata": {},
   "outputs": [
    {
     "data": {
      "text/plain": [
       "18252"
      ]
     },
     "execution_count": 14,
     "metadata": {},
     "output_type": "execute_result"
    }
   ],
   "source": [
    "len(df_dataset.index)"
   ]
  },
  {
   "cell_type": "code",
   "execution_count": null,
   "metadata": {},
   "outputs": [],
   "source": [
    "list_img_name_used['n02056570'][0]"
   ]
  },
  {
   "cell_type": "code",
   "execution_count": 16,
   "metadata": {},
   "outputs": [
    {
     "data": {
      "text/html": [
       "<div>\n",
       "<style scoped>\n",
       "    .dataframe tbody tr th:only-of-type {\n",
       "        vertical-align: middle;\n",
       "    }\n",
       "\n",
       "    .dataframe tbody tr th {\n",
       "        vertical-align: top;\n",
       "    }\n",
       "\n",
       "    .dataframe thead th {\n",
       "        text-align: right;\n",
       "    }\n",
       "</style>\n",
       "<table border=\"1\" class=\"dataframe\">\n",
       "  <thead>\n",
       "    <tr style=\"text-align: right;\">\n",
       "      <th></th>\n",
       "      <th>img_url</th>\n",
       "      <th>img_name</th>\n",
       "      <th>is_flickr</th>\n",
       "      <th>dt</th>\n",
       "      <th>worked</th>\n",
       "      <th>class_wnid</th>\n",
       "      <th>class_name</th>\n",
       "    </tr>\n",
       "  </thead>\n",
       "  <tbody>\n",
       "    <tr>\n",
       "      <th>0</th>\n",
       "      <td>http://static.flickr.com/3163/2662066586_2419b...</td>\n",
       "      <td>5eb98b826beee860b1fe3d2c79ef111fe232cca1de9e22...</td>\n",
       "      <td>1</td>\n",
       "      <td>0.044259</td>\n",
       "      <td>0</td>\n",
       "      <td>n02056570</td>\n",
       "      <td>king penguin</td>\n",
       "    </tr>\n",
       "    <tr>\n",
       "      <th>1</th>\n",
       "      <td>http://lh3.ggpht.com/_JN-ipzkIeqs/R_pGg73545I/...</td>\n",
       "      <td>3b47fd648574e2f50115a4bc35dc978def719dbe06119f...</td>\n",
       "      <td>0</td>\n",
       "      <td>0.044259</td>\n",
       "      <td>0</td>\n",
       "      <td>n02056570</td>\n",
       "      <td>king penguin</td>\n",
       "    </tr>\n",
       "    <tr>\n",
       "      <th>2</th>\n",
       "      <td>http://wwwdelivery.superstock.com/WI/223/1574/...</td>\n",
       "      <td>0d182c01db0bb2b41b4d0d0225ef0d732dc5e2aa141e7a...</td>\n",
       "      <td>0</td>\n",
       "      <td>0.016237</td>\n",
       "      <td>0</td>\n",
       "      <td>n02056570</td>\n",
       "      <td>king penguin</td>\n",
       "    </tr>\n",
       "    <tr>\n",
       "      <th>3</th>\n",
       "      <td>http://nature-photography.co.uk/images/King%20...</td>\n",
       "      <td>02ec0d026f5cd0a64332054c505436379d950013b1398c...</td>\n",
       "      <td>0</td>\n",
       "      <td>0.606357</td>\n",
       "      <td>0</td>\n",
       "      <td>n02056570</td>\n",
       "      <td>king penguin</td>\n",
       "    </tr>\n",
       "    <tr>\n",
       "      <th>4</th>\n",
       "      <td>http://www.adelie.pwp.blueyonder.co.uk/photos/...</td>\n",
       "      <td>b0aed0cdafc3218863ddffd4ebe42c047b2d9eaca8901c...</td>\n",
       "      <td>0</td>\n",
       "      <td>0.089097</td>\n",
       "      <td>0</td>\n",
       "      <td>n02056570</td>\n",
       "      <td>king penguin</td>\n",
       "    </tr>\n",
       "    <tr>\n",
       "      <th>...</th>\n",
       "      <td>...</td>\n",
       "      <td>...</td>\n",
       "      <td>...</td>\n",
       "      <td>...</td>\n",
       "      <td>...</td>\n",
       "      <td>...</td>\n",
       "      <td>...</td>\n",
       "    </tr>\n",
       "    <tr>\n",
       "      <th>18247</th>\n",
       "      <td>http://farm1.static.flickr.com/162/332578465_c...</td>\n",
       "      <td>e7b23fe1adcb54680a73c8d9d300f162dba2f935ccce4f...</td>\n",
       "      <td>1</td>\n",
       "      <td>0.027181</td>\n",
       "      <td>0</td>\n",
       "      <td>n07720875</td>\n",
       "      <td>bell pepper</td>\n",
       "    </tr>\n",
       "    <tr>\n",
       "      <th>18248</th>\n",
       "      <td>http://farm4.static.flickr.com/3100/2806284145...</td>\n",
       "      <td>a817385b68a79f6efd3e728c8fbffa6009eea601812e0a...</td>\n",
       "      <td>1</td>\n",
       "      <td>0.024662</td>\n",
       "      <td>0</td>\n",
       "      <td>n07720875</td>\n",
       "      <td>bell pepper</td>\n",
       "    </tr>\n",
       "    <tr>\n",
       "      <th>18249</th>\n",
       "      <td>http://farm1.static.flickr.com/226/472184366_e...</td>\n",
       "      <td>62eb9de50cc244c1f3964cfab6ebaa3636a35ee8bbc2b8...</td>\n",
       "      <td>1</td>\n",
       "      <td>0.027766</td>\n",
       "      <td>0</td>\n",
       "      <td>n07720875</td>\n",
       "      <td>bell pepper</td>\n",
       "    </tr>\n",
       "    <tr>\n",
       "      <th>18250</th>\n",
       "      <td>http://farm1.static.flickr.com/21/28272827_3e8...</td>\n",
       "      <td>d6e3ab5f61c42e6e4d4ac6860a80e1ca3d4b3a7d1ccc0f...</td>\n",
       "      <td>1</td>\n",
       "      <td>0.027766</td>\n",
       "      <td>0</td>\n",
       "      <td>n07720875</td>\n",
       "      <td>bell pepper</td>\n",
       "    </tr>\n",
       "    <tr>\n",
       "      <th>18251</th>\n",
       "      <td>http://farm1.static.flickr.com/31/63334694_16b...</td>\n",
       "      <td>6c23376208fbe323717500bfdd041c73b54fbf4222b0c2...</td>\n",
       "      <td>1</td>\n",
       "      <td>0.025024</td>\n",
       "      <td>0</td>\n",
       "      <td>n07720875</td>\n",
       "      <td>bell pepper</td>\n",
       "    </tr>\n",
       "  </tbody>\n",
       "</table>\n",
       "<p>18252 rows × 7 columns</p>\n",
       "</div>"
      ],
      "text/plain": [
       "                                                 img_url  \\\n",
       "0      http://static.flickr.com/3163/2662066586_2419b...   \n",
       "1      http://lh3.ggpht.com/_JN-ipzkIeqs/R_pGg73545I/...   \n",
       "2      http://wwwdelivery.superstock.com/WI/223/1574/...   \n",
       "3      http://nature-photography.co.uk/images/King%20...   \n",
       "4      http://www.adelie.pwp.blueyonder.co.uk/photos/...   \n",
       "...                                                  ...   \n",
       "18247  http://farm1.static.flickr.com/162/332578465_c...   \n",
       "18248  http://farm4.static.flickr.com/3100/2806284145...   \n",
       "18249  http://farm1.static.flickr.com/226/472184366_e...   \n",
       "18250  http://farm1.static.flickr.com/21/28272827_3e8...   \n",
       "18251  http://farm1.static.flickr.com/31/63334694_16b...   \n",
       "\n",
       "                                                img_name  is_flickr        dt  \\\n",
       "0      5eb98b826beee860b1fe3d2c79ef111fe232cca1de9e22...          1  0.044259   \n",
       "1      3b47fd648574e2f50115a4bc35dc978def719dbe06119f...          0  0.044259   \n",
       "2      0d182c01db0bb2b41b4d0d0225ef0d732dc5e2aa141e7a...          0  0.016237   \n",
       "3      02ec0d026f5cd0a64332054c505436379d950013b1398c...          0  0.606357   \n",
       "4      b0aed0cdafc3218863ddffd4ebe42c047b2d9eaca8901c...          0  0.089097   \n",
       "...                                                  ...        ...       ...   \n",
       "18247  e7b23fe1adcb54680a73c8d9d300f162dba2f935ccce4f...          1  0.027181   \n",
       "18248  a817385b68a79f6efd3e728c8fbffa6009eea601812e0a...          1  0.024662   \n",
       "18249  62eb9de50cc244c1f3964cfab6ebaa3636a35ee8bbc2b8...          1  0.027766   \n",
       "18250  d6e3ab5f61c42e6e4d4ac6860a80e1ca3d4b3a7d1ccc0f...          1  0.027766   \n",
       "18251  6c23376208fbe323717500bfdd041c73b54fbf4222b0c2...          1  0.025024   \n",
       "\n",
       "       worked class_wnid    class_name  \n",
       "0           0  n02056570  king penguin  \n",
       "1           0  n02056570  king penguin  \n",
       "2           0  n02056570  king penguin  \n",
       "3           0  n02056570  king penguin  \n",
       "4           0  n02056570  king penguin  \n",
       "...       ...        ...           ...  \n",
       "18247       0  n07720875   bell pepper  \n",
       "18248       0  n07720875   bell pepper  \n",
       "18249       0  n07720875   bell pepper  \n",
       "18250       0  n07720875   bell pepper  \n",
       "18251       0  n07720875   bell pepper  \n",
       "\n",
       "[18252 rows x 7 columns]"
      ]
     },
     "execution_count": 16,
     "metadata": {},
     "output_type": "execute_result"
    }
   ],
   "source": [
    "df_dataset"
   ]
  },
  {
   "cell_type": "code",
   "execution_count": 17,
   "metadata": {},
   "outputs": [
    {
     "data": {
      "text/html": [
       "<div>\n",
       "<style scoped>\n",
       "    .dataframe tbody tr th:only-of-type {\n",
       "        vertical-align: middle;\n",
       "    }\n",
       "\n",
       "    .dataframe tbody tr th {\n",
       "        vertical-align: top;\n",
       "    }\n",
       "\n",
       "    .dataframe thead th {\n",
       "        text-align: right;\n",
       "    }\n",
       "</style>\n",
       "<table border=\"1\" class=\"dataframe\">\n",
       "  <thead>\n",
       "    <tr style=\"text-align: right;\">\n",
       "      <th></th>\n",
       "      <th>img_url</th>\n",
       "      <th>img_name</th>\n",
       "      <th>is_flickr</th>\n",
       "      <th>dt</th>\n",
       "      <th>worked</th>\n",
       "      <th>class_wnid</th>\n",
       "      <th>class_name</th>\n",
       "    </tr>\n",
       "  </thead>\n",
       "  <tbody>\n",
       "    <tr>\n",
       "      <th>1556</th>\n",
       "      <td>http://www.cdli.ca/CITE/emperor_penguins.gif</td>\n",
       "      <td>f6b8a447b2d5888b645220f76874fb82a93a34366a804a...</td>\n",
       "      <td>0</td>\n",
       "      <td>0.0</td>\n",
       "      <td>0</td>\n",
       "      <td>n02056570</td>\n",
       "      <td>king penguin</td>\n",
       "    </tr>\n",
       "  </tbody>\n",
       "</table>\n",
       "</div>"
      ],
      "text/plain": [
       "                                           img_url  \\\n",
       "1556  http://www.cdli.ca/CITE/emperor_penguins.gif   \n",
       "\n",
       "                                               img_name  is_flickr   dt  \\\n",
       "1556  f6b8a447b2d5888b645220f76874fb82a93a34366a804a...          0  0.0   \n",
       "\n",
       "      worked class_wnid    class_name  \n",
       "1556       0  n02056570  king penguin  "
      ]
     },
     "execution_count": 17,
     "metadata": {},
     "output_type": "execute_result"
    }
   ],
   "source": [
    "df_dataset[df_dataset['img_url']=='http://www.cdli.ca/CITE/emperor_penguins.gif']"
   ]
  },
  {
   "cell_type": "code",
   "execution_count": 18,
   "metadata": {},
   "outputs": [
    {
     "data": {
      "text/html": [
       "<div>\n",
       "<style scoped>\n",
       "    .dataframe tbody tr th:only-of-type {\n",
       "        vertical-align: middle;\n",
       "    }\n",
       "\n",
       "    .dataframe tbody tr th {\n",
       "        vertical-align: top;\n",
       "    }\n",
       "\n",
       "    .dataframe thead th {\n",
       "        text-align: right;\n",
       "    }\n",
       "</style>\n",
       "<table border=\"1\" class=\"dataframe\">\n",
       "  <thead>\n",
       "    <tr style=\"text-align: right;\">\n",
       "      <th></th>\n",
       "      <th>img_url</th>\n",
       "      <th>img_name</th>\n",
       "      <th>is_flickr</th>\n",
       "      <th>dt</th>\n",
       "      <th>worked</th>\n",
       "      <th>class_wnid</th>\n",
       "      <th>class_name</th>\n",
       "    </tr>\n",
       "  </thead>\n",
       "  <tbody>\n",
       "    <tr>\n",
       "      <th>0</th>\n",
       "      <td>http://static.flickr.com/3163/2662066586_2419b...</td>\n",
       "      <td>5eb98b826beee860b1fe3d2c79ef111fe232cca1de9e22...</td>\n",
       "      <td>1</td>\n",
       "      <td>0.044259</td>\n",
       "      <td>0</td>\n",
       "      <td>n02056570</td>\n",
       "      <td>king penguin</td>\n",
       "    </tr>\n",
       "    <tr>\n",
       "      <th>1</th>\n",
       "      <td>http://lh3.ggpht.com/_JN-ipzkIeqs/R_pGg73545I/...</td>\n",
       "      <td>3b47fd648574e2f50115a4bc35dc978def719dbe06119f...</td>\n",
       "      <td>0</td>\n",
       "      <td>0.044259</td>\n",
       "      <td>0</td>\n",
       "      <td>n02056570</td>\n",
       "      <td>king penguin</td>\n",
       "    </tr>\n",
       "    <tr>\n",
       "      <th>2</th>\n",
       "      <td>http://wwwdelivery.superstock.com/WI/223/1574/...</td>\n",
       "      <td>0d182c01db0bb2b41b4d0d0225ef0d732dc5e2aa141e7a...</td>\n",
       "      <td>0</td>\n",
       "      <td>0.016237</td>\n",
       "      <td>0</td>\n",
       "      <td>n02056570</td>\n",
       "      <td>king penguin</td>\n",
       "    </tr>\n",
       "    <tr>\n",
       "      <th>3</th>\n",
       "      <td>http://nature-photography.co.uk/images/King%20...</td>\n",
       "      <td>02ec0d026f5cd0a64332054c505436379d950013b1398c...</td>\n",
       "      <td>0</td>\n",
       "      <td>0.606357</td>\n",
       "      <td>0</td>\n",
       "      <td>n02056570</td>\n",
       "      <td>king penguin</td>\n",
       "    </tr>\n",
       "    <tr>\n",
       "      <th>4</th>\n",
       "      <td>http://www.adelie.pwp.blueyonder.co.uk/photos/...</td>\n",
       "      <td>b0aed0cdafc3218863ddffd4ebe42c047b2d9eaca8901c...</td>\n",
       "      <td>0</td>\n",
       "      <td>0.089097</td>\n",
       "      <td>0</td>\n",
       "      <td>n02056570</td>\n",
       "      <td>king penguin</td>\n",
       "    </tr>\n",
       "    <tr>\n",
       "      <th>...</th>\n",
       "      <td>...</td>\n",
       "      <td>...</td>\n",
       "      <td>...</td>\n",
       "      <td>...</td>\n",
       "      <td>...</td>\n",
       "      <td>...</td>\n",
       "      <td>...</td>\n",
       "    </tr>\n",
       "    <tr>\n",
       "      <th>18247</th>\n",
       "      <td>http://farm1.static.flickr.com/162/332578465_c...</td>\n",
       "      <td>e7b23fe1adcb54680a73c8d9d300f162dba2f935ccce4f...</td>\n",
       "      <td>1</td>\n",
       "      <td>0.027181</td>\n",
       "      <td>0</td>\n",
       "      <td>n07720875</td>\n",
       "      <td>bell pepper</td>\n",
       "    </tr>\n",
       "    <tr>\n",
       "      <th>18248</th>\n",
       "      <td>http://farm4.static.flickr.com/3100/2806284145...</td>\n",
       "      <td>a817385b68a79f6efd3e728c8fbffa6009eea601812e0a...</td>\n",
       "      <td>1</td>\n",
       "      <td>0.024662</td>\n",
       "      <td>0</td>\n",
       "      <td>n07720875</td>\n",
       "      <td>bell pepper</td>\n",
       "    </tr>\n",
       "    <tr>\n",
       "      <th>18249</th>\n",
       "      <td>http://farm1.static.flickr.com/226/472184366_e...</td>\n",
       "      <td>62eb9de50cc244c1f3964cfab6ebaa3636a35ee8bbc2b8...</td>\n",
       "      <td>1</td>\n",
       "      <td>0.027766</td>\n",
       "      <td>0</td>\n",
       "      <td>n07720875</td>\n",
       "      <td>bell pepper</td>\n",
       "    </tr>\n",
       "    <tr>\n",
       "      <th>18250</th>\n",
       "      <td>http://farm1.static.flickr.com/21/28272827_3e8...</td>\n",
       "      <td>d6e3ab5f61c42e6e4d4ac6860a80e1ca3d4b3a7d1ccc0f...</td>\n",
       "      <td>1</td>\n",
       "      <td>0.027766</td>\n",
       "      <td>0</td>\n",
       "      <td>n07720875</td>\n",
       "      <td>bell pepper</td>\n",
       "    </tr>\n",
       "    <tr>\n",
       "      <th>18251</th>\n",
       "      <td>http://farm1.static.flickr.com/31/63334694_16b...</td>\n",
       "      <td>6c23376208fbe323717500bfdd041c73b54fbf4222b0c2...</td>\n",
       "      <td>1</td>\n",
       "      <td>0.025024</td>\n",
       "      <td>0</td>\n",
       "      <td>n07720875</td>\n",
       "      <td>bell pepper</td>\n",
       "    </tr>\n",
       "  </tbody>\n",
       "</table>\n",
       "<p>18252 rows × 7 columns</p>\n",
       "</div>"
      ],
      "text/plain": [
       "                                                 img_url  \\\n",
       "0      http://static.flickr.com/3163/2662066586_2419b...   \n",
       "1      http://lh3.ggpht.com/_JN-ipzkIeqs/R_pGg73545I/...   \n",
       "2      http://wwwdelivery.superstock.com/WI/223/1574/...   \n",
       "3      http://nature-photography.co.uk/images/King%20...   \n",
       "4      http://www.adelie.pwp.blueyonder.co.uk/photos/...   \n",
       "...                                                  ...   \n",
       "18247  http://farm1.static.flickr.com/162/332578465_c...   \n",
       "18248  http://farm4.static.flickr.com/3100/2806284145...   \n",
       "18249  http://farm1.static.flickr.com/226/472184366_e...   \n",
       "18250  http://farm1.static.flickr.com/21/28272827_3e8...   \n",
       "18251  http://farm1.static.flickr.com/31/63334694_16b...   \n",
       "\n",
       "                                                img_name  is_flickr        dt  \\\n",
       "0      5eb98b826beee860b1fe3d2c79ef111fe232cca1de9e22...          1  0.044259   \n",
       "1      3b47fd648574e2f50115a4bc35dc978def719dbe06119f...          0  0.044259   \n",
       "2      0d182c01db0bb2b41b4d0d0225ef0d732dc5e2aa141e7a...          0  0.016237   \n",
       "3      02ec0d026f5cd0a64332054c505436379d950013b1398c...          0  0.606357   \n",
       "4      b0aed0cdafc3218863ddffd4ebe42c047b2d9eaca8901c...          0  0.089097   \n",
       "...                                                  ...        ...       ...   \n",
       "18247  e7b23fe1adcb54680a73c8d9d300f162dba2f935ccce4f...          1  0.027181   \n",
       "18248  a817385b68a79f6efd3e728c8fbffa6009eea601812e0a...          1  0.024662   \n",
       "18249  62eb9de50cc244c1f3964cfab6ebaa3636a35ee8bbc2b8...          1  0.027766   \n",
       "18250  d6e3ab5f61c42e6e4d4ac6860a80e1ca3d4b3a7d1ccc0f...          1  0.027766   \n",
       "18251  6c23376208fbe323717500bfdd041c73b54fbf4222b0c2...          1  0.025024   \n",
       "\n",
       "       worked class_wnid    class_name  \n",
       "0           0  n02056570  king penguin  \n",
       "1           0  n02056570  king penguin  \n",
       "2           0  n02056570  king penguin  \n",
       "3           0  n02056570  king penguin  \n",
       "4           0  n02056570  king penguin  \n",
       "...       ...        ...           ...  \n",
       "18247       0  n07720875   bell pepper  \n",
       "18248       0  n07720875   bell pepper  \n",
       "18249       0  n07720875   bell pepper  \n",
       "18250       0  n07720875   bell pepper  \n",
       "18251       0  n07720875   bell pepper  \n",
       "\n",
       "[18252 rows x 7 columns]"
      ]
     },
     "execution_count": 18,
     "metadata": {},
     "output_type": "execute_result"
    }
   ],
   "source": [
    "df_dataset"
   ]
  },
  {
   "cell_type": "code",
   "execution_count": 19,
   "metadata": {},
   "outputs": [],
   "source": [
    "with open(args.url_loader) as json_file:\n",
    "    Imagenet_urls_ILSVRC_2016 = json.load(json_file)"
   ]
  },
  {
   "cell_type": "code",
   "execution_count": 20,
   "metadata": {},
   "outputs": [],
   "source": [
    "for class_wnid in class_wnids:\n",
    "        list_urls =  Imagenet_urls_ILSVRC_2016[str(class_wnid)]\n",
    "        np.random.shuffle(list_urls)    "
   ]
  },
  {
   "cell_type": "code",
   "execution_count": 21,
   "metadata": {},
   "outputs": [],
   "source": [
    "list_urls = {}\n",
    "for class_wnid in class_wnids:\n",
    "    list_urls[class_wnid] =  Imagenet_urls_ILSVRC_2016[str(class_wnid)]\n",
    "    np.random.shuffle(list_urls[class_wnid])\n"
   ]
  },
  {
   "cell_type": "code",
   "execution_count": 22,
   "metadata": {},
   "outputs": [
    {
     "data": {
      "text/plain": [
       "'n07720875'"
      ]
     },
     "execution_count": 22,
     "metadata": {},
     "output_type": "execute_result"
    }
   ],
   "source": [
    "class_wnid"
   ]
  },
  {
   "cell_type": "code",
   "execution_count": 23,
   "metadata": {},
   "outputs": [
    {
     "data": {
      "text/plain": [
       "'http://farm2.static.flickr.com/1155/842635366_04e4edb15d.jpg'"
      ]
     },
     "execution_count": 23,
     "metadata": {},
     "output_type": "execute_result"
    }
   ],
   "source": [
    "list_urls[class_wnid][0]"
   ]
  },
  {
   "cell_type": "code",
   "execution_count": 24,
   "metadata": {},
   "outputs": [
    {
     "data": {
      "text/plain": [
       "'http://farm1.static.flickr.com/115/301399387_5c22abde3a.jpg'"
      ]
     },
     "execution_count": 24,
     "metadata": {},
     "output_type": "execute_result"
    }
   ],
   "source": [
    "list_urls[class_wnid].pop()"
   ]
  },
  {
   "cell_type": "code",
   "execution_count": 25,
   "metadata": {},
   "outputs": [
    {
     "data": {
      "text/plain": [
       "({'test': 'data/test', 'val': 'data/val', 'train': 'data/train'},\n",
       " ['.DS_Store', 'test', 'train', 'val'],\n",
       " ['ant',\n",
       "  'macaque',\n",
       "  'bell pepper',\n",
       "  'cornet',\n",
       "  'king penguin',\n",
       "  'computer keyboard',\n",
       "  'vending machine',\n",
       "  'lionfish',\n",
       "  'sewing machine',\n",
       "  'albatross'],\n",
       " ['n02056570',\n",
       "  'n02058221',\n",
       "  'n02219486',\n",
       "  'n02487347',\n",
       "  'n02643566',\n",
       "  'n03085013',\n",
       "  'n03110669',\n",
       "  'n04179913',\n",
       "  'n04525305',\n",
       "  'n07720875'])"
      ]
     },
     "execution_count": 25,
     "metadata": {},
     "output_type": "execute_result"
    }
   ],
   "source": [
    "import os\n",
    "paths, os.listdir('data/'), clean_list(os.listdir(paths[folder])), class_wnids"
   ]
  },
  {
   "cell_type": "code",
   "execution_count": 26,
   "metadata": {},
   "outputs": [
    {
     "name": "stdout",
     "output_type": "stream",
     "text": [
      "test king penguin 400\n",
      "test albatross 400\n",
      "test ant 400\n",
      "test macaque 400\n",
      "test lionfish 400\n",
      "test computer keyboard 400\n",
      "test cornet 400\n",
      "test sewing machine 400\n",
      "test vending machine 400\n",
      "test bell pepper 400\n",
      "val king penguin 200\n",
      "val albatross 200\n",
      "val ant 200\n",
      "val macaque 200\n",
      "val lionfish 200\n",
      "val computer keyboard 200\n",
      "val cornet 200\n",
      "val sewing machine 200\n",
      "val vending machine 200\n",
      "val bell pepper 200\n",
      "train king penguin 634\n",
      "train albatross 479\n",
      "train ant 549\n",
      "train macaque 445\n",
      "train lionfish 565\n",
      "train computer keyboard 544\n",
      "train cornet 455\n",
      "train sewing machine 571\n",
      "train vending machine 685\n",
      "train bell pepper 352\n"
     ]
    }
   ],
   "source": [
    "for folder in args.folders:\n",
    "    for class_wnid in class_wnids:\n",
    "        class_name = reverse_id_labels[class_wnid]\n",
    "        class_folder = os.path.join(paths[folder], class_name)\n",
    "        list_dir = os.listdir(class_folder)\n",
    "        print(folder, class_name, len(clean_list(list_dir)))"
   ]
  },
  {
   "cell_type": "code",
   "execution_count": 27,
   "metadata": {
    "nteract": {
     "transient": {
      "deleting": false
     }
    }
   },
   "outputs": [
    {
     "data": {
      "text/plain": [
       "2225"
      ]
     },
     "execution_count": 27,
     "metadata": {},
     "output_type": "execute_result"
    }
   ],
   "source": [
    "Imagenet_urls_ILSVRC_2016.keys()\n",
    "len(Imagenet_urls_ILSVRC_2016['n03085013'])\n"
   ]
  },
  {
   "cell_type": "markdown",
   "metadata": {},
   "source": [
    "Let's plot some statistics for the scrapped images:"
   ]
  },
  {
   "cell_type": "code",
   "execution_count": 28,
   "metadata": {},
   "outputs": [],
   "source": [
    "filename = f'results/2021-10-20_dataset_test_inv-ope-de06.json'\n",
    "df_dataset = pd.read_json(filename)\n"
   ]
  },
  {
   "cell_type": "code",
   "execution_count": 29,
   "metadata": {},
   "outputs": [
    {
     "name": "stderr",
     "output_type": "stream",
     "text": [
      "/home/laurent/.local/lib/python3.8/site-packages/pandas/plotting/_matplotlib/core.py:1616: MatplotlibDeprecationWarning: normalize=None does not normalize if the sum is less than 1 but this behavior is deprecated since 3.3 until two minor releases later. After the deprecation period the default value will be normalize=True. To prevent normalization pass normalize=False \n",
      "  results = ax.pie(y, labels=blabels, **kwds)\n",
      "No handles with labels found to put in legend.\n",
      "No handles with labels found to put in legend.\n"
     ]
    },
    {
     "data": {
      "image/png": "[encoded data removed]",
      "text/plain": [
       "<Figure size 360x360 with 1 Axes>"
      ]
     },
     "metadata": {},
     "output_type": "display_data"
    },
    {
     "data": {
      "image/png": "[encoded data removed]",
      "text/plain": [
       "<Figure size 792x432 with 2 Axes>"
      ]
     },
     "metadata": {},
     "output_type": "display_data"
    },
    {
     "data": {
      "image/png": "[encoded data removed]",
      "text/plain": [
       "<Figure size 360x360 with 1 Axes>"
      ]
     },
     "metadata": {},
     "output_type": "display_data"
    },
    {
     "data": {
      "image/png": "[encoded data removed]",
      "text/plain": [
       "<Figure size 360x360 with 1 Axes>"
      ]
     },
     "metadata": {},
     "output_type": "display_data"
    },
    {
     "data": {
      "image/png": "[encoded data removed]",
      "text/plain": [
       "<Figure size 792x432 with 2 Axes>"
      ]
     },
     "metadata": {},
     "output_type": "display_data"
    },
    {
     "data": {
      "image/png": "[encoded data removed]",
      "text/plain": [
       "<Figure size 360x360 with 1 Axes>"
      ]
     },
     "metadata": {},
     "output_type": "display_data"
    },
    {
     "data": {
      "image/png": "[encoded data removed]",
      "text/plain": [
       "<Figure size 360x360 with 1 Axes>"
      ]
     },
     "metadata": {},
     "output_type": "display_data"
    },
    {
     "data": {
      "image/png": "[encoded data removed]",
      "text/plain": [
       "<Figure size 792x432 with 2 Axes>"
      ]
     },
     "metadata": {},
     "output_type": "display_data"
    },
    {
     "data": {
      "image/png": "[encoded data removed]",
      "text/plain": [
       "<Figure size 360x360 with 1 Axes>"
      ]
     },
     "metadata": {},
     "output_type": "display_data"
    }
   ],
   "source": [
    "# TODO des bar plots seraient plus compacts et parlants... \n",
    "# TODO extraire flickr post-hoc\n",
    "\n",
    "for folder in args.folders : \n",
    "    filename = f'results/{datetag}_dataset_{folder}_{args.HOST}.json'\n",
    "    if os.path.isfile(filename):\n",
    "        df_dataset = pd.read_json(filename)\n",
    "\n",
    "        df_type = pd.DataFrame({'urls_type': [len(df_dataset[df_dataset['is_flickr']==1]), \n",
    "                                              len(df_dataset[df_dataset['is_flickr']==0])]},\n",
    "                          index=['is_flickr', 'not_flikr'])\n",
    "        df_flikr = pd.DataFrame({'not_flikr': [df_dataset[df_dataset['is_flickr']==0]['worked'].sum(), \n",
    "                                               (len(df_dataset[df_dataset['is_flickr']==0]) - df_dataset[df_dataset['is_flickr']==0]['worked'].sum())],\n",
    "                                 'is_flickr': [df_dataset[df_dataset['is_flickr']==1]['worked'].sum(), \n",
    "                                               (len(df_dataset[df_dataset['is_flickr']==1]) - df_dataset[df_dataset['is_flickr']==1]['worked'].sum())]},\n",
    "                                  index=['worked', 'not_working'])\n",
    "        df_all = pd.DataFrame({'url': [len(df_dataset[df_dataset['worked']==1]), len(df_dataset[df_dataset['worked']==0])]},\n",
    "                          index=['worked', 'not_working'])\n",
    "\n",
    "        plot_type = df_type.plot.pie(y='urls_type', figsize=(5, 5), labeldistance=None)\n",
    "        plot_type.set_title('Stats for the folder '+ folder + ' (' + str(len(df_dataset)) + ' attempts) :', size = 18)\n",
    "        if not len(df_dataset[df_dataset['is_flickr']==0]) == 0 or len(df_dataset[df_dataset['is_flickr']==1]) == 0: \n",
    "            plot_flickr = df_flikr.plot.pie(subplots=True, figsize=(11, 6), labeldistance=None)\n",
    "        plot_all = df_all.plot.pie(y='url', figsize=(5, 5), labeldistance=None)\n",
    "    else:\n",
    "        print(f'The file {filename} is not available...')"
   ]
  },
  {
   "cell_type": "markdown",
   "metadata": {},
   "source": [
    "TODO : show one representative image from each class"
   ]
  },
  {
   "cell_type": "markdown",
   "metadata": {},
   "source": [
    "## Transfer learning and dataset config\n",
    "\n",
    "In the `model.py` scrip,t we first define the `transform` functions for the datasets. To perform image augmentation, we apply the pyTorch `AutoAugment` function to the `train` and `val` dataset. Then, we load the pretrained models and store them in memory."
   ]
  },
  {
   "cell_type": "code",
   "execution_count": 30,
   "metadata": {},
   "outputs": [],
   "source": [
    "scriptname = 'DCNN_transfer_learning/model.py'"
   ]
  },
  {
   "cell_type": "code",
   "execution_count": 31,
   "metadata": {},
   "outputs": [],
   "source": [
    "# TODO : vérifier que Resize ne déforme pas l'image - CenterCrop pourrait être mieux ?"
   ]
  },
  {
   "cell_type": "code",
   "execution_count": 32,
   "metadata": {},
   "outputs": [
    {
     "name": "stdout",
     "output_type": "stream",
     "text": [
      "Overwriting DCNN_transfer_learning/model.py\n"
     ]
    }
   ],
   "source": [
    "%%writefile {scriptname}\n",
    "\n",
    "from DCNN_transfer_learning.init import *\n",
    "\n",
    "import torchvision\n",
    "from torchvision import datasets, models, transforms\n",
    "from torchvision.datasets import ImageFolder\n",
    "import torch.nn as nn\n",
    "\n",
    "# normalization used to train VGG\n",
    "# see https://pytorch.org/hub/pytorch_vision_vgg/\n",
    "mean = np.array([0.485, 0.456, 0.406])\n",
    "std = np.array([0.229, 0.224, 0.225])\n",
    "transforms_norm = transforms.Normalize(mean=mean, std=std) # to normalize colors on the imagenet dataset\n",
    "\n",
    "import seaborn as sns\n",
    "import sklearn.metrics\n",
    "from scipy import stats\n",
    "from scipy.special import logit, expit\n",
    "\n",
    "# VGG-16 datasets initialisation\n",
    "def datasets_transforms(image_size=args.image_size, p=0, num_workers=1, batch_size=args.batch_size, **kwargs):\n",
    "    data_transforms = {\n",
    "        'train': transforms.Compose([\n",
    "            transforms.Resize((int(image_size), int(image_size))),\n",
    "            transforms.AutoAugment(), # https://pytorch.org/vision/master/transforms.html#torchvision.transforms.AutoAugment\n",
    "            transforms.RandomGrayscale(p=p),\n",
    "            transforms.ToTensor(),      # Convert the image to pyTorch Tensor data type.\n",
    "            transforms_norm ]),\n",
    "\n",
    "        'val': transforms.Compose([\n",
    "            transforms.Resize((int(image_size), int(image_size))),\n",
    "            transforms.AutoAugment(), # https://pytorch.org/vision/master/transforms.html#torchvision.transforms.AutoAugment\n",
    "            transforms.RandomGrayscale(p=p),\n",
    "            transforms.ToTensor(),      # Convert the image to pyTorch Tensor data type.\n",
    "            transforms_norm ]),\n",
    "\n",
    "        'test': transforms.Compose([\n",
    "            transforms.Resize((int(image_size), int(image_size))),\n",
    "            transforms.RandomGrayscale(p=p),\n",
    "            transforms.ToTensor(),      # Convert the image to pyTorch Tensor data type.\n",
    "            transforms_norm ]),\n",
    "    }\n",
    "    #print(paths)\n",
    "    \n",
    "\n",
    "    image_datasets = {\n",
    "        folder: datasets.ImageFolder(\n",
    "            paths[folder], \n",
    "            transform=data_transforms[folder]\n",
    "        )\n",
    "        for folder in args.folders\n",
    "    }\n",
    "\n",
    "    dataloaders = {\n",
    "        folder: torch.utils.data.DataLoader(\n",
    "            image_datasets[folder], batch_size=batch_size,\n",
    "            shuffle=True, num_workers=num_workers\n",
    "        )\n",
    "        for folder in args.folders\n",
    "    }\n",
    "\n",
    "    dataset_sizes = {folder: len(image_datasets[folder]) for folder in args.folders}\n",
    "\n",
    "    return dataset_sizes, dataloaders, image_datasets, data_transforms\n",
    "\n",
    "(dataset_sizes, dataloaders, image_datasets, data_transforms) = datasets_transforms(image_size=args.image_size)\n",
    "\n",
    "for folder in args.folders : print(f\"Loaded {dataset_sizes[folder]} images under {folder}\")\n",
    "class_names = image_datasets['train'].classes\n",
    "print(\"Classes: \", image_datasets['train'].classes)\n",
    "n_output = len(os.listdir(paths['train']))"
   ]
  },
  {
   "cell_type": "code",
   "execution_count": 33,
   "metadata": {},
   "outputs": [
    {
     "name": "stdout",
     "output_type": "stream",
     "text": [
      "Loaded 4000 images under test\n",
      "Loaded 2000 images under val\n",
      "Loaded 5279 images under train\n",
      "Classes:  ['albatross', 'ant', 'bell pepper', 'computer keyboard', 'cornet', 'king penguin', 'lionfish', 'macaque', 'sewing machine', 'vending machine']\n",
      "\n",
      "IPython CPU timings (estimated):\n",
      "  User   :       0.61 s.\n",
      "  System :       0.31 s.\n",
      "Wall time:       0.86 s.\n"
     ]
    },
    {
     "data": {
      "text/plain": [
       "<Figure size 432x288 with 0 Axes>"
      ]
     },
     "metadata": {},
     "output_type": "display_data"
    }
   ],
   "source": [
    "%run -int {scriptname}"
   ]
  },
  {
   "cell_type": "markdown",
   "metadata": {},
   "source": [
    "## Training process\n",
    "\n",
    "Finaly, we implement the training process in `experiment_train.py`, using a classic training script with pyTorch. For further statistical analyses, we extract factors (like the accuracy and loss) within a `pandas` object (a `DataFrame`). "
   ]
  },
  {
   "cell_type": "code",
   "execution_count": 34,
   "metadata": {},
   "outputs": [],
   "source": [
    "scriptname = 'experiment_train.py'"
   ]
  },
  {
   "cell_type": "code",
   "execution_count": 35,
   "metadata": {},
   "outputs": [
    {
     "name": "stdout",
     "output_type": "stream",
     "text": [
      "Overwriting experiment_train.py\n"
     ]
    }
   ],
   "source": [
    "%%writefile {scriptname}\n",
    "from DCNN_transfer_learning.model import *\n",
    "\n",
    "def train_model(model, num_epochs, dataloaders, lr=args.lr, momentum=args.momentum, beta2=args.beta2, log_interval=100, **kwargs):\n",
    "    \n",
    "    model.to(device)\n",
    "    if beta2 > 0.: \n",
    "        optimizer = torch.optim.Adam(model.parameters(), lr=lr, betas=(momentum, beta2)) #, amsgrad=amsgrad)\n",
    "    else:\n",
    "        optimizer = torch.optim.SGD(model.parameters(), lr=lr, momentum=momentum) # to set training variables\n",
    "\n",
    "    df_train = pd.DataFrame([], columns=['epoch', 'avg_loss', 'avg_acc', 'avg_loss_val', 'avg_acc_val', 'device_type']) \n",
    "\n",
    "    for epoch in range(num_epochs):\n",
    "        loss_train = 0\n",
    "        acc_train = 0\n",
    "        for i, (images, labels) in enumerate(dataloaders['train']):\n",
    "            images, labels = images.to(device), labels.to(device)\n",
    "            \n",
    "            optimizer.zero_grad()\n",
    "            outputs = model(images)\n",
    "            loss = criterion(outputs, labels)\n",
    "\n",
    "            loss.backward()\n",
    "            optimizer.step()\n",
    "\n",
    "            loss_train += loss.item() * images.size(0)\n",
    "            _, preds = torch.max(outputs.data, 1)\n",
    "            acc_train += torch.sum(preds == labels.data)\n",
    "            \n",
    "        avg_loss = loss_train / dataset_sizes['train']\n",
    "        avg_acc = acc_train / dataset_sizes['train']\n",
    "           \n",
    "        with torch.no_grad():\n",
    "            loss_val = 0\n",
    "            acc_val = 0\n",
    "            for i, (images, labels) in enumerate(dataloaders['val']):\n",
    "                images, labels = images.to(device), labels.to(device)\n",
    "\n",
    "                outputs = model(images)\n",
    "                loss = criterion(outputs, labels)\n",
    "\n",
    "                loss_val += loss.item() * images.size(0)\n",
    "                _, preds = torch.max(outputs.data, 1)\n",
    "                acc_val += torch.sum(preds == labels.data)\n",
    "        \n",
    "            avg_loss_val = loss_val / dataset_sizes['val']\n",
    "            avg_acc_val = acc_val / dataset_sizes['val']\n",
    "        \n",
    "        df_train.loc[epoch] = {'epoch':epoch, 'avg_loss':avg_loss, 'avg_acc':float(avg_acc),\n",
    "                               'avg_loss_val':avg_loss_val, 'avg_acc_val':float(avg_acc_val), 'device_type':device.type}\n",
    "        print(f\"Epoch {epoch+1}/{num_epochs} : train= loss: {avg_loss:.4f} / acc : {avg_acc:.4f} - val= loss : {avg_loss_val:.4f} / acc : {avg_acc_val:.4f}\")\n",
    "\n",
    "    model.cpu()\n",
    "    torch.cuda.empty_cache()\n",
    "    return model, df_train\n",
    "\n",
    " \n",
    "criterion = nn.CrossEntropyLoss()\n",
    "\n",
    "\n",
    "# Training and saving the network\n",
    "\n",
    "models_vgg = {}\n",
    "opt = {}\n",
    "#df_train = {}\n",
    "\n",
    "models_vgg['vgg'] = torchvision.models.vgg16(pretrained=True)\n",
    "\n",
    "# Downloading the model\n",
    "model_filenames = {}\n",
    "for model_name in args.model_names:\n",
    "    model_filenames[model_name] = args.model_path + model_name + '.pt'\n",
    "    filename = f'results/{datetag}_{args.HOST}_train_{model_name}.json'\n",
    "\n",
    "    models_vgg[model_name] = torchvision.models.vgg16(pretrained=True)\n",
    "    # TODO : compare with full learning\n",
    "    # Freeze training for all layers\n",
    "    # Newly created modules have require_grad=True by default\n",
    "    for param in models_vgg[model_name].features.parameters():\n",
    "        param.require_grad = False \n",
    "\n",
    "    if model_name == 'vgg16_lin':\n",
    "        num_features = models_vgg[model_name].classifier[-1].out_features\n",
    "        features = list(models_vgg[model_name].classifier.children())\n",
    "        features.extend([nn.Linear(num_features, n_output)]) # Adding one layer on top of last layer\n",
    "        models_vgg[model_name].classifier = nn.Sequential(*features)\n",
    "\n",
    "    else : \n",
    "        num_features = models_vgg[model_name].classifier[-1].in_features\n",
    "        features = list(models_vgg[model_name].classifier.children())[:-1] # Remove last layer\n",
    "        features.extend([nn.Linear(num_features, n_output)]) # Add our layer with 10 outputs\n",
    "        models_vgg[model_name].classifier = nn.Sequential(*features) # Replace the model classifier\n",
    "\n",
    "    if os.path.isfile(model_filenames[model_name]):\n",
    "        print(\"Loading pretrained model for..\", model_name, ' from', model_filenames[model_name])\n",
    "        #print(\"Resume_training : \", resume_training)\n",
    "\n",
    "        if device.type == 'cuda':\n",
    "            models_vgg[model_name].load_state_dict(torch.load(model_filenames[model_name])) #on GPU\n",
    "        else:\n",
    "            models_vgg[model_name].load_state_dict(torch.load(model_filenames[model_name], map_location=torch.device('cpu'))) #on CPU\n",
    "\n",
    "    else:\n",
    "        print(\"Re-training pretrained model...\", model_filenames[model_name])\n",
    "        since = time.time()\n",
    "\n",
    "        p = 1 if model_name == 'vgg16_gray' else 0\n",
    "        if model_name =='vgg16_scale':\n",
    "            df_train = None\n",
    "            for image_size_ in args.image_sizes: # starting with low resolution images \n",
    "                print(f\"Traning {model_name}, image_size = {image_size_}, p (Grayscale) = {p}\")\n",
    "                (dataset_sizes, dataloaders, image_datasets, data_transforms) = datasets_transforms(image_size=image_size_, p=p)\n",
    "                models_vgg[model_name], df_train_ = train_model(models_vgg[model_name], num_epochs=args.num_epochs//len(args.image_sizes),\n",
    "                                                             dataloaders=dataloaders)\n",
    "                df_train = df_train_ if df_train is None else df_train.append(df_train_, ignore_index=True)\n",
    "        else :\n",
    "            print(f\"Traning {model_name}, image_size = {args.image_size}, p (Grayscale) = {p}\")\n",
    "            (dataset_sizes, dataloaders, image_datasets, data_transforms) = datasets_transforms(image_size=args.image_size, p=p)\n",
    "            models_vgg[model_name], df_train = train_model(models_vgg[model_name], num_epochs=args.num_epochs,\n",
    "                                                        dataloaders=dataloaders)\n",
    "        torch.save(models_vgg[model_name].state_dict(), model_filenames[model_name])\n",
    "        df_train.to_json(filename)\n",
    "        elapsed_time = time.time() - since\n",
    "        print(f\"Training completed in {elapsed_time // 60:.0f}m {elapsed_time % 60:.0f}s\")\n",
    "        print()\n"
   ]
  },
  {
   "cell_type": "code",
   "execution_count": null,
   "metadata": {
    "tags": []
   },
   "outputs": [
    {
     "name": "stdout",
     "output_type": "stream",
     "text": [
      "Loaded 4000 images under test\n",
      "Loaded 2000 images under val\n",
      "Loaded 5279 images under train\n",
      "Classes:  ['albatross', 'ant', 'bell pepper', 'computer keyboard', 'cornet', 'king penguin', 'lionfish', 'macaque', 'sewing machine', 'vending machine']\n",
      "Re-training pretrained model... models/re-trained_vgg16_lin.pt\n",
      "Traning vgg16_lin, image_size = 256, p (Grayscale) = 0\n",
      "Epoch 1/200 : train= loss: 0.5268 / acc : 0.8314 - val= loss : 0.2307 / acc : 0.9225\n",
      "Epoch 2/200 : train= loss: 0.1798 / acc : 0.9394 - val= loss : 0.2067 / acc : 0.9355\n",
      "Epoch 3/200 : train= loss: 0.1599 / acc : 0.9445 - val= loss : 0.1819 / acc : 0.9400\n",
      "Epoch 4/200 : train= loss: 0.1333 / acc : 0.9578 - val= loss : 0.1691 / acc : 0.9405\n",
      "Epoch 5/200 : train= loss: 0.1187 / acc : 0.9587 - val= loss : 0.1585 / acc : 0.9500\n",
      "Epoch 6/200 : train= loss: 0.1092 / acc : 0.9648 - val= loss : 0.1403 / acc : 0.9515\n",
      "Epoch 7/200 : train= loss: 0.0961 / acc : 0.9689 - val= loss : 0.1539 / acc : 0.9470\n",
      "Epoch 8/200 : train= loss: 0.0997 / acc : 0.9695 - val= loss : 0.1599 / acc : 0.9480\n",
      "Epoch 9/200 : train= loss: 0.0881 / acc : 0.9722 - val= loss : 0.1288 / acc : 0.9560\n",
      "Epoch 10/200 : train= loss: 0.0903 / acc : 0.9725 - val= loss : 0.1369 / acc : 0.9550\n",
      "Epoch 11/200 : train= loss: 0.0922 / acc : 0.9686 - val= loss : 0.1388 / acc : 0.9555\n",
      "Epoch 12/200 : train= loss: 0.0833 / acc : 0.9720 - val= loss : 0.1307 / acc : 0.9610\n",
      "Epoch 13/200 : train= loss: 0.0795 / acc : 0.9722 - val= loss : 0.1041 / acc : 0.9670\n",
      "Epoch 14/200 : train= loss: 0.0775 / acc : 0.9727 - val= loss : 0.1292 / acc : 0.9560\n",
      "Epoch 15/200 : train= loss: 0.0750 / acc : 0.9771 - val= loss : 0.1319 / acc : 0.9565\n",
      "Epoch 16/200 : train= loss: 0.0617 / acc : 0.9788 - val= loss : 0.1185 / acc : 0.9655\n",
      "Epoch 17/200 : train= loss: 0.0648 / acc : 0.9794 - val= loss : 0.1418 / acc : 0.9540\n",
      "Epoch 18/200 : train= loss: 0.0577 / acc : 0.9828 - val= loss : 0.1371 / acc : 0.9565\n",
      "Epoch 19/200 : train= loss: 0.0557 / acc : 0.9814 - val= loss : 0.1284 / acc : 0.9600\n",
      "Epoch 20/200 : train= loss: 0.0525 / acc : 0.9835 - val= loss : 0.1084 / acc : 0.9585\n",
      "Epoch 21/200 : train= loss: 0.0572 / acc : 0.9809 - val= loss : 0.1252 / acc : 0.9600\n",
      "Epoch 22/200 : train= loss: 0.0483 / acc : 0.9852 - val= loss : 0.1301 / acc : 0.9555\n",
      "Epoch 23/200 : train= loss: 0.0498 / acc : 0.9830 - val= loss : 0.1231 / acc : 0.9615\n",
      "Epoch 24/200 : train= loss: 0.0613 / acc : 0.9795 - val= loss : 0.1081 / acc : 0.9635\n",
      "Epoch 25/200 : train= loss: 0.0492 / acc : 0.9847 - val= loss : 0.1109 / acc : 0.9645\n",
      "Epoch 26/200 : train= loss: 0.0469 / acc : 0.9866 - val= loss : 0.1156 / acc : 0.9630\n",
      "Epoch 27/200 : train= loss: 0.0461 / acc : 0.9845 - val= loss : 0.1179 / acc : 0.9585\n",
      "Epoch 28/200 : train= loss: 0.0424 / acc : 0.9869 - val= loss : 0.1101 / acc : 0.9625\n",
      "Epoch 29/200 : train= loss: 0.0464 / acc : 0.9833 - val= loss : 0.1163 / acc : 0.9645\n",
      "Epoch 30/200 : train= loss: 0.0414 / acc : 0.9869 - val= loss : 0.1258 / acc : 0.9610\n",
      "Epoch 31/200 : train= loss: 0.0486 / acc : 0.9843 - val= loss : 0.1326 / acc : 0.9605\n",
      "Epoch 32/200 : train= loss: 0.0397 / acc : 0.9866 - val= loss : 0.1299 / acc : 0.9605\n",
      "Epoch 33/200 : train= loss: 0.0358 / acc : 0.9883 - val= loss : 0.1328 / acc : 0.9620\n",
      "Epoch 34/200 : train= loss: 0.0458 / acc : 0.9856 - val= loss : 0.1115 / acc : 0.9645\n",
      "Epoch 35/200 : train= loss: 0.0367 / acc : 0.9854 - val= loss : 0.1240 / acc : 0.9650\n",
      "Epoch 36/200 : train= loss: 0.0371 / acc : 0.9879 - val= loss : 0.0973 / acc : 0.9680\n",
      "Epoch 37/200 : train= loss: 0.0367 / acc : 0.9879 - val= loss : 0.1107 / acc : 0.9685\n",
      "Epoch 38/200 : train= loss: 0.0402 / acc : 0.9871 - val= loss : 0.1131 / acc : 0.9655\n",
      "Epoch 39/200 : train= loss: 0.0360 / acc : 0.9879 - val= loss : 0.1086 / acc : 0.9645\n",
      "Epoch 40/200 : train= loss: 0.0345 / acc : 0.9892 - val= loss : 0.1249 / acc : 0.9645\n",
      "Epoch 41/200 : train= loss: 0.0366 / acc : 0.9883 - val= loss : 0.1226 / acc : 0.9670\n"
     ]
    }
   ],
   "source": [
    "%run -int {scriptname}"
   ]
  },
  {
   "cell_type": "markdown",
   "metadata": {},
   "source": [
    "Here we display both average accuracy and loss during the training phase and during the validation one : "
   ]
  },
  {
   "cell_type": "code",
   "execution_count": null,
   "metadata": {},
   "outputs": [],
   "source": [
    "model_name = 'vgg16_lin'\n",
    "filename = f'results/{datetag}_{args.HOST}_train_{model_name}.json'\n",
    "%ls {filename}"
   ]
  },
  {
   "cell_type": "code",
   "execution_count": null,
   "metadata": {},
   "outputs": [],
   "source": [
    "for model_name in args.model_names:\n",
    "    filename = f'results/{datetag}_{args.HOST}_train_{model_name}.json'\n",
    "    df_train = pd.read_json(filename)\n",
    "    fig, axs = plt.subplots(figsize=(fig_width, fig_width/phi//2))\n",
    "    # plt.xticks(fontsize=18)\n",
    "    # plt.yticks(fontsize=18)\n",
    "    ax = df_train['avg_loss'].plot(lw=2, marker='.', markersize=10)\n",
    "    ax = df_train['avg_loss_val'].plot(lw=2, marker='.', markersize=10)\n",
    "    ax.legend([\"avg_loss\", \"avg_loss_val\"], fontsize=18);\n",
    "    ax.set_xlabel(\"Epoch\", size=18)\n",
    "    ax.set_ylabel(\"Loss value\", size=18)\n",
    "    ax.set_ylim(0, 1.2)\n",
    "    axs.set_title(f'Average values of the loss by epoch : {filename}' , size = 20)"
   ]
  },
  {
   "cell_type": "code",
   "execution_count": null,
   "metadata": {},
   "outputs": [],
   "source": [
    "for model_name in args.model_names:\n",
    "    filename = f'results/{datetag}_{args.HOST}_train_{model_name}.json'\n",
    "    df_train = pd.read_json(filename)\n",
    "    fig, axs = plt.subplots(figsize=(fig_width, fig_width/phi//2))\n",
    "    # plt.xticks(fontsize=18)\n",
    "    # plt.yticks(fontsize=18)\n",
    "    ax = df_train['avg_acc'].plot(lw=2, marker='.', markersize=10)\n",
    "    ax = df_train['avg_acc_val'].plot(lw=2, marker='.', markersize=10)\n",
    "    ax.legend([\"avg_acc\", \"avg_acc_val\"], fontsize=18);\n",
    "    ax.set_xlabel(\"Epoch\", size=18)\n",
    "    ax.set_ylabel(\"Accuracy value\", size=18)\n",
    "    ax.set_ylim(0.60, 1)\n",
    "    axs.set_title(f'Average values of the accuracy by epoch : {filename}' , size = 20)"
   ]
  },
  {
   "cell_type": "markdown",
   "metadata": {},
   "source": [
    "# Experiment 1: Image processing and recognition for differents labels \n"
   ]
  },
  {
   "cell_type": "markdown",
   "metadata": {},
   "source": [
    "The networks are now ready for a quantitative evaluation. The second part of this notebook offers a comparison between : \n",
    "\n",
    "- A pre-trained image recognition's networks, here VGG, trained on the [Imagenet](http://image-net.org/) dataset wich allows to work on naturals images for $1000$ labels, taken from the `torchvision.models` library\n",
    "\n",
    "- And four re-trained version of the same network VGG16 based on a reduced Imagenet dataset wich allows to focus on naturals images from $10$ labels.\n",
    "\n",
    "For further statistical analyses, we extract these differents factors (like the accuracy and the processing time for differents datasets at differents resolution) in a `pandas` object. "
   ]
  },
  {
   "cell_type": "code",
   "execution_count": null,
   "metadata": {},
   "outputs": [],
   "source": [
    "scriptname = 'experiment_basic.py'"
   ]
  },
  {
   "cell_type": "code",
   "execution_count": null,
   "metadata": {},
   "outputs": [],
   "source": [
    "%%writefile {scriptname}\n",
    "\n",
    "#import model's script and set the output file\n",
    "from DCNN_transfer_learning.model import *\n",
    "#from experiment_train import *\n",
    "filename = f'results/{datetag}_results_1_{args.HOST}.json'\n",
    "print(f'{filename=}')\n",
    "def main():\n",
    "    if os.path.isfile(filename):\n",
    "        df = pd.read_json(filename)\n",
    "    else:\n",
    "        i_trial = 0\n",
    "        df = pd.DataFrame([], columns=['model', 'perf', 'fps', 'time', 'label', 'i_label', 'i_image', 'filename', 'device_type', 'top_1']) \n",
    "        (dataset_sizes, dataloaders, image_datasets, data_transforms) = datasets_transforms(image_size=args.image_size, batch_size=1)\n",
    "        \n",
    "        for i_image, (data, label) in enumerate(dataloaders['test']):            \n",
    "            data, label = data.to(device), label.to(device)\n",
    "            \n",
    "            for model_name in models_vgg.keys():\n",
    "                model = models_vgg[model_name]\n",
    "                model = model.to(device)\n",
    "\n",
    "                with torch.no_grad():\n",
    "                    i_label_top = reverse_labels[image_datasets['test'].classes[label]]\n",
    "                    tic = time.time()\n",
    "                    out = model(data).squeeze(0)\n",
    "                    _, indices = torch.sort(out, descending=True)\n",
    "                    if model_name == 'vgg' : # our previous work\n",
    "                        top_1 = labels[indices[0]]\n",
    "                        percentage = torch.nn.functional.softmax(out[args.subset_i_labels], dim=0) * 100\n",
    "                        perf_ = percentage[reverse_subset_i_labels[i_label_top]].item()\n",
    "                    else :\n",
    "                        top_1 = subset_labels[indices[0]] \n",
    "                        percentage = torch.nn.functional.softmax(out, dim=0) * 100\n",
    "                        perf_ = percentage[label].item()\n",
    "                    elapsed_time = time.time() - tic\n",
    "                    \n",
    "                print(f'The {model_name} model get {labels[i_label_top]} at {perf_:.2f} % confidence in {elapsed_time:.3f} seconds, best confidence for : {top_1}')\n",
    "                df.loc[i_trial] = {'model':model_name, 'perf':perf_, 'time':elapsed_time, 'fps': 1/elapsed_time,\n",
    "                                   'label':labels[i_label_top], 'i_label':i_label_top, \n",
    "                                   'i_image':i_image, 'filename':image_datasets['test'].imgs[i_image][0], 'device_type':device.type, 'top_1':top_1}\n",
    "                i_trial += 1\n",
    "        df.to_json(filename)\n",
    "\n",
    "main()    "
   ]
  },
  {
   "cell_type": "code",
   "execution_count": null,
   "metadata": {},
   "outputs": [],
   "source": [
    "%run -int {scriptname}"
   ]
  },
  {
   "cell_type": "markdown",
   "metadata": {},
   "source": [
    "Here we collect our results, we can already display all the data in a table "
   ]
  },
  {
   "cell_type": "code",
   "execution_count": null,
   "metadata": {},
   "outputs": [],
   "source": [
    "filename = f'results/{datetag}_results_1_{args.HOST}.json'\n",
    "filename"
   ]
  },
  {
   "cell_type": "code",
   "execution_count": null,
   "metadata": {},
   "outputs": [],
   "source": [
    "df = pd.read_json(filename)\n",
    "df"
   ]
  },
  {
   "cell_type": "markdown",
   "metadata": {},
   "source": [
    "## Accuracy, Precision, Recall\n",
    "\n",
    "We now compute the top-1 accuracy (which is a metric that describes how the model performs across all classes, here top 1 because we only take the best likelihood at the outputof the networks), the precision (which reflects how reliable the model is in classifying samples as Positive) and the recall (which measures the model's ability to detect Positive samples) of each networks. We use the [sklearn librairy](https://sklearn.org/index.html) to perform this [analysis](https://blog.paperspace.com/deep-learning-metrics-precision-recall-accuracy/)."
   ]
  },
  {
   "cell_type": "code",
   "execution_count": null,
   "metadata": {},
   "outputs": [],
   "source": [
    "from sklearn.metrics import accuracy_score, precision_score, f1_score"
   ]
  },
  {
   "cell_type": "markdown",
   "metadata": {},
   "source": [
    "https://scikit-learn.org/stable/modules/generated/sklearn.metrics.precision_score.html"
   ]
  },
  {
   "cell_type": "code",
   "execution_count": null,
   "metadata": {},
   "outputs": [],
   "source": [
    "df_precision = pd.DataFrame({model_name: {subset_label: precision_score(df[(df['model']==model_name) & (df['label']==subset_label)][\"top_1\"], \n",
    "                                                                  df[(df['model']==model_name) & (df['label']==subset_label)][\"label\"],\n",
    "                                                                 average='micro')\n",
    "                                    for subset_label in subset_labels} \n",
    "                       for model_name in models_vgg.keys()})"
   ]
  },
  {
   "cell_type": "code",
   "execution_count": null,
   "metadata": {},
   "outputs": [],
   "source": [
    "ax = df_precision.plot.bar(rot=60, figsize=(fig_width, fig_width//4), fontsize=18)\n",
    "ax.set_ylim(0, 1)\n",
    "ax.hlines(xmin=-.5, xmax=len(subset_labels)-.5, y=1/n_output, ls='--', ec='k', label='chance level')\n",
    "plt.legend(bbox_to_anchor=(1.1, .5), loc='lower right')\n",
    "ax.set_title('Precision for each models - experiment 1', size=20)\n",
    "ax.set_ylabel('Accuracy', size=14)\n",
    "ax.set_xlabel('Models', size=14);"
   ]
  },
  {
   "cell_type": "markdown",
   "metadata": {},
   "source": [
    "TODO : use the f1-score everywhere\n",
    "https://scikit-learn.org/stable/modules/generated/sklearn.metrics.f1_score.html"
   ]
  },
  {
   "cell_type": "code",
   "execution_count": null,
   "metadata": {},
   "outputs": [],
   "source": [
    "df_f1_score = pd.DataFrame({model_name: {subset_label: f1_score(df[(df['model']==model_name) & (df['label']==subset_label)][\"top_1\"], \n",
    "                                                                df[(df['model']==model_name) & (df['label']==subset_label)][\"label\"],\n",
    "                                                                average='micro')\n",
    "                                    for subset_label in subset_labels} \n",
    "                       for model_name in models_vgg.keys()})\n",
    "\n",
    "ax = df_f1_score.plot.bar(rot=60, figsize=(fig_width, fig_width//4), fontsize=18)\n",
    "ax.set_ylim(0, 1)\n",
    "ax.hlines(xmin=-.5, xmax=len(subset_labels)-.5, y=1/n_output, ls='--', ec='k', label='chance level')\n",
    "plt.legend(bbox_to_anchor=(1.1, .5), loc='lower right')\n",
    "ax.set_title('F1-score for each models - experiment 1', size=20)\n",
    "ax.set_ylabel('Accuracy', size=14);"
   ]
  },
  {
   "cell_type": "code",
   "execution_count": null,
   "metadata": {},
   "outputs": [],
   "source": [
    "df_acc = pd.DataFrame({model_name: {subset_label: accuracy_score(df[(df['model']==model_name) & (df['label']==subset_label)][\"top_1\"], \n",
    "                                                                 df[(df['model']==model_name) & (df['label']==subset_label)][\"label\"])\n",
    "                                    for subset_label in subset_labels} \n",
    "                       for model_name in models_vgg.keys()})\n",
    "\n",
    "ax = df_acc.plot.bar(rot=60, figsize=(fig_width, fig_width//4), fontsize=18)\n",
    "ax.set_ylim(0, 1)\n",
    "ax.hlines(xmin=-.5, xmax=len(subset_labels)-.5, y=1/n_output, ls='--', ec='k', label='chance level')\n",
    "plt.legend(bbox_to_anchor=(1.1, .5), loc='lower right')\n",
    "ax.set_title('Accuracy top_1 : for each models - experiment 1', size=20)\n",
    "ax.set_ylabel('Accuracy', size=14)\n",
    "ax.set_xlabel('Models', size=14);"
   ]
  },
  {
   "cell_type": "code",
   "execution_count": null,
   "metadata": {},
   "outputs": [],
   "source": [
    "df_acc = pd.DataFrame({'accuracy': [accuracy_score(df[df['model']==model_name][\"top_1\"], df[df['model']==model_name][\"label\"]) for model_name in models_vgg.keys()]}, index=models_vgg.keys())\n",
    "ax = df_acc.plot.bar(rot=0, figsize=(fig_width, fig_width//4), fontsize=18)\n",
    "ax.set_ylim(0, 1)\n",
    "ax.hlines(xmin=-.5, xmax=len(models_vgg.keys())-.5, y=1/n_output, ls='--', ec='k', label='chance level')\n",
    "# https://matplotlib.org/stable/gallery/lines_bars_and_markers/bar_label_demo.html\n",
    "ax.bar_label(ax.containers[0], padding=-24, color='black', fontsize=14, fmt='%.3f')\n",
    "plt.legend(bbox_to_anchor=(1.1, .5), loc='lower right')\n",
    "ax.set_title('Average accuracy top_1 : for each models - experiment 1', size=20)\n",
    "ax.set_ylabel('Accuracy', size=14)\n",
    "ax.set_xlabel('Models', size=14);"
   ]
  },
  {
   "cell_type": "markdown",
   "metadata": {},
   "source": [
    "## Computation time\n",
    "\n",
    "A display of the differents computation time of each models on the same dataset for the sequence of trials :"
   ]
  },
  {
   "cell_type": "code",
   "execution_count": null,
   "metadata": {},
   "outputs": [],
   "source": [
    "fig, axs = plt.subplots(len(models_vgg.keys()), 1, figsize=(fig_width, fig_width*phi//2), sharex=True, sharey=True)\n",
    "# plt.xticks(fontsize=18)\n",
    "# plt.yticks(fontsize=18)\n",
    "for ax, color, model_name in zip(axs, colors, models_vgg.keys()):\n",
    "    ax.set_ylabel('Frequency', fontsize=14)\n",
    "    df[df['model']==model_name]['time'].plot.hist(bins=150, lw=1, label=model_name,ax=ax, color=color, density=True)\n",
    "    ax.legend(loc='upper left', fontsize=20)\n",
    "    ax.set_xlim(df['time'].quantile(.01), df['time'].quantile(.99))\n",
    "axs[-1].set_xlabel('Processing time (s)', size=18)\n",
    "axs[0].set_title('Processed on : ' + args.HOST + '_' + str(df['device_type'][0]), size = 20);"
   ]
  },
  {
   "cell_type": "markdown",
   "metadata": {},
   "source": [
    "## Classification likelihood\n",
    "\n",
    "This graph shows the frequency of the logit of the classification likelihood for our four models and the pyTorch VGG16 model. The classification likelihood represent a predicted likelihood probability of detection for a given label at the output of the network. As most of them are close either to 100 as to 0, we applied a logit function to make the difference between these networks more obvious."
   ]
  },
  {
   "cell_type": "code",
   "execution_count": null,
   "metadata": {},
   "outputs": [],
   "source": [
    "fig, axs = plt.subplots(len(models_vgg.keys()), 1, figsize=(fig_width, fig_width*phi//2), sharex=True, sharey=True)\n",
    "# plt.xticks(fontsize=18)\n",
    "# plt.yticks(fontsize=18)\n",
    "for ax, color, model_name in zip(axs, colors, models_vgg.keys()):\n",
    "    ax.set_ylabel('Frequency', fontsize=14)\n",
    "    (logit(df[df['model']==model_name]['perf']/100)/np.log2(10)).plot.hist(bins=np.linspace(0, 5, 150), lw=1, label=model_name, ax=ax, color=color, density=True)\n",
    "    #df[df['model']==model_name]['perf'].plot.hist(bins=np.linspace(99.95, 100, 150), lw=1, label=model_name, ax=ax, color=color, density=True)\n",
    "    ax.legend(loc='upper left', fontsize=20)\n",
    "    ax.set_ylim(0, 5)\n",
    "    # ax.tick_params(axis='x', labelsize=14)\n",
    "    # ax.tick_params(axis='y', labelsize=14)\n",
    "axs[-1].set_xlabel('Classification likelihood (ban)', size=18)\n",
    "axs[0].set_title('Processed on : ' + args.HOST + '_' + str(df['device_type'][0]), size = 20);"
   ]
  },
  {
   "cell_type": "code",
   "execution_count": null,
   "metadata": {},
   "outputs": [],
   "source": [
    "# TODO : change name of variable perf to likelihood ??\n"
   ]
  },
  {
   "cell_type": "markdown",
   "metadata": {},
   "source": [
    "TODO \n",
    "- voir si on peut donner la valeur du logit en hartley base 10 https://en.wikipedia.org/wiki/Hartley_(unit) tracer le chance level\n",
    "- show success of categorization vs likelihood / odd-ratio of label vs rest"
   ]
  },
  {
   "cell_type": "markdown",
   "metadata": {},
   "source": [
    "## Image display\n",
    "\n",
    "Here we display the 64 *worsts* Classification likelihood's, all model combined : "
   ]
  },
  {
   "cell_type": "code",
   "execution_count": null,
   "metadata": {},
   "outputs": [],
   "source": [
    "N_image_i = 8\n",
    "N_image_j = 8\n",
    "fig, axs = plt.subplots(N_image_i, N_image_j, figsize=(fig_width, fig_width))\n",
    "for i_image, idx in enumerate(df[\"perf\"].argsort()[:(N_image_i*N_image_j)]):\n",
    "    ax = axs[i%N_image_i][i_image//N_image_i]\n",
    "    ax.imshow(imageio.imread(image_datasets['test'].imgs[df.loc[idx]['i_image']][0]))\n",
    "    ax.set_xticks([])\n",
    "    ax.set_yticks([])\n",
    "    ax.set_xlabel(df.loc[idx]['label'] + ' | ' + df.loc[idx]['model'], color='g')\n",
    "    perf_ = df.loc[idx]['perf']\n",
    "    ax.set_ylabel(f'P={perf_:2.3f}%', color='g')"
   ]
  },
  {
   "cell_type": "markdown",
   "metadata": {},
   "source": [
    "## summary\n",
    "\n",
    "To make it even clearer we extracted a specific mean for each models : "
   ]
  },
  {
   "cell_type": "markdown",
   "metadata": {},
   "source": [
    "Mean accuracy"
   ]
  },
  {
   "cell_type": "code",
   "execution_count": null,
   "metadata": {},
   "outputs": [],
   "source": [
    "for model_name in models_vgg.keys():\n",
    "    mean_acc = (df[df['model']==model_name][\"top_1\"] == df[df['model']==model_name][\"label\"]).mean()\n",
    "    print(f'For the {model_name} model, the mean accuracy = {mean_acc*100:.4f} %' )"
   ]
  },
  {
   "cell_type": "markdown",
   "metadata": {},
   "source": [
    "Classification likelihood's mean"
   ]
  },
  {
   "cell_type": "code",
   "execution_count": null,
   "metadata": {},
   "outputs": [],
   "source": [
    "for model_name in models_vgg.keys():\n",
    "    med_perf = np.mean(df[df['model']==model_name][\"perf\"])\n",
    "    print(f'For the {model_name} model, the mean clasification likelihood = {med_perf:.4f} %' )"
   ]
  },
  {
   "cell_type": "markdown",
   "metadata": {},
   "source": [
    "Computation time 's mean"
   ]
  },
  {
   "cell_type": "code",
   "execution_count": null,
   "metadata": {},
   "outputs": [],
   "source": [
    "for model_name in models_vgg.keys():\n",
    "    med_perf = np.mean(df[df['model']==model_name][\"time\"])\n",
    "    print(f'For the {model_name} model, the mean computation time = {med_perf:.5f} s')"
   ]
  },
  {
   "cell_type": "markdown",
   "metadata": {},
   "source": [
    "Frame per second's mean"
   ]
  },
  {
   "cell_type": "code",
   "execution_count": null,
   "metadata": {},
   "outputs": [],
   "source": [
    "for model_name in models_vgg.keys():\n",
    "    med_perf = np.mean(df[df['model']==model_name][\"fps\"])\n",
    "    print(f'For the {model_name} model, the mean fps = {med_perf:.3f} Hz' )"
   ]
  },
  {
   "cell_type": "markdown",
   "metadata": {},
   "source": [
    "# Experiment 2: Image processing and recognition for differents resolutions :\n",
    "\n",
    "Let's now study that same likelihood indicators at different image resolutions."
   ]
  },
  {
   "cell_type": "code",
   "execution_count": null,
   "metadata": {},
   "outputs": [],
   "source": [
    "scriptname = 'experiment_downsample.py'"
   ]
  },
  {
   "cell_type": "code",
   "execution_count": null,
   "metadata": {},
   "outputs": [],
   "source": [
    "%%writefile {scriptname}\n",
    "#import model's script and set the output file\n",
    "from DCNN_transfer_learning.model import *\n",
    "filename = f'results/{datetag}_results_2_{args.HOST}.json'\n",
    "\n",
    "def main():\n",
    "    if os.path.isfile(filename):\n",
    "        df_downsample = pd.read_json(filename)\n",
    "    else:\n",
    "        i_trial = 0\n",
    "        df_downsample = pd.DataFrame([], columns=['model', 'perf', 'fps', 'time', 'label', 'i_label', 'i_image', 'image_size', 'filename', 'device_type', 'top_1']) \n",
    "        # image preprocessing\n",
    "        for image_size_ in args.image_sizes:\n",
    "            (dataset_sizes, dataloaders, image_datasets, data_transforms) = datasets_transforms(image_size=image_size_, batch_size=1)\n",
    "            print(f'Résolution de {image_size_=}')\n",
    "            # Displays the input image of the model \n",
    "            for i_image, (data, label) in enumerate(dataloaders['test']):                \n",
    "                data, label = data.to(device), label.to(device)\n",
    "\n",
    "                for model_name in models_vgg.keys():\n",
    "                    model = models_vgg[model_name]\n",
    "                    model = model.to(device)\n",
    "\n",
    "                    with torch.no_grad():\n",
    "                        i_label_top = reverse_labels[image_datasets['test'].classes[label]]\n",
    "                        tic = time.time()\n",
    "                        out = model(data).squeeze(0)\n",
    "                        _, indices = torch.sort(out, descending=True)\n",
    "                        if model_name == 'vgg' : # our previous work\n",
    "                            top_1 = labels[indices[0]]\n",
    "                            percentage = torch.nn.functional.softmax(out[args.subset_i_labels], dim=0) * 100\n",
    "                            perf_ = percentage[reverse_subset_i_labels[i_label_top]].item()\n",
    "                        else :\n",
    "                            top_1 = subset_labels[indices[0]] \n",
    "                            percentage = torch.nn.functional.softmax(out, dim=0) * 100\n",
    "                            perf_ = percentage[label].item()\n",
    "                        dt = time.time() - tic\n",
    "                    print(f'The {model_name} model get {labels[i_label_top]} at {perf_:.2f} % confidence in {dt:.3f} seconds, best confidence for : {top_1}')\n",
    "                    df_downsample.loc[i_trial] = {'model':model_name, 'perf':perf_, 'time':dt, 'fps': 1/dt,\n",
    "                                       'label':labels[i_label_top], 'i_label':i_label_top, \n",
    "                                       'i_image':i_image, 'filename':image_datasets['test'].imgs[i_image][0], 'image_size': image_size_, 'device_type':device.type, 'top_1':str(top_1)}\n",
    "                    i_trial += 1\n",
    "\n",
    "            df_downsample.to_json(filename)\n",
    "\n",
    "main()            "
   ]
  },
  {
   "cell_type": "code",
   "execution_count": null,
   "metadata": {
    "tags": []
   },
   "outputs": [],
   "source": [
    "%run -int {scriptname}"
   ]
  },
  {
   "cell_type": "markdown",
   "metadata": {},
   "source": [
    "Here, again, we collect our results, and display all the data in a table "
   ]
  },
  {
   "cell_type": "code",
   "execution_count": null,
   "metadata": {},
   "outputs": [],
   "source": [
    "filename = f'results/{datetag}_results_2_{args.HOST}.json'\n",
    "#filename = 'results/2021-04-20_results_2_INV-133-DE01.json'\n",
    "df_downsample = pd.read_json(filename)\n",
    "df_downsample"
   ]
  },
  {
   "cell_type": "markdown",
   "metadata": {},
   "source": [
    "## Accuracy\n",
    "\n",
    "And extract the accuracy, the precision ans the recall for each networks :"
   ]
  },
  {
   "cell_type": "code",
   "execution_count": null,
   "metadata": {},
   "outputs": [],
   "source": [
    "for image_size in args.image_sizes:\n",
    "    pprint(f'Benchmarking image size = {image_size}')\n",
    "    df_acc = pd.DataFrame({model_name: {subset_label: accuracy_score(df_downsample[(df_downsample['model']==model_name) & (df_downsample['image_size']==image_size)][\"top_1\"], \n",
    "                                                                     df_downsample[(df_downsample['model']==model_name) & (df_downsample['image_size']==image_size)][\"label\"])\n",
    "                                        for subset_label in subset_labels} \n",
    "                           for model_name in models_vgg.keys()})\n",
    "\n",
    "    ax = df_acc.plot.bar(rot=60, figsize=(fig_width, fig_width//4), fontsize=18)\n",
    "    ax.set_ylim(0, 1)\n",
    "    ax.hlines(xmin=-.5, xmax=len(subset_labels)-.5, y=1/n_output, ls='--', ec='k', label='chance level')\n",
    "    plt.legend(bbox_to_anchor=(1.1, .5), loc='lower right')\n",
    "    ax.set_title(f'Experiment 2 - image size = {image_size}', size=20)\n",
    "    ax.set_ylabel('Accuracy top_1', size=14)\n",
    "    plt.show();\n"
   ]
  },
  {
   "cell_type": "code",
   "execution_count": null,
   "metadata": {},
   "outputs": [],
   "source": [
    "df_acc = pd.DataFrame({model_name: {image_size: accuracy_score(df_downsample[(df_downsample['model']==model_name) & (df_downsample['image_size']==image_size)][\"top_1\"], \n",
    "                                                               df_downsample[(df_downsample['model']==model_name) & (df_downsample['image_size']==image_size)][\"label\"])\n",
    "                                    for image_size in args.image_sizes} \n",
    "                       for model_name in models_vgg.keys()})\n",
    "\n",
    "ax = df_acc.plot.bar(rot=0, figsize=(fig_width, fig_width//4), fontsize=18)\n",
    "ax.set_ylim(0, 1)\n",
    "ax.hlines(xmin=-.5, xmax=len(models_vgg.keys())-.5, y=1/n_output, ls='--', ec='k', label='chance level')\n",
    "# https://matplotlib.org/stable/gallery/lines_bars_and_markers/bar_label_demo.html\n",
    "for container in ax.containers: ax.bar_label(container, padding=-50, color='black', fontsize=14, fmt='%.3f', rotation=90)\n",
    "plt.legend(bbox_to_anchor=(1.1, .5), loc='lower right')\n",
    "ax.set_title(f'Experiment 2 - image sizes = {args.image_sizes}', size=20)\n",
    "ax.set_ylabel('Accuracy', size=14)\n",
    "plt.show();"
   ]
  },
  {
   "cell_type": "code",
   "execution_count": null,
   "metadata": {},
   "outputs": [],
   "source": [
    "ax = df_acc.T.plot.bar(rot=0, figsize=(fig_width, fig_width//4), fontsize=18)\n",
    "ax.set_ylim(0, 1)\n",
    "ax.hlines(xmin=-.5, xmax=len(models_vgg.keys())-.5, y=1/n_output, ls='--', ec='k', label='chance level')\n",
    "# https://matplotlib.org/stable/gallery/lines_bars_and_markers/bar_label_demo.html\n",
    "for container in ax.containers: ax.bar_label(container, padding=-50, color='black', fontsize=14, fmt='%.3f', rotation=90)\n",
    "plt.legend(bbox_to_anchor=(1.1, .5), loc='lower right')\n",
    "ax.set_title(f'Experiment 2 - image sizes = {args.image_sizes}', size=20)\n",
    "ax.set_ylabel('Accuracy', size=14)\n",
    "plt.show();"
   ]
  },
  {
   "cell_type": "markdown",
   "metadata": {},
   "source": [
    "## Computation time\n",
    "\n",
    "A display of the differents computation time of each models on the same dataset for differents resolutions :"
   ]
  },
  {
   "cell_type": "code",
   "execution_count": null,
   "metadata": {},
   "outputs": [],
   "source": [
    "fig, axs = plt.subplots(figsize=(fig_width, fig_width/phi))\n",
    "# plt.xticks(fontsize=18)\n",
    "# plt.yticks(fontsize=18)\n",
    "for color, model_name in zip(colors, models_vgg.keys()):\n",
    "    axs = sns.violinplot(x=\"image_size\", y=\"time\", data=df_downsample, inner=\"quartile\", hue='model')\n",
    "    axs.set_title('Processed on : ' + args.HOST + '_' + str(df_downsample['device_type'][0]), size = 20)\n",
    "    axs.set_ylabel('Computation time (s)', size=18)\n",
    "    axs.set_xlabel('Trial', size=18)\n",
    "    axs.set_yscale('log')\n",
    "h, l = axs.get_legend_handles_labels()\n",
    "axs.legend(h[:5], l[:5], loc='upper center', fontsize=16);"
   ]
  },
  {
   "cell_type": "markdown",
   "metadata": {},
   "source": [
    "## Classification likelihood\n",
    "\n",
    "Let's display the likelihood of each models on the same dataset for differents resolutions. Here accuracies are displayed as a violin plot to allow a better representation of the models."
   ]
  },
  {
   "cell_type": "code",
   "execution_count": null,
   "metadata": {},
   "outputs": [],
   "source": [
    "fig, axs = plt.subplots(figsize=(fig_width, fig_width/phi))\n",
    "# plt.xticks(fontsize=18)\n",
    "# plt.yticks(fontsize=18)\n",
    "axs = sns.violinplot(x=\"image_size\", y=\"perf\", data=df_downsample, inner=\"quartile\", hue='model', cut = 0, scale = 'width')\n",
    "axs.set_title('Processed on : ' + args.HOST + '_' + str(df_downsample['device_type'][0]), size=20)\n",
    "axs.set_ylabel('Classification likelihood (%)', size=18)\n",
    "axs.set_xlabel('Image size', size=18)\n",
    "h, l = axs.get_legend_handles_labels()\n",
    "axs.legend(h[:5], l[:5], loc ='center', fontsize=16);"
   ]
  },
  {
   "cell_type": "markdown",
   "metadata": {},
   "source": [
    "## Image display\n",
    "\n",
    "The 64 worsts classification likelihood, all models and sizes combined : "
   ]
  },
  {
   "cell_type": "code",
   "execution_count": null,
   "metadata": {},
   "outputs": [],
   "source": [
    "N_image_i = 8\n",
    "N_image_j = 8\n",
    "fig, axs = plt.subplots(N_image_i, N_image_j, figsize=(fig_width, fig_width))\n",
    "for i, idx in enumerate(df_downsample[\"perf\"].argsort()[:(N_image_i*N_image_j)]):\n",
    "    ax = axs[i%N_image_i][i//N_image_i]\n",
    "    ax.imshow(imageio.imread(image_datasets['test'].imgs[df_downsample.loc[idx]['i_image']][0]))\n",
    "    ax.set_xticks([])\n",
    "    ax.set_yticks([])\n",
    "    ax.set_xlabel(df_downsample.loc[idx]['label'] + ' | ' + df_downsample.loc[idx]['model']+ ' | ' + str(df_downsample.loc[idx]['image_size']), color='g')\n",
    "    perf_ = df_downsample.loc[idx]['perf']\n",
    "    ax.set_ylabel(f'P={perf_:2.3f}%', color='g')"
   ]
  },
  {
   "cell_type": "markdown",
   "metadata": {},
   "source": [
    "## summary\n",
    "\n",
    "Again, we extracted a specific mean for each models : "
   ]
  },
  {
   "cell_type": "markdown",
   "metadata": {},
   "source": [
    "Mean accuracy"
   ]
  },
  {
   "cell_type": "code",
   "execution_count": null,
   "metadata": {},
   "outputs": [],
   "source": [
    "for model_name in models_vgg.keys():\n",
    "    pprint(f'Benchmarking model {model_name}')\n",
    "    for image_size in args.image_sizes:\n",
    "        df_ = df_downsample[(df_downsample['model']==model_name) & (df_downsample['image_size']==image_size)]\n",
    "        mean_acc = (df_[\"top_1\"] == df_[\"label\"]).mean()\n",
    "        print(f'For size {image_size}, the mean accuracy = {mean_acc*100:.4f} %' )"
   ]
  },
  {
   "cell_type": "markdown",
   "metadata": {},
   "source": [
    "Classification likelihood's mean"
   ]
  },
  {
   "cell_type": "code",
   "execution_count": null,
   "metadata": {},
   "outputs": [],
   "source": [
    "for model_name in models_vgg.keys():\n",
    "    pprint(f'Benchmarking model {model_name}')\n",
    "    for image_size in args.image_sizes:\n",
    "        med_perf = np.mean(df_downsample[(df_downsample['model']==model_name) & (df_downsample['image_size']==image_size)][\"perf\"])\n",
    "        print(f'For size {image_size}, the mean clasification likelihood = {med_perf:.5f} %' )"
   ]
  },
  {
   "cell_type": "markdown",
   "metadata": {},
   "source": [
    "Computation time 's mean"
   ]
  },
  {
   "cell_type": "code",
   "execution_count": null,
   "metadata": {},
   "outputs": [],
   "source": [
    "for model_name in models_vgg.keys():\n",
    "    pprint(f'Benchmarking model {model_name}')\n",
    "    for image_size in args.image_sizes:\n",
    "        med_perf = np.mean(df_downsample[(df_downsample['model']==model_name) & (df_downsample['image_size']==image_size)][\"time\"])\n",
    "        print(f'For size {image_size}, the mean computation time = {med_perf:.3f} s' )"
   ]
  },
  {
   "cell_type": "markdown",
   "metadata": {},
   "source": [
    "Frame per second's mean"
   ]
  },
  {
   "cell_type": "code",
   "execution_count": null,
   "metadata": {},
   "outputs": [],
   "source": [
    "for model_name in models_vgg.keys():\n",
    "    pprint(f'Benchmarking model {model_name}')\n",
    "    for image_size in args.image_sizes:\n",
    "        med_perf = np.mean(df_downsample[(df_downsample['model']==model_name) & (df_downsample['image_size']==image_size)][\"fps\"])\n",
    "        print(f'For size {image_size}, the mean fps = {med_perf:.3f} Hz' )"
   ]
  },
  {
   "cell_type": "markdown",
   "metadata": {},
   "source": [
    "# Experiment 3: Image processing and recognition on grayscale images :\n",
    "\n",
    "Again, same likelihood indicators but now with a grayscale transformation."
   ]
  },
  {
   "cell_type": "code",
   "execution_count": null,
   "metadata": {},
   "outputs": [],
   "source": [
    "scriptname = 'experiment_grayscale.py'"
   ]
  },
  {
   "cell_type": "code",
   "execution_count": null,
   "metadata": {},
   "outputs": [],
   "source": [
    "%%writefile {scriptname}\n",
    "\n",
    "#import model's script and set the output file\n",
    "from DCNN_transfer_learning.model import *\n",
    "filename = f'results/{datetag}_results_3_{args.HOST}.json'\n",
    "\n",
    "def main():\n",
    "    if os.path.isfile(filename):\n",
    "        df_gray = pd.read_json(filename)\n",
    "    else:\n",
    "        i_trial = 0\n",
    "        df_gray = pd.DataFrame([], columns=['model', 'perf', 'fps', 'time', 'label', 'i_label', 'i_image', 'filename', 'device_type', 'top_1']) \n",
    "        # image preprocessing setting a grayscale output\n",
    "        (dataset_sizes, dataloaders, image_datasets, data_transforms) = datasets_transforms(image_size=args.image_size, p=1, batch_size=1)\n",
    "\n",
    "        # Displays the input image of the model \n",
    "        for i_image, (data, label) in enumerate(dataloaders['test']):\n",
    "            data, label = data.to(device), label.to(device)\n",
    "\n",
    "            for model_name in models_vgg.keys():\n",
    "                model = models_vgg[model_name]\n",
    "                model = model.to(device)\n",
    "\n",
    "                with torch.no_grad():\n",
    "                    i_label_top = reverse_labels[image_datasets['test'].classes[label]]\n",
    "                    tic = time.time()\n",
    "                    out = model(data).squeeze(0)\n",
    "                    if model_name == 'vgg' :\n",
    "                        percentage = torch.nn.functional.softmax(out[args.subset_i_labels], dim=0) * 100\n",
    "                        _, indices = torch.sort(out, descending=True)\n",
    "                        top_1 = labels[indices[0]]\n",
    "                        perf_ = percentage[reverse_subset_i_labels[i_label_top]].item()\n",
    "                    else :\n",
    "                        percentage = torch.nn.functional.softmax(out, dim=0) * 100\n",
    "                        _, indices = torch.sort(out, descending=True)\n",
    "                        top_1 = subset_labels[indices[0]] \n",
    "                        perf_ = percentage[label].item()\n",
    "                dt = time.time() - tic\n",
    "                df_gray.loc[i_trial] = {'model':model_name, 'perf':perf_, 'time':dt, 'fps': 1/dt,\n",
    "                                   'label':labels[i_label_top], 'i_label':i_label_top, \n",
    "                                   'i_image':i_image, 'filename':image_datasets['test'].imgs[i_image][0], 'device_type':device.type, 'top_1':str(top_1)}\n",
    "                print(f'The {model_name} model get {labels[i_label_top]} at {perf_:.2f} % confidence in {dt:.3f} seconds, best confidence for : {top_1}')\n",
    "                i_trial += 1\n",
    "        df_gray.to_json(filename)\n",
    "\n",
    "main()    "
   ]
  },
  {
   "cell_type": "code",
   "execution_count": null,
   "metadata": {},
   "outputs": [],
   "source": [
    "%run -int {scriptname}"
   ]
  },
  {
   "cell_type": "markdown",
   "metadata": {},
   "source": [
    "\n",
    "Collecting all the results, displaying all the data in a table "
   ]
  },
  {
   "cell_type": "code",
   "execution_count": null,
   "metadata": {},
   "outputs": [],
   "source": [
    "filename = f'results/{datetag}_results_3_{args.HOST}.json'\n",
    "#filename = 'results/2021-04-20_results_3_INV-133-DE01.json'\n",
    "df_gray = pd.read_json(filename)\n",
    "df_gray"
   ]
  },
  {
   "cell_type": "code",
   "execution_count": null,
   "metadata": {},
   "outputs": [],
   "source": [
    "np.unique(df_gray['model'])"
   ]
  },
  {
   "cell_type": "markdown",
   "metadata": {},
   "source": [
    "## Image display\n",
    "\n",
    "The 64 worsts classification likelihood, all model combined : "
   ]
  },
  {
   "cell_type": "code",
   "execution_count": null,
   "metadata": {},
   "outputs": [],
   "source": [
    "N_image_i = 8\n",
    "N_image_j = 8\n",
    "\n",
    "fig, axs = plt.subplots(N_image_i, N_image_j, figsize=(fig_width, fig_width))\n",
    "for i, idx in enumerate(df_gray[\"perf\"].argsort()[:(N_image_i*N_image_j)]):\n",
    "    ax = axs[i%N_image_i][i//N_image_i]\n",
    "    ax.imshow(imageio.imread(image_datasets['test'].imgs[df_gray.loc[idx]['i_image']][0], pilmode=\"L\"), cmap='gray')\n",
    "    ax.set_xticks([])\n",
    "    ax.set_yticks([])\n",
    "    ax.set_xlabel(df_gray.loc[idx]['label'] + ' | ' + df_gray.loc[idx]['model'], color='g')\n",
    "    perf_ = df_gray.loc[idx]['perf']\n",
    "    ax.set_ylabel(f'P={perf_:2.3f}%', color='g')"
   ]
  },
  {
   "cell_type": "markdown",
   "metadata": {},
   "source": [
    "### Classification likelihood compared with experiment 1\n",
    "\n",
    "Let's analyze the classification likelihood of each models on the same dataset for color versus grayscale images. Here likelihood's are displayed as a violin plot to allow a better representation of the models."
   ]
  },
  {
   "cell_type": "code",
   "execution_count": null,
   "metadata": {},
   "outputs": [],
   "source": [
    "import seaborn as sns\n",
    "\n",
    "fig, axs = plt.subplots(figsize=(fig_width, fig_width/phi**2))\n",
    "# plt.xticks(fontsize=18)\n",
    "# plt.yticks(fontsize=18)\n",
    "for color, df_, label in zip(['gray', 'red'], [df_gray, df], ['black', 'color']):\n",
    "    axs = sns.violinplot(x=\"model\", y=\"perf\", data=df_, inner=\"quartile\", cut=0, color=color, alpha=.5, scale = 'width')\n",
    "axs.set_title('Processed on : ' + args.HOST + '_' + str(df_['device_type'][0]), size=20)\n",
    "axs.set_ylabel('Classification likelihood (%)', size=18)\n",
    "axs.set_xlabel('Model', size=18)\n",
    "axs.legend(['Color', 'Gray'], fontsize=18)\n",
    "    "
   ]
  },
  {
   "cell_type": "markdown",
   "metadata": {},
   "source": [
    "Classification likelihood's mean"
   ]
  },
  {
   "cell_type": "code",
   "execution_count": null,
   "metadata": {},
   "outputs": [],
   "source": [
    "for model_name in models_vgg.keys():\n",
    "    med_perf_orig = np.mean(df[df['model']==model_name][\"perf\"])\n",
    "    med_perf = np.mean(df_gray[df_gray['model']==model_name][\"perf\"])\n",
    "    print(f'For the {model_name} model, the mean clasification likelihood = {med_perf:.5f} % (color = {med_perf_orig:.5f} % )' )\n",
    "    print(stats.ttest_1samp(df_gray[df_gray['model']==model_name][\"perf\"], np.mean(df[df['model']==model_name][\"perf\"])))"
   ]
  },
  {
   "cell_type": "markdown",
   "metadata": {},
   "source": [
    "## Accuracy of the learned models on grayscale images"
   ]
  },
  {
   "cell_type": "raw",
   "metadata": {},
   "source": [
    "results = {} \n",
    "results['acc'] = []\n",
    "results['precision'] = {}\n",
    "results['recall'] = {}\n",
    "\n",
    "for model_name in models_vgg.keys():\n",
    "    #pprint('Model : ' + model_name)\n",
    "    model_pred = df_gray[df_gray['model']==model_name][\"top_1\"].values.tolist()\n",
    "    ground_truth = df_gray[df_gray['model']==model_name][\"label\"].values.tolist()\n",
    "    acc = sklearn.metrics.accuracy_score(ground_truth, model_pred)\n",
    "    results['acc'].append(acc)\n",
    "    \n",
    "    #print(f'Accuracy top_1 : {acc:.3f}')\n",
    "    pres = sklearn.metrics.multilabel_confusion_matrix(ground_truth, model_pred)\n",
    "    results['precision'][model_name] = []\n",
    "    #pprint('Precision :')\n",
    "    for i, label in zip(pres, subset_labels) :\n",
    "        pres_ = np.flip(i)\n",
    "        pres_ = ((pres_[0][0]) / (pres_[0][0] + pres_[-1][0]))\n",
    "        results['precision'][model_name].append(pres_)\n",
    "        #print(f'{pres_:.3f} for the label {label}')\n",
    "    results['recall'][model_name] = []\n",
    "    #pprint('Recall :')\n",
    "    for i, label in zip(pres, subset_labels) :\n",
    "        pres_ = np.flip(i)\n",
    "        pres_ = ((pres_[0][0]) / (pres_[0][0] + pres_[0][-1]))\n",
    "        results['recall'][model_name].append(pres_)\n",
    "        #print(f'{pres_:.3f} for the label {label}')\n",
    "\n",
    "for mode in ['recall', 'precision']:\n",
    "    df_acc = pd.DataFrame({'vgg16_gray': results[mode]['vgg16_gray'],\n",
    "                        'vgg16_lin': results[mode]['vgg16_lin'],\n",
    "                         'vgg16_gen': results[mode]['vgg16_gen'],\n",
    "                          'vgg16_scale': results[mode]['vgg16_scale'],\n",
    "                           'vgg': results[mode]['vgg'],\n",
    "                      }, index=subset_labels)\n",
    "    ax = df_acc.plot.bar(rot=0, figsize=(fig_width, fig_width//4), fontsize = 10)\n",
    "    ax.set_ylim(0, 1)\n",
    "    ax.hlines(xmin=-.5, xmax=len(models_vgg.keys())-.5, y=1/n_output, ls='--', ec='k', label='chance level')\n",
    "    ax.set_title(mode.capitalize()+' for each models - experiment 3', size=20)\n",
    "    ax.set_ylabel(mode.capitalize(), size=14)\n",
    "    ax.set_xlabel('Labels', size=16)\n",
    "    \n",
    "df_acc = pd.DataFrame({'accuracy': results['acc']},\n",
    "                  index = models_vgg.keys())\n",
    "ax = df_acc.plot.bar(rot=0, figsize=(fig_width, fig_width//4), fontsize = 18)\n",
    "ax.set_ylim(0, 1)\n",
    "ax.hlines(xmin=-.5, xmax=len(models_vgg.keys())-.5, y=1/n_output, ls='--', ec='k', label='chance level')\n",
    "# https://matplotlib.org/stable/gallery/lines_bars_and_markers/bar_label_demo.html\n",
    "ax.bar_label(ax.containers[0], padding=-24, color='black', fontsize=14, fmt='%.3f')\n",
    "ax.set_title('Accuracy top_1 : for each models - experiment 3', size=20)\n",
    "ax.set_ylabel('Accuracy', size=14)\n",
    "ax.set_xlabel('Models', size=14)"
   ]
  },
  {
   "cell_type": "markdown",
   "metadata": {},
   "source": [
    "Mean accuracy"
   ]
  },
  {
   "cell_type": "code",
   "execution_count": null,
   "metadata": {},
   "outputs": [],
   "source": [
    "for model_name in models_vgg.keys():\n",
    "    mean_acc_orig = (df[df['model']==model_name][\"top_1\"] == df[df['model']==model_name][\"label\"]).mean()\n",
    "    mean_acc = (df_gray[df_gray['model']==model_name][\"top_1\"] == df_gray[df_gray['model']==model_name][\"label\"]).mean()\n",
    "    print(f'For the {model_name} model, the mean clasification likelihood = {mean_acc*100:.5f} % (color = {mean_acc_orig*100:.5f} % )' )"
   ]
  },
  {
   "cell_type": "code",
   "execution_count": null,
   "metadata": {},
   "outputs": [],
   "source": [
    "df_acc = pd.DataFrame({model_name: {subset_label: accuracy_score(df[(df['model']==model_name) & (df['label']==subset_label)][\"top_1\"], \n",
    "                                                                 df[(df['model']==model_name) & (df['label']==subset_label)][\"label\"])\n",
    "                                    for subset_label in subset_labels} \n",
    "                       for model_name in models_vgg.keys()})\n",
    "\n",
    "ax = df_acc.plot.bar(rot=60, figsize=(fig_width, fig_width//4), fontsize=18)\n",
    "ax.set_ylim(0, 1)\n",
    "ax.hlines(xmin=-.5, xmax=len(subset_labels)-.5, y=1/n_output, ls='--', ec='k', label='chance level')\n",
    "plt.legend(bbox_to_anchor=(1.1, .5), loc='lower right')\n",
    "ax.set_title('Accuracy top_1 : for each models - experiment 1', size=20)\n",
    "ax.set_ylabel('Accuracy', size=14)\n",
    "ax.set_xlabel('Models', size=14);"
   ]
  },
  {
   "cell_type": "code",
   "execution_count": null,
   "metadata": {},
   "outputs": [],
   "source": [
    "df_acc = pd.DataFrame({model_name: {label: accuracy_score(df_[(df_['model']==model_name)][\"top_1\"], \n",
    "                                                               df_[(df_['model']==model_name)][\"label\"])\n",
    "                                    for label, df_ in zip(['original', 'gray'], [df, df_gray])} \n",
    "                       for model_name in models_vgg.keys()})\n",
    "\n",
    "ax = df_acc.T.plot.bar(rot=0, figsize=(fig_width, fig_width//4), fontsize=18)\n",
    "ax.set_ylim(0, 1)\n",
    "ax.hlines(xmin=-.5, xmax=len(models_vgg.keys())-.5, y=1/n_output, ls='--', ec='k', label='chance level')\n",
    "# https://matplotlib.org/stable/gallery/lines_bars_and_markers/bar_label_demo.html\n",
    "for container in ax.containers: ax.bar_label(container, padding=-50, color='black', fontsize=14, fmt='%.3f', rotation=90)\n",
    "plt.legend(bbox_to_anchor=(1.1, .5), loc='lower right')\n",
    "ax.set_title(f'Experiment 3 - color vs gray images', size=20)\n",
    "ax.set_ylabel('Accuracy', size=14)\n",
    "plt.show();"
   ]
  },
  {
   "cell_type": "code",
   "execution_count": null,
   "metadata": {},
   "outputs": [],
   "source": [
    "# TODO : analyse *post-hoc* effect of contrast or salience"
   ]
  },
  {
   "cell_type": "markdown",
   "metadata": {},
   "source": [
    "## Computation time\n",
    "\n",
    "A display of the differents computation time of each models on the same dataset for a single resolution :"
   ]
  },
  {
   "cell_type": "code",
   "execution_count": null,
   "metadata": {},
   "outputs": [],
   "source": [
    "df_gray['time'].min(), df_gray['time'].max(), df_gray['time'].quantile(.005), len(df_gray[df_gray['model']==model_name]['time'])"
   ]
  },
  {
   "cell_type": "markdown",
   "metadata": {},
   "source": [
    "Computation time 's mean"
   ]
  },
  {
   "cell_type": "code",
   "execution_count": null,
   "metadata": {},
   "outputs": [],
   "source": [
    "for model_name in models_vgg.keys():\n",
    "    med_perf_orig = np.mean(df[df['model']==model_name][\"time\"])\n",
    "    med_perf = np.mean(df_gray[df_gray['model']==model_name][\"time\"])\n",
    "    print(f'For the {model_name} model, the mean computation time = {med_perf:.4f} s (color = {med_perf_orig:.4f} s )' )"
   ]
  },
  {
   "cell_type": "markdown",
   "metadata": {},
   "source": [
    "Frame per second's mean"
   ]
  },
  {
   "cell_type": "code",
   "execution_count": null,
   "metadata": {},
   "outputs": [],
   "source": [
    "for model_name in models_vgg.keys():\n",
    "    med_perf_orig = np.mean(df[df['model']==model_name][\"fps\"])\n",
    "    med_perf = np.mean(df_gray[df_gray['model']==model_name][\"fps\"])\n",
    "    print(f'For the {model_name} model, the mean fps = {med_perf:.3f} Hz (color = {med_perf_orig:.3f} Hz )' )"
   ]
  },
  {
   "cell_type": "code",
   "execution_count": null,
   "metadata": {},
   "outputs": [],
   "source": [
    "fig, axs = plt.subplots(len(models_vgg.keys()), 1, figsize=(fig_width, fig_width*phi//2))\n",
    "for color, df_, label, legend in zip(['gray', 'red'], [df_gray, df], ['black', 'color'], ['Grayscale', 'Regular']):\n",
    "    for ax, model_name in zip(axs, models_vgg.keys()):\n",
    "        ax.set_ylabel('Frequency', fontsize=14) \n",
    "        df_[df_['model']==model_name]['time'].plot.hist(bins=150, lw=1, label=str(legend+ ' ' + model_name), ax=ax, color=color, density=True)\n",
    "        ax.legend(loc='upper right', fontsize=20)\n",
    "        ax.set_xlim(df_gray['time'].quantile(.01), df_gray['time'].quantile(.99))\n",
    "axs[-1].set_xlabel('Processing time (s)', size=18)\n",
    "axs[0].set_title('Processed on : ' + args.HOST + '_' + str(df['device_type'][0]), size = 20);"
   ]
  },
  {
   "cell_type": "markdown",
   "metadata": {},
   "source": [
    "## Classification likelihood\n",
    "\n",
    "A display of the classification likelihood of each models on the same dataset for a single resolution :"
   ]
  },
  {
   "cell_type": "code",
   "execution_count": null,
   "metadata": {},
   "outputs": [],
   "source": [
    "fig, axs = plt.subplots(len(models_vgg.keys()), 1, figsize=(fig_width, fig_width*phi//2), sharex=True, sharey=True)\n",
    "# plt.xticks(fontsize=18)\n",
    "# plt.yticks(fontsize=18)\n",
    "for ax, color, model_name in zip(axs, colors, models_vgg.keys()):\n",
    "    ax.set_ylabel('Frequency', fontsize=14)\n",
    "    df_gray[df_gray['model']==model_name]['perf'].plot.hist(bins=np.linspace(90, 100, 100), lw=0, alpha=0.3, label=model_name + '_gray', ax=ax, color='k', density=True)\n",
    "    df[df['model']==model_name]['perf'].plot.hist(bins=np.linspace(90, 100, 100), lw=0, alpha=0.3, label=model_name + '_color', ax=ax, color=color, density=True)\n",
    "    ax.legend(loc='upper left', fontsize=20)\n",
    "    ax.set_xlim(90, 100)\n",
    "    ax.set_ylim(0, 1)\n",
    "    # ax.tick_params(axis='x', labelsize=14)\n",
    "    # ax.tick_params(axis='y', labelsize=14)\n",
    "axs[-1].set_xlabel('Classification likelihood (%)', size=18)\n",
    "axs[0].set_title('Processed on : ' + args.HOST + '_' + str(df['device_type'][0]), size = 20);"
   ]
  },
  {
   "cell_type": "markdown",
   "metadata": {},
   "source": [
    "## summary\n",
    "\n",
    "\n",
    "As a summary, we have shown here that one can implement transfer learning on a subset of images and that it reaches a higher accuracy than a simpler hypothesis. We have also shown that transfer learning could also be used to teach the network to different perturbations of the image, for instance changes in the resolution of in the colorspace. Such framework is thus promising for further applications which aim at modelling higher-order cognitive processes."
   ]
  },
  {
   "cell_type": "markdown",
   "metadata": {},
   "source": [
    "## Bonus: scan of some parameters\n",
    "\n",
    "If there is some GPU time time left, let's try to *meta*-optimize some parameters by testing how accuracy would vary. To avoid potential over-fitting problems, we perform that test on the `val` validation set which is separate from the `test` and `train` datasets. "
   ]
  },
  {
   "cell_type": "code",
   "execution_count": null,
   "metadata": {},
   "outputs": [],
   "source": [
    "scriptname = 'experiment_scan.py'"
   ]
  },
  {
   "cell_type": "code",
   "execution_count": null,
   "metadata": {},
   "outputs": [],
   "source": [
    "%%writefile {scriptname}\n",
    "\n",
    "#import model's script and set the output file\n",
    "from DCNN_transfer_learning.model import *\n",
    "from experiment_train import train_model\n",
    "\n",
    "scan_dicts= {'batch_size' : [8, 13, 21, 34, 55],\n",
    "             'lr': args.lr * np.logspace(-1, 1, 7, base=10),\n",
    "             'momentum': 1 - np.logspace(-3, -.5, 7, base=10),\n",
    "             'beta2': 1 - np.logspace(-5, -1, 7, base=10),\n",
    "            }\n",
    "\n",
    "def main(N_avg=10):\n",
    "\n",
    "    for key in scan_dicts:\n",
    "        filename = f'results/{datetag}_train_scan_{key}_{args.HOST}.json'\n",
    "        print(f'{filename=}')\n",
    "        if os.path.isfile(filename):\n",
    "            df_scan = pd.read_json(filename)\n",
    "        else:\n",
    "            i_trial = 0\n",
    "            measure_columns = [key, 'avg_loss_val', 'avg_acc_val', 'time']\n",
    "\n",
    "            df_scan = pd.DataFrame([], columns=measure_columns) \n",
    "            for i_trial, value in enumerate(scan_dicts[key]):\n",
    "                new_kwarg = {key: value}\n",
    "                print('trial', i_trial, ' /', len(scan_dicts[key]))\n",
    "                print('new_kwarg', new_kwarg)\n",
    "                # Training and saving the network\n",
    "                models_vgg_ = torchvision.models.vgg16(pretrained=True)\n",
    "                # Freeze training for all layers\n",
    "                # Newly created modules have require_grad=True by default\n",
    "                for param in models_vgg_.features.parameters():\n",
    "                    param.require_grad = False \n",
    "\n",
    "                num_features = models_vgg_.classifier[-1].in_features\n",
    "                features = list(models_vgg_.classifier.children())[:-1] # Remove last layer\n",
    "                features.extend([nn.Linear(num_features, n_output)]) # Add our layer with `n_output` outputs\n",
    "                models_vgg_.classifier = nn.Sequential(*features) # Replace the model classifier\n",
    "\n",
    "                since = time.time()\n",
    "\n",
    "                (dataset_sizes, dataloaders, image_datasets, data_transforms) = datasets_transforms(image_size=args.image_size, p=0, **new_kwarg)\n",
    "                models_vgg_, df_train = train_model(models_vgg_, num_epochs=args.num_epochs//4, dataloaders=dataloaders, **new_kwarg)\n",
    "\n",
    "                elapsed_time = time.time() - since\n",
    "                print(f\"Training completed in {elapsed_time // 60:.0f}m {elapsed_time % 60:.0f}s\")\n",
    "\n",
    "                df_scan.loc[i_trial] = {key:value, 'avg_loss_val':df_train.iloc[-N_avg:-1]['avg_loss_val'].mean(), \n",
    "                                   'avg_acc_val':df_train.iloc[-N_avg:-1]['avg_acc_val'].mean(), 'time':elapsed_time}\n",
    "                print(df_scan.loc[i_trial])\n",
    "                i_trial += 1\n",
    "            df_scan.to_json(filename)\n",
    "\n",
    "main()    "
   ]
  },
  {
   "cell_type": "code",
   "execution_count": null,
   "metadata": {},
   "outputs": [],
   "source": [
    "%run -int {scriptname}"
   ]
  },
  {
   "cell_type": "code",
   "execution_count": null,
   "metadata": {
    "nteract": {
     "transient": {
      "deleting": false
     }
    }
   },
   "outputs": [],
   "source": [
    "for key in scan_dicts:\n",
    "    filename = f'results/{datetag}_train_scan_{key}_{args.HOST}.json'\n",
    "    df_scan = pd.read_json(filename)\n",
    "    print(df_scan)"
   ]
  },
  {
   "cell_type": "code",
   "execution_count": null,
   "metadata": {},
   "outputs": [],
   "source": [
    "df_scan.plot()"
   ]
  },
  {
   "cell_type": "code",
   "execution_count": null,
   "metadata": {},
   "outputs": [],
   "source": [
    "print(df_scan)"
   ]
  }
 ],
 "metadata": {
  "kernelspec": {
   "display_name": "Python 3",
   "language": "python",
   "name": "python3"
  },
  "language_info": {
   "codemirror_mode": {
    "name": "ipython",
    "version": 3
   },
   "file_extension": ".py",
   "mimetype": "text/x-python",
   "name": "python",
   "nbconvert_exporter": "python",
   "pygments_lexer": "ipython3",
   "version": "3.8.10"
  },
  "nteract": {
   "version": "0.28.0"
  },
  "toc-autonumbering": true,
  "toc-showmarkdowntxt": false
 },
 "nbformat": 4,
 "nbformat_minor": 4
}
